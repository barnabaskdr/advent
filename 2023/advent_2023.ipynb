{
 "cells": [
  {
   "cell_type": "markdown",
   "id": "6f99986c",
   "metadata": {},
   "source": [
    "# Imports"
   ]
  },
  {
   "cell_type": "code",
   "execution_count": 103,
   "id": "fa410033",
   "metadata": {},
   "outputs": [
    {
     "data": {
      "text/html": [
       "<style>.container { width:100% !important; }</style>"
      ],
      "text/plain": [
       "<IPython.core.display.HTML object>"
      ]
     },
     "metadata": {},
     "output_type": "display_data"
    }
   ],
   "source": [
    "import copy\n",
    "import math\n",
    "import os\n",
    "from pprint import pprint\n",
    "import random\n",
    "import re\n",
    "import string\n",
    "from copy import deepcopy\n",
    "from functools import cmp_to_key, lru_cache, wraps, reduce\n",
    "from heapq import nlargest\n",
    "from itertools import combinations, groupby, islice, permutations, product, chain, pairwise\n",
    "import scipy\n",
    "import numpy as np\n",
    "import pandas as pd\n",
    "import matplotlib.pyplot as plt\n",
    "\n",
    "from collections import defaultdict, deque, namedtuple, Counter\n",
    "from datetime import datetime\n",
    "\n",
    "import networkx as nx\n",
    "from IPython.display import HTML, display\n",
    "\n",
    "np.set_printoptions(linewidth=500)\n",
    "display(HTML(\"<style>.container { width:100% !important; }</style>\"))\n",
    "import z3"
   ]
  },
  {
   "cell_type": "code",
   "execution_count": 2,
   "id": "d3bbc08a",
   "metadata": {
    "code_folding": []
   },
   "outputs": [],
   "source": [
    "def open_source(day):\n",
    "    with open(f'source/day{day}.txt', 'r') as f:\n",
    "        lista = f.readlines()\n",
    "    lista = [x.strip('\\n') for x in lista]\n",
    "    return lista"
   ]
  },
  {
   "cell_type": "code",
   "execution_count": 18,
   "id": "42b33d63",
   "metadata": {
    "code_folding": [
     0
    ]
   },
   "outputs": [],
   "source": [
    "def create_txt_files():\n",
    "    files = [f\"day{x}\" if x > 9 else f\"day0{x}\" for x in range(1, 26)]\n",
    "    for file in files:\n",
    "        try:\n",
    "            with open(os.path.join(os.getcwd(), \"source\", file + \".txt\"), 'x') as fp:\n",
    "                pass\n",
    "            with open(os.path.join(os.getcwd(), \"source\", file + \"_example.txt\"), 'x') as fp:\n",
    "                pass\n",
    "        except FileExistsError:\n",
    "            print(\"file existed but continued loop\")\n",
    "            continue"
   ]
  },
  {
   "cell_type": "markdown",
   "id": "f3bdd303",
   "metadata": {
    "heading_collapsed": true
   },
   "source": [
    "# Day 1"
   ]
  },
  {
   "cell_type": "code",
   "execution_count": 219,
   "id": "eefda56e",
   "metadata": {
    "hidden": true
   },
   "outputs": [],
   "source": [
    "lista = open_source(\"01\")"
   ]
  },
  {
   "cell_type": "code",
   "execution_count": 220,
   "id": "beb9a46c",
   "metadata": {
    "hidden": true
   },
   "outputs": [],
   "source": [
    "pattern = '1|2|3|4|5|6|7|8|9|one|two|three|four|five|six|seven|eight|nine'.split('|')\n",
    "digits_1 = dict(zip(pattern[:9], pattern[:9]))\n",
    "digits_2 = dict(zip(pattern, pattern[:9] * 2))"
   ]
  },
  {
   "cell_type": "code",
   "execution_count": 225,
   "id": "6f9f4dd2",
   "metadata": {
    "hidden": true
   },
   "outputs": [
    {
     "name": "stdout",
     "output_type": "stream",
     "text": [
      "54601\n",
      "54078\n"
     ]
    }
   ],
   "source": [
    "for part in [digits_1, digits_2]:\n",
    "    res = 0\n",
    "    for row in lista:\n",
    "        pos = {}\n",
    "        for k, v in part.items():\n",
    "            for m in re.finditer(k, row):\n",
    "                pos[m.start()] = v\n",
    "        current = int(pos[min(pos)] + pos[max(pos)])\n",
    "        res += current\n",
    "    print(res)"
   ]
  },
  {
   "cell_type": "markdown",
   "id": "c65559e4",
   "metadata": {
    "heading_collapsed": true
   },
   "source": [
    "# Day 2"
   ]
  },
  {
   "cell_type": "code",
   "execution_count": 235,
   "id": "13c59fa6",
   "metadata": {
    "hidden": true
   },
   "outputs": [],
   "source": [
    "lista = open_source(\"02\")"
   ]
  },
  {
   "cell_type": "code",
   "execution_count": 236,
   "id": "52357f3d",
   "metadata": {
    "hidden": true
   },
   "outputs": [],
   "source": [
    "possible = {\"red\": 12, \"green\": 13, \"blue\": 14}\n",
    "res_1, res_2 = 0, 0"
   ]
  },
  {
   "cell_type": "code",
   "execution_count": 237,
   "id": "539f9f3c",
   "metadata": {
    "hidden": true
   },
   "outputs": [
    {
     "name": "stdout",
     "output_type": "stream",
     "text": [
      "2776\n",
      "68638\n"
     ]
    }
   ],
   "source": [
    "for row in lista:\n",
    "    game, setts = row.split(\":\")\n",
    "    game = int(game.split()[1])\n",
    "    colors = {\"red\": 0, \"green\": 0, \"blue\": 0}\n",
    "\n",
    "    for sett in setts.split(\";\"):\n",
    "        for balls in sett.split(\",\"):\n",
    "            num, c = balls.strip().split()\n",
    "            if (num := int(num)) > colors[c]:\n",
    "                colors[c] = num\n",
    "\n",
    "    if all(colors[c] <= possible[c] for c in colors):\n",
    "        res_1 += game\n",
    "    res_2 += math.prod(colors.values())\n",
    "\n",
    "print(f\"{res_1}\\n{res_2}\")"
   ]
  },
  {
   "cell_type": "markdown",
   "id": "af8df737",
   "metadata": {
    "heading_collapsed": true
   },
   "source": [
    "# Day 3"
   ]
  },
  {
   "cell_type": "code",
   "execution_count": 244,
   "id": "5fa7b682",
   "metadata": {
    "hidden": true
   },
   "outputs": [],
   "source": [
    "lista = open_source(\"03\")"
   ]
  },
  {
   "cell_type": "code",
   "execution_count": 245,
   "id": "32c2f6fd",
   "metadata": {
    "hidden": true
   },
   "outputs": [],
   "source": [
    "numbers, symbols, gears = [], set(), set()\n",
    "offsets = list(product([1, 0, -1], repeat=2))"
   ]
  },
  {
   "cell_type": "code",
   "execution_count": 246,
   "id": "9a33ff64",
   "metadata": {
    "hidden": true
   },
   "outputs": [],
   "source": [
    "for x, row in enumerate(lista):\n",
    "    for y, cell in enumerate(row):\n",
    "        if not re.fullmatch(r\"\\d|\\.\", cell):\n",
    "            symbols.add((x, y))\n",
    "        if \"*\" == cell:\n",
    "            gears.add((x, y))\n",
    "    for m in re.finditer(r'\\d+', row):\n",
    "        numbers.append((int(m.group()), [(x, i) for i in range(m.start(), m.end())]))"
   ]
  },
  {
   "cell_type": "code",
   "execution_count": 247,
   "id": "5cd84ef6",
   "metadata": {
    "hidden": true
   },
   "outputs": [
    {
     "name": "stdout",
     "output_type": "stream",
     "text": [
      "546563\n",
      "91031374\n"
     ]
    }
   ],
   "source": [
    "for i, part in enumerate([symbols, gears]):\n",
    "    res_1, res_2 = [], []\n",
    "    for sym in part:\n",
    "        matrix = [(sym[0] + d[0], sym[1] + d[1]) for d in offsets]\n",
    "        matches = {num for num, pos in numbers if any(tup in pos for tup in matrix)}\n",
    "        res_1.extend(matches)\n",
    "        if len(matches) == 2:\n",
    "            res_2.append(math.prod(matches))\n",
    "    print(sum(res_1) if i == 0 else sum(res_2))"
   ]
  },
  {
   "cell_type": "markdown",
   "id": "cdf9bc4b",
   "metadata": {
    "heading_collapsed": true
   },
   "source": [
    "# Day 4"
   ]
  },
  {
   "cell_type": "code",
   "execution_count": 387,
   "id": "1103a118",
   "metadata": {
    "hidden": true
   },
   "outputs": [],
   "source": [
    "lista = open_source('04')"
   ]
  },
  {
   "cell_type": "code",
   "execution_count": 390,
   "id": "0edbad96",
   "metadata": {
    "hidden": true
   },
   "outputs": [
    {
     "name": "stdout",
     "output_type": "stream",
     "text": [
      "25174\n",
      "6420979\n"
     ]
    }
   ],
   "source": [
    "res_1 = 0\n",
    "res_2 = [1] * len(lista)\n",
    "for i, row in enumerate(lista):\n",
    "    winning, yours = (set(map(int, part.split())) for part in row.split(\":\")[1].split('|'))\n",
    "    score = len(winning & yours)\n",
    "    res_1 += math.floor(2 ** (score - 1))\n",
    "    for j in range(i + 1, i + score + 1):\n",
    "        res_2[j] += res_2[i]\n",
    "    \n",
    "print(res_1)\n",
    "print(sum(res_2))"
   ]
  },
  {
   "cell_type": "markdown",
   "id": "08731135",
   "metadata": {
    "heading_collapsed": true
   },
   "source": [
    "# Day 5"
   ]
  },
  {
   "cell_type": "code",
   "execution_count": 23,
   "id": "d405d112",
   "metadata": {
    "hidden": true,
    "scrolled": true
   },
   "outputs": [],
   "source": [
    "lista = open_source('05')"
   ]
  },
  {
   "cell_type": "code",
   "execution_count": 24,
   "id": "683a09cb",
   "metadata": {
    "hidden": true
   },
   "outputs": [
    {
     "name": "stdout",
     "output_type": "stream",
     "text": [
      "196167384\n",
      "125742456\n"
     ]
    }
   ],
   "source": [
    "rules = []\n",
    "for l in lista:\n",
    "    if \"seeds\" in l:\n",
    "        seeds = list(map(int, l.split()[1:]))\n",
    "    elif \"map\" in l:\n",
    "        current_rule = []\n",
    "    elif l:\n",
    "        current_rule.append(list(map(int, l.split())))\n",
    "    elif not l:\n",
    "        rules.append(current_rule)\n",
    "\n",
    "def apply_rule(seed, rule):\n",
    "    for dest, start, size in rule:\n",
    "        if start <= seed < start + size:\n",
    "            return seed - start + dest\n",
    "    return seed\n",
    "\n",
    "seeds_1 = seeds[:]\n",
    "for rule in rules:\n",
    "    seeds_1 = [apply_rule(s, rule) for s in seeds_1]\n",
    "\n",
    "print(min(seeds_1))\n",
    "\n",
    "ranges = [(seeds[i],seeds[i]+seeds[i+1]-1) for i in range(0, len(seeds), 2)]\n",
    "rules = [[[dest-start, start, start+size-1] for dest, start, size in rule] for rule in rules]\n",
    "\n",
    "def consolidate(span_start, span_end, map_start, map_end):\n",
    "    if span_end < map_start or map_end < span_start:\n",
    "        return [], [(span_start, span_end)]\n",
    "    \n",
    "    mapped = [(max(span_start, map_start), min(span_end, map_end))]\n",
    "    extra = [(span_start, map_start - 1), (map_end + 1, span_end)]\n",
    "    extra = [(a, b) for a, b in extra if a <= b]\n",
    "\n",
    "    return mapped, extra\n",
    "\n",
    "def apply_rule_to_range(rule, seed_range):\n",
    "    unprocessed = [seed_range]\n",
    "    new_ranges = []\n",
    "\n",
    "    for offset, map_start, map_end in rule:\n",
    "        processed_spans = [consolidate(span_start, span_end, map_start, map_end) for span_start, span_end in unprocessed]\n",
    "\n",
    "        if processed_spans:\n",
    "            processed, unprocessed = zip(*processed_spans)\n",
    "            unprocessed = [span for spans in unprocessed for span in spans]\n",
    "            new_ranges.extend((a + offset, b + offset) for spans in processed for a, b in spans)\n",
    "        else:\n",
    "            unprocessed = []\n",
    "\n",
    "    return new_ranges + unprocessed\n",
    "\n",
    "for rule in rules:\n",
    "    ranges = [new_range for r in ranges for new_range in apply_rule_to_range(rule, r)]\n",
    "\n",
    "print(min(start for start, _ in ranges))"
   ]
  },
  {
   "cell_type": "markdown",
   "id": "886751cb",
   "metadata": {
    "heading_collapsed": true
   },
   "source": [
    "# Day 6"
   ]
  },
  {
   "cell_type": "code",
   "execution_count": 241,
   "id": "f91ed9be",
   "metadata": {
    "hidden": true
   },
   "outputs": [],
   "source": [
    "lista = open_source('06')"
   ]
  },
  {
   "cell_type": "code",
   "execution_count": 240,
   "id": "01e1c136",
   "metadata": {
    "hidden": true
   },
   "outputs": [
    {
     "name": "stdout",
     "output_type": "stream",
     "text": [
      "1413720\n",
      "30565288\n"
     ]
    }
   ],
   "source": [
    "race_1 = dict(zip(map(int, lista[0].split()[1:]), map(int, lista[1].split()[1:])))\n",
    "race_2_time, race_2_distance = int(re.sub(r'\\D', '', lista[0])), int(re.sub(r'\\D', '', lista[1]))\n",
    "\n",
    "def count_wins(total_time, distance):\n",
    "    return sum(i * (total_time - i) > distance for i in range(total_time))\n",
    "\n",
    "res_1 = [count_wins(time, distance) for time, distance in race_1.items()]\n",
    "print(math.prod(res_1))\n",
    "\n",
    "res_2 = count_wins(race_2_time, race_2_distance)\n",
    "print(res_2)"
   ]
  },
  {
   "cell_type": "markdown",
   "id": "ce2db7aa",
   "metadata": {
    "heading_collapsed": true
   },
   "source": [
    "# Day 7"
   ]
  },
  {
   "cell_type": "code",
   "execution_count": 233,
   "id": "2c7dce03",
   "metadata": {
    "hidden": true
   },
   "outputs": [],
   "source": [
    "lista = open_source('07')"
   ]
  },
  {
   "cell_type": "code",
   "execution_count": 263,
   "id": "acda9ad0",
   "metadata": {
    "hidden": true
   },
   "outputs": [],
   "source": [
    "cards_1 = [\"2\", \"3\", \"4\", \"5\", \"6\", \"7\", \"8\", \"9\", \"T\", \"J\", \"Q\", \"K\", \"A\"]\n",
    "cards_2 = [\"J\"] + [card for card in cards_1 if card != \"J\"]\n",
    "strength_1 = {v: f\"{k:02d}\" for k, v in enumerate(cards_1)}\n",
    "strength_2 = {v: f\"{k:02d}\" for k, v in enumerate(cards_2)}\n",
    "\n",
    "def get_hand_score(hand):\n",
    "    times = 10 ** 10\n",
    "    J_count = Counter(hand)[\"J\"]\n",
    "    hand_without_J = hand.replace(\"J\", \"\")\n",
    "    counts = Counter(hand_without_J).most_common(2)\n",
    "    mc1 = counts[0][1] if counts else 0\n",
    "    mc2 = counts[1][1] if len(counts) > 1 else 0\n",
    "    total_count = mc1 + J_count\n",
    "    score_map = {\n",
    "        5: 7 * times,\n",
    "        4: 6 * times,\n",
    "        3: 5 * times if mc2 == 2 else 4 * times,\n",
    "        2: 3 * times if mc2 == 2 else 2 * times\n",
    "    }\n",
    "    return score_map.get(total_count, 1 if J_count == 0 else 2 * times)\n",
    "\n",
    "def calculate_score(hand, points, part):\n",
    "    strength = strength_1 if part == 1 else strength_2\n",
    "    transformed_hand = ''.join(strength[c] for c in hand)\n",
    "    if part == 1:\n",
    "        hand = hand.replace(\"J\", \"X\")\n",
    "    return int(transformed_hand) + get_hand_score(hand), int(points)\n",
    "\n",
    "def get_day_7(part):\n",
    "    hands = sorted([calculate_score(*l.split(), part) for l in lista], key=lambda x: x[0])\n",
    "    return sum(points * rank for rank, (_, points) in enumerate(hands, 1))"
   ]
  },
  {
   "cell_type": "code",
   "execution_count": 264,
   "id": "8ff967e2",
   "metadata": {
    "hidden": true
   },
   "outputs": [
    {
     "data": {
      "text/plain": [
       "250602641"
      ]
     },
     "execution_count": 264,
     "metadata": {},
     "output_type": "execute_result"
    }
   ],
   "source": [
    "get_day_7(1)"
   ]
  },
  {
   "cell_type": "code",
   "execution_count": 265,
   "id": "b7b9217a",
   "metadata": {
    "hidden": true
   },
   "outputs": [
    {
     "data": {
      "text/plain": [
       "251037509"
      ]
     },
     "execution_count": 265,
     "metadata": {},
     "output_type": "execute_result"
    }
   ],
   "source": [
    "get_day_7(2)"
   ]
  },
  {
   "cell_type": "markdown",
   "id": "039f2c65",
   "metadata": {
    "heading_collapsed": true
   },
   "source": [
    "# Day 8"
   ]
  },
  {
   "cell_type": "code",
   "execution_count": 168,
   "id": "43c0cac5",
   "metadata": {
    "hidden": true
   },
   "outputs": [],
   "source": [
    "lista = open_source('08')"
   ]
  },
  {
   "cell_type": "code",
   "execution_count": 220,
   "id": "a70e473d",
   "metadata": {
    "hidden": true
   },
   "outputs": [],
   "source": [
    "G = nx.MultiDiGraph()\n",
    "for row in lista[2:]:\n",
    "    source, targets = row.split(' = ')\n",
    "    targets = targets.strip('()').split(', ')\n",
    "    for i, target in enumerate(targets):\n",
    "        label = 'L' if i == 0 else 'R'\n",
    "        G.add_edge(source, target, label=label)"
   ]
  },
  {
   "cell_type": "code",
   "execution_count": 221,
   "id": "73de27d6",
   "metadata": {
    "hidden": true
   },
   "outputs": [],
   "source": [
    "def follow_directions(graph, current, end, directions):\n",
    "    turn_count = 0\n",
    "    while True:\n",
    "        for s in directions:\n",
    "            if current.endswith(end):\n",
    "                return turn_count\n",
    "            edges = [(u, v) for u, v, d in graph.edges(current, data=True) if d['label'] == s]\n",
    "            if edges:\n",
    "                current = edges[0][1]\n",
    "            turn_count += 1\n",
    "        \n",
    "directions = lista[0]"
   ]
  },
  {
   "cell_type": "code",
   "execution_count": 222,
   "id": "17594d2a",
   "metadata": {
    "hidden": true
   },
   "outputs": [
    {
     "data": {
      "text/plain": [
       "22357"
      ]
     },
     "execution_count": 222,
     "metadata": {},
     "output_type": "execute_result"
    }
   ],
   "source": [
    "follow_directions(G, \"AAA\", \"ZZZ\", directions)"
   ]
  },
  {
   "cell_type": "code",
   "execution_count": 224,
   "id": "8ad6472b",
   "metadata": {
    "hidden": true
   },
   "outputs": [
    {
     "data": {
      "text/plain": [
       "10371555451871"
      ]
     },
     "execution_count": 224,
     "metadata": {},
     "output_type": "execute_result"
    }
   ],
   "source": [
    "turn_counts = []\n",
    "for node in G.nodes:\n",
    "    if node.endswith(\"A\"):\n",
    "        turn_counts.append(follow_directions(G, node, \"Z\", directions))\n",
    "math.lcm(*turn_counts)"
   ]
  },
  {
   "cell_type": "markdown",
   "id": "31d57b9f",
   "metadata": {
    "heading_collapsed": true
   },
   "source": [
    "# Day 9"
   ]
  },
  {
   "cell_type": "code",
   "execution_count": 303,
   "id": "8306571c",
   "metadata": {
    "hidden": true
   },
   "outputs": [],
   "source": [
    "lista = open_source('09')"
   ]
  },
  {
   "cell_type": "code",
   "execution_count": 323,
   "id": "f3299e66",
   "metadata": {
    "code_folding": [],
    "hidden": true
   },
   "outputs": [
    {
     "name": "stdout",
     "output_type": "stream",
     "text": [
      "1684566095 1136\n"
     ]
    }
   ],
   "source": [
    "res_1, res_2 = 0, 0\n",
    "for l in lista:\n",
    "    elements = list(map(int, l.split()))\n",
    "    res_1 += get_next_element(series=elements, last=True)\n",
    "    res_2 += get_next_element(series=elements, last=False)\n",
    "print(res_1, res_2)"
   ]
  },
  {
   "cell_type": "code",
   "execution_count": 322,
   "id": "28002666",
   "metadata": {
    "hidden": true
   },
   "outputs": [],
   "source": [
    "def get_next_element(series, last=True, summ=0, add=True):\n",
    "    if set(series) == {0}:\n",
    "        return summ\n",
    "    if last:\n",
    "        summ += series[-1]\n",
    "    else:\n",
    "        summ += (series[0] if add else -series[0])\n",
    "        add = not add\n",
    "    \n",
    "    return get_next_element([b - a for a, b in zip(series, series[1:])], last, summ, add)"
   ]
  },
  {
   "cell_type": "markdown",
   "id": "e52f7c6d",
   "metadata": {
    "heading_collapsed": true
   },
   "source": [
    "# Day 10"
   ]
  },
  {
   "cell_type": "code",
   "execution_count": 3,
   "id": "591eaff7",
   "metadata": {
    "code_folding": [
     0,
     9,
     14
    ],
    "hidden": true
   },
   "outputs": [],
   "source": [
    "def get_neighbors(matrix, i_in):\n",
    "    neighbors = {}\n",
    "    moves = {\"u\": (-1, 0), \"d\": (1, 0), \"l\": (0, -1), \"r\": (0, 1)}\n",
    "    for move, (dx, dy) in moves.items():\n",
    "        i_out = (i_in[0] + dx, i_in[1] + dy)\n",
    "        if 0 <= i_out[0] < PIPES.shape[0] and 0 <= i_out[1] < PIPES.shape[1]:\n",
    "            neighbors[move] = i_out\n",
    "    return limit_to_pipes(matrix, neighbors)\n",
    "\n",
    "def limit_to_pipes(matrix, neighbors):\n",
    "    valid_symbols = {\"u\": [\"F\", \"|\", \"7\"], \"d\": [\"L\", \"|\", \"J\"],\n",
    "                     \"l\": [\"F\", \"-\", \"L\"], \"r\": [\"J\", \"-\", \"7\"]}\n",
    "    return [i for d, i in neighbors.items() if matrix[i] in valid_symbols[d]]\n",
    "            \n",
    "def bfs_with_path(matrix, start_node):\n",
    "    visited = set()\n",
    "    queue = [(start_node, 1, [start_node])]\n",
    "    longest_path = []\n",
    "    while queue:\n",
    "        node, depth, path = queue.pop(0)\n",
    "        if node not in visited:\n",
    "            visited.add(node)\n",
    "            if depth > len(longest_path):\n",
    "                longest_path = path.copy()\n",
    "            for neighbour in get_neighbors(matrix, node):\n",
    "                if neighbour not in visited:\n",
    "                    queue.append((neighbour, depth + 1, path + [neighbour]))\n",
    "    return longest_path\n",
    "\n",
    "def get_in_and_out(matrix):\n",
    "    route = np.full(SHAPE, \".\", dtype='U10')\n",
    "    route[start] = \"S\"\n",
    "    for node in path: route[node] = matrix[node]\n",
    "\n",
    "    for i, row in enumerate(route):\n",
    "        is_in = False\n",
    "        prev_char = None\n",
    "        for j, char in enumerate(row):\n",
    "            if char == '-':\n",
    "                pass\n",
    "            elif prev_char and (prev_char, char) in [('F', 'J'), ('J', 'F'), ('L', '7'), ('7', 'L')] or char == \"|\":\n",
    "                is_in = not is_in\n",
    "                prev_char = None\n",
    "            elif prev_char and (prev_char, char) in [('F', '7'), ('L', 'J')]:\n",
    "                prev_char = None\n",
    "            else:\n",
    "                prev_char = char\n",
    "\n",
    "            if char == \".\":\n",
    "                to_res = \"I\" if is_in else \"O\"\n",
    "                route[(i, j)] = to_res\n",
    "            else:\n",
    "                route[(i, j)] = \"@\"\n",
    "  \n",
    "    unique, counts = np.unique(route, return_counts=True)\n",
    "    return dict(zip(unique, counts))"
   ]
  },
  {
   "cell_type": "code",
   "execution_count": 5,
   "id": "55828274",
   "metadata": {
    "hidden": true
   },
   "outputs": [
    {
     "name": "stdout",
     "output_type": "stream",
     "text": [
      "7005\n"
     ]
    },
    {
     "data": {
      "text/plain": [
       "{'@': 14010, 'I': 417, 'O': 5173}"
      ]
     },
     "execution_count": 5,
     "metadata": {},
     "output_type": "execute_result"
    }
   ],
   "source": [
    "lista = open_source('10')\n",
    "PIPES = np.array([list(s) for s in lista], dtype='U10')\n",
    "start = tuple(np.argwhere(PIPES == \"S\")[0])\n",
    "first_step, _ = get_neighbors(PIPES, start)\n",
    "path = bfs_with_path(PIPES, first_step)\n",
    "print(len([start] + path) // 2)\n",
    "get_in_and_out(PIPES)"
   ]
  },
  {
   "cell_type": "code",
   "execution_count": 858,
   "id": "fd0c993c",
   "metadata": {
    "hidden": true
   },
   "outputs": [],
   "source": [
    "with open(\"source/day10out.txt\", 'w') as file:\n",
    "    for row in ROUTE:\n",
    "        line = ''.join(row)\n",
    "        file.write(line + '\\n')"
   ]
  },
  {
   "cell_type": "markdown",
   "id": "5ccf9bcc",
   "metadata": {
    "heading_collapsed": true
   },
   "source": [
    "# Day 11"
   ]
  },
  {
   "cell_type": "code",
   "execution_count": 362,
   "id": "4f576e1a",
   "metadata": {
    "hidden": true
   },
   "outputs": [
    {
     "name": "stdout",
     "output_type": "stream",
     "text": [
      "9681886\n",
      "791134099634\n"
     ]
    }
   ],
   "source": [
    "def get_sky(sky):\n",
    "    empty_rows, empty_cols, galaxies = set(), set(), set()\n",
    "    for i, row in enumerate(sky):\n",
    "        if all(cell == row[0] for cell in row):\n",
    "            empty_rows.add(i)\n",
    "        for j, cell in enumerate(row):\n",
    "            if all(sky[x][j] == sky[0][j] for x in range(len(sky))):\n",
    "                empty_cols.add(j)\n",
    "            if cell == \"#\":\n",
    "                galaxies.add((i, j))\n",
    "    return empty_rows, empty_cols, galaxies\n",
    "\n",
    "def expand_sky(empty_rows, empty_cols, galaxies, factor):\n",
    "    updated_galaxies = []\n",
    "    for x, y in galaxies:\n",
    "        x_offset = sum(factor - 1 for er in empty_rows if er < x)\n",
    "        y_offset = sum(factor - 1 for ec in empty_cols if ec < y)\n",
    "        updated_galaxies.append((x + x_offset, y + y_offset))\n",
    "    return updated_galaxies\n",
    "\n",
    "def man_distance(tuple1, tuple2):\n",
    "    return abs(tuple1[0] - tuple2[0]) + abs(tuple1[1] - tuple2[1])\n",
    "\n",
    "lista = open_source('11')\n",
    "sky = [list(s) for s in lista]\n",
    "items = get_sky(sky)\n",
    "for factor in [2, 1_000_000]:\n",
    "    galaxies = expand_sky(*items, factor)\n",
    "    print(sum(man_distance(a, b) for a, b in combinations(galaxies, 2)))"
   ]
  },
  {
   "cell_type": "markdown",
   "id": "367b57a6",
   "metadata": {},
   "source": [
    "# Day 12"
   ]
  },
  {
   "cell_type": "code",
   "execution_count": null,
   "id": "e61128b8",
   "metadata": {},
   "outputs": [],
   "source": [
    "source = open_source('12')"
   ]
  },
  {
   "cell_type": "code",
   "execution_count": null,
   "id": "3ec68eb7",
   "metadata": {
    "code_folding": []
   },
   "outputs": [],
   "source": []
  },
  {
   "cell_type": "code",
   "execution_count": null,
   "id": "c345e136",
   "metadata": {},
   "outputs": [],
   "source": []
  },
  {
   "cell_type": "code",
   "execution_count": null,
   "id": "00bbdfa8",
   "metadata": {},
   "outputs": [],
   "source": []
  },
  {
   "cell_type": "code",
   "execution_count": null,
   "id": "208188f3",
   "metadata": {},
   "outputs": [],
   "source": []
  },
  {
   "cell_type": "markdown",
   "id": "0f5ffb37",
   "metadata": {
    "heading_collapsed": true
   },
   "source": [
    "# Day 13"
   ]
  },
  {
   "cell_type": "code",
   "execution_count": null,
   "id": "9a5d852c",
   "metadata": {
    "hidden": true
   },
   "outputs": [],
   "source": [
    "source = open_source('13')"
   ]
  },
  {
   "cell_type": "code",
   "execution_count": null,
   "id": "37208c46",
   "metadata": {
    "hidden": true
   },
   "outputs": [],
   "source": []
  },
  {
   "cell_type": "code",
   "execution_count": null,
   "id": "23a544f1",
   "metadata": {
    "hidden": true
   },
   "outputs": [],
   "source": []
  },
  {
   "cell_type": "markdown",
   "id": "4aac3dd7",
   "metadata": {
    "heading_collapsed": true
   },
   "source": [
    "# Day 14"
   ]
  },
  {
   "cell_type": "code",
   "execution_count": null,
   "id": "7b60f815",
   "metadata": {
    "code_folding": [
     0
    ],
    "hidden": true
   },
   "outputs": [],
   "source": []
  },
  {
   "cell_type": "code",
   "execution_count": null,
   "id": "d7eafbd3",
   "metadata": {
    "code_folding": [],
    "hidden": true
   },
   "outputs": [],
   "source": []
  },
  {
   "cell_type": "code",
   "execution_count": null,
   "id": "c97b5ebc",
   "metadata": {
    "hidden": true
   },
   "outputs": [],
   "source": []
  },
  {
   "cell_type": "markdown",
   "id": "8b1e7db7",
   "metadata": {},
   "source": [
    "# Day 15"
   ]
  },
  {
   "cell_type": "code",
   "execution_count": null,
   "id": "5163dd86",
   "metadata": {},
   "outputs": [],
   "source": [
    "source = open_source('15')\n",
    "source"
   ]
  },
  {
   "cell_type": "code",
   "execution_count": null,
   "id": "aa685460",
   "metadata": {},
   "outputs": [],
   "source": []
  },
  {
   "cell_type": "code",
   "execution_count": null,
   "id": "44ee3156",
   "metadata": {},
   "outputs": [],
   "source": []
  },
  {
   "cell_type": "code",
   "execution_count": null,
   "id": "a5353038",
   "metadata": {},
   "outputs": [],
   "source": []
  },
  {
   "cell_type": "code",
   "execution_count": null,
   "id": "934e589b",
   "metadata": {},
   "outputs": [],
   "source": []
  },
  {
   "cell_type": "code",
   "execution_count": null,
   "id": "1b9b7317",
   "metadata": {},
   "outputs": [],
   "source": []
  },
  {
   "cell_type": "code",
   "execution_count": null,
   "id": "151bb52e",
   "metadata": {},
   "outputs": [],
   "source": []
  },
  {
   "cell_type": "code",
   "execution_count": null,
   "id": "5e8295c0",
   "metadata": {},
   "outputs": [],
   "source": []
  },
  {
   "cell_type": "markdown",
   "id": "67c32dbf",
   "metadata": {
    "heading_collapsed": true
   },
   "source": [
    "# Day 16"
   ]
  },
  {
   "cell_type": "code",
   "execution_count": null,
   "id": "0c25b621",
   "metadata": {
    "hidden": true
   },
   "outputs": [],
   "source": []
  },
  {
   "cell_type": "markdown",
   "id": "378924e1",
   "metadata": {
    "heading_collapsed": true
   },
   "source": [
    "# Day 17"
   ]
  },
  {
   "cell_type": "code",
   "execution_count": null,
   "id": "180e2872",
   "metadata": {
    "hidden": true
   },
   "outputs": [],
   "source": []
  },
  {
   "cell_type": "markdown",
   "id": "0ca4a36f",
   "metadata": {
    "heading_collapsed": true
   },
   "source": [
    "# Day 18"
   ]
  },
  {
   "cell_type": "code",
   "execution_count": null,
   "id": "c48b4ba4",
   "metadata": {
    "hidden": true
   },
   "outputs": [],
   "source": []
  },
  {
   "cell_type": "code",
   "execution_count": null,
   "id": "7b9d786a",
   "metadata": {
    "hidden": true
   },
   "outputs": [],
   "source": []
  },
  {
   "cell_type": "code",
   "execution_count": null,
   "id": "bb91324b",
   "metadata": {
    "hidden": true
   },
   "outputs": [],
   "source": []
  },
  {
   "cell_type": "code",
   "execution_count": null,
   "id": "3844652a",
   "metadata": {
    "hidden": true
   },
   "outputs": [],
   "source": []
  },
  {
   "cell_type": "code",
   "execution_count": null,
   "id": "6bb94fb9",
   "metadata": {
    "hidden": true
   },
   "outputs": [],
   "source": []
  },
  {
   "cell_type": "code",
   "execution_count": null,
   "id": "2bfc3815",
   "metadata": {
    "hidden": true
   },
   "outputs": [],
   "source": []
  },
  {
   "cell_type": "markdown",
   "id": "e99c5415",
   "metadata": {
    "heading_collapsed": true
   },
   "source": [
    "# Day 19"
   ]
  },
  {
   "cell_type": "code",
   "execution_count": null,
   "id": "d52c3142",
   "metadata": {
    "hidden": true
   },
   "outputs": [],
   "source": [
    "source = open_source('19_example')\n",
    "source "
   ]
  },
  {
   "cell_type": "code",
   "execution_count": null,
   "id": "754957a8",
   "metadata": {
    "hidden": true
   },
   "outputs": [],
   "source": []
  },
  {
   "cell_type": "code",
   "execution_count": null,
   "id": "414fd392",
   "metadata": {
    "hidden": true
   },
   "outputs": [],
   "source": []
  },
  {
   "cell_type": "code",
   "execution_count": null,
   "id": "8bc5d595",
   "metadata": {
    "code_folding": [],
    "hidden": true
   },
   "outputs": [],
   "source": []
  },
  {
   "cell_type": "code",
   "execution_count": null,
   "id": "0ae654a0",
   "metadata": {
    "hidden": true
   },
   "outputs": [],
   "source": []
  },
  {
   "cell_type": "markdown",
   "id": "5b2c8cd4",
   "metadata": {
    "heading_collapsed": true
   },
   "source": [
    "# Day 20"
   ]
  },
  {
   "cell_type": "code",
   "execution_count": null,
   "id": "eb0891fe",
   "metadata": {
    "hidden": true
   },
   "outputs": [],
   "source": []
  },
  {
   "cell_type": "markdown",
   "id": "47b8a1ea",
   "metadata": {
    "heading_collapsed": true
   },
   "source": [
    "# Day 21"
   ]
  },
  {
   "cell_type": "code",
   "execution_count": null,
   "id": "048b327f",
   "metadata": {
    "hidden": true
   },
   "outputs": [],
   "source": []
  },
  {
   "cell_type": "markdown",
   "id": "97658d22",
   "metadata": {
    "heading_collapsed": true
   },
   "source": [
    "# Day 22"
   ]
  },
  {
   "cell_type": "code",
   "execution_count": null,
   "id": "b1fad67e",
   "metadata": {
    "hidden": true
   },
   "outputs": [],
   "source": []
  },
  {
   "cell_type": "markdown",
   "id": "8e24a5dd",
   "metadata": {
    "heading_collapsed": true
   },
   "source": [
    "# Day 23"
   ]
  },
  {
   "cell_type": "code",
   "execution_count": null,
   "id": "2762eb57",
   "metadata": {
    "hidden": true
   },
   "outputs": [],
   "source": []
  },
  {
   "cell_type": "markdown",
   "id": "dc53cea9",
   "metadata": {
    "heading_collapsed": true
   },
   "source": [
    "# Day 24"
   ]
  },
  {
   "cell_type": "code",
   "execution_count": null,
   "id": "4c52e68b",
   "metadata": {
    "hidden": true
   },
   "outputs": [],
   "source": []
  },
  {
   "cell_type": "markdown",
   "id": "6429147a",
   "metadata": {
    "heading_collapsed": true
   },
   "source": [
    "# Day 25"
   ]
  },
  {
   "cell_type": "code",
   "execution_count": null,
   "id": "8c884f89",
   "metadata": {
    "hidden": true
   },
   "outputs": [],
   "source": []
  }
 ],
 "metadata": {
  "kernelspec": {
   "display_name": "venv",
   "language": "python",
   "name": "venv"
  },
  "language_info": {
   "codemirror_mode": {
    "name": "ipython",
    "version": 3
   },
   "file_extension": ".py",
   "mimetype": "text/x-python",
   "name": "python",
   "nbconvert_exporter": "python",
   "pygments_lexer": "ipython3",
   "version": "3.11.2"
  },
  "toc": {
   "base_numbering": 1,
   "nav_menu": {},
   "number_sections": true,
   "sideBar": true,
   "skip_h1_title": false,
   "title_cell": "Table of Contents",
   "title_sidebar": "Contents",
   "toc_cell": false,
   "toc_position": {
    "height": "calc(100% - 180px)",
    "left": "10px",
    "top": "150px",
    "width": "384px"
   },
   "toc_section_display": true,
   "toc_window_display": true
  }
 },
 "nbformat": 4,
 "nbformat_minor": 5
}
