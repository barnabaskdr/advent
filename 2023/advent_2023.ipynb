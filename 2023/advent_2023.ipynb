{
 "cells": [
  {
   "cell_type": "markdown",
   "id": "6f99986c",
   "metadata": {},
   "source": [
    "# Imports"
   ]
  },
  {
   "cell_type": "code",
   "execution_count": 878,
   "id": "fa410033",
   "metadata": {},
   "outputs": [
    {
     "data": {
      "text/html": [
       "<style>.container { width:100% !important; }</style>"
      ],
      "text/plain": [
       "<IPython.core.display.HTML object>"
      ]
     },
     "metadata": {},
     "output_type": "display_data"
    }
   ],
   "source": [
    "import copy\n",
    "import math\n",
    "import os\n",
    "from pprint import pprint\n",
    "import random\n",
    "import re\n",
    "import string\n",
    "from copy import deepcopy\n",
    "from functools import cmp_to_key, lru_cache, wraps, reduce\n",
    "from heapq import nlargest\n",
    "from itertools import combinations, groupby, islice, permutations, product\n",
    "import scipy\n",
    "import numpy as np\n",
    "import pandas as pd\n",
    "import matplotlib.pyplot as plt\n",
    "\n",
    "from collections import defaultdict, deque, namedtuple, Counter\n",
    "from datetime import datetime\n",
    "\n",
    "import networkx as nx\n",
    "from IPython.display import HTML, display\n",
    "\n",
    "np.set_printoptions(linewidth=500)\n",
    "display(HTML(\"<style>.container { width:100% !important; }</style>\"))\n",
    "import z3"
   ]
  },
  {
   "cell_type": "code",
   "execution_count": 4,
   "id": "d3bbc08a",
   "metadata": {
    "code_folding": []
   },
   "outputs": [],
   "source": [
    "def open_source(day):\n",
    "    with open(f'source/day{day}.txt', 'r') as f:\n",
    "        lista = f.readlines()\n",
    "    lista = [x.strip('\\n') for x in lista]\n",
    "    return lista"
   ]
  },
  {
   "cell_type": "code",
   "execution_count": 18,
   "id": "42b33d63",
   "metadata": {
    "code_folding": [
     0
    ]
   },
   "outputs": [],
   "source": [
    "def create_txt_files():\n",
    "    files = [f\"day{x}\" if x > 9 else f\"day0{x}\" for x in range(1, 26)]\n",
    "    for file in files:\n",
    "        try:\n",
    "            with open(os.path.join(os.getcwd(), \"source\", file + \".txt\"), 'x') as fp:\n",
    "                pass\n",
    "            with open(os.path.join(os.getcwd(), \"source\", file + \"_example.txt\"), 'x') as fp:\n",
    "                pass\n",
    "        except FileExistsError:\n",
    "            print(\"file existed but continued loop\")\n",
    "            continue"
   ]
  },
  {
   "cell_type": "markdown",
   "id": "f3bdd303",
   "metadata": {
    "heading_collapsed": true
   },
   "source": [
    "# Day 1"
   ]
  },
  {
   "cell_type": "code",
   "execution_count": 219,
   "id": "eefda56e",
   "metadata": {
    "hidden": true
   },
   "outputs": [],
   "source": [
    "lista = open_source(\"01\")"
   ]
  },
  {
   "cell_type": "code",
   "execution_count": 220,
   "id": "beb9a46c",
   "metadata": {
    "hidden": true
   },
   "outputs": [],
   "source": [
    "pattern = '1|2|3|4|5|6|7|8|9|one|two|three|four|five|six|seven|eight|nine'.split('|')\n",
    "digits_1 = dict(zip(pattern[:9], pattern[:9]))\n",
    "digits_2 = dict(zip(pattern, pattern[:9] * 2))"
   ]
  },
  {
   "cell_type": "code",
   "execution_count": 225,
   "id": "6f9f4dd2",
   "metadata": {
    "hidden": true
   },
   "outputs": [
    {
     "name": "stdout",
     "output_type": "stream",
     "text": [
      "54601\n",
      "54078\n"
     ]
    }
   ],
   "source": [
    "for part in [digits_1, digits_2]:\n",
    "    res = 0\n",
    "    for row in lista:\n",
    "        pos = {}\n",
    "        for k, v in part.items():\n",
    "            for m in re.finditer(k, row):\n",
    "                pos[m.start()] = v\n",
    "        current = int(pos[min(pos)] + pos[max(pos)])\n",
    "        res += current\n",
    "    print(res)"
   ]
  },
  {
   "cell_type": "markdown",
   "id": "c65559e4",
   "metadata": {
    "heading_collapsed": true
   },
   "source": [
    "# Day 2"
   ]
  },
  {
   "cell_type": "code",
   "execution_count": 235,
   "id": "13c59fa6",
   "metadata": {
    "hidden": true
   },
   "outputs": [],
   "source": [
    "lista = open_source(\"02\")"
   ]
  },
  {
   "cell_type": "code",
   "execution_count": 236,
   "id": "52357f3d",
   "metadata": {
    "hidden": true
   },
   "outputs": [],
   "source": [
    "possible = {\"red\": 12, \"green\": 13, \"blue\": 14}\n",
    "res_1, res_2 = 0, 0"
   ]
  },
  {
   "cell_type": "code",
   "execution_count": 237,
   "id": "539f9f3c",
   "metadata": {
    "hidden": true
   },
   "outputs": [
    {
     "name": "stdout",
     "output_type": "stream",
     "text": [
      "2776\n",
      "68638\n"
     ]
    }
   ],
   "source": [
    "for row in lista:\n",
    "    game, setts = row.split(\":\")\n",
    "    game = int(game.split()[1])\n",
    "    colors = {\"red\": 0, \"green\": 0, \"blue\": 0}\n",
    "\n",
    "    for sett in setts.split(\";\"):\n",
    "        for balls in sett.split(\",\"):\n",
    "            num, c = balls.strip().split()\n",
    "            if (num := int(num)) > colors[c]:\n",
    "                colors[c] = num\n",
    "\n",
    "    if all(colors[c] <= possible[c] for c in colors):\n",
    "        res_1 += game\n",
    "    res_2 += math.prod(colors.values())\n",
    "\n",
    "print(f\"{res_1}\\n{res_2}\")"
   ]
  },
  {
   "cell_type": "markdown",
   "id": "af8df737",
   "metadata": {
    "heading_collapsed": true
   },
   "source": [
    "# Day 3"
   ]
  },
  {
   "cell_type": "code",
   "execution_count": 244,
   "id": "5fa7b682",
   "metadata": {
    "hidden": true
   },
   "outputs": [],
   "source": [
    "lista = open_source(\"03\")"
   ]
  },
  {
   "cell_type": "code",
   "execution_count": 245,
   "id": "32c2f6fd",
   "metadata": {
    "hidden": true
   },
   "outputs": [],
   "source": [
    "numbers, symbols, gears = [], set(), set()\n",
    "offsets = list(product([1, 0, -1], repeat=2))"
   ]
  },
  {
   "cell_type": "code",
   "execution_count": 246,
   "id": "9a33ff64",
   "metadata": {
    "hidden": true
   },
   "outputs": [],
   "source": [
    "for x, row in enumerate(lista):\n",
    "    for y, cell in enumerate(row):\n",
    "        if not re.fullmatch(r\"\\d|\\.\", cell):\n",
    "            symbols.add((x, y))\n",
    "        if \"*\" == cell:\n",
    "            gears.add((x, y))\n",
    "    for m in re.finditer(r'\\d+', row):\n",
    "        numbers.append((int(m.group()), [(x, i) for i in range(m.start(), m.end())]))"
   ]
  },
  {
   "cell_type": "code",
   "execution_count": 247,
   "id": "5cd84ef6",
   "metadata": {
    "hidden": true
   },
   "outputs": [
    {
     "name": "stdout",
     "output_type": "stream",
     "text": [
      "546563\n",
      "91031374\n"
     ]
    }
   ],
   "source": [
    "for i, part in enumerate([symbols, gears]):\n",
    "    res_1, res_2 = [], []\n",
    "    for sym in part:\n",
    "        matrix = [(sym[0] + d[0], sym[1] + d[1]) for d in offsets]\n",
    "        matches = {num for num, pos in numbers if any(tup in pos for tup in matrix)}\n",
    "        res_1.extend(matches)\n",
    "        if len(matches) == 2:\n",
    "            res_2.append(math.prod(matches))\n",
    "    print(sum(res_1) if i == 0 else sum(res_2))"
   ]
  },
  {
   "cell_type": "markdown",
   "id": "cdf9bc4b",
   "metadata": {
    "heading_collapsed": true
   },
   "source": [
    "# Day 4"
   ]
  },
  {
   "cell_type": "code",
   "execution_count": 387,
   "id": "1103a118",
   "metadata": {
    "hidden": true
   },
   "outputs": [],
   "source": [
    "lista = open_source('04')"
   ]
  },
  {
   "cell_type": "code",
   "execution_count": 390,
   "id": "0edbad96",
   "metadata": {
    "hidden": true
   },
   "outputs": [
    {
     "name": "stdout",
     "output_type": "stream",
     "text": [
      "25174\n",
      "6420979\n"
     ]
    }
   ],
   "source": [
    "res_1 = 0\n",
    "res_2 = [1] * len(lista)\n",
    "for i, row in enumerate(lista):\n",
    "    winning, yours = (set(map(int, part.split())) for part in row.split(\":\")[1].split('|'))\n",
    "    score = len(winning & yours)\n",
    "    res_1 += math.floor(2 ** (score - 1))\n",
    "    for j in range(i + 1, i + score + 1):\n",
    "        res_2[j] += res_2[i]\n",
    "    \n",
    "print(res_1)\n",
    "print(sum(res_2))"
   ]
  },
  {
   "cell_type": "markdown",
   "id": "08731135",
   "metadata": {
    "heading_collapsed": true
   },
   "source": [
    "# Day 5"
   ]
  },
  {
   "cell_type": "code",
   "execution_count": 23,
   "id": "d405d112",
   "metadata": {
    "hidden": true,
    "scrolled": true
   },
   "outputs": [],
   "source": [
    "lista = open_source('05')"
   ]
  },
  {
   "cell_type": "code",
   "execution_count": 24,
   "id": "e1d33912",
   "metadata": {
    "hidden": true
   },
   "outputs": [
    {
     "name": "stdout",
     "output_type": "stream",
     "text": [
      "196167384\n",
      "125742456\n"
     ]
    }
   ],
   "source": [
    "rules = []\n",
    "for l in lista:\n",
    "    if \"seeds\" in l:\n",
    "        seeds = list(map(int, l.split()[1:]))\n",
    "    elif \"map\" in l:\n",
    "        current_rule = []\n",
    "    elif l:\n",
    "        current_rule.append(list(map(int, l.split())))\n",
    "    elif not l:\n",
    "        rules.append(current_rule)\n",
    "\n",
    "def apply_rule(seed, rule):\n",
    "    for dest, start, size in rule:\n",
    "        if start <= seed < start + size:\n",
    "            return seed - start + dest\n",
    "    return seed\n",
    "\n",
    "seeds_1 = seeds[:]\n",
    "for rule in rules:\n",
    "    seeds_1 = [apply_rule(s, rule) for s in seeds_1]\n",
    "\n",
    "print(min(seeds_1))\n",
    "\n",
    "ranges = [(seeds[i],seeds[i]+seeds[i+1]-1) for i in range(0, len(seeds), 2)]\n",
    "rules = [[[dest-start, start, start+size-1] for dest, start, size in rule] for rule in rules]\n",
    "\n",
    "def consolidate(span_start, span_end, map_start, map_end):\n",
    "    if span_end < map_start or map_end < span_start:\n",
    "        return [], [(span_start, span_end)]\n",
    "    \n",
    "    mapped = [(max(span_start, map_start), min(span_end, map_end))]\n",
    "    extra = [(span_start, map_start - 1), (map_end + 1, span_end)]\n",
    "    extra = [(a, b) for a, b in extra if a <= b]\n",
    "\n",
    "    return mapped, extra\n",
    "\n",
    "def apply_rule_to_range(rule, seed_range):\n",
    "    unprocessed = [seed_range]\n",
    "    new_ranges = []\n",
    "\n",
    "    for offset, map_start, map_end in rule:\n",
    "        processed_spans = [consolidate(span_start, span_end, map_start, map_end) for span_start, span_end in unprocessed]\n",
    "\n",
    "        if processed_spans:\n",
    "            processed, unprocessed = zip(*processed_spans)\n",
    "            unprocessed = [span for spans in unprocessed for span in spans]\n",
    "            new_ranges.extend((a + offset, b + offset) for spans in processed for a, b in spans)\n",
    "        else:\n",
    "            unprocessed = []\n",
    "\n",
    "    return new_ranges + unprocessed\n",
    "\n",
    "for rule in rules:\n",
    "    ranges = [new_range for r in ranges for new_range in apply_rule_to_range(rule, r)]\n",
    "\n",
    "print(min(start for start, _ in ranges))"
   ]
  },
  {
   "cell_type": "markdown",
   "id": "886751cb",
   "metadata": {
    "heading_collapsed": true
   },
   "source": [
    "# Day 6"
   ]
  },
  {
   "cell_type": "code",
   "execution_count": 241,
   "id": "f91ed9be",
   "metadata": {
    "hidden": true
   },
   "outputs": [],
   "source": [
    "lista = open_source('06')"
   ]
  },
  {
   "cell_type": "code",
   "execution_count": 240,
   "id": "01e1c136",
   "metadata": {
    "hidden": true
   },
   "outputs": [
    {
     "name": "stdout",
     "output_type": "stream",
     "text": [
      "1413720\n",
      "30565288\n"
     ]
    }
   ],
   "source": [
    "race_1 = dict(zip(map(int, lista[0].split()[1:]), map(int, lista[1].split()[1:])))\n",
    "race_2_time, race_2_distance = int(re.sub(r'\\D', '', lista[0])), int(re.sub(r'\\D', '', lista[1]))\n",
    "\n",
    "def count_wins(total_time, distance):\n",
    "    return sum(i * (total_time - i) > distance for i in range(total_time))\n",
    "\n",
    "res_1 = [count_wins(time, distance) for time, distance in race_1.items()]\n",
    "print(math.prod(res_1))\n",
    "\n",
    "res_2 = count_wins(race_2_time, race_2_distance)\n",
    "print(res_2)"
   ]
  },
  {
   "cell_type": "markdown",
   "id": "ce2db7aa",
   "metadata": {
    "heading_collapsed": true
   },
   "source": [
    "# Day 7"
   ]
  },
  {
   "cell_type": "code",
   "execution_count": 233,
   "id": "2c7dce03",
   "metadata": {
    "hidden": true
   },
   "outputs": [],
   "source": [
    "lista = open_source('07')"
   ]
  },
  {
   "cell_type": "code",
   "execution_count": 263,
   "id": "acda9ad0",
   "metadata": {
    "hidden": true
   },
   "outputs": [],
   "source": [
    "cards_1 = [\"2\", \"3\", \"4\", \"5\", \"6\", \"7\", \"8\", \"9\", \"T\", \"J\", \"Q\", \"K\", \"A\"]\n",
    "cards_2 = [\"J\"] + [card for card in cards_1 if card != \"J\"]\n",
    "strength_1 = {v: f\"{k:02d}\" for k, v in enumerate(cards_1)}\n",
    "strength_2 = {v: f\"{k:02d}\" for k, v in enumerate(cards_2)}\n",
    "\n",
    "def get_hand_score(hand):\n",
    "    times = 10 ** 10\n",
    "    J_count = Counter(hand)[\"J\"]\n",
    "    hand_without_J = hand.replace(\"J\", \"\")\n",
    "    counts = Counter(hand_without_J).most_common(2)\n",
    "    mc1 = counts[0][1] if counts else 0\n",
    "    mc2 = counts[1][1] if len(counts) > 1 else 0\n",
    "    total_count = mc1 + J_count\n",
    "    score_map = {\n",
    "        5: 7 * times,\n",
    "        4: 6 * times,\n",
    "        3: 5 * times if mc2 == 2 else 4 * times,\n",
    "        2: 3 * times if mc2 == 2 else 2 * times\n",
    "    }\n",
    "    return score_map.get(total_count, 1 if J_count == 0 else 2 * times)\n",
    "\n",
    "def calculate_score(hand, points, part):\n",
    "    strength = strength_1 if part == 1 else strength_2\n",
    "    transformed_hand = ''.join(strength[c] for c in hand)\n",
    "    if part == 1:\n",
    "        hand = hand.replace(\"J\", \"X\")\n",
    "    return int(transformed_hand) + get_hand_score(hand), int(points)\n",
    "\n",
    "def get_day_7(part):\n",
    "    hands = sorted([calculate_score(*l.split(), part) for l in lista], key=lambda x: x[0])\n",
    "    return sum(points * rank for rank, (_, points) in enumerate(hands, 1))"
   ]
  },
  {
   "cell_type": "code",
   "execution_count": 264,
   "id": "ce871d0b",
   "metadata": {
    "hidden": true
   },
   "outputs": [
    {
     "data": {
      "text/plain": [
       "250602641"
      ]
     },
     "execution_count": 264,
     "metadata": {},
     "output_type": "execute_result"
    }
   ],
   "source": [
    "get_day_7(1)"
   ]
  },
  {
   "cell_type": "code",
   "execution_count": 265,
   "id": "fda5627a",
   "metadata": {
    "hidden": true
   },
   "outputs": [
    {
     "data": {
      "text/plain": [
       "251037509"
      ]
     },
     "execution_count": 265,
     "metadata": {},
     "output_type": "execute_result"
    }
   ],
   "source": [
    "get_day_7(2)"
   ]
  },
  {
   "cell_type": "markdown",
   "id": "039f2c65",
   "metadata": {
    "heading_collapsed": true
   },
   "source": [
    "# Day 8"
   ]
  },
  {
   "cell_type": "code",
   "execution_count": 168,
   "id": "43c0cac5",
   "metadata": {
    "hidden": true
   },
   "outputs": [],
   "source": [
    "lista = open_source('08')"
   ]
  },
  {
   "cell_type": "code",
   "execution_count": 220,
   "id": "991d76fd",
   "metadata": {
    "hidden": true
   },
   "outputs": [],
   "source": [
    "G = nx.MultiDiGraph()\n",
    "for row in lista[2:]:\n",
    "    source, targets = row.split(' = ')\n",
    "    targets = targets.strip('()').split(', ')\n",
    "    for i, target in enumerate(targets):\n",
    "        label = 'L' if i == 0 else 'R'\n",
    "        G.add_edge(source, target, label=label)"
   ]
  },
  {
   "cell_type": "code",
   "execution_count": 221,
   "id": "e802f8a3",
   "metadata": {
    "hidden": true
   },
   "outputs": [],
   "source": [
    "def follow_directions(graph, current, end, directions):\n",
    "    turn_count = 0\n",
    "    while True:\n",
    "        for s in directions:\n",
    "            if current.endswith(end):\n",
    "                return turn_count\n",
    "            edges = [(u, v) for u, v, d in graph.edges(current, data=True) if d['label'] == s]\n",
    "            if edges:\n",
    "                current = edges[0][1]\n",
    "            turn_count += 1\n",
    "        \n",
    "directions = lista[0]"
   ]
  },
  {
   "cell_type": "code",
   "execution_count": 222,
   "id": "a6b58b0f",
   "metadata": {
    "hidden": true
   },
   "outputs": [
    {
     "data": {
      "text/plain": [
       "22357"
      ]
     },
     "execution_count": 222,
     "metadata": {},
     "output_type": "execute_result"
    }
   ],
   "source": [
    "follow_directions(G, \"AAA\", \"ZZZ\", directions)"
   ]
  },
  {
   "cell_type": "code",
   "execution_count": 224,
   "id": "6e388760",
   "metadata": {
    "hidden": true
   },
   "outputs": [
    {
     "data": {
      "text/plain": [
       "10371555451871"
      ]
     },
     "execution_count": 224,
     "metadata": {},
     "output_type": "execute_result"
    }
   ],
   "source": [
    "turn_counts = []\n",
    "for node in G.nodes:\n",
    "    if node.endswith(\"A\"):\n",
    "        turn_counts.append(follow_directions(G, node, \"Z\", directions))\n",
    "math.lcm(*turn_counts)"
   ]
  },
  {
   "cell_type": "markdown",
   "id": "31d57b9f",
   "metadata": {
    "heading_collapsed": true
   },
   "source": [
    "# Day 9"
   ]
  },
  {
   "cell_type": "code",
   "execution_count": 303,
   "id": "8306571c",
   "metadata": {
    "hidden": true
   },
   "outputs": [],
   "source": [
    "lista = open_source('09')"
   ]
  },
  {
   "cell_type": "code",
   "execution_count": 323,
   "id": "f3299e66",
   "metadata": {
    "code_folding": [],
    "hidden": true
   },
   "outputs": [
    {
     "name": "stdout",
     "output_type": "stream",
     "text": [
      "1684566095 1136\n"
     ]
    }
   ],
   "source": [
    "res_1, res_2 = 0, 0\n",
    "for l in lista:\n",
    "    elements = list(map(int, l.split()))\n",
    "    res_1 += get_next_element(series=elements, last=True)\n",
    "    res_2 += get_next_element(series=elements, last=False)\n",
    "print(res_1, res_2)"
   ]
  },
  {
   "cell_type": "code",
   "execution_count": 322,
   "id": "28002666",
   "metadata": {
    "hidden": true
   },
   "outputs": [],
   "source": [
    "def get_next_element(series, last=True, summ=0, add=True):\n",
    "    if set(series) == {0}:\n",
    "        return summ\n",
    "    if last:\n",
    "        summ += series[-1]\n",
    "    else:\n",
    "        summ += (series[0] if add else -series[0])\n",
    "        add = not add\n",
    "    \n",
    "    return get_next_element([b - a for a, b in zip(series, series[1:])], last, summ, add)"
   ]
  },
  {
   "cell_type": "markdown",
   "id": "e52f7c6d",
   "metadata": {},
   "source": [
    "# Day 10"
   ]
  },
  {
   "cell_type": "code",
   "execution_count": 914,
   "id": "be65666d",
   "metadata": {
    "code_folding": [
     43,
     59,
     75
    ]
   },
   "outputs": [],
   "source": [
    "def get_neighbors(matrix, i_in, limit=True):\n",
    "    neighbors = {}\n",
    "    for move, (dx, dy) in MOVES.items():\n",
    "        i_out = (i_in[0] + dx, i_in[1] + dy)\n",
    "        if 0 <= i_out[0] < matrix.shape[0] and 0 <= i_out[1] < matrix.shape[1]:\n",
    "            neighbors[move] = i_out\n",
    "    return limit_to_pipes(matrix, neighbors) if limit else list(neighbors.values())\n",
    "\n",
    "def limit_to_pipes(matrix, neighbors):\n",
    "    valid_symbols = {\"u\": [\"F\", \"|\", \"7\"], \"d\": [\"L\", \"|\", \"J\"],\n",
    "                     \"l\": [\"F\", \"-\", \"L\"], \"r\": [\"J\", \"-\", \"7\"]}\n",
    "    return [i for d, i in neighbors.items() if matrix[i] in valid_symbols[d]]\n",
    "\n",
    "def update_side(matrix, current, move, symbol):\n",
    "    new_pos = tuple(np.add(current, MOVES[move]))\n",
    "    if 0 <= new_pos[0] < SHAPE[0] and 0 <= new_pos[1] < SHAPE[1] and matrix[new_pos] == \".\":\n",
    "        matrix[new_pos] = symbol\n",
    "\n",
    "def mark_sides(matrix, node, last_node):\n",
    "    side_moves = {'u': ('l', 'r'), 'd': ('r', 'l'), 'l': ('d', 'u'), 'r': ('u', 'd')}\n",
    "    move_dir = next(k for k, v in MOVES.items() if tuple(np.subtract(last_node, node)) == v)\n",
    "    left_move, right_move = side_moves[move_dir]\n",
    "    update_side(matrix, node, left_move, \"O\")\n",
    "    update_side(matrix, node, right_move, \"I\")\n",
    "    update_side(matrix, last_node, left_move, \"O\")\n",
    "    update_side(matrix, last_node, right_move, \"I\")\n",
    "            \n",
    "def bfs_with_path(matrix, start_node):\n",
    "    visited = set()\n",
    "    queue = [(start_node, 1, [start_node])]\n",
    "    longest_path = []\n",
    "    while queue:\n",
    "        node, depth, path = queue.pop(0)\n",
    "        if node not in visited:\n",
    "            visited.add(node)\n",
    "            matrix[node] = f\"{depth}\"\n",
    "            if depth > len(longest_path):\n",
    "                longest_path = path.copy()\n",
    "            for neighbour in get_neighbors(matrix, node):\n",
    "                if neighbour not in visited:\n",
    "                    queue.append((neighbour, depth + 1, path + [neighbour]))\n",
    "    return longest_path\n",
    "\n",
    "def find_string_indices(matrix, string):\n",
    "    indices = []\n",
    "    for i in range(SHAPE[0]):\n",
    "        for j in range(SHAPE[1]):\n",
    "            if matrix[i, j] == string:\n",
    "                indices.append((i, j))\n",
    "    return indices"
   ]
  },
  {
   "cell_type": "code",
   "execution_count": 931,
   "id": "77092a6d",
   "metadata": {},
   "outputs": [
    {
     "name": "stdout",
     "output_type": "stream",
     "text": [
      "7004\n"
     ]
    }
   ],
   "source": [
    "print(len(path) / 2)"
   ]
  },
  {
   "cell_type": "code",
   "execution_count": 932,
   "id": "d3b4b7bd",
   "metadata": {},
   "outputs": [
    {
     "data": {
      "text/plain": [
       "[(103, 118),\n",
       " (104, 118),\n",
       " (105, 118),\n",
       " (106, 118),\n",
       " (106, 119),\n",
       " (105, 119),\n",
       " (104, 119),\n",
       " (103, 119),\n",
       " (103, 120),\n",
       " (103, 121),\n",
       " (104, 121),\n",
       " (104, 120),\n",
       " (105, 120),\n",
       " (105, 121),\n",
       " (106, 121),\n",
       " (106, 120),\n",
       " (107, 120),\n",
       " (107, 121),\n",
       " (108, 121),\n",
       " (109, 121),\n",
       " (110, 121),\n",
       " (110, 120),\n",
       " (111, 120),\n",
       " (111, 121),\n",
       " (111, 122),\n",
       " (111, 123),\n",
       " (112, 123),\n",
       " (112, 124),\n",
       " (111, 124),\n",
       " (110, 124),\n",
       " (110, 123),\n",
       " (110, 122),\n",
       " (109, 122),\n",
       " (109, 123),\n",
       " (108, 123),\n",
       " (108, 122),\n",
       " (107, 122),\n",
       " (107, 123),\n",
       " (107, 124),\n",
       " (108, 124),\n",
       " (108, 125),\n",
       " (109, 125),\n",
       " (110, 125),\n",
       " (111, 125),\n",
       " (111, 126),\n",
       " (110, 126),\n",
       " (110, 127),\n",
       " (111, 127),\n",
       " (111, 128),\n",
       " (110, 128),\n",
       " (109, 128),\n",
       " (109, 127),\n",
       " (109, 126),\n",
       " (108, 126),\n",
       " (108, 127),\n",
       " (108, 128),\n",
       " (108, 129),\n",
       " (108, 130),\n",
       " (107, 130),\n",
       " (107, 129),\n",
       " (106, 129),\n",
       " (106, 128),\n",
       " (107, 128),\n",
       " (107, 127),\n",
       " (106, 127),\n",
       " (106, 126),\n",
       " (107, 126),\n",
       " (107, 125),\n",
       " (106, 125),\n",
       " (106, 124),\n",
       " (106, 123),\n",
       " (106, 122),\n",
       " (105, 122),\n",
       " (104, 122),\n",
       " (104, 123),\n",
       " (105, 123),\n",
       " (105, 124),\n",
       " (104, 124),\n",
       " (104, 125),\n",
       " (105, 125),\n",
       " (105, 126),\n",
       " (104, 126),\n",
       " (104, 127),\n",
       " (105, 127),\n",
       " (105, 128),\n",
       " (104, 128),\n",
       " (104, 129),\n",
       " (104, 130),\n",
       " (105, 130),\n",
       " (106, 130),\n",
       " (106, 131),\n",
       " (105, 131),\n",
       " (105, 132),\n",
       " (104, 132),\n",
       " (104, 131),\n",
       " (103, 131),\n",
       " (102, 131),\n",
       " (102, 130),\n",
       " (103, 130),\n",
       " (103, 129),\n",
       " (103, 128),\n",
       " (103, 127),\n",
       " (103, 126),\n",
       " (103, 125),\n",
       " (103, 124),\n",
       " (103, 123),\n",
       " (103, 122),\n",
       " (102, 122),\n",
       " (102, 123),\n",
       " (101, 123),\n",
       " (101, 124),\n",
       " (101, 125),\n",
       " (102, 125),\n",
       " (102, 126),\n",
       " (102, 127),\n",
       " (102, 128),\n",
       " (102, 129),\n",
       " (101, 129),\n",
       " (101, 130),\n",
       " (100, 130),\n",
       " (100, 131),\n",
       " (99, 131),\n",
       " (99, 130),\n",
       " (99, 129),\n",
       " (100, 129),\n",
       " (100, 128),\n",
       " (101, 128),\n",
       " (101, 127),\n",
       " (101, 126),\n",
       " (100, 126),\n",
       " (100, 127),\n",
       " (99, 127),\n",
       " (99, 126),\n",
       " (98, 126),\n",
       " (98, 125),\n",
       " (99, 125),\n",
       " (100, 125),\n",
       " (100, 124),\n",
       " (100, 123),\n",
       " (100, 122),\n",
       " (101, 122),\n",
       " (101, 121),\n",
       " (102, 121),\n",
       " (102, 120),\n",
       " (102, 119),\n",
       " (101, 119),\n",
       " (101, 118),\n",
       " (101, 117),\n",
       " (101, 116),\n",
       " (101, 115),\n",
       " (102, 115),\n",
       " (102, 114),\n",
       " (101, 114),\n",
       " (101, 113),\n",
       " (102, 113),\n",
       " (102, 112),\n",
       " (102, 111),\n",
       " (101, 111),\n",
       " (101, 110),\n",
       " (102, 110),\n",
       " (102, 109),\n",
       " (102, 108),\n",
       " (103, 108),\n",
       " (103, 109),\n",
       " (104, 109),\n",
       " (104, 108),\n",
       " (104, 107),\n",
       " (104, 106),\n",
       " (104, 105),\n",
       " (104, 104),\n",
       " (103, 104),\n",
       " (103, 105),\n",
       " (103, 106),\n",
       " (103, 107),\n",
       " (102, 107),\n",
       " (101, 107),\n",
       " (101, 108),\n",
       " (101, 109),\n",
       " (100, 109),\n",
       " (100, 110),\n",
       " (100, 111),\n",
       " (100, 112),\n",
       " (100, 113),\n",
       " (100, 114),\n",
       " (100, 115),\n",
       " (99, 115),\n",
       " (99, 116),\n",
       " (100, 116),\n",
       " (100, 117),\n",
       " (99, 117),\n",
       " (99, 118),\n",
       " (100, 118),\n",
       " (100, 119),\n",
       " (99, 119),\n",
       " (99, 120),\n",
       " (100, 120),\n",
       " (100, 121),\n",
       " (99, 121),\n",
       " (99, 122),\n",
       " (99, 123),\n",
       " (99, 124),\n",
       " (98, 124),\n",
       " (98, 123),\n",
       " (97, 123),\n",
       " (97, 122),\n",
       " (98, 122),\n",
       " (98, 121),\n",
       " (97, 121),\n",
       " (97, 120),\n",
       " (98, 120),\n",
       " (98, 119),\n",
       " (97, 119),\n",
       " (96, 119),\n",
       " (96, 120),\n",
       " (96, 121),\n",
       " (96, 122),\n",
       " (96, 123),\n",
       " (96, 124),\n",
       " (97, 124),\n",
       " (97, 125),\n",
       " (96, 125),\n",
       " (96, 126),\n",
       " (95, 126),\n",
       " (95, 125),\n",
       " (95, 124),\n",
       " (94, 124),\n",
       " (94, 125),\n",
       " (94, 126),\n",
       " (93, 126),\n",
       " (93, 125),\n",
       " (93, 124),\n",
       " (92, 124),\n",
       " (92, 125),\n",
       " (92, 126),\n",
       " (91, 126),\n",
       " (91, 125),\n",
       " (90, 125),\n",
       " (90, 124),\n",
       " (91, 124),\n",
       " (91, 123),\n",
       " (92, 123),\n",
       " (93, 123),\n",
       " (93, 122),\n",
       " (94, 122),\n",
       " (94, 123),\n",
       " (95, 123),\n",
       " (95, 122),\n",
       " (95, 121),\n",
       " (94, 121),\n",
       " (94, 120),\n",
       " (95, 120),\n",
       " (95, 119),\n",
       " (95, 118),\n",
       " (96, 118),\n",
       " (97, 118),\n",
       " (98, 118),\n",
       " (98, 117),\n",
       " (97, 117),\n",
       " (96, 117),\n",
       " (96, 116),\n",
       " (97, 116),\n",
       " (98, 116),\n",
       " (98, 115),\n",
       " (97, 115),\n",
       " (96, 115),\n",
       " (96, 114),\n",
       " (97, 114),\n",
       " (98, 114),\n",
       " (99, 114),\n",
       " (99, 113),\n",
       " (98, 113),\n",
       " (97, 113),\n",
       " (96, 113),\n",
       " (96, 112),\n",
       " (97, 112),\n",
       " (98, 112),\n",
       " (99, 112),\n",
       " (99, 111),\n",
       " (98, 111),\n",
       " (97, 111),\n",
       " (97, 110),\n",
       " (98, 110),\n",
       " (99, 110),\n",
       " (99, 109),\n",
       " (98, 109),\n",
       " (97, 109),\n",
       " (97, 108),\n",
       " (98, 108),\n",
       " (99, 108),\n",
       " (100, 108),\n",
       " (100, 107),\n",
       " (100, 106),\n",
       " (101, 106),\n",
       " (102, 106),\n",
       " (102, 105),\n",
       " (101, 105),\n",
       " (101, 104),\n",
       " (102, 104),\n",
       " (102, 103),\n",
       " (101, 103),\n",
       " (101, 102),\n",
       " (102, 102),\n",
       " (102, 101),\n",
       " (102, 100),\n",
       " (102, 99),\n",
       " (102, 98),\n",
       " (102, 97),\n",
       " (101, 97),\n",
       " (101, 96),\n",
       " (100, 96),\n",
       " (99, 96),\n",
       " (98, 96),\n",
       " (97, 96),\n",
       " (97, 95),\n",
       " (97, 94),\n",
       " (96, 94),\n",
       " (96, 95),\n",
       " (95, 95),\n",
       " (94, 95),\n",
       " (94, 96),\n",
       " (95, 96),\n",
       " (96, 96),\n",
       " (96, 97),\n",
       " (97, 97),\n",
       " (98, 97),\n",
       " (99, 97),\n",
       " (100, 97),\n",
       " (100, 98),\n",
       " (101, 98),\n",
       " (101, 99),\n",
       " (101, 100),\n",
       " (101, 101),\n",
       " (100, 101),\n",
       " (100, 100),\n",
       " (100, 99),\n",
       " (99, 99),\n",
       " (99, 100),\n",
       " (98, 100),\n",
       " (98, 99),\n",
       " (98, 98),\n",
       " (97, 98),\n",
       " (97, 99),\n",
       " (97, 100),\n",
       " (96, 100),\n",
       " (96, 101),\n",
       " (97, 101),\n",
       " (98, 101),\n",
       " (99, 101),\n",
       " (99, 102),\n",
       " (100, 102),\n",
       " (100, 103),\n",
       " (99, 103),\n",
       " (99, 104),\n",
       " (100, 104),\n",
       " (100, 105),\n",
       " (99, 105),\n",
       " (99, 106),\n",
       " (99, 107),\n",
       " (98, 107),\n",
       " (98, 106),\n",
       " (98, 105),\n",
       " (98, 104),\n",
       " (98, 103),\n",
       " (98, 102),\n",
       " (97, 102),\n",
       " (97, 103),\n",
       " (97, 104),\n",
       " (97, 105),\n",
       " (97, 106),\n",
       " (97, 107),\n",
       " (96, 107),\n",
       " (96, 108),\n",
       " (96, 109),\n",
       " (96, 110),\n",
       " (96, 111),\n",
       " (95, 111),\n",
       " (95, 112),\n",
       " (95, 113),\n",
       " (95, 114),\n",
       " (95, 115),\n",
       " (95, 116),\n",
       " (94, 116),\n",
       " (94, 117),\n",
       " (94, 118),\n",
       " (94, 119),\n",
       " (93, 119),\n",
       " (93, 120),\n",
       " (93, 121),\n",
       " (92, 121),\n",
       " (92, 122),\n",
       " (91, 122),\n",
       " (91, 121),\n",
       " (91, 120),\n",
       " (92, 120),\n",
       " (92, 119),\n",
       " (92, 118),\n",
       " (93, 118),\n",
       " (93, 117),\n",
       " (93, 116),\n",
       " (92, 116),\n",
       " (92, 115),\n",
       " (93, 115),\n",
       " (94, 115),\n",
       " (94, 114),\n",
       " (94, 113),\n",
       " (93, 113),\n",
       " (93, 114),\n",
       " (92, 114),\n",
       " (92, 113),\n",
       " (92, 112),\n",
       " (93, 112),\n",
       " (94, 112),\n",
       " (94, 111),\n",
       " (94, 110),\n",
       " (95, 110),\n",
       " (95, 109),\n",
       " (95, 108),\n",
       " (95, 107),\n",
       " (95, 106),\n",
       " (96, 106),\n",
       " (96, 105),\n",
       " (96, 104),\n",
       " (96, 103),\n",
       " (95, 103),\n",
       " (95, 102),\n",
       " (95, 101),\n",
       " (95, 100),\n",
       " (95, 99),\n",
       " (96, 99),\n",
       " (96, 98),\n",
       " (95, 98),\n",
       " (95, 97),\n",
       " (94, 97),\n",
       " (94, 98),\n",
       " (94, 99),\n",
       " (94, 100),\n",
       " (94, 101),\n",
       " (93, 101),\n",
       " (93, 102),\n",
       " (94, 102),\n",
       " (94, 103),\n",
       " (93, 103),\n",
       " (93, 104),\n",
       " (94, 104),\n",
       " (95, 104),\n",
       " (95, 105),\n",
       " (94, 105),\n",
       " (94, 106),\n",
       " (94, 107),\n",
       " (94, 108),\n",
       " (94, 109),\n",
       " (93, 109),\n",
       " (93, 110),\n",
       " (93, 111),\n",
       " (92, 111),\n",
       " (91, 111),\n",
       " (91, 110),\n",
       " (92, 110),\n",
       " (92, 109),\n",
       " (92, 108),\n",
       " (93, 108),\n",
       " (93, 107),\n",
       " (92, 107),\n",
       " (92, 106),\n",
       " (93, 106),\n",
       " (93, 105),\n",
       " (92, 105),\n",
       " (92, 104),\n",
       " (91, 104),\n",
       " (91, 105),\n",
       " (91, 106),\n",
       " (91, 107),\n",
       " (91, 108),\n",
       " (91, 109),\n",
       " (90, 109),\n",
       " (90, 108),\n",
       " (90, 107),\n",
       " (90, 106),\n",
       " (90, 105),\n",
       " (90, 104),\n",
       " (90, 103),\n",
       " (91, 103),\n",
       " (92, 103),\n",
       " (92, 102),\n",
       " (91, 102),\n",
       " (90, 102),\n",
       " (90, 101),\n",
       " (90, 100),\n",
       " (91, 100),\n",
       " (91, 101),\n",
       " (92, 101),\n",
       " (92, 100),\n",
       " (93, 100),\n",
       " (93, 99),\n",
       " (92, 99),\n",
       " (92, 98),\n",
       " (92, 97),\n",
       " (93, 97),\n",
       " (93, 96),\n",
       " (92, 96),\n",
       " (92, 95),\n",
       " (93, 95),\n",
       " (93, 94),\n",
       " (94, 94),\n",
       " (95, 94),\n",
       " (95, 93),\n",
       " (94, 93),\n",
       " (94, 92),\n",
       " (94, 91),\n",
       " (94, 90),\n",
       " (94, 89),\n",
       " (94, 88),\n",
       " (93, 88),\n",
       " (93, 89),\n",
       " (92, 89),\n",
       " (92, 88),\n",
       " (91, 88),\n",
       " (91, 89),\n",
       " (90, 89),\n",
       " (90, 88),\n",
       " (89, 88),\n",
       " (89, 89),\n",
       " (88, 89),\n",
       " (87, 89),\n",
       " (87, 88),\n",
       " (88, 88),\n",
       " (88, 87),\n",
       " (87, 87),\n",
       " (86, 87),\n",
       " (86, 88),\n",
       " (86, 89),\n",
       " (86, 90),\n",
       " (86, 91),\n",
       " (87, 91),\n",
       " (87, 90),\n",
       " (88, 90),\n",
       " (89, 90),\n",
       " (90, 90),\n",
       " (91, 90),\n",
       " (92, 90),\n",
       " (93, 90),\n",
       " (93, 91),\n",
       " (92, 91),\n",
       " (92, 92),\n",
       " (93, 92),\n",
       " (93, 93),\n",
       " (92, 93),\n",
       " (92, 94),\n",
       " (91, 94),\n",
       " (91, 95),\n",
       " (91, 96),\n",
       " (91, 97),\n",
       " (91, 98),\n",
       " (91, 99),\n",
       " (90, 99),\n",
       " (90, 98),\n",
       " (90, 97),\n",
       " (90, 96),\n",
       " (90, 95),\n",
       " (90, 94),\n",
       " (90, 93),\n",
       " (90, 92),\n",
       " (91, 92),\n",
       " (91, 91),\n",
       " (90, 91),\n",
       " (89, 91),\n",
       " (88, 91),\n",
       " (88, 92),\n",
       " (89, 92),\n",
       " (89, 93),\n",
       " (88, 93),\n",
       " (88, 94),\n",
       " (89, 94),\n",
       " (89, 95),\n",
       " (88, 95),\n",
       " (88, 96),\n",
       " (89, 96),\n",
       " (89, 97),\n",
       " (88, 97),\n",
       " (88, 98),\n",
       " (89, 98),\n",
       " (89, 99),\n",
       " (88, 99),\n",
       " (87, 99),\n",
       " (86, 99),\n",
       " (86, 100),\n",
       " (87, 100),\n",
       " (88, 100),\n",
       " (89, 100),\n",
       " (89, 101),\n",
       " (88, 101),\n",
       " (88, 102),\n",
       " (89, 102),\n",
       " (89, 103),\n",
       " (88, 103),\n",
       " (88, 104),\n",
       " (89, 104),\n",
       " (89, 105),\n",
       " (89, 106),\n",
       " (89, 107),\n",
       " (89, 108),\n",
       " (89, 109),\n",
       " (89, 110),\n",
       " (89, 111),\n",
       " (90, 111),\n",
       " (90, 112),\n",
       " (91, 112),\n",
       " (91, 113),\n",
       " (90, 113),\n",
       " (90, 114),\n",
       " (90, 115),\n",
       " (91, 115),\n",
       " (91, 116),\n",
       " (90, 116),\n",
       " (90, 117),\n",
       " (90, 118),\n",
       " (91, 118),\n",
       " (91, 119),\n",
       " (90, 119),\n",
       " (90, 120),\n",
       " (90, 121),\n",
       " (90, 122),\n",
       " (90, 123),\n",
       " (89, 123),\n",
       " (89, 122),\n",
       " (89, 121),\n",
       " (88, 121),\n",
       " (88, 120),\n",
       " (89, 120),\n",
       " (89, 119),\n",
       " (89, 118),\n",
       " (89, 117),\n",
       " (89, 116),\n",
       " (88, 116),\n",
       " (88, 117),\n",
       " (88, 118),\n",
       " (88, 119),\n",
       " (87, 119),\n",
       " (87, 118),\n",
       " (87, 117),\n",
       " (86, 117),\n",
       " (86, 118),\n",
       " (86, 119),\n",
       " (85, 119),\n",
       " (85, 118),\n",
       " (85, 117),\n",
       " (85, 116),\n",
       " (86, 116),\n",
       " (87, 116),\n",
       " (87, 115),\n",
       " (88, 115),\n",
       " (89, 115),\n",
       " (89, 114),\n",
       " (88, 114),\n",
       " (88, 113),\n",
       " (89, 113),\n",
       " (89, 112),\n",
       " (88, 112),\n",
       " (88, 111),\n",
       " (88, 110),\n",
       " (88, 109),\n",
       " (88, 108),\n",
       " (88, 107),\n",
       " (88, 106),\n",
       " (88, 105),\n",
       " (87, 105),\n",
       " (87, 104),\n",
       " (87, 103),\n",
       " (87, 102),\n",
       " (87, 101),\n",
       " (86, 101),\n",
       " (86, 102),\n",
       " (86, 103),\n",
       " (85, 103),\n",
       " (85, 104),\n",
       " (86, 104),\n",
       " (86, 105),\n",
       " (86, 106),\n",
       " (87, 106),\n",
       " (87, 107),\n",
       " (86, 107),\n",
       " (86, 108),\n",
       " (87, 108),\n",
       " (87, 109),\n",
       " (86, 109),\n",
       " (86, 110),\n",
       " (87, 110),\n",
       " (87, 111),\n",
       " (87, 112),\n",
       " (87, 113),\n",
       " (86, 113),\n",
       " (86, 114),\n",
       " (86, 115),\n",
       " (85, 115),\n",
       " (85, 114),\n",
       " (85, 113),\n",
       " (85, 112),\n",
       " (86, 112),\n",
       " (86, 111),\n",
       " (85, 111),\n",
       " (85, 110),\n",
       " (85, 109),\n",
       " (85, 108),\n",
       " (85, 107),\n",
       " (85, 106),\n",
       " (85, 105),\n",
       " (84, 105),\n",
       " (84, 106),\n",
       " (84, 107),\n",
       " (84, 108),\n",
       " (84, 109),\n",
       " (84, 110),\n",
       " (84, 111),\n",
       " (84, 112),\n",
       " (83, 112),\n",
       " (83, 111),\n",
       " (83, 110),\n",
       " (83, 109),\n",
       " (83, 108),\n",
       " (82, 108),\n",
       " (82, 107),\n",
       " (83, 107),\n",
       " (83, 106),\n",
       " (83, 105),\n",
       " (83, 104),\n",
       " (83, 103),\n",
       " (84, 103),\n",
       " (84, 102),\n",
       " (85, 102),\n",
       " (85, 101),\n",
       " (84, 101),\n",
       " (84, 100),\n",
       " (85, 100),\n",
       " (85, 99),\n",
       " (85, 98),\n",
       " (86, 98),\n",
       " (86, 97),\n",
       " (87, 97),\n",
       " (87, 96),\n",
       " (86, 96),\n",
       " (86, 95),\n",
       " (87, 95),\n",
       " (87, 94),\n",
       " (86, 94),\n",
       " (86, 93),\n",
       " (87, 93),\n",
       " (87, 92),\n",
       " (86, 92),\n",
       " (85, 92),\n",
       " (85, 93),\n",
       " (85, 94),\n",
       " (85, 95),\n",
       " (85, 96),\n",
       " (85, 97),\n",
       " (84, 97),\n",
       " (84, 96),\n",
       " (84, 95),\n",
       " (84, 94),\n",
       " (83, 94),\n",
       " (83, 93),\n",
       " (84, 93),\n",
       " (84, 92),\n",
       " (84, 91),\n",
       " (85, 91),\n",
       " (85, 90),\n",
       " (85, 89),\n",
       " (85, 88),\n",
       " (84, 88),\n",
       " (84, 89),\n",
       " (84, 90),\n",
       " (83, 90),\n",
       " (83, 91),\n",
       " (83, 92),\n",
       " (82, 92),\n",
       " (82, 91),\n",
       " (82, 90),\n",
       " (82, 89),\n",
       " (83, 89),\n",
       " (83, 88),\n",
       " (82, 88),\n",
       " (82, 87),\n",
       " (82, 86),\n",
       " (83, 86),\n",
       " (84, 86),\n",
       " (84, 87),\n",
       " (85, 87),\n",
       " (85, 86),\n",
       " (85, 85),\n",
       " (86, 85),\n",
       " (86, 86),\n",
       " (87, 86),\n",
       " (87, 85),\n",
       " (88, 85),\n",
       " (88, 84),\n",
       " (87, 84),\n",
       " (86, 84),\n",
       " (86, 83),\n",
       " (87, 83),\n",
       " (88, 83),\n",
       " (89, 83),\n",
       " (89, 82),\n",
       " (88, 82),\n",
       " (88, 81),\n",
       " (88, 80),\n",
       " (87, 80),\n",
       " (87, 81),\n",
       " (87, 82),\n",
       " (86, 82),\n",
       " (86, 81),\n",
       " (86, 80),\n",
       " (86, 79),\n",
       " (87, 79),\n",
       " (87, 78),\n",
       " (86, 78),\n",
       " (86, 77),\n",
       " (86, 76),\n",
       " (85, 76),\n",
       " (84, 76),\n",
       " (83, 76),\n",
       " (83, 77),\n",
       " (84, 77),\n",
       " (85, 77),\n",
       " (85, 78),\n",
       " (85, 79),\n",
       " (84, 79),\n",
       " (84, 80),\n",
       " (85, 80),\n",
       " (85, 81),\n",
       " (85, 82),\n",
       " (84, 82),\n",
       " (84, 83),\n",
       " (85, 83),\n",
       " (85, 84),\n",
       " (84, 84),\n",
       " (84, 85),\n",
       " (83, 85),\n",
       " (82, 85),\n",
       " (82, 84),\n",
       " (81, 84),\n",
       " (81, 83),\n",
       " (82, 83),\n",
       " (83, 83),\n",
       " (83, 82),\n",
       " (82, 82),\n",
       " (82, 81),\n",
       " (83, 81),\n",
       " (83, 80),\n",
       " (83, 79),\n",
       " (83, 78),\n",
       " (82, 78),\n",
       " (82, 79),\n",
       " (82, 80),\n",
       " (81, 80),\n",
       " (81, 81),\n",
       " (81, 82),\n",
       " (80, 82),\n",
       " (80, 81),\n",
       " (79, 81),\n",
       " (79, 80),\n",
       " (80, 80),\n",
       " (80, 79),\n",
       " (80, 78),\n",
       " (81, 78),\n",
       " (81, 77),\n",
       " (80, 77),\n",
       " (80, 76),\n",
       " (79, 76),\n",
       " (79, 77),\n",
       " (78, 77),\n",
       " (78, 78),\n",
       " (79, 78),\n",
       " (79, 79),\n",
       " (78, 79),\n",
       " (77, 79),\n",
       " (76, 79),\n",
       " (76, 80),\n",
       " (77, 80),\n",
       " (78, 80),\n",
       " (78, 81),\n",
       " (77, 81),\n",
       " (77, 82),\n",
       " (76, 82),\n",
       " (75, 82),\n",
       " (75, 81),\n",
       " (75, 80),\n",
       " (75, 79),\n",
       " (74, 79),\n",
       " (73, 79),\n",
       " (73, 80),\n",
       " (74, 80),\n",
       " (74, 81),\n",
       " (74, 82),\n",
       " (74, 83),\n",
       " (75, 83),\n",
       " (76, 83),\n",
       " (77, 83),\n",
       " (78, 83),\n",
       " (78, 82),\n",
       " (79, 82),\n",
       " (79, 83),\n",
       " (80, 83),\n",
       " (80, 84),\n",
       " (79, 84),\n",
       " (79, 85),\n",
       " (78, 85),\n",
       " (78, 84),\n",
       " (77, 84),\n",
       " (77, 85),\n",
       " (77, 86),\n",
       " (78, 86),\n",
       " (79, 86),\n",
       " (80, 86),\n",
       " (80, 85),\n",
       " (81, 85),\n",
       " (81, 86),\n",
       " (81, 87),\n",
       " (80, 87),\n",
       " (80, 88),\n",
       " (81, 88),\n",
       " (81, 89),\n",
       " (81, 90),\n",
       " (80, 90),\n",
       " (80, 91),\n",
       " (81, 91),\n",
       " (81, 92),\n",
       " (81, 93),\n",
       " (82, 93),\n",
       " (82, 94),\n",
       " (81, 94),\n",
       " (81, 95),\n",
       " (82, 95),\n",
       " (83, 95),\n",
       " (83, 96),\n",
       " (83, 97),\n",
       " (82, 97),\n",
       " (82, 96),\n",
       " (81, 96),\n",
       " (81, 97),\n",
       " (80, 97),\n",
       " (80, 98),\n",
       " (81, 98),\n",
       " (82, 98),\n",
       " (83, 98),\n",
       " (84, 98),\n",
       " (84, 99),\n",
       " (83, 99),\n",
       " (83, 100),\n",
       " (83, 101),\n",
       " (83, 102),\n",
       " (82, 102),\n",
       " (82, 103),\n",
       " (82, 104),\n",
       " (82, 105),\n",
       " (82, 106),\n",
       " (81, 106),\n",
       " (81, 105),\n",
       " (81, 104),\n",
       " (81, 103),\n",
       " (81, 102),\n",
       " (81, 101),\n",
       " (82, 101),\n",
       " (82, 100),\n",
       " (81, 100),\n",
       " (81, 99),\n",
       " (80, 99),\n",
       " (80, 100),\n",
       " (80, 101),\n",
       " (80, 102),\n",
       " (79, 102),\n",
       " (79, 103),\n",
       " (80, 103),\n",
       " (80, 104),\n",
       " (80, 105),\n",
       " (80, 106),\n",
       " (80, 107),\n",
       " (81, 107),\n",
       " (81, 108),\n",
       " (81, 109),\n",
       " (82, 109),\n",
       " (82, 110),\n",
       " (81, 110),\n",
       " (81, 111),\n",
       " (82, 111),\n",
       " (82, 112),\n",
       " (82, 113),\n",
       " (83, 113),\n",
       " (84, 113),\n",
       " (84, 114),\n",
       " (83, 114),\n",
       " (82, 114),\n",
       " (82, 115),\n",
       " (83, 115),\n",
       " (84, 115),\n",
       " (84, 116),\n",
       " (83, 116),\n",
       " (82, 116),\n",
       " (81, 116),\n",
       " (81, 115),\n",
       " (80, 115),\n",
       " (80, 114),\n",
       " ...]"
      ]
     },
     "execution_count": 932,
     "metadata": {},
     "output_type": "execute_result"
    }
   ],
   "source": [
    "path"
   ]
  },
  {
   "cell_type": "code",
   "execution_count": 926,
   "id": "7e69636a",
   "metadata": {},
   "outputs": [
    {
     "data": {
      "text/plain": [
       "{'@': 14010, 'I': 417, 'O': 5173}"
      ]
     },
     "execution_count": 926,
     "metadata": {},
     "output_type": "execute_result"
    }
   ],
   "source": [
    "lista = open_source('10')\n",
    "PIPES = np.array([list(s) for s in lista], dtype='U10')\n",
    "MOVES = {\"u\": (-1, 0), \"d\": (1, 0), \"l\": (0, -1), \"r\": (0, 1)}\n",
    "SHAPE = PIPES.shape\n",
    "start = tuple(np.argwhere(PIPES == \"S\")[0])\n",
    "\n",
    "first_step, _ = get_neighbors(PIPES, start)\n",
    "path = bfs_with_path(PIPES, first_step)\n",
    "ROUTE = np.full(SHAPE, \".\", dtype='U10')\n",
    "ROUTE[start] = \"0\"\n",
    "\n",
    "for node in path:\n",
    "    ROUTE[node] = PIPES[node]\n",
    "for last_node, node in zip([start] + path, path + [start]):\n",
    "    mark_sides(ROUTE, node, last_node)\n",
    "\n",
    "for iy, ix in np.ndindex(ROUTE.shape):\n",
    "    if ROUTE[iy, ix] not in [\"O\", \"I\", \".\"]:\n",
    "        ROUTE[iy, ix] = \"@\"\n",
    "\n",
    "for oi in [\"O\", \"I\"]:\n",
    "    for _ in range(100):\n",
    "        indices = find_string_indices(ROUTE, oi)\n",
    "        for i in indices:\n",
    "            for n in get_neighbors(ROUTE, i, False):\n",
    "                if ROUTE[n] == \".\":\n",
    "                    ROUTE[n] = oi\n",
    "\n",
    "unique, counts = np.unique(ROUTE, return_counts=True)\n",
    "dict(zip(unique, counts))"
   ]
  },
  {
   "cell_type": "code",
   "execution_count": 927,
   "id": "b768b1ed",
   "metadata": {},
   "outputs": [
    {
     "name": "stdout",
     "output_type": "stream",
     "text": [
      "OOOOOOOOOOOOOOOOOOOOOOOOOOOOOOOOOOOOOOOOOOOOOOOOOOOOOOOOOOOOOOOOOOOOOOOOOOOOOOOOOOOOOOOOOOOOOOOOOOOOOOOOOOOOOOOOOOOOOOOOOOOOOOOOOOOOOOOOOOOO\n",
      "OOOOOOOOOOOOOOOOOOOOOOOOOOOO@@OOOOOOOOOOOOOOOOOOOOOOOOOOOOOOOOOOOOOOOOOOOOOOOOOOOOOOOOOOOOOOOOOOOOOOOOOOOOOOOOOOOOOOOOOOOOOOOOOOOOOOOOOOOOOO\n",
      "OOOOOOOOOOOOOOOOOOOOOOOOOO@@@@OOOOOOOOOOOOOOOOOOOOOOOOOOOOOOOOOOOOOOOOOOOOOOOOOOOOOOOOOOOOOOOOOOOOOOOOOOOOOOOOOOOOOOOOOOOOOOOOOOOOOOOOOOOOOO\n",
      "OOOOOOOOOOOOOOOOOOOOOOOOO@@@@@@@OOOOOOOOOOOOOOOOOOOOOOOOOOOOOOOOOOOOOOOOOOOOOOOOOOOOOOOOOOOOOOOOOOOOOOOOOOOOOOOOOOOOOOOOOOOOOOOOOOOOOOOOOOOO\n",
      "OOOOOOOOOOOOOOOOOOOOOOOOO@@@@@@@OOOOOOOOOOOOOOOOOOOOOOOOOOOOOOOOOOOOOOOOOOOOOOOOOOOOOOOOOOOOOOOOOOOOOOOOOOOOOOOOOOOOOOOOOOOOOOOOOOOOOOOOOOOO\n",
      "OOOOOOOOOOOOOOOOOOOOOOOOOO@@@@OOOOOOOOOOOOOOOOOOOOOOOOOOOOOOOOOOOOOOOOOOOOOOOOOOOOOOOOOOOOOOOOOOOOOOOOOOOOOOOOOOOOOOOOOOOOOOOOOOOOOOOOOOOOOO\n",
      "OOOOOOOOOOOOOOOOOOOOOOOOOO@@@@@OOOOOOOOOOOOOO@@OOOOOOOOOOOOOOOOOOOOOOOOOOOOOOOOOOOOOOOOOOOOOOOOOO@@OOOOOOOOOOOOOOOOOOOOOOOOOOOOOOOOOOOOOOOOO\n",
      "OOOOOOOOOOOOOOOOOOOOOOOOOO@@@@@@OOOOOOOOOOOOO@@@@OOOOOOOOOOOOOOOOOOOOOOOOOOOOOOOOOOOOOOO@@@@OOOO@@@OOOOOOOOOOOOOOOOOOOOOOOOOOOOOOOOOOOOOOOOO\n",
      "OOOOOOOOOOOOOOOOOOOOOOOOO@@@@@@@OOOOO@@OO@@@@@@@@@@@OOOOOOOOOOOOOOOOOOOOOOOOOOOOOOOOOOO@@@@@@@@@@@@OOOOOOOOOOOOOOOOOOOOOOOOOOOOOOOOOOOOOOOOO\n",
      "OOOOOOOOOOOOOOOOOOOOOO@@@@@@@@@@@@@@O@@@@@@@@@@@@@@@OOOOOOOOOOOOOOOOO@@@OOOOOOOOOOOOOOO@@@@@@@@@@@@@OOOO@@@@@@@OOOOOOOOOOOOOOOOOOOOOOOOOOOOO\n",
      "OOOOOOOOOOOOOOOOOOOOOO@@@@@@@@@@@@@@@@@@@@@@@@@@@@@OOO@@OOOOOOOO@@OOO@@@@@OOOOOOOOOOOOOOO@@@@@@@@@@@OO@@@@@@@@@@OOOOOOOOOOOOOOOOOOOOOOOOOOOO\n",
      "OOOOOOOOOOOOOOOOOOOOOOO@@@@@@@@@@@@@@@@@@@@@@@@@@@@OO@@@O@@OOOOO@@@@@@@@@@OOOOOOOOOOOOOOO@@@@@@@@@OOOO@@@@O@@@@@OOOOOOOOOOOOOOOOOOOOOOOOOOOO\n",
      "OOOOOOOOOOOOOOOOOOOOOOOO@@@@@@@@@@@@@@@@@@@@@@@@@@@@@@@@@@@@OO@@@@@@@@@@@O@@OOO@@@@OO@@O@@@@@@@@@@@@@@@@@@@@@@@@OOOOOOOOOOOOOOOOOOOOOOOOOOOO\n",
      "OOOOOOOOOOOOOOOOOOOOO@@@@@@@@@@@O@@@@@@@@@O@@@@@@@@@@@@@@@@@OO@@@@@@@@@@@@@@@@@@@@@@@@@@@@@@@@@@@@@@@@@@@@@@@@@@@@@OOOOOOOOOOOOOOOOOOOOOOOOO\n",
      "OOOOOOOOOOOOOOOOOOOOO@@@@@O@@@@@@@@@@@@@@@@@@@@@@@@@@@@@@@@OO@@@@@@@@@@@@@@@@@@@@@@@@@@@@@@@@@@@@@@@@@@@@@@@@@@@@@@OOOOOOOOOOOOOOOOOOOOOOOOO\n",
      "OOOOOOOOOOOOOOOOOOOO@@@@@@OO@@@@@@@@@@@O@@@@@@@@@@@@@@@@@@@O@@@@@@@@@@@@@O@@O@@@@@@@@@@O@@@@@@@@@@@@@@@@@@@@@@@@@@@@@OOOOOOOOOOOOOOOOOOOOOOO\n",
      "OOOOOOOOOOOOOOOOOOO@@@@@@@@@@@@@@@@@O@@@@@@@@@@@@@@@@@@@@@@@@@@@@@@@O@@@@O@@O@@@@@@@@@@@@@@@@@@@@@@O@@@@@@@@@@@O@@@@@@@OOOOOOOOOOOOOOOOOOOOO\n",
      "OOOOOOOOOOOOOOOOOOO@@@@@@@@@@@@@@O@@@@@@@@@@@@@@@@@@@@@@@@@@@@@@@@@@@@@@@@@@@@@@@@@@@@@@@@@@@O@@@@@@@@@@@@@@@@@@@@@@@@@OOO@@OOOOOOOOOOOOOOOO\n",
      "OOOOOOOOOOOOOOOO@@@@@@@@@@@@@@@@@@@@@@@@@@@O@@@@O@@@@@@@@@@@@O@@@@@O@@@@@@@@@@@@@@@@@@@@@@@@@@@@@@@@@@@@@@@@@@@@@@@@@@OO@@@@OOOOOOOOOOOOOOOO\n",
      "OOOOOOOOOOOO@@@O@@@@@@@@@@@@@@@@@@@@@@@@@@@@@@@@@@@@@@@@@@@@@@@@@@@@@@O@@@@@@@@@@@@@@@@@@@@@@@@@@@@@@@@@@@@@@@@@@@@@@@@@@@@@OOOOOOOOOOOOOOOO\n",
      "OOOOOOOOOOOO@@@@@@@@@@@@@@@@@@@@@@@@@@@@@@@@@@@@@@@@@@@@O@@@@@@@@@@@@@@@@@@@@@@@@@@@@@@@@@@@@@@@O@@@@@@@@@@@O@@@@@@@@@@@@@@@OOOOOOOOOOOOOOOO\n",
      "OOOOOOOOOOO@@@@@@@@@@@@@@@@@@@@@@@@@@@@@@O@@@@@@@@@@@@@@@@@O@@@@@@@@@@@@@@O@@@@@@@@@@@@@@@@@@@@@@@@O@@@@@@@@@@@@@@@@@@@@@@@OOOOOOOOOOOOOOOOO\n",
      "OOOOOOOOOOO@@@@@@@@@@@@@@@@@@@O@@@@O@@@@@@@@@@@@@@@@@@@@@@@@@@@@@@@@O@@@@@@@@@@@@@@@@@@@@@@@@@@@@@@@@@@@@@@@@@@@@@@@@@@@@@@OOOOOOOOOOOOOOOOO\n",
      "OOOOOOOOOOOOO@@@@@@@@@@@@@@@@@@@@@@@@@@@@@@@@@@@@@@@@@@@@@O@@@@@@@@@@@@@@@@@@@@@@@@@@@@@O@@@@@@@O@@@@@@@@@@@@@@@@@@@@@@@@@OOOOOOOOOOOOOOOOOO\n",
      "OOOOOOOOOOO@@@@@@@@@@@@@@@@@@@@@@@@@@@@@@@@@@@@@@@O@@@@@@@@@@@@@O@@@@@@@@@@@@@@@@@@@@@@@@@@@@@@@@@@@@@@@@@@@@@@O@@@@@@@@@@@@O@@OOOOOOOOOOOOO\n",
      "OOOOOOOOOOO@@@@@@@O@@@@@@@@@@@@@@@@@@@@@@@@@@@@@@@@@@@@@@@@@@@@@@@@@@@@@@@@@@@@@@@@@@@@@@@@@@@@@@@@@@@@@@@@@@@@@@@@@@@@@@@@@@@@OOOOOOOOOOOOO\n",
      "OOOOOOOOOOO@@@@@@@@@@@@@@@@@@@@@@@@O@@@@@@@@@@@@@@@@@@@@@@@@@@@@@@@@@@@@@@@@@@@@@@@@@@@@@@@@@@O@@@@@@@@@@@@@@@@@@@@@@@@@@@@@@@@OOOOOOOOOOOOO\n",
      "OOOOOOOOO@@@@@@@@@@@@@@@@@@@@@@@@@@@@@@@@@@@@@@@@@@@@@@@@@@@O@@@@@@@@@@@@@@@@@@@@@@@@@@@@@@@@@@@@@@@@@@@@@@@@@@@@@@@@@@@@@@@@@OOOOOOOOOOOOOO\n",
      "OOOOOOOO@@@@@@@@@@@@@@@@@@@@@@@@@@@@@@@@@@@@@@@@@@@@@@@@@@@@@@@@@@@@@@@@@@@@@@O@@@@@@@@@@@@@@@@@@@@@@@@@@@@@@@@@@@@@@@@@@@@@@@OOOOOOOOOOOOOO\n",
      "OOOOOOOO@@@@@@@@@@@@@@@O@@@@@@@@@@@@@@@@@@@@@@@@@@@@@@@@@@@@@@@@@@O@@O@@@@@@@@@@@@@@@@@@@@@@@@O@@@@@@@@@@@@@@@@@O@@@@@@@@@@@@@@O@@OOOOOOOOOO\n",
      "OOOOOOOOOO@@@@@@@@@@@@@@@@@@@@@@@@@@@@@@@@@@@@@@@@@@@@@@@@@@@@@@@@@@@@@@@@@@@@@@@@@@@@@@@@@@@@@@@@@@@@@@@@@@@@@@@@@@@@@@@@@@@@@O@@OOOOOOOOOO\n",
      "OOOOOOOOOO@@@@@@@@@@@@@@@@@@@@@@@@O@@@@@@@@@@@@@@@@@@@@@@@@@@@@@@@@@@@@@@@@@@@@@@@@@@@@O@@@@@@@@@@@@@@@@@@@@@@@@@@@@@O@@@@@@@@@O@@@@OOOOOOOO\n",
      "OOOOOOOOOOO@@@@@@@@@@@@@@@@@@@@@@@@@@@@@@@@@@@@@@@@@@@@@@@@@@@@@@@@@@@@@@@@@@@@@@@@O@@@@@@@@@@@@@@@@@@@@@@@@@@@@@@@@@@@@@@@@@@@@@@@@OOOOOOOO\n",
      "OOOOOO@@OOO@@@@@@@@@@@@@@@@@@@@@@@@@@@@@@@@@@@@@@@@@@@@@@@@@@@@@@@@@@@@@@@@@@@@@@@@@@@@@@@@@@@@@@@@@@@@@@@@@@@@@@@@@@@@@@@@@@@@@@@@@OO@@OOOO\n",
      "OOOOO@@@@@O@@@@@@@@@@O@@@@@@@@@@@@@@@@@@@@OO@@@@@@@@@O@@@@@@@@@@@@@@@@@@@@@@@@@@@@@@@@@@@@@@@@@@@@@@@@@@@@@@@O@@@@@@@@@@@O@@@@@@@@@@OO@@@@OO\n",
      "OOOOO@@@@@@@@@@@O@@@@@@@@@@@@@@@@@@@@@@@@@@@@@@@@@@@@@@@@@@@@@@@@@@@@@@@@@@@@@@@@@@@@@@@@@@@@@@@@@@@@@@@@@@@@@@@@@O@@@@@@@@@@@@@@@@@OO@@@@OO\n",
      "OOO@@@@@@@@@@@@@@@@@@@O@@@@@@@@@@@@@@@@@@@@@@@@@@@@@@@@@@@I@@@@@@@@@I@@@@@@@@@@I@@@@@@@@@@@@@@@@I@@@@@@@@@@@@@@@@@@@@@@@@@@@@@@@@@OO@@@@@@OO\n",
      "@@O@@@@@@@@@@@@@@@@@@@@@@@@@@@@@@@@@@@@@@@@@@@@@@@@@@@@@@@@@@@@@@@@@@@@@@@@@@@@@@@@@@@@@@@@@@@@@@@@@@@@@@@@@@@@@@@@@@@@@@@@@@@@@@@@O@@@@@@@@\n",
      "@@@@@@@@O@@@@@@@@@@@@@@@@@O@@@@@@@@@@@@@@@@@@@@I@@@@@@@@@@@@@I@@@@@@@@@@@@@@@@@@@@@@@@@@@@@@@@@@@@@@@I@@@@@@@@@@@@@@@@@@@@@@@@@O@@@O@@@@@@@@\n",
      "@@@@@@@@@@@@@@@@@@@@@@@@@@@@@@@@@@@@@@@@@@@@@@@@@@@@@@@@@@@@@@@@@@@@@@I@@@@@@@@I@@@@@@@@@@@@@@@@@@@@@@@@@@@@@@@@@@@@@@@@@@@O@@@@@@O@@@@@@OOO\n",
      "@@@@@@@@@@@@@@@@@@@@@@@@@@@O@@@@@@@@@@I@@@@@@@@@@@@@@@@@@@@@@@@@@@@@@@@@@@@@@@@@@@@@@@@@I@@@@@@@@@@@@@@@@@@@@@@@@@@@@@@@@@@@@@@@@@@@@@@@@OOO\n",
      "OOO@@@@@@@@@@@@@@@@@@@@@@@@@@@@@@@@@@@@@@@I@@I@@@@@@@@@@@@@@@@@@@@@@@@@@@@@@@@@@@@@@@@@@@@@@@@@@@@@@@@@@@@@@@@@@@@@@@@@@@@@@@@@@@@@@@@@@@@OO\n",
      "@@@@@@@@@@@@@@@@@@@@@@@@@@@@@@@@O@@@@@@@@@@@@@@@@@@@@@@@@@@@@@@@@@@@@@@@@@@@@@@@@@@@@@@@@@@@@@@@@I@@@@@@I@@@@@@@@@@@@@@@@@@@@@@@@@@@@@@@@@OO\n",
      "@@@@@@@O@@@@@@@@@@@@@@@@O@@@@@@@@@@@@@@@@@@@@@@@@@@@@@@@@@@@@@@@@@@@@@@@@@@I@@@@@@@@@@@@@@@@@@@@@@@@@@@@@@@@@@@@@@@@@@@@@@@@@@@@@@@@@@@@@@OO\n",
      "@@@@@@@OO@@@@@@@@@@@@@@@@@@@@@@@@@@@@@@@I@@@@@@@@@@@@@I@@@@@@@@@@@@@@@@@@@@@@@@@@@I@@I@@@@@@@I@@I@@@@@@@@@@@@@@@@@@@@@@@@@@@@@@@@@@@@@@@@@OO\n",
      "OO@@@@@OO@@@@@@@@@@@@@@@@@@@@@@@@@@@@@@@@@@@@@@@@@@@@@@@@@@@@@@@@@@I@@@@@@I@@@@@@@@@@@@@@@@@@@@@@@@@@@@@@@@@@@@@@@@@@@@@@@@@@@O@@O@@@@@O@@OO\n",
      "OOOOOOOO@@@@@@@@@@@@@@@@@@@@@@@@@@@@@@@@@@@@@@@@@@@@@@@@@@@@@@@@@@@@@@@@@@@@@@@@@@@@@@@@@@@@@@@@@@@@@@@@@@@@@@@@@@@@@@@@@@@@@@@@@@@@OOO@@OOO\n",
      "OOOOOOO@@@@@@@@@@@O@@@@@@@@O@@@@@@@@@@I@@@@@@@@@@@@@@@I@@@@@@@@@@@@@@@I@@@@@@@@@@@@@@@@@@@@@@@@I@@@@@@@@@@@@@@@@@@@@@@@@O@@O@@@@@@@@@@@@@OOO\n",
      "OOOOOOO@@@OOO@@@@@@@@@@O@@@@@@@@@@@@@@@@@@@@@@I@@@@@@@@@@@@@@@@@@@@@@@@@@@@@@@@@@@@@@@@@@@@@@@@@@@@@@@@@@@@@@@@@O@@@O@@@@@@@@@@@OO@@@@@@@OOO\n",
      "OOOOOOOO@@OOO@@@@@@@@@@@@@@@@@@@@@@@@@@@@@@@@@@@@@@@@@@@@@@@@@@@@@@@@@@@@@@@@@@@I@@@@@@@@@@@@@@@@@@@@@@@@@@@@@@@@@@@@@@@@@@@@O@@OOO@@OO@@OOO\n",
      "OOOOOOOO@@OOO@@@@@@@@@@@@@@@@@@@@@@@@I@@@@@@@@@@@@@@@@@@@@@@@@@@@@@@@@@@@@@@@@@@@@@@@@@@@@@@@@@@@@@@@@@@@@@@@@@@@@@@@@@@@@@@@@@@@OOOOOOOOOOO\n",
      "OOOOOOOOOO@@@@O@@@@@@@@@@@@@@@@@@@@@@@@@@@@@@@@@@@@@@@@@@@@@@@@@@@@@@@@@@@@@@@@@@@@@@@@@@@@@@@@@@@@@@@@@@@@@@@@@@@@@@@@@@@@@@@@@@OOOOOOOOOOO\n",
      "OOOOOOOOOO@@@@@@@@@@@@@@@@@@@@@@@@@@@@@@@@I@@@@@@I@@@@@@@@@I@@@@@@@@@@@@@@@@@@@I@@@@@@@@@@@@@@@@@@@@@@@@@@@@@@@@@@@@@O@@@@@@@@@@@@@OOOOOOOOO\n",
      "OOOOOOOOOO@@@@@@@@@@@@@@@@@@@@@@@@@@@@@@@@@@@@I@@@@@@@@@@@@@@@@@@@@@@@@I@@@@@@@@@@@@@@@@@@@@@@@@@@@@@@@@@@@@@@@@@@@@@@@@@@@@@@@@@@@OOOOOOOOO\n",
      "OOOOOOOOOO@@@@@@@@@@@@@@@@@@@@@@@@@@@@@@@@@@@@@@@@@@@@I@@@@@@@@@@@@@@@@@@@@@I@@@@@@@@@@@@@@@@@@@@@@@@@@@@@@@@@@@@@@@@@@@@@@@@@@@@@@OOOOOOOOO\n",
      "OOOOOOOOOOOO@@@@@@@O@@@@@@@@@@@@@@@@@@@@@@@@@@@@@@@@@@@@@@@@@@@@@@@@@@@@@@@@@@@@@@@@@@@@@@@@@@@@@@I@@@@@@@@@@@@@@@@@@@O@@@@@@@O@@@@@OOOOOOOO\n",
      "OOOOOOOOOOO@@@O@@@@@@@@@@@@O@@@O@@@@I@@I@@@@@@I@@@@@@@@@@@@@@I@@@@@@@@@@@@@@@@@@@@@@@@@@@@@@@@@@@@@@@@@@@@@@@@@@@@@@@@@@@@@@@@O@@@@@OOOOOOOO\n",
      "OOOOOOOOOOO@@@@@@@@@@@@@@@@@@@@@@@@@@@@@@@@@@@@@@@I@@@@@@@@@@@@@@@@@@@@@@@@@@@@@@@@@@@@@@@@@@@I@@@@@@@@@@@@@@@@@@O@@@@@@@@@@OOOOO@@OOOOOOOOO\n",
      "OOOOOOOOOOOO@@@@@@@@@@@@@@@@@@@@@@@@@@@@@@@@@@@@@@@@@@@@@@I@@@@@@@@@@@@@@@@@@@@@@@@@I@@@@@@@@@@@@@@@@@I@@@@@@@@O@@@@@@O@@@@@@OOO@@@@OOOOOOOO\n",
      "OOOOOOOOOOO@@@@@@@@@@@@@@@@@@@@@@@@@@@@@@@@@@@@@@@@@@@@@@@I@@@@@@@II@@@@@@@@@@@@I@@@@@@@@@@@@@@@@@@@I@@@@@@@@@@@@@@@@@@@@@@@@@@O@@@@@OOOOOOO\n",
      "OOOOOOOOOOO@@@@O@@@@O@@@O@@@@@@@@@@@@@@@I@@@@@@@@@@@@@@@@@I@@@@@@@@@@@@@@@@@@@@@@@@@@@@@@II@@@@@@@@@@@@@@@@@@@@@@@@@@@@@@@@OO@@@@@@@@OOOOOOO\n",
      "OOOOOOOOOO@@@@@@@@@@@@@@@@@@@@@O@@@@@@@@@@@@@@@@@@@@@@@@@@@@@@@@@@@@@@I@@@@@@@@@@@@@@@@@@I@@I@@@@@@@@I@@@@@@@@@@@@@@@@@O@@@@@@@@@@@@OOOOOOOO\n",
      "OOOOOOOOOO@@@@@@@@@@@@@@@@@@@@@@@@@@@@@@@@@@@@@@@@@@@@@@@@@@@@@@@@I@@@@@@@@@@@@@@@@@@@@@@@@@@@@@@@@@@@@@@@@@@@@@@@@@@@@@@@@@@@@O@@@@OOOOOOOO\n",
      "OOOOOOOOOOO@@@@@@@@@@@@@@@@@@@@@@@@@@@I@@@@@@@@@@@@@@@@@@@@@@@@@@II@@@@@@@@@II@@@@@@@@@@@@@@@@@@@@@@@@@@@@@@@@@@@@@@@@@@@@@@@@@@@@@@OOOOOOOO\n",
      "OOOOOOOOOOO@@@O@@@@@@@@@@@@@@@@@@@@@@@@@@@@@@@@@@@I@@@@@@@@@@@@IIIII@@@@@@I@@II@@@@@@@@@@@@@@@@@@@@@@@@@@@@@@@@@@@@@@@@@@@@@@@@@@@@@OOOOOOOO\n",
      "OOOOOOOOOOO@@@@@@@@@@@@@@@@O@@@@@@@@@@@@@@@@@@@@@@@@@@@@@@@@@@@I@@@III@@@@I@@@I@@I@@@@@@@@@@@@@@@@@@@@@@@@@@@@@@@@@@@@@@@@@@@@@@@@@@@OOOOOOO\n",
      "OOOOOOOOOO@@@@@@@@@@@@@O@@@@@@@@@@@@@@@@I@@@@@@I@@@@@@@@@@@@@@@@@@@IIIII@@I@@@@@@@@@@@@@@@@@@@@@@@@@@@@@@@@@@@@@@@@@@@@@@@@@@@@@@@@@@OOOOOOO\n",
      "OOOOOOOOOO@@@@@@@@@@@@@@@@@@O@@@@@@@@@@@@@@@@@@@@@I@@@@@@@@@@@@@@@IIIIIIIIII@@@@@@@@@@@@I@@@@@@@I@@@@@@@@@@@@@@@@@@@@@@@@@@@@@@@@@@O@@OOOOOO\n",
      "OOOOOOOOOO@@@@@@@@@@@@@@@@@@@@@@@@@@@@@@@@@@@@@@@@@@@@@@I@@@@@@@@IIIIIIIIIIII@@@@@@@@@@@@@@@@@@@@@@@@@@@@@@@@@@@@@@@@@@@@@@@@@@@@@@@@@@OOOOO\n",
      "OOOOOOOOOOOO@@@@@@@@@@@@@@@@@@@@@@@@@@@@@@@@I@@I@@@@@@@@@@@@@@@@@IIIIIIIIIIIIII@@@@@@@@@@@@@@@@@@@@@@@@@@@@@@@@@@@@@@@@@@@@@@@@@@@@@@@@OOOOO\n",
      "OOOOOOOO@@O@@@@@@@@@@@@@@@@@@@O@@@@@@I@@@@@@@@@@@@@@@@@@@@@@@@@@@IIIIIIIIIIIIII@@@@@@@I@@@@@@@@@@@@I@@I@@@@@@@@@@@@@@O@@@@O@@@@@@@@@OOOOOOOO\n",
      "OOOOOOO@@@@@@@@@@@@@@@@@@@@@@@@@@@@@@@@@@@@@@@@@@@@@@@@@@@@@@I@@IIIIIIIIIIIIII@@@@@@@@@@@@@@@I@@@@@@@@@@@@@@@@@@@@@@@@@@O@@@@@@@@@@@OOOOOOOO\n",
      "OOOOOOO@@@@@@@@@@O@@@@@@@@@@@@@@@@@@@@@@@@@@@@@@@@@@@@@@@@@I@@@@@IIIIIIIIIIIII@@@@@@@@@@@@@@@@@@@@@@@@@@@@@@@@@@@@@@@@@@@@@@@@@@@@@@@OOOOOOO\n",
      "OOOOOOOOO@@@@@@@@@@@O@@@@@@@@@@@@@@@@@@@@@@@@@@@@@@@@@@@@@@@@@@@@IIIIIIIIIIIIII@@@@@@@@@I@@@@@@@@@@@@@@@@@@@@@@@@@@@@@@@@@@@@@@@@@@@@OOOOOOO\n",
      "OOOOOOOOO@@@@@@@@@@@@@@@@@@@@@@@@@@@@@@@@@@@@@@@@@@@@@@@@@@@@@@@@IIIIIIIIIIIIII@@@@@I@@@@@@@@@@@@@@@@@@@@@@@@@@@@@@@@@@@@@@@@@@@@@@@@OOOOOOO\n",
      "OOOOOOOOOO@@@@@@@@@@@@@@@@@@@@@@@@@@@@@@@@@@@@@@@@@@@@@@@@@@@@@@@IIIIIIIIIIIIII@@@@@@@@@@@@@@@@@@@@@@@@@@@@@@@@@@@@@@@@@@@@@@@@@@@@@@OOOOOOO\n",
      "OOOOOOOOOO@@@@@O@@@@@@@@@@@@@@@@@@@@@@@@@@@@@@@@@@@@@@@@@@@@@@@@IIIIIIIIIIIIIII@@I@@@@@@@@@@@@@@I@@@@@@@@@@@@@@@@@@@@@@@@@@@@@@@@@@@@OOOOOOO\n",
      "OOOOOOOOOO@@@@@@@@@O@@@@@@@@@@@@@@@@@@@@@@@@I@@@@@@@@@@@@@@@@I@@IIIIIIIIIIIIIII@@@@@@@@@@@@@@@@@@@@@@@@@@@@@@@@@@@@@@@@@@@@@@@@@@@OOOOOOOOOO\n",
      "OOOOO@@@@@@@@@@@@@@@O@@O@@@@@@@@@@@@I@@@@@I@@@@@@@@@@@@@@@@@@@IIIIIIIIIIIIIII@@@@@@@@@@@@@@@I@@@@@@@@@@@@@@@@@@@@@@@@@@@@@@@@@@@@@OOOOOOOOOO\n",
      "OOOOO@@@@@@@@@@@@@@@@@@@@@@@@@@@@@@@@@@@@@@@@@@@@@@@@@I@@@@@@@IIIIIIIIIIIIII@@@@@@@@@@@@@@@@@@@@@@@@@@@@I@@@@@@O@@@@@@@@@@@@@@@OOOOOOOOOOOOO\n",
      "OOOOOO@@O@@@@@O@@@@@@@@@@@@@@@@@@@@@@@@@@@@@@@@@@I@@@@@@@@@@@@IIIIIIIIIIIIII@@@@@@@@@@@@@I@@@@@@@@@@@@@@@@@@@@@@@O@@@@@@@@@@@@OOOOOOOOOOOOOO\n",
      "OOOOOOOOO@@@@@@@O@@@@@@@@@@@O@@@@@@@@@@@@@@@@I@@@@@@@@@@@@@@IIIIIIIIIIIIIIIII@@I@@@@@@@@@@@@@@@@@@@@@@@@@@@@@@@@@@@@@@@@@@@@@@@OOOOOOOOOOOOO\n",
      "OOOOOOOOOO@@@@@@@@@@@@@@@@@@@@@@@@@@@@@@@@@@@@@@@@@@I@@@@@@IIIIIIIIIII@@@@IIII@@@@@@@@@@@@@@@@@@@@@I@@@@@@@@@@@@@@@@@@@@@@@@@@@@@@OOOOOOOOOO\n",
      "OOOOOOOOOO@@@@@@@@@@@@@@@@@@@O@@@@@@I@@@@@@@@@@@@@@@@@@@@@@IIIIIIIIIII@@@@@@@@@@@@@@I@@I@@@@@@@@@@@@@@@@@@@@@@@@@@@@@@@@@@@OO@@@@@OOOOOOOOOO\n",
      "OOOOOOOOOO@@@@@@@@@@@@@@@@@@@@@@@@@@@@@@@@@@@@@@@@@@@@@@@@I@@IIIIIIIIII@@@@@@@I@@I@@@@@@@@@@@@@@@@@@@@@@I@@@@@@@@@@@@@@@@@@OOO@@OOOOOOOOOOOO\n",
      "OOOOOOOO@@@@@@@@@@@@@@@@@@@@@@@@@@@@@@@@@@@@@@@@@@@@@@@@@@@@@@@@@IIIIII@@@@@@@@@@@@@@@@@@@@@@@@@@@@@@@@@@@@@@@@@@@@@@@@@@@@@@O@@OOOOOOOOOOOO\n",
      "OOOOOOOO@@@@@@@@@@@@@@@@@@@@@@@@@@@@I@@I@@@@@@@@@@@@@@@I@@@@@@@@@@IIIIII@@@@@@@@@@@@@@@@@@@@@@@@@@@@@@@@@@@@@@@@@@@@@@@@@@@@@O@@OOOOOOOOOOOO\n",
      "OOOOOOO@@@@@@@@@@@O@@O@@@@@@O@@@@@@@@@@@@@@@@I@@@@@@@@@@@@@@@@@@@@@@@@II@@@@@I@@@@@@@@@@@@@@@@@@@@I@@@@@@@@@@@@@@@O@@@@@@@@@OOOOOOOOOOOOOOOO\n",
      "OOOOOOO@@@@@@@@@@@@@@@@@@@@@@@@@@@@@@@@@@@@@@@@@@@@@@@@@@@@@@@@@@@@@@@@@@@@@@@@@@@@@@@I@@@@@@@@@@@@@@@@@@@@@@@@@@@@@@@@@@@@@OOOOOOOOOOOOOOOO\n",
      "OOOOOOOO@@O@@@@@@@@@@@@@@@@@@@@@@@@@@@@@@@@@@@@@@@@@@@@@@@@@@@@@@@@@@@@@@@@@@@@@@@@@@@@@@@@@@@@@@@@@@@@@@@@@@@@@@@@@@@@@@@@@OOOOOOOOOOOOOOOO\n",
      "OOOOOOO@@@@@@@@@@@@@@@@@@@@@@@@@@@@@@@@@@@@@@@@@@@@@@@@@@@@@@@@@@@@@@@@@@@@@@@@@@@@@@@@@@@@@@@@@@@@@@@@@@@@@@@O@@@@@@@@@@@@@@@OOOOOOOOOOOOOO\n",
      "OOOOO@@@@@@@@@@@@@@@@@@@@@@@@@@@@@@@@@@@@@@@@@@@I@@@@@@I@@@@@@@@@@@@@@@@@@@@@@@@@@@@@@@@@@@@@I@@@@@@@@@@@@@@@@@@@@O@@O@@@@@@@@@OOOOOOOOOOOOO\n",
      "OOOOO@@@@@@@@@@@@@@@@@@@@@@@@@@@@@@@@@@@@@@@@@@@@@@@@@@@@@@@@@@@@@@@@@@@@@@@I@@@@@I@@@@@@@@@@@@@@@@@@@@@@@@@@@@@@@@@@O@@@@@@@@@OOOOOOOOOOOOO\n",
      "OOOOOOO@@@@@@@@@@@@@@@@@@@@@@@@@@@@@@@@@@@@@@@@@@@@@@@@@@@@@@@@@@@@@@@@@@@@@@@@@@@@@@@@@@@@@@@@@@@I@@@@@@@@@@@@@@@@@@@@@@@@@@@@OOOOOOOOOOOOO\n",
      "OOOOOOOOOO@@O@@@@@@@@@@@@@@@@@@@@@@@@@I@@@@@@@@@@@@@@@@@@@@@@@@@@@@@@@@@@@@I@@@@@@@@@@@@@@@@@@@@@@@@@@@@@@@@@@@@@@@@@@@@@@@@@@@OOOOOOOOOOOOO\n",
      "OOOOOOOOOO@@@@@@@@@@@@@@@@O@@O@@@@@@@@@@@@@@@@@@@@@@@@@@@@@@@@@@@@@@@@@@@@@@@@@@@@@@@@@@@@I@@@@@@@@@@@@@@@@@@@@@@@@@@O@@@@@@@@@OOOOOOOOOOOOO\n",
      "OOOOOOOOOO@@@@@@@@@@@@@@@@@@@@O@@@@@@@@@@@@@@@@@@I@@@@@@@@@@@@@@@@@@@@@@@@@@@@@@@@@@@@@@@@@@@@@@@@@@@@I@@@@@@@@@@@@@@@@@@@@@@@@OOOOOOOOOOOOO\n",
      "OOOOOOOOOOO@@O@@@@@@@@@@@@@@@@@@@@@@@@@@I@@@@@@@@@@@@@@@@@@@I@@@@@@@@@@@@@@@@@@@@@@@@@I@@@@@@@@@@@@@@@@@@@@@@@@@@@@@@@@@@@@@@@OOOOOOOOOOOOOO\n",
      "OOOOOOOOOOOOO@@@@@@@@@@@@@@@@@@@@@@@@@@@@@@@@@I@@@@@@@@@@@@@@@@@@@@@@@@@@@@@@@@@@@@@@@@@@@@@@@@@@@@@@@@@@@@@@@@@@@@@@@@@@@@@@@@OOOOOOOOOOOOO\n",
      "OOOOOOOOOOOO@@@@@@@@@@@@@@@@O@@@@@@@@@@@@@@@@@@@@@@@@@@@@@@@@@@@@@@@@@@@@@@@@@@@@@@@@@@@@I@@@@@@@@I@@@@@@@@@@@@@@@@@@@@@@@@@@@@@O@@@OOOOOOOO\n",
      "OOOOOOOOOOOO@@@@@@@O@@@@@@@@@@@@@@@@@@@@@@@@@@@@@@@@@@@@@@@@@@@@@@@@@@@@@@@@@I@@@@@@@@@@@@@@@@@@@@@@@@@@@@@@@@@@@@@@@@@@@@@@@@@@@@@@OOOOOOOO\n",
      "OOOOOOOOOOO@@@@@@@@@@@@@@O@@@@@@@@@@@@@@@@@@@@@@@@@@@@@@@@@@@@@@@@@@@@@@@@@@@@@@@@@@@@@@@@@@@@@@@@@@@@@@@@@@@@@@O@@@@@@@O@@@@@@@@@@OOOOOOOOO\n",
      "OOOOOOOOOO@@@@@@@@@@@@@@@@@@@@@@@@@@@@@@@@@@@@@@@@@@@@@@@@@@@@@@@@@@@@@@@@@@@@@@@@@@@@@@@@@@@@@@@@@@@@@@@@@@@@@@@@@@@@@@@@@@O@@@@@@@OOOOOOOO\n",
      "OOOOOO@@@@@@@@@@@@@@@@@@@@@@@@@@@@@@@@@@@@@@@@@@@@@@@@@@@@@@@@@@@@@@@@@@@@@@@@@@@@@@@@@@@@@@@@@@@I@@@@@@@@@@@@@@@@@@@O@@@@@@@@@@@@@@OOOOOOOO\n",
      "OOOOOO@@@@@@@@@@@@@@@@@O@@@@@@@@@@@@@@@@@@I@@@@I@@@@@@@@@@@@@@@@@@@@@@@@@@@@@@@@@@@@@@@@@@@@@I@@@@@@@@@@@@@@@@@@@@@@@@@@@@@@@@@@@@@@@OOOOOOO\n",
      "OOOOOO@@@@@@@@@@@@@@@@@@@@@@@@@@@@@@@@@@@@@@@@@@@@@@@@@@@@@@@@@@@@@@@@@@@@@@@@@@@@@@@@@@@@@@@@@@@@@@@@@@@@@@@@@@@@@@@@@@@@@@@@@@@O@@@OOOOOOO\n",
      "OOOO@@@@@@@@@@@@O@@@@@@@@@@@@@@@@@@@@@@@@@@@@@O@@O@@@@@@O@@O@@@@@@@@@@@@O@@@@@@@@@@@@@@@@@@@@@@@@O@@O@@@@O@@@@@@@@@@@@@@@@@@@@@@@@@@OOOOOOOO\n",
      "O@@O@@@@@@@@@@@@@@@@@@@@@@@@@@@@@@@@@@@@@@@@@@@@@@@@@@@@@@@@@O@@@@@@O@@@@@@@@@@@@@@@@@@@@@@@@@@@@@@@@@@@@@@@@@@@@@@@@@@@@@@@@@@@@@@OOOOOOOOO\n",
      "@@@@@@@O@@@@@@@@@@@@@@@@@@@@@@@@@@@@@@@@@@@@@@@@@@@@@@@O@@@@@@@@@@@@@@@@@@@@@@@@@O@@@@@@@@@@O@@@@@@@@@@@@@@@@@@@@@O@@@@@@@@@@@@@@@@OOOOOOOOO\n",
      "@@@@@@@@@@@@@@@@@@@@@O@@@@@@@@@@@@@@@@@@@@@@@@@@@@@@@@@@@@@@@@@@@@@@@@@@@@@@@@@@@@@@@@@@@@@@@@@@@@@@@@@@@@@@@@@@@@@@@@@@@@@@O@@@@OOOOOOOOOOO\n",
      "O@@@@@@@@@@@@@@@@@@@@@@@@@@@@@@@@@@@@@@@@@@@@O@@@@O@@@@@@@@@@@@@@@@@@@@@@@@@@@@@@@@@@@@@@@@@@@@@@@@@@@@@@@@@@@@@@@@@@@@@@@@@@@@@@OOOOOOOOOOO\n",
      "OO@@@@@@@@@@@@@@@@@@@@@@@@@@@@@@@@O@@O@@@@@@@@@@@@@@@@@@@@@@@@@@@@@@@@@@@@@@@@@O@@@@@@@@@@@@@@@@@@@@@@@@@@@@@@@@@@@@@@@@@@@@@@@@@OOOOOOOOOOO\n",
      "OOOOOO@@@@@@@@@@@@@@@@@@@@@@@@@@@@@O@@@@@@O@@@@@@@@@@@@@@@@@@@@@@@@@@@@@@@@@@@@@@@@@@@@@@@@@@O@@@@@@@@@@@@@@@@@@@@@@@@@@@@@@@@@@OOOOOOOOOOOO\n",
      "OOOOOOO@@@@@@@@@O@@@@@@@@@@@@@@@@@@@@@@@@@@@@@@@@@@@@@@@@@@@@@@@@@@@@@@O@@@@@@@@@@@@@@@@@@@@@@@@@@@@@@@O@@@@@@@@@@@@O@@@@@@@O@@@OOOOOOOOOOOO\n",
      "OOOOOO@@@@@@@@O@@@@@@@@@@@@@@@@@@@@@@@@@@@@@@@@@@@@@@@@@@O@@@@@@@@@@@@@@@@@@@@@@@@@@@@O@@@@@@@@@@@@@@O@@@@@@@@@@@@@@@@@@@@@@@@@@OOOOOOOOOOOO\n",
      "OOOOOO@@@O@@@@@@@@@@@@@@@@@@@@@@@@@@@@@@@@@O@@@@@@@@@@@@@@@@@@@@@@@@@@@@@@@@O@@@@@@@@@@@@@@@@@@@@@@@@@@@@@@@@@@@@O@@@@@O@@@@@@@@OOOOOOOOOOOO\n",
      "OOOOOOOOOO@@@@@@@@@@@@@@@@@@@@@@@@@@@@@@@@@@@@@@@@@@@@@@@@@@@@@@@@@@@@@@@@@@@@@@@O@@@@@@@@@@@@@@@@@@@@@@@@@@@@@@@@@@@@@@@@@@@@@OOOOOOOOOOOOO\n",
      "OOOOOOOOOOO@@@@@@@@@@@@@@@@@@@@@@O@@@@@@@@@@@@@@@@@@@@@@@@@@@@@@@@@@@@@@@@@@@@@@@@@@@@@@@@@O@@@@@@@@@O@@@@@@@@@@@@@@@@@@@@@OO@@OOOOOOOOOOOOO\n",
      "OOOOOOOOOOO@@@@@@@@@@@@@@@@@@@@@@@@@@@@@@@@@@@@@O@@@@@@@@@@@@@O@@@@@@@@@@@@@@@@@@@@@@@@@@@@@@@@@@@@@@@@O@@@@@@@@@@@@@@O@@@@@@@OOOOOOOOOOOOOO\n",
      "OOOOOOOOOOOOO@@@@O@@@@@@@@@@@@@@@@@@@@@@@@@@@@@@@@@@@@@@@@@@@@@@@@@@@@@@@@@@@@@@@@@@@@@O@@@@@@@@@@@@O@@@@@@@O@@@@@@@@@@@@@@@@@OOOOOOOOOOOOOO\n",
      "OOOOOOOOOOOOOO@@O@@@@@@@@@@@@@@@@@@@@@@@@@@O@@@@@@@O@@@@@@@@@@@@@@@@@@@@@@@@@@@@@@@@@@@@@@@O@@@@@@@@@@@@@@@@@@@@@@@@@@@O@@@@@@OOOOOOOOOOOOOO\n",
      "OOOOOOOOOOOOOO@@O@@@@@@@@@@@@@@@@@@@@@@@@@@@@@@@@@@@@@@@@@@@@@@@@O@@@@O@@@@@@@@@@@@@O@@@@@@@@@@@@@@@@@@O@@@@@@@@@@@@@@O@@@@@@@OOOOOOOOOOOOOO\n",
      "OOOOOOOOOOOOOOOOOO@@@@@@@@@@@@@@@@@@@@O@@@@@@@@@@@@@@@@@@@@@@@@@@@@@@@@O@@@@@@@@@@@@@@@@@@@@@@@@@@@@@@@@@@@@@@@@@@@@@@@@@@@@OOOOOOOOOOOOOOOO\n",
      "OOOOOOOOOOOOOOOOOO@@O@@@@@@@@@@@@@@@@@@@@@@@@@@@@@@@@@@@@@@@@@@@@@@@@@@@@@@@@@@@@O@@@@@@@@@@@@@@@@@@@@@@@@@@@@@@@@@@@@@@@OOOOOOOOOOOOOOOOOOO\n",
      "OOOOOOOOOOOOOOOOOOOO@@@@O@@@@@@@@@@@@@@@@O@@@@@@@@@@@@@@@@@@@@@@@@@@@@@@@@@@@@@@@@@@@@@@@@@@@@@@@@@@@@@@@@@@@@@OOO@@@@OOOOOOOOOOOOOOOOOOOOOO\n",
      "OOOOOOOOOOOOOOOOOOOO@@@@@@@@@@@@@@@@@@@@@@@@@@@@@O@@@@@@@@@@O@@@@@@@@@@@@@@@@@@@@@@@@@@@@@@@@@@@@@@@@@@@@@@@@OOOOO@@@@OOOOOOOOOOOOOOOOOOOOOO\n",
      "OOOOOOOOOOOOOOOOOOOOO@@@@@@@@O@@@@@@@@@@@@@@@@@@@@O@@@@@@O@@@@@@@@@@@@@@@@@@@@@@@@@@@@@@@@@@@@@@@@@@@@@@@@@@@OOOOOOOOOOOOOOOOOOOOOOOOOOOOOOO\n",
      "OOOOOOOOOOOOOOOOOOOOO@@@@@@OO@@@@@@@@@@@@@@@@@@@@@@@@@@@@@@@@@@@@@@O@@@@O@@@@@@@@@@@@@@@@@@@@@@@@@@@@@@@@@@OOOOOOOOOOOOOOOOOOOOOOOOOOOOOOOOO\n",
      "OOOOOOOOOOOOOOOOOOOOOO@@@@@OO@@@@@@@@@@@@@@@@@@@@@@@@@@@@@@@O@@@@@@@@@@@@@@@@O@@@@@@@@@@@@@@@@@@@@@@@@@@@@@OOOOOOOOOOOOOOOOOOOOOOOOOOOOOOOOO\n",
      "OOOOOOOOOOOOOOOOOOOOOO@@@@OOOOO@@@@@@@@@@@@@@@@@@@@@O@@@@@@@@@@@@@@@@@@@@@@@@OO@@@@@@@@@@@@@@@@@@@@@@@@@@@@OOOOOOOOOOOOOOOOOOOOOOOOOOOOOOOOO\n",
      "OOOOOOOOOOOOOOOOOOOOOOO@@OOOOOO@@@@@@@@@@@@@@@@@@@@@@@@@@@@@@@@@@@@@@@@@O@@@@@OOOO@@@@@@@@@@@@@@@@O@@@@OOOOOOOOOOOOOOOOOOOOOOOOOOOOOOOOOOOOO\n",
      "OOOOOOOOOOOOOOOOOOOOOOOOOOOOOOOOO@@@@O@@@O@@OO@@@@@@@@@@@@@@@@@@@OO@@@@@OO@@@@OOOO@@@@@OO@@O@@@@@@@@@@OOOOOOOOOOOOOOOOOOOOOOOOOOOOOOOOOOOOOO\n",
      "OOOOOOOOOOOOOOOOOOOOOOOOOOOOOOOOO@@@@@@@@@@@@@@@@@@@@@@@@@@@@@@@@@@@@@@@OO@@OOOOOO@@O@@@@@@@@@@@@@@@@@OOOOOOOOOOOOOOOOOOOOOOOOOOOOOOOOOOOOOO\n",
      "OOOOOOOOOOOOOOOOOOOOOOOOOOOOOOOOO@@@@@@@@@@@@@@@O@@@@@@@@@@@@@@@@@@@@@@@OOOOOOOOOOOOOOO@@@@@@@@@@@@@@@OOOOOOOOOOOOOOOOOOOOOOOOOOOOOOOOOOOOOO\n",
      "OOOOOOOOOOOOOOOOOOOOOOOOOOOOOOOOO@@@@@@@@@@@@@@@@@@@@@@@@@@@@@@OOOO@@@@OOOOOOOOOOOOOOOO@@@@@@@@@@@@@@@OOOOOOOOOOOOOOOOOOOOOOOOOOOOOOOOOOOOOO\n",
      "OOOOOOOOOOOOOOOOOOOOOOOOOOOOOOOOO@@@@@O@@@@@@@@@@@@@@@@@O@@O@@OOOOO@@@@OOOOOOOOOOOOOOOO@@@@@O@@@@@OO@@OOOOOOOOOOOOOOOOOOOOOOOOOOOOOOOOOOOOOO\n",
      "OOOOOOOOOOOOOOOOOOOOOOOOOOOOOOOOOO@@@@@O@@@@@@@@@@O@@@@@@@@@@@@OOOO@@@@OOOOOOOOOOOOOOOO@@@@OOOO@@@OOOOOOOOOOOOOOOOOOOOOOOOOOOOOOOOOOOOOOOOOO\n",
      "OOOOOOOOOOOOOOOOOOOOOOOOOOOOOOOOOO@@@@@O@@@@@@@@@OOO@@@@@@@@@@@OOOOOOOOOOOOOOOOOOOOOOOOOO@@OOOOO@@OOOOOOOOOOOOOOOOOOOOOOOOOOOOOOOOOOOOOOOOOO\n",
      "OOOOOOOOOOOOOOOOOOOOOOOOOOOOOOOOOOO@@OOOOOOO@@@@@@@@@@@@O@@@@@@OOOOOOOOOOOOOOOOOOOOOOOOOO@@OOOOOOOOOOOOOOOOOOOOOOOOOOOOOOOOOOOOOOOOOOOOOOOOO\n",
      "OOOOOOOOOOOOOOOOOOOOOOOOOOOOOOOOOOO@@OOOOOOOOOO@@@@@@@@@O@@OOOOOOOOOOOOOOOOOOOOOOOOOOOOOO@@OOOOOOOOOOOOOOOOOOOOOOOOOOOOOOOOOOOOOOOOOOOOOOOOO\n"
     ]
    }
   ],
   "source": [
    "for row in ROUTE:\n",
    "    print(''.join(row))"
   ]
  },
  {
   "cell_type": "code",
   "execution_count": 858,
   "id": "88f8ab5d",
   "metadata": {},
   "outputs": [],
   "source": [
    "with open(\"source/day10out.txt\", 'w') as file:\n",
    "    for row in ROUTE:\n",
    "        line = ''.join(row)\n",
    "        file.write(line + '\\n')"
   ]
  },
  {
   "cell_type": "markdown",
   "id": "5ccf9bcc",
   "metadata": {},
   "source": [
    "# Day 11"
   ]
  },
  {
   "cell_type": "code",
   "execution_count": null,
   "id": "142c2f18",
   "metadata": {},
   "outputs": [],
   "source": [
    "source = open_source('11')"
   ]
  },
  {
   "cell_type": "code",
   "execution_count": null,
   "id": "fdaa5ca7",
   "metadata": {},
   "outputs": [],
   "source": []
  },
  {
   "cell_type": "code",
   "execution_count": null,
   "id": "171c44c3",
   "metadata": {},
   "outputs": [],
   "source": []
  },
  {
   "cell_type": "markdown",
   "id": "367b57a6",
   "metadata": {
    "heading_collapsed": true
   },
   "source": [
    "# Day 12"
   ]
  },
  {
   "cell_type": "code",
   "execution_count": null,
   "id": "e61128b8",
   "metadata": {
    "hidden": true
   },
   "outputs": [],
   "source": [
    "source = open_source('12')"
   ]
  },
  {
   "cell_type": "code",
   "execution_count": null,
   "id": "3ec68eb7",
   "metadata": {
    "code_folding": [],
    "hidden": true
   },
   "outputs": [],
   "source": []
  },
  {
   "cell_type": "code",
   "execution_count": null,
   "id": "c345e136",
   "metadata": {
    "hidden": true
   },
   "outputs": [],
   "source": []
  },
  {
   "cell_type": "code",
   "execution_count": null,
   "id": "00bbdfa8",
   "metadata": {
    "hidden": true
   },
   "outputs": [],
   "source": []
  },
  {
   "cell_type": "code",
   "execution_count": null,
   "id": "208188f3",
   "metadata": {
    "hidden": true
   },
   "outputs": [],
   "source": []
  },
  {
   "cell_type": "markdown",
   "id": "0f5ffb37",
   "metadata": {
    "heading_collapsed": true
   },
   "source": [
    "# Day 13"
   ]
  },
  {
   "cell_type": "code",
   "execution_count": null,
   "id": "9a5d852c",
   "metadata": {
    "hidden": true
   },
   "outputs": [],
   "source": [
    "source = open_source('13')"
   ]
  },
  {
   "cell_type": "code",
   "execution_count": null,
   "id": "37208c46",
   "metadata": {
    "hidden": true
   },
   "outputs": [],
   "source": []
  },
  {
   "cell_type": "code",
   "execution_count": null,
   "id": "23a544f1",
   "metadata": {
    "hidden": true
   },
   "outputs": [],
   "source": []
  },
  {
   "cell_type": "markdown",
   "id": "4aac3dd7",
   "metadata": {
    "heading_collapsed": true
   },
   "source": [
    "# Day 14"
   ]
  },
  {
   "cell_type": "code",
   "execution_count": null,
   "id": "7b60f815",
   "metadata": {
    "code_folding": [
     0
    ],
    "hidden": true
   },
   "outputs": [],
   "source": []
  },
  {
   "cell_type": "code",
   "execution_count": null,
   "id": "d7eafbd3",
   "metadata": {
    "code_folding": [],
    "hidden": true
   },
   "outputs": [],
   "source": []
  },
  {
   "cell_type": "code",
   "execution_count": null,
   "id": "c97b5ebc",
   "metadata": {
    "hidden": true
   },
   "outputs": [],
   "source": []
  },
  {
   "cell_type": "markdown",
   "id": "8b1e7db7",
   "metadata": {},
   "source": [
    "# Day 15"
   ]
  },
  {
   "cell_type": "code",
   "execution_count": null,
   "id": "5163dd86",
   "metadata": {},
   "outputs": [],
   "source": [
    "source = open_source('15')\n",
    "source"
   ]
  },
  {
   "cell_type": "code",
   "execution_count": null,
   "id": "aa685460",
   "metadata": {},
   "outputs": [],
   "source": []
  },
  {
   "cell_type": "code",
   "execution_count": null,
   "id": "44ee3156",
   "metadata": {},
   "outputs": [],
   "source": []
  },
  {
   "cell_type": "code",
   "execution_count": null,
   "id": "a5353038",
   "metadata": {},
   "outputs": [],
   "source": []
  },
  {
   "cell_type": "code",
   "execution_count": null,
   "id": "934e589b",
   "metadata": {},
   "outputs": [],
   "source": []
  },
  {
   "cell_type": "code",
   "execution_count": null,
   "id": "1b9b7317",
   "metadata": {},
   "outputs": [],
   "source": []
  },
  {
   "cell_type": "code",
   "execution_count": null,
   "id": "151bb52e",
   "metadata": {},
   "outputs": [],
   "source": []
  },
  {
   "cell_type": "code",
   "execution_count": null,
   "id": "5e8295c0",
   "metadata": {},
   "outputs": [],
   "source": []
  },
  {
   "cell_type": "markdown",
   "id": "67c32dbf",
   "metadata": {
    "heading_collapsed": true
   },
   "source": [
    "# Day 16"
   ]
  },
  {
   "cell_type": "code",
   "execution_count": null,
   "id": "0c25b621",
   "metadata": {
    "hidden": true
   },
   "outputs": [],
   "source": []
  },
  {
   "cell_type": "markdown",
   "id": "378924e1",
   "metadata": {
    "heading_collapsed": true
   },
   "source": [
    "# Day 17"
   ]
  },
  {
   "cell_type": "code",
   "execution_count": null,
   "id": "180e2872",
   "metadata": {
    "hidden": true
   },
   "outputs": [],
   "source": []
  },
  {
   "cell_type": "markdown",
   "id": "0ca4a36f",
   "metadata": {
    "heading_collapsed": true
   },
   "source": [
    "# Day 18"
   ]
  },
  {
   "cell_type": "code",
   "execution_count": null,
   "id": "c48b4ba4",
   "metadata": {
    "hidden": true
   },
   "outputs": [],
   "source": []
  },
  {
   "cell_type": "code",
   "execution_count": null,
   "id": "7b9d786a",
   "metadata": {
    "hidden": true
   },
   "outputs": [],
   "source": []
  },
  {
   "cell_type": "code",
   "execution_count": null,
   "id": "bb91324b",
   "metadata": {
    "hidden": true
   },
   "outputs": [],
   "source": []
  },
  {
   "cell_type": "code",
   "execution_count": null,
   "id": "3844652a",
   "metadata": {
    "hidden": true
   },
   "outputs": [],
   "source": []
  },
  {
   "cell_type": "code",
   "execution_count": null,
   "id": "6bb94fb9",
   "metadata": {
    "hidden": true
   },
   "outputs": [],
   "source": []
  },
  {
   "cell_type": "code",
   "execution_count": null,
   "id": "2bfc3815",
   "metadata": {
    "hidden": true
   },
   "outputs": [],
   "source": []
  },
  {
   "cell_type": "markdown",
   "id": "e99c5415",
   "metadata": {
    "heading_collapsed": true
   },
   "source": [
    "# Day 19"
   ]
  },
  {
   "cell_type": "code",
   "execution_count": null,
   "id": "d52c3142",
   "metadata": {
    "hidden": true
   },
   "outputs": [],
   "source": [
    "source = open_source('19_example')\n",
    "source "
   ]
  },
  {
   "cell_type": "code",
   "execution_count": null,
   "id": "754957a8",
   "metadata": {
    "hidden": true
   },
   "outputs": [],
   "source": []
  },
  {
   "cell_type": "code",
   "execution_count": null,
   "id": "414fd392",
   "metadata": {
    "hidden": true
   },
   "outputs": [],
   "source": []
  },
  {
   "cell_type": "code",
   "execution_count": null,
   "id": "8bc5d595",
   "metadata": {
    "code_folding": [],
    "hidden": true
   },
   "outputs": [],
   "source": []
  },
  {
   "cell_type": "code",
   "execution_count": null,
   "id": "0ae654a0",
   "metadata": {
    "hidden": true
   },
   "outputs": [],
   "source": []
  },
  {
   "cell_type": "markdown",
   "id": "5b2c8cd4",
   "metadata": {
    "heading_collapsed": true
   },
   "source": [
    "# Day 20"
   ]
  },
  {
   "cell_type": "code",
   "execution_count": null,
   "id": "eb0891fe",
   "metadata": {
    "hidden": true
   },
   "outputs": [],
   "source": []
  },
  {
   "cell_type": "markdown",
   "id": "47b8a1ea",
   "metadata": {
    "heading_collapsed": true
   },
   "source": [
    "# Day 21"
   ]
  },
  {
   "cell_type": "code",
   "execution_count": null,
   "id": "048b327f",
   "metadata": {
    "hidden": true
   },
   "outputs": [],
   "source": []
  },
  {
   "cell_type": "markdown",
   "id": "97658d22",
   "metadata": {
    "heading_collapsed": true
   },
   "source": [
    "# Day 22"
   ]
  },
  {
   "cell_type": "code",
   "execution_count": null,
   "id": "b1fad67e",
   "metadata": {
    "hidden": true
   },
   "outputs": [],
   "source": []
  },
  {
   "cell_type": "markdown",
   "id": "8e24a5dd",
   "metadata": {
    "heading_collapsed": true
   },
   "source": [
    "# Day 23"
   ]
  },
  {
   "cell_type": "code",
   "execution_count": null,
   "id": "2762eb57",
   "metadata": {
    "hidden": true
   },
   "outputs": [],
   "source": []
  },
  {
   "cell_type": "markdown",
   "id": "dc53cea9",
   "metadata": {
    "heading_collapsed": true
   },
   "source": [
    "# Day 24"
   ]
  },
  {
   "cell_type": "code",
   "execution_count": null,
   "id": "4c52e68b",
   "metadata": {
    "hidden": true
   },
   "outputs": [],
   "source": []
  },
  {
   "cell_type": "markdown",
   "id": "6429147a",
   "metadata": {
    "heading_collapsed": true
   },
   "source": [
    "# Day 25"
   ]
  },
  {
   "cell_type": "code",
   "execution_count": null,
   "id": "8c884f89",
   "metadata": {
    "hidden": true
   },
   "outputs": [],
   "source": []
  }
 ],
 "metadata": {
  "kernelspec": {
   "display_name": "venv",
   "language": "python",
   "name": "venv"
  },
  "language_info": {
   "codemirror_mode": {
    "name": "ipython",
    "version": 3
   },
   "file_extension": ".py",
   "mimetype": "text/x-python",
   "name": "python",
   "nbconvert_exporter": "python",
   "pygments_lexer": "ipython3",
   "version": "3.11.2"
  },
  "toc": {
   "base_numbering": 1,
   "nav_menu": {},
   "number_sections": true,
   "sideBar": true,
   "skip_h1_title": false,
   "title_cell": "Table of Contents",
   "title_sidebar": "Contents",
   "toc_cell": false,
   "toc_position": {
    "height": "calc(100% - 180px)",
    "left": "10px",
    "top": "150px",
    "width": "384px"
   },
   "toc_section_display": true,
   "toc_window_display": true
  }
 },
 "nbformat": 4,
 "nbformat_minor": 5
}
