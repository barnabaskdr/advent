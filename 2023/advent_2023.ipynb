{
 "cells": [
  {
   "cell_type": "markdown",
   "id": "6f99986c",
   "metadata": {},
   "source": [
    "# Imports"
   ]
  },
  {
   "cell_type": "code",
   "execution_count": 306,
   "id": "fa410033",
   "metadata": {},
   "outputs": [
    {
     "data": {
      "text/html": [
       "<style>.container { width:80% !important; }</style>"
      ],
      "text/plain": [
       "<IPython.core.display.HTML object>"
      ]
     },
     "metadata": {},
     "output_type": "display_data"
    }
   ],
   "source": [
    "import pandas as pd\n",
    "import os\n",
    "import string\n",
    "from itertools import groupby, product, combinations, permutations, islice\n",
    "from heapq import nlargest\n",
    "from functools import lru_cache, cmp_to_key, wraps\n",
    "import re\n",
    "import copy\n",
    "import random\n",
    "import math\n",
    "import numpy as np\n",
    "from copy import deepcopy\n",
    "import pprint\n",
    "pp = pprint.PrettyPrinter(indent=2)\n",
    "import networkx as nx\n",
    "from collections import defaultdict, deque, namedtuple\n",
    "from datetime import datetime\n",
    "from IPython.display import display, HTML\n",
    "display(HTML(\"<style>.container { width:80% !important; }</style>\"))\n",
    "from word2number.w2n import word_to_num\n",
    "import z3\n",
    "# from frozendict import frozendict"
   ]
  },
  {
   "cell_type": "code",
   "execution_count": 2,
   "id": "d3bbc08a",
   "metadata": {
    "code_folding": []
   },
   "outputs": [],
   "source": [
    "def open_source(day):\n",
    "    with open(f'source/day{day}.txt', 'r') as f:\n",
    "        lista = f.readlines()\n",
    "    lista = [x.strip('\\n') for x in lista]\n",
    "    return lista"
   ]
  },
  {
   "cell_type": "code",
   "execution_count": 18,
   "id": "42b33d63",
   "metadata": {
    "code_folding": [
     0
    ]
   },
   "outputs": [],
   "source": [
    "def create_txt_files():\n",
    "    files = [f\"day{x}\" if x > 9 else f\"day0{x}\" for x in range(1, 26)]\n",
    "    for file in files:\n",
    "        try:\n",
    "            with open(os.path.join(os.getcwd(), \"source\", file + \".txt\"), 'x') as fp:\n",
    "                pass\n",
    "            with open(os.path.join(os.getcwd(), \"source\", file + \"_example.txt\"), 'x') as fp:\n",
    "                pass\n",
    "        except FileExistsError:\n",
    "            print(\"file existed but continued loop\")\n",
    "            continue"
   ]
  },
  {
   "cell_type": "markdown",
   "id": "f3bdd303",
   "metadata": {},
   "source": [
    "# Day 1"
   ]
  },
  {
   "cell_type": "code",
   "execution_count": 219,
   "id": "eefda56e",
   "metadata": {},
   "outputs": [],
   "source": [
    "lista = open_source(\"01\")"
   ]
  },
  {
   "cell_type": "code",
   "execution_count": 220,
   "id": "beb9a46c",
   "metadata": {},
   "outputs": [],
   "source": [
    "pattern = '1|2|3|4|5|6|7|8|9|one|two|three|four|five|six|seven|eight|nine'.split('|')\n",
    "digits_1 = dict(zip(pattern[:9], pattern[:9]))\n",
    "digits_2 = dict(zip(pattern, pattern[:9] * 2))"
   ]
  },
  {
   "cell_type": "code",
   "execution_count": 225,
   "id": "6f9f4dd2",
   "metadata": {},
   "outputs": [
    {
     "name": "stdout",
     "output_type": "stream",
     "text": [
      "54601\n",
      "54078\n"
     ]
    }
   ],
   "source": [
    "for part in [digits_1, digits_2]:\n",
    "    res = 0\n",
    "    for row in lista:\n",
    "        pos = {}\n",
    "        for k, v in part.items():\n",
    "            for m in re.finditer(k, row):\n",
    "                pos[m.start()] = v\n",
    "        current = int(pos[min(pos)] + pos[max(pos)])\n",
    "        res += current\n",
    "    print(res)"
   ]
  },
  {
   "cell_type": "markdown",
   "id": "c65559e4",
   "metadata": {},
   "source": [
    "# Day 2"
   ]
  },
  {
   "cell_type": "code",
   "execution_count": 235,
   "id": "13c59fa6",
   "metadata": {},
   "outputs": [],
   "source": [
    "lista = open_source(\"02\")"
   ]
  },
  {
   "cell_type": "code",
   "execution_count": 236,
   "id": "0feee103",
   "metadata": {},
   "outputs": [],
   "source": [
    "possible = {\"red\": 12, \"green\": 13, \"blue\": 14}\n",
    "res_1, res_2 = 0, 0"
   ]
  },
  {
   "cell_type": "code",
   "execution_count": 237,
   "id": "7f3af3c7",
   "metadata": {},
   "outputs": [
    {
     "name": "stdout",
     "output_type": "stream",
     "text": [
      "2776\n",
      "68638\n"
     ]
    }
   ],
   "source": [
    "for row in lista:\n",
    "    game, setts = row.split(\":\")\n",
    "    game = int(game.split()[1])\n",
    "    colors = {\"red\": 0, \"green\": 0, \"blue\": 0}\n",
    "\n",
    "    for sett in setts.split(\";\"):\n",
    "        for balls in sett.split(\",\"):\n",
    "            num, c = balls.strip().split()\n",
    "            if (num := int(num)) > colors[c]:\n",
    "                colors[c] = num\n",
    "\n",
    "    if all(colors[c] <= possible[c] for c in colors):\n",
    "        res_1 += game\n",
    "    res_2 += math.prod(colors.values())\n",
    "\n",
    "print(f\"{res_1}\\n{res_2}\")"
   ]
  },
  {
   "cell_type": "markdown",
   "id": "af8df737",
   "metadata": {},
   "source": [
    "# Day 3"
   ]
  },
  {
   "cell_type": "code",
   "execution_count": 244,
   "id": "5fa7b682",
   "metadata": {},
   "outputs": [],
   "source": [
    "lista = open_source(\"03\")"
   ]
  },
  {
   "cell_type": "code",
   "execution_count": 245,
   "id": "14daec7a",
   "metadata": {},
   "outputs": [],
   "source": [
    "numbers, symbols, gears = [], set(), set()\n",
    "offsets = list(product([1, 0, -1], repeat=2))"
   ]
  },
  {
   "cell_type": "code",
   "execution_count": 246,
   "id": "9a33ff64",
   "metadata": {},
   "outputs": [],
   "source": [
    "for x, row in enumerate(lista):\n",
    "    for y, cell in enumerate(row):\n",
    "        if not re.fullmatch(r\"\\d|\\.\", cell):\n",
    "            symbols.add((x, y))\n",
    "        if \"*\" == cell:\n",
    "            gears.add((x, y))\n",
    "    for m in re.finditer(r'\\d+', row):\n",
    "        numbers.append((int(m.group()), [(x, i) for i in range(m.start(), m.end())]))"
   ]
  },
  {
   "cell_type": "code",
   "execution_count": 247,
   "id": "22a6ea55",
   "metadata": {},
   "outputs": [
    {
     "name": "stdout",
     "output_type": "stream",
     "text": [
      "546563\n",
      "91031374\n"
     ]
    }
   ],
   "source": [
    "for i, part in enumerate([symbols, gears]):\n",
    "    res_1, res_2 = [], []\n",
    "    for sym in part:\n",
    "        matrix = [(sym[0] + d[0], sym[1] + d[1]) for d in offsets]\n",
    "        matches = {num for num, pos in numbers if any(tup in pos for tup in matrix)}\n",
    "        res_1.extend(matches)\n",
    "        if len(matches) == 2:\n",
    "            res_2.append(math.prod(matches))\n",
    "    print(sum(res_1) if i == 0 else sum(res_2))"
   ]
  },
  {
   "cell_type": "markdown",
   "id": "cdf9bc4b",
   "metadata": {},
   "source": [
    "# Day 4"
   ]
  },
  {
   "cell_type": "code",
   "execution_count": 364,
   "id": "1103a118",
   "metadata": {},
   "outputs": [],
   "source": [
    "lista = open_source('04')"
   ]
  },
  {
   "cell_type": "code",
   "execution_count": 380,
   "id": "0edbad96",
   "metadata": {},
   "outputs": [
    {
     "name": "stdout",
     "output_type": "stream",
     "text": [
      "25174\n"
     ]
    },
    {
     "data": {
      "text/plain": [
       "6420979"
      ]
     },
     "execution_count": 380,
     "metadata": {},
     "output_type": "execute_result"
    }
   ],
   "source": [
    "def row_to_match_number(row: str) -> int:\n",
    "    winning, yours = [set(map(int, part.split())) for part in row.split(\":\")[1].split('|')]\n",
    "    return len(winning & yours)\n",
    "\n",
    "def score_part_2(data, total_score=0):\n",
    "    if not data:\n",
    "        return total_score\n",
    "    key, (copies, score) = next(iter(data.items()))\n",
    "    total_score += copies\n",
    "    del data[key]\n",
    "    for value in list(data.values())[:score]:\n",
    "        value[0] += copies\n",
    "    return score_part_2(data, total_score)\n",
    "\n",
    "res_1 = 0\n",
    "res_2 = [1] * len(lista)\n",
    "for i, row in enumerate(lista):\n",
    "    score = row_to_match_number(row)\n",
    "    card_score[int(re.search(r'(\\d+):', row).group(1))] = [1, score]\n",
    "    res_1 += math.floor(2 ** (score - 1))\n",
    "    for j in range(i + 1, i + score + 1):\n",
    "        res_2[j] += res_2[i]\n",
    "    \n",
    "print(res_1)\n",
    "score_part_2(card_score)"
   ]
  },
  {
   "cell_type": "code",
   "execution_count": 381,
   "id": "f04b3095",
   "metadata": {},
   "outputs": [
    {
     "data": {
      "text/plain": [
       "6420979"
      ]
     },
     "execution_count": 381,
     "metadata": {},
     "output_type": "execute_result"
    }
   ],
   "source": [
    "sum(res_2)"
   ]
  },
  {
   "cell_type": "markdown",
   "id": "08731135",
   "metadata": {},
   "source": [
    "# Day 5"
   ]
  },
  {
   "cell_type": "code",
   "execution_count": null,
   "id": "d405d112",
   "metadata": {},
   "outputs": [],
   "source": [
    "lista = open_source('05')"
   ]
  },
  {
   "cell_type": "code",
   "execution_count": null,
   "id": "ca7823d4",
   "metadata": {},
   "outputs": [],
   "source": []
  },
  {
   "cell_type": "code",
   "execution_count": null,
   "id": "e52a1c06",
   "metadata": {},
   "outputs": [],
   "source": []
  },
  {
   "cell_type": "code",
   "execution_count": null,
   "id": "b4bcba4f",
   "metadata": {},
   "outputs": [],
   "source": []
  },
  {
   "cell_type": "code",
   "execution_count": null,
   "id": "7b2753af",
   "metadata": {},
   "outputs": [],
   "source": []
  },
  {
   "cell_type": "markdown",
   "id": "886751cb",
   "metadata": {
    "heading_collapsed": true
   },
   "source": [
    "# Day 6"
   ]
  },
  {
   "cell_type": "code",
   "execution_count": null,
   "id": "f91ed9be",
   "metadata": {
    "hidden": true
   },
   "outputs": [],
   "source": [
    "lista = open_source('06')"
   ]
  },
  {
   "cell_type": "code",
   "execution_count": null,
   "id": "01e1c136",
   "metadata": {
    "hidden": true
   },
   "outputs": [],
   "source": []
  },
  {
   "cell_type": "markdown",
   "id": "ce2db7aa",
   "metadata": {
    "heading_collapsed": true
   },
   "source": [
    "# Day 7"
   ]
  },
  {
   "cell_type": "code",
   "execution_count": null,
   "id": "2c7dce03",
   "metadata": {
    "hidden": true
   },
   "outputs": [],
   "source": [
    "lista = open_source('07')"
   ]
  },
  {
   "cell_type": "code",
   "execution_count": null,
   "id": "acda9ad0",
   "metadata": {
    "hidden": true
   },
   "outputs": [],
   "source": []
  },
  {
   "cell_type": "code",
   "execution_count": null,
   "id": "ef82b10f",
   "metadata": {
    "hidden": true
   },
   "outputs": [],
   "source": []
  },
  {
   "cell_type": "markdown",
   "id": "039f2c65",
   "metadata": {
    "heading_collapsed": true
   },
   "source": [
    "# Day 8"
   ]
  },
  {
   "cell_type": "code",
   "execution_count": null,
   "id": "43c0cac5",
   "metadata": {
    "hidden": true
   },
   "outputs": [],
   "source": [
    "lista = open_source('08')"
   ]
  },
  {
   "cell_type": "code",
   "execution_count": null,
   "id": "b8e5bb0e",
   "metadata": {
    "hidden": true
   },
   "outputs": [],
   "source": []
  },
  {
   "cell_type": "code",
   "execution_count": null,
   "id": "f6e7e406",
   "metadata": {
    "hidden": true
   },
   "outputs": [],
   "source": []
  },
  {
   "cell_type": "markdown",
   "id": "31d57b9f",
   "metadata": {
    "heading_collapsed": true
   },
   "source": [
    "# Day 9"
   ]
  },
  {
   "cell_type": "code",
   "execution_count": null,
   "id": "8306571c",
   "metadata": {
    "hidden": true
   },
   "outputs": [],
   "source": [
    "lista = open_source('09')"
   ]
  },
  {
   "cell_type": "code",
   "execution_count": null,
   "id": "f3299e66",
   "metadata": {
    "code_folding": [],
    "hidden": true
   },
   "outputs": [],
   "source": []
  },
  {
   "cell_type": "code",
   "execution_count": null,
   "id": "28002666",
   "metadata": {
    "hidden": true
   },
   "outputs": [],
   "source": []
  },
  {
   "cell_type": "code",
   "execution_count": null,
   "id": "b67be00e",
   "metadata": {
    "hidden": true
   },
   "outputs": [],
   "source": []
  },
  {
   "cell_type": "markdown",
   "id": "e52f7c6d",
   "metadata": {
    "heading_collapsed": true
   },
   "source": [
    "# Day 10"
   ]
  },
  {
   "cell_type": "code",
   "execution_count": null,
   "id": "62676af8",
   "metadata": {
    "hidden": true
   },
   "outputs": [],
   "source": [
    "source = open_source('10')"
   ]
  },
  {
   "cell_type": "code",
   "execution_count": null,
   "id": "c41894e0",
   "metadata": {
    "hidden": true
   },
   "outputs": [],
   "source": []
  },
  {
   "cell_type": "markdown",
   "id": "5ccf9bcc",
   "metadata": {
    "heading_collapsed": true
   },
   "source": [
    "# Day 11"
   ]
  },
  {
   "cell_type": "code",
   "execution_count": null,
   "id": "142c2f18",
   "metadata": {
    "hidden": true
   },
   "outputs": [],
   "source": [
    "source = open_source('11')"
   ]
  },
  {
   "cell_type": "code",
   "execution_count": null,
   "id": "fdaa5ca7",
   "metadata": {
    "hidden": true
   },
   "outputs": [],
   "source": []
  },
  {
   "cell_type": "code",
   "execution_count": null,
   "id": "171c44c3",
   "metadata": {
    "hidden": true
   },
   "outputs": [],
   "source": []
  },
  {
   "cell_type": "markdown",
   "id": "367b57a6",
   "metadata": {
    "heading_collapsed": true
   },
   "source": [
    "# Day 12"
   ]
  },
  {
   "cell_type": "code",
   "execution_count": null,
   "id": "e61128b8",
   "metadata": {
    "hidden": true
   },
   "outputs": [],
   "source": [
    "source = open_source('12')"
   ]
  },
  {
   "cell_type": "code",
   "execution_count": null,
   "id": "3ec68eb7",
   "metadata": {
    "code_folding": [],
    "hidden": true
   },
   "outputs": [],
   "source": []
  },
  {
   "cell_type": "code",
   "execution_count": null,
   "id": "c345e136",
   "metadata": {
    "hidden": true
   },
   "outputs": [],
   "source": []
  },
  {
   "cell_type": "code",
   "execution_count": null,
   "id": "00bbdfa8",
   "metadata": {
    "hidden": true
   },
   "outputs": [],
   "source": []
  },
  {
   "cell_type": "code",
   "execution_count": null,
   "id": "208188f3",
   "metadata": {
    "hidden": true
   },
   "outputs": [],
   "source": []
  },
  {
   "cell_type": "markdown",
   "id": "0f5ffb37",
   "metadata": {
    "heading_collapsed": true
   },
   "source": [
    "# Day 13"
   ]
  },
  {
   "cell_type": "code",
   "execution_count": null,
   "id": "9a5d852c",
   "metadata": {
    "hidden": true
   },
   "outputs": [],
   "source": [
    "source = open_source('13')"
   ]
  },
  {
   "cell_type": "code",
   "execution_count": null,
   "id": "37208c46",
   "metadata": {
    "hidden": true
   },
   "outputs": [],
   "source": []
  },
  {
   "cell_type": "code",
   "execution_count": null,
   "id": "23a544f1",
   "metadata": {
    "hidden": true
   },
   "outputs": [],
   "source": []
  },
  {
   "cell_type": "markdown",
   "id": "4aac3dd7",
   "metadata": {
    "heading_collapsed": true
   },
   "source": [
    "# Day 14"
   ]
  },
  {
   "cell_type": "code",
   "execution_count": null,
   "id": "7b60f815",
   "metadata": {
    "code_folding": [
     0
    ],
    "hidden": true
   },
   "outputs": [],
   "source": []
  },
  {
   "cell_type": "code",
   "execution_count": null,
   "id": "d7eafbd3",
   "metadata": {
    "code_folding": [],
    "hidden": true
   },
   "outputs": [],
   "source": []
  },
  {
   "cell_type": "code",
   "execution_count": null,
   "id": "c97b5ebc",
   "metadata": {
    "hidden": true
   },
   "outputs": [],
   "source": []
  },
  {
   "cell_type": "markdown",
   "id": "8b1e7db7",
   "metadata": {
    "heading_collapsed": true
   },
   "source": [
    "# Day 15"
   ]
  },
  {
   "cell_type": "code",
   "execution_count": null,
   "id": "5163dd86",
   "metadata": {
    "hidden": true
   },
   "outputs": [],
   "source": [
    "source = open_source('15')\n",
    "source"
   ]
  },
  {
   "cell_type": "code",
   "execution_count": null,
   "id": "aa685460",
   "metadata": {
    "hidden": true
   },
   "outputs": [],
   "source": []
  },
  {
   "cell_type": "code",
   "execution_count": null,
   "id": "44ee3156",
   "metadata": {
    "hidden": true
   },
   "outputs": [],
   "source": []
  },
  {
   "cell_type": "code",
   "execution_count": null,
   "id": "a5353038",
   "metadata": {
    "hidden": true
   },
   "outputs": [],
   "source": []
  },
  {
   "cell_type": "code",
   "execution_count": null,
   "id": "934e589b",
   "metadata": {
    "hidden": true
   },
   "outputs": [],
   "source": []
  },
  {
   "cell_type": "code",
   "execution_count": null,
   "id": "1b9b7317",
   "metadata": {
    "hidden": true
   },
   "outputs": [],
   "source": []
  },
  {
   "cell_type": "code",
   "execution_count": null,
   "id": "151bb52e",
   "metadata": {
    "hidden": true
   },
   "outputs": [],
   "source": []
  },
  {
   "cell_type": "code",
   "execution_count": null,
   "id": "5e8295c0",
   "metadata": {
    "hidden": true
   },
   "outputs": [],
   "source": []
  },
  {
   "cell_type": "markdown",
   "id": "67c32dbf",
   "metadata": {
    "heading_collapsed": true
   },
   "source": [
    "# Day 16"
   ]
  },
  {
   "cell_type": "code",
   "execution_count": null,
   "id": "0c25b621",
   "metadata": {
    "hidden": true
   },
   "outputs": [],
   "source": []
  },
  {
   "cell_type": "markdown",
   "id": "378924e1",
   "metadata": {
    "heading_collapsed": true
   },
   "source": [
    "# Day 17"
   ]
  },
  {
   "cell_type": "code",
   "execution_count": null,
   "id": "180e2872",
   "metadata": {
    "hidden": true
   },
   "outputs": [],
   "source": []
  },
  {
   "cell_type": "markdown",
   "id": "0ca4a36f",
   "metadata": {
    "heading_collapsed": true
   },
   "source": [
    "# Day 18"
   ]
  },
  {
   "cell_type": "code",
   "execution_count": null,
   "id": "c48b4ba4",
   "metadata": {
    "hidden": true
   },
   "outputs": [],
   "source": []
  },
  {
   "cell_type": "code",
   "execution_count": null,
   "id": "7b9d786a",
   "metadata": {
    "hidden": true
   },
   "outputs": [],
   "source": []
  },
  {
   "cell_type": "code",
   "execution_count": null,
   "id": "bb91324b",
   "metadata": {
    "hidden": true
   },
   "outputs": [],
   "source": []
  },
  {
   "cell_type": "code",
   "execution_count": null,
   "id": "3844652a",
   "metadata": {
    "hidden": true
   },
   "outputs": [],
   "source": []
  },
  {
   "cell_type": "code",
   "execution_count": null,
   "id": "6bb94fb9",
   "metadata": {
    "hidden": true
   },
   "outputs": [],
   "source": []
  },
  {
   "cell_type": "code",
   "execution_count": null,
   "id": "2bfc3815",
   "metadata": {
    "hidden": true
   },
   "outputs": [],
   "source": []
  },
  {
   "cell_type": "markdown",
   "id": "e99c5415",
   "metadata": {
    "heading_collapsed": true
   },
   "source": [
    "# Day 19"
   ]
  },
  {
   "cell_type": "code",
   "execution_count": null,
   "id": "d52c3142",
   "metadata": {
    "hidden": true
   },
   "outputs": [],
   "source": [
    "source = open_source('19_example')\n",
    "source "
   ]
  },
  {
   "cell_type": "code",
   "execution_count": null,
   "id": "754957a8",
   "metadata": {
    "hidden": true
   },
   "outputs": [],
   "source": []
  },
  {
   "cell_type": "code",
   "execution_count": null,
   "id": "414fd392",
   "metadata": {
    "hidden": true
   },
   "outputs": [],
   "source": []
  },
  {
   "cell_type": "code",
   "execution_count": null,
   "id": "8bc5d595",
   "metadata": {
    "code_folding": [],
    "hidden": true
   },
   "outputs": [],
   "source": []
  },
  {
   "cell_type": "code",
   "execution_count": null,
   "id": "0ae654a0",
   "metadata": {
    "hidden": true
   },
   "outputs": [],
   "source": []
  },
  {
   "cell_type": "markdown",
   "id": "5b2c8cd4",
   "metadata": {
    "heading_collapsed": true
   },
   "source": [
    "# Day 20"
   ]
  },
  {
   "cell_type": "code",
   "execution_count": null,
   "id": "eb0891fe",
   "metadata": {
    "hidden": true
   },
   "outputs": [],
   "source": []
  },
  {
   "cell_type": "markdown",
   "id": "47b8a1ea",
   "metadata": {
    "heading_collapsed": true
   },
   "source": [
    "# Day 21"
   ]
  },
  {
   "cell_type": "code",
   "execution_count": null,
   "id": "048b327f",
   "metadata": {
    "hidden": true
   },
   "outputs": [],
   "source": []
  },
  {
   "cell_type": "markdown",
   "id": "97658d22",
   "metadata": {
    "heading_collapsed": true
   },
   "source": [
    "# Day 22"
   ]
  },
  {
   "cell_type": "code",
   "execution_count": null,
   "id": "b1fad67e",
   "metadata": {
    "hidden": true
   },
   "outputs": [],
   "source": []
  },
  {
   "cell_type": "markdown",
   "id": "8e24a5dd",
   "metadata": {
    "heading_collapsed": true
   },
   "source": [
    "# Day 23"
   ]
  },
  {
   "cell_type": "code",
   "execution_count": null,
   "id": "2762eb57",
   "metadata": {
    "hidden": true
   },
   "outputs": [],
   "source": []
  },
  {
   "cell_type": "markdown",
   "id": "dc53cea9",
   "metadata": {
    "heading_collapsed": true
   },
   "source": [
    "# Day 24"
   ]
  },
  {
   "cell_type": "code",
   "execution_count": null,
   "id": "4c52e68b",
   "metadata": {
    "hidden": true
   },
   "outputs": [],
   "source": []
  },
  {
   "cell_type": "markdown",
   "id": "6429147a",
   "metadata": {
    "heading_collapsed": true
   },
   "source": [
    "# Day 25"
   ]
  },
  {
   "cell_type": "code",
   "execution_count": null,
   "id": "8c884f89",
   "metadata": {
    "hidden": true
   },
   "outputs": [],
   "source": []
  }
 ],
 "metadata": {
  "kernelspec": {
   "display_name": "venv",
   "language": "python",
   "name": "venv"
  },
  "language_info": {
   "codemirror_mode": {
    "name": "ipython",
    "version": 3
   },
   "file_extension": ".py",
   "mimetype": "text/x-python",
   "name": "python",
   "nbconvert_exporter": "python",
   "pygments_lexer": "ipython3",
   "version": "3.11.2"
  },
  "toc": {
   "base_numbering": 1,
   "nav_menu": {},
   "number_sections": true,
   "sideBar": true,
   "skip_h1_title": false,
   "title_cell": "Table of Contents",
   "title_sidebar": "Contents",
   "toc_cell": false,
   "toc_position": {
    "height": "calc(100% - 180px)",
    "left": "10px",
    "top": "150px",
    "width": "384px"
   },
   "toc_section_display": true,
   "toc_window_display": true
  }
 },
 "nbformat": 4,
 "nbformat_minor": 5
}
