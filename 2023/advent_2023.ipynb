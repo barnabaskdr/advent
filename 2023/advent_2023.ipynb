{
 "cells": [
  {
   "cell_type": "markdown",
   "id": "6f99986c",
   "metadata": {},
   "source": [
    "# Imports"
   ]
  },
  {
   "cell_type": "code",
   "execution_count": 62,
   "id": "fa410033",
   "metadata": {},
   "outputs": [
    {
     "data": {
      "text/html": [
       "<style>.container { width:80% !important; }</style>"
      ],
      "text/plain": [
       "<IPython.core.display.HTML object>"
      ]
     },
     "metadata": {},
     "output_type": "display_data"
    }
   ],
   "source": [
    "import pandas as pd\n",
    "import os\n",
    "import string\n",
    "from itertools import groupby, product, combinations, permutations, islice\n",
    "from heapq import nlargest\n",
    "from functools import lru_cache, cmp_to_key, wraps\n",
    "import re\n",
    "import random\n",
    "import math\n",
    "import numpy as np\n",
    "from copy import deepcopy\n",
    "import pprint\n",
    "pp = pprint.PrettyPrinter(indent=2)\n",
    "import networkx as nx\n",
    "from collections import defaultdict, deque, namedtuple\n",
    "from datetime import datetime\n",
    "from IPython.display import display, HTML\n",
    "display(HTML(\"<style>.container { width:80% !important; }</style>\"))\n",
    "from word2number.w2n import word_to_num\n",
    "import z3\n",
    "# from frozendict import frozendict"
   ]
  },
  {
   "cell_type": "code",
   "execution_count": 2,
   "id": "d3bbc08a",
   "metadata": {
    "code_folding": []
   },
   "outputs": [],
   "source": [
    "def open_source(day):\n",
    "    with open(f'source/day{day}.txt', 'r') as f:\n",
    "        lista = f.readlines()\n",
    "    lista = [x.strip('\\n') for x in lista]\n",
    "    return lista"
   ]
  },
  {
   "cell_type": "code",
   "execution_count": 18,
   "id": "42b33d63",
   "metadata": {
    "code_folding": [
     0
    ]
   },
   "outputs": [],
   "source": [
    "def create_txt_files():\n",
    "    files = [f\"day{x}\" if x > 9 else f\"day0{x}\" for x in range(1, 26)]\n",
    "    for file in files:\n",
    "        try:\n",
    "            with open(os.path.join(os.getcwd(), \"source\", file + \".txt\"), 'x') as fp:\n",
    "                pass\n",
    "            with open(os.path.join(os.getcwd(), \"source\", file + \"_example.txt\"), 'x') as fp:\n",
    "                pass\n",
    "        except FileExistsError:\n",
    "            print(\"file existed but continued loop\")\n",
    "            continue"
   ]
  },
  {
   "cell_type": "markdown",
   "id": "f3bdd303",
   "metadata": {},
   "source": [
    "# Day 1"
   ]
  },
  {
   "cell_type": "code",
   "execution_count": 144,
   "id": "eefda56e",
   "metadata": {},
   "outputs": [],
   "source": [
    "lista = open_source(\"01\")"
   ]
  },
  {
   "cell_type": "code",
   "execution_count": 205,
   "id": "beb9a46c",
   "metadata": {},
   "outputs": [],
   "source": [
    "pattern = '1|2|3|4|5|6|7|8|9|one|two|three|four|five|six|seven|eight|nine'.split('|')\n",
    "digits_1 = dict(zip(pattern[:9], pattern[:9]))\n",
    "digits_2 = dict(zip(pattern, pattern[:9] * 2))"
   ]
  },
  {
   "cell_type": "code",
   "execution_count": 212,
   "id": "6f9f4dd2",
   "metadata": {},
   "outputs": [
    {
     "ename": "TypeError",
     "evalue": "unhashable type: 'list'",
     "output_type": "error",
     "traceback": [
      "\u001b[0;31m---------------------------------------------------------------------------\u001b[0m",
      "\u001b[0;31mTypeError\u001b[0m                                 Traceback (most recent call last)",
      "Cell \u001b[0;32mIn[212], line 5\u001b[0m\n\u001b[1;32m      3\u001b[0m     pos \u001b[38;5;241m=\u001b[39m {}\n\u001b[1;32m      4\u001b[0m \u001b[38;5;66;03m#     for k, v in digits_2.items():\u001b[39;00m\n\u001b[0;32m----> 5\u001b[0m     \u001b[43m{\u001b[49m\u001b[43m[\u001b[49m\u001b[43mpos\u001b[49m\u001b[38;5;241;43m.\u001b[39;49m\u001b[43mupdate\u001b[49m\u001b[43m(\u001b[49m\u001b[43m{\u001b[49m\u001b[43mx\u001b[49m\u001b[38;5;241;43m.\u001b[39;49m\u001b[43mstart\u001b[49m\u001b[43m(\u001b[49m\u001b[43m)\u001b[49m\u001b[43m:\u001b[49m\u001b[43m \u001b[49m\u001b[43mv\u001b[49m\u001b[43m}\u001b[49m\u001b[43m)\u001b[49m\u001b[43m \u001b[49m\u001b[38;5;28;43;01mfor\u001b[39;49;00m\u001b[43m \u001b[49m\u001b[43mx\u001b[49m\u001b[43m \u001b[49m\u001b[38;5;129;43;01min\u001b[39;49;00m\u001b[43m \u001b[49m\u001b[43mre\u001b[49m\u001b[38;5;241;43m.\u001b[39;49m\u001b[43mfinditer\u001b[49m\u001b[43m(\u001b[49m\u001b[43mk\u001b[49m\u001b[43m,\u001b[49m\u001b[43m \u001b[49m\u001b[43mrow\u001b[49m\u001b[43m)\u001b[49m\u001b[43m]\u001b[49m\u001b[43m \u001b[49m\u001b[38;5;28;43;01mfor\u001b[39;49;00m\u001b[43m \u001b[49m\u001b[43mk\u001b[49m\u001b[43m,\u001b[49m\u001b[43m \u001b[49m\u001b[43mv\u001b[49m\u001b[43m \u001b[49m\u001b[38;5;129;43;01min\u001b[39;49;00m\u001b[43m \u001b[49m\u001b[43mdigits_2\u001b[49m\u001b[38;5;241;43m.\u001b[39;49m\u001b[43mitems\u001b[49m\u001b[43m(\u001b[49m\u001b[43m)\u001b[49m\u001b[43m}\u001b[49m\n\u001b[1;32m      6\u001b[0m     current \u001b[38;5;241m=\u001b[39m \u001b[38;5;28mint\u001b[39m(pos[\u001b[38;5;28mmin\u001b[39m(pos)] \u001b[38;5;241m+\u001b[39m pos[\u001b[38;5;28mmax\u001b[39m(pos)])\n\u001b[1;32m      7\u001b[0m     res \u001b[38;5;241m+\u001b[39m\u001b[38;5;241m=\u001b[39m current\n",
      "Cell \u001b[0;32mIn[212], line 5\u001b[0m, in \u001b[0;36m<setcomp>\u001b[0;34m(.0)\u001b[0m\n\u001b[1;32m      3\u001b[0m     pos \u001b[38;5;241m=\u001b[39m {}\n\u001b[1;32m      4\u001b[0m \u001b[38;5;66;03m#     for k, v in digits_2.items():\u001b[39;00m\n\u001b[0;32m----> 5\u001b[0m     {[pos\u001b[38;5;241m.\u001b[39mupdate({x\u001b[38;5;241m.\u001b[39mstart(): v}) \u001b[38;5;28;01mfor\u001b[39;00m x \u001b[38;5;129;01min\u001b[39;00m re\u001b[38;5;241m.\u001b[39mfinditer(k, row)] \u001b[38;5;28;01mfor\u001b[39;00m k, v \u001b[38;5;129;01min\u001b[39;00m digits_2\u001b[38;5;241m.\u001b[39mitems()}\n\u001b[1;32m      6\u001b[0m     current \u001b[38;5;241m=\u001b[39m \u001b[38;5;28mint\u001b[39m(pos[\u001b[38;5;28mmin\u001b[39m(pos)] \u001b[38;5;241m+\u001b[39m pos[\u001b[38;5;28mmax\u001b[39m(pos)])\n\u001b[1;32m      7\u001b[0m     res \u001b[38;5;241m+\u001b[39m\u001b[38;5;241m=\u001b[39m current\n",
      "\u001b[0;31mTypeError\u001b[0m: unhashable type: 'list'"
     ]
    }
   ],
   "source": [
    "res = 0\n",
    "for row in lista:\n",
    "    pos = {}\n",
    "    for k, v in digits_1.items():\n",
    "        for m in re.finditer(k, row):\n",
    "            pos[m.start()] = v\n",
    "    current = int(pos[min(pos)] + pos[max(pos)])\n",
    "    res += current\n",
    "res"
   ]
  },
  {
   "cell_type": "markdown",
   "id": "c65559e4",
   "metadata": {},
   "source": [
    "# Day 2"
   ]
  },
  {
   "cell_type": "code",
   "execution_count": 55,
   "id": "13c59fa6",
   "metadata": {},
   "outputs": [],
   "source": [
    "lista = open_source(\"02\")"
   ]
  },
  {
   "cell_type": "code",
   "execution_count": 63,
   "id": "8019c762",
   "metadata": {},
   "outputs": [
    {
     "name": "stdout",
     "output_type": "stream",
     "text": [
      "2776 68638\n"
     ]
    }
   ],
   "source": [
    "possible = {\"red\": 12, \"green\": 13, \"blue\": 14}\n",
    "res_1, res_2 = 0, 0\n",
    "\n",
    "for row in lista:\n",
    "    game, setts = row.split(\":\")\n",
    "    game = int(game.split()[1])\n",
    "    colors = {\"red\": 0, \"green\": 0, \"blue\": 0}\n",
    "\n",
    "    for sett in setts.split(\";\"):\n",
    "        for balls in sett.split(\",\"):\n",
    "            num, c = balls.strip().split()\n",
    "            if (num := int(num)) > colors[c]:\n",
    "                colors[c] = num\n",
    "\n",
    "    if all(colors[c] <= possible[c] for c in colors):\n",
    "        res_1 += game\n",
    "    res_2 += math.prod(colors.values())\n",
    "\n",
    "print(res_1, res_2)"
   ]
  },
  {
   "cell_type": "markdown",
   "id": "af8df737",
   "metadata": {},
   "source": [
    "# Day 3"
   ]
  },
  {
   "cell_type": "code",
   "execution_count": null,
   "id": "5fa7b682",
   "metadata": {},
   "outputs": [],
   "source": [
    "lista = open_source(\"03\")"
   ]
  },
  {
   "cell_type": "code",
   "execution_count": null,
   "id": "6084236f",
   "metadata": {},
   "outputs": [],
   "source": []
  },
  {
   "cell_type": "code",
   "execution_count": null,
   "id": "73feaf6e",
   "metadata": {},
   "outputs": [],
   "source": []
  },
  {
   "cell_type": "code",
   "execution_count": null,
   "id": "9a33ff64",
   "metadata": {},
   "outputs": [],
   "source": []
  },
  {
   "cell_type": "code",
   "execution_count": null,
   "id": "072d82e5",
   "metadata": {},
   "outputs": [],
   "source": []
  },
  {
   "cell_type": "markdown",
   "id": "cdf9bc4b",
   "metadata": {},
   "source": [
    "# Day 4"
   ]
  },
  {
   "cell_type": "code",
   "execution_count": null,
   "id": "1103a118",
   "metadata": {},
   "outputs": [],
   "source": [
    "lista = open_source('04')"
   ]
  },
  {
   "cell_type": "code",
   "execution_count": null,
   "id": "0edbad96",
   "metadata": {},
   "outputs": [],
   "source": []
  },
  {
   "cell_type": "markdown",
   "id": "08731135",
   "metadata": {},
   "source": [
    "# Day 5"
   ]
  },
  {
   "cell_type": "code",
   "execution_count": null,
   "id": "d405d112",
   "metadata": {},
   "outputs": [],
   "source": [
    "lista = open_source('05')"
   ]
  },
  {
   "cell_type": "code",
   "execution_count": null,
   "id": "ca7823d4",
   "metadata": {},
   "outputs": [],
   "source": []
  },
  {
   "cell_type": "code",
   "execution_count": null,
   "id": "e52a1c06",
   "metadata": {},
   "outputs": [],
   "source": []
  },
  {
   "cell_type": "code",
   "execution_count": null,
   "id": "b4bcba4f",
   "metadata": {},
   "outputs": [],
   "source": []
  },
  {
   "cell_type": "code",
   "execution_count": null,
   "id": "7b2753af",
   "metadata": {},
   "outputs": [],
   "source": []
  },
  {
   "cell_type": "markdown",
   "id": "886751cb",
   "metadata": {},
   "source": [
    "# Day 6"
   ]
  },
  {
   "cell_type": "code",
   "execution_count": null,
   "id": "f91ed9be",
   "metadata": {},
   "outputs": [],
   "source": [
    "lista = open_source('06')"
   ]
  },
  {
   "cell_type": "code",
   "execution_count": null,
   "id": "01e1c136",
   "metadata": {},
   "outputs": [],
   "source": []
  },
  {
   "cell_type": "markdown",
   "id": "ce2db7aa",
   "metadata": {},
   "source": [
    "# Day 7"
   ]
  },
  {
   "cell_type": "code",
   "execution_count": null,
   "id": "2c7dce03",
   "metadata": {},
   "outputs": [],
   "source": [
    "lista = open_source('07')"
   ]
  },
  {
   "cell_type": "code",
   "execution_count": null,
   "id": "acda9ad0",
   "metadata": {},
   "outputs": [],
   "source": []
  },
  {
   "cell_type": "code",
   "execution_count": null,
   "id": "ef82b10f",
   "metadata": {},
   "outputs": [],
   "source": []
  },
  {
   "cell_type": "markdown",
   "id": "039f2c65",
   "metadata": {},
   "source": [
    "# Day 8"
   ]
  },
  {
   "cell_type": "code",
   "execution_count": null,
   "id": "43c0cac5",
   "metadata": {},
   "outputs": [],
   "source": [
    "lista = open_source('08')"
   ]
  },
  {
   "cell_type": "code",
   "execution_count": null,
   "id": "b8e5bb0e",
   "metadata": {},
   "outputs": [],
   "source": []
  },
  {
   "cell_type": "code",
   "execution_count": null,
   "id": "f6e7e406",
   "metadata": {},
   "outputs": [],
   "source": []
  },
  {
   "cell_type": "markdown",
   "id": "31d57b9f",
   "metadata": {},
   "source": [
    "# Day 9"
   ]
  },
  {
   "cell_type": "code",
   "execution_count": null,
   "id": "8306571c",
   "metadata": {},
   "outputs": [],
   "source": [
    "lista = open_source('09')"
   ]
  },
  {
   "cell_type": "code",
   "execution_count": null,
   "id": "f3299e66",
   "metadata": {
    "code_folding": []
   },
   "outputs": [],
   "source": []
  },
  {
   "cell_type": "code",
   "execution_count": null,
   "id": "28002666",
   "metadata": {},
   "outputs": [],
   "source": []
  },
  {
   "cell_type": "code",
   "execution_count": null,
   "id": "b67be00e",
   "metadata": {},
   "outputs": [],
   "source": []
  },
  {
   "cell_type": "markdown",
   "id": "e52f7c6d",
   "metadata": {},
   "source": [
    "# Day 10"
   ]
  },
  {
   "cell_type": "code",
   "execution_count": null,
   "id": "62676af8",
   "metadata": {},
   "outputs": [],
   "source": [
    "source = open_source('10')"
   ]
  },
  {
   "cell_type": "code",
   "execution_count": null,
   "id": "c41894e0",
   "metadata": {},
   "outputs": [],
   "source": []
  },
  {
   "cell_type": "markdown",
   "id": "5ccf9bcc",
   "metadata": {},
   "source": [
    "# Day 11"
   ]
  },
  {
   "cell_type": "code",
   "execution_count": null,
   "id": "142c2f18",
   "metadata": {},
   "outputs": [],
   "source": [
    "source = open_source('11')"
   ]
  },
  {
   "cell_type": "code",
   "execution_count": null,
   "id": "fdaa5ca7",
   "metadata": {},
   "outputs": [],
   "source": []
  },
  {
   "cell_type": "code",
   "execution_count": null,
   "id": "171c44c3",
   "metadata": {},
   "outputs": [],
   "source": []
  },
  {
   "cell_type": "markdown",
   "id": "367b57a6",
   "metadata": {},
   "source": [
    "# Day 12"
   ]
  },
  {
   "cell_type": "code",
   "execution_count": null,
   "id": "e61128b8",
   "metadata": {},
   "outputs": [],
   "source": [
    "source = open_source('12')"
   ]
  },
  {
   "cell_type": "code",
   "execution_count": null,
   "id": "3ec68eb7",
   "metadata": {
    "code_folding": []
   },
   "outputs": [],
   "source": []
  },
  {
   "cell_type": "code",
   "execution_count": null,
   "id": "c345e136",
   "metadata": {},
   "outputs": [],
   "source": []
  },
  {
   "cell_type": "code",
   "execution_count": null,
   "id": "00bbdfa8",
   "metadata": {},
   "outputs": [],
   "source": []
  },
  {
   "cell_type": "code",
   "execution_count": null,
   "id": "208188f3",
   "metadata": {},
   "outputs": [],
   "source": []
  },
  {
   "cell_type": "markdown",
   "id": "0f5ffb37",
   "metadata": {},
   "source": [
    "# Day 13"
   ]
  },
  {
   "cell_type": "code",
   "execution_count": null,
   "id": "9a5d852c",
   "metadata": {},
   "outputs": [],
   "source": [
    "source = open_source('13')"
   ]
  },
  {
   "cell_type": "code",
   "execution_count": null,
   "id": "37208c46",
   "metadata": {},
   "outputs": [],
   "source": []
  },
  {
   "cell_type": "code",
   "execution_count": null,
   "id": "23a544f1",
   "metadata": {},
   "outputs": [],
   "source": []
  },
  {
   "cell_type": "markdown",
   "id": "4aac3dd7",
   "metadata": {},
   "source": [
    "# Day 14"
   ]
  },
  {
   "cell_type": "code",
   "execution_count": null,
   "id": "7b60f815",
   "metadata": {
    "code_folding": [
     0
    ]
   },
   "outputs": [],
   "source": []
  },
  {
   "cell_type": "code",
   "execution_count": null,
   "id": "d7eafbd3",
   "metadata": {
    "code_folding": []
   },
   "outputs": [],
   "source": []
  },
  {
   "cell_type": "code",
   "execution_count": null,
   "id": "c97b5ebc",
   "metadata": {},
   "outputs": [],
   "source": []
  },
  {
   "cell_type": "markdown",
   "id": "8b1e7db7",
   "metadata": {},
   "source": [
    "# Day 15"
   ]
  },
  {
   "cell_type": "code",
   "execution_count": null,
   "id": "5163dd86",
   "metadata": {},
   "outputs": [],
   "source": [
    "source = open_source('15')\n",
    "source"
   ]
  },
  {
   "cell_type": "code",
   "execution_count": null,
   "id": "aa685460",
   "metadata": {},
   "outputs": [],
   "source": []
  },
  {
   "cell_type": "code",
   "execution_count": null,
   "id": "44ee3156",
   "metadata": {},
   "outputs": [],
   "source": []
  },
  {
   "cell_type": "code",
   "execution_count": null,
   "id": "a5353038",
   "metadata": {},
   "outputs": [],
   "source": []
  },
  {
   "cell_type": "code",
   "execution_count": null,
   "id": "934e589b",
   "metadata": {},
   "outputs": [],
   "source": []
  },
  {
   "cell_type": "code",
   "execution_count": null,
   "id": "1b9b7317",
   "metadata": {},
   "outputs": [],
   "source": []
  },
  {
   "cell_type": "code",
   "execution_count": null,
   "id": "151bb52e",
   "metadata": {},
   "outputs": [],
   "source": []
  },
  {
   "cell_type": "code",
   "execution_count": null,
   "id": "5e8295c0",
   "metadata": {},
   "outputs": [],
   "source": []
  },
  {
   "cell_type": "markdown",
   "id": "67c32dbf",
   "metadata": {},
   "source": [
    "# Day 16"
   ]
  },
  {
   "cell_type": "code",
   "execution_count": null,
   "id": "0c25b621",
   "metadata": {},
   "outputs": [],
   "source": []
  },
  {
   "cell_type": "markdown",
   "id": "378924e1",
   "metadata": {},
   "source": [
    "# Day 17"
   ]
  },
  {
   "cell_type": "code",
   "execution_count": null,
   "id": "180e2872",
   "metadata": {},
   "outputs": [],
   "source": []
  },
  {
   "cell_type": "markdown",
   "id": "0ca4a36f",
   "metadata": {},
   "source": [
    "# Day 18"
   ]
  },
  {
   "cell_type": "code",
   "execution_count": null,
   "id": "c48b4ba4",
   "metadata": {},
   "outputs": [],
   "source": []
  },
  {
   "cell_type": "code",
   "execution_count": null,
   "id": "7b9d786a",
   "metadata": {},
   "outputs": [],
   "source": []
  },
  {
   "cell_type": "code",
   "execution_count": null,
   "id": "bb91324b",
   "metadata": {},
   "outputs": [],
   "source": []
  },
  {
   "cell_type": "code",
   "execution_count": null,
   "id": "3844652a",
   "metadata": {},
   "outputs": [],
   "source": []
  },
  {
   "cell_type": "code",
   "execution_count": null,
   "id": "6bb94fb9",
   "metadata": {},
   "outputs": [],
   "source": []
  },
  {
   "cell_type": "code",
   "execution_count": null,
   "id": "2bfc3815",
   "metadata": {},
   "outputs": [],
   "source": []
  },
  {
   "cell_type": "markdown",
   "id": "e99c5415",
   "metadata": {},
   "source": [
    "# Day 19"
   ]
  },
  {
   "cell_type": "code",
   "execution_count": null,
   "id": "d52c3142",
   "metadata": {},
   "outputs": [],
   "source": [
    "source = open_source('19_example')\n",
    "source "
   ]
  },
  {
   "cell_type": "code",
   "execution_count": null,
   "id": "754957a8",
   "metadata": {},
   "outputs": [],
   "source": []
  },
  {
   "cell_type": "code",
   "execution_count": null,
   "id": "414fd392",
   "metadata": {},
   "outputs": [],
   "source": []
  },
  {
   "cell_type": "code",
   "execution_count": null,
   "id": "8bc5d595",
   "metadata": {
    "code_folding": []
   },
   "outputs": [],
   "source": []
  },
  {
   "cell_type": "code",
   "execution_count": null,
   "id": "0ae654a0",
   "metadata": {},
   "outputs": [],
   "source": []
  },
  {
   "cell_type": "markdown",
   "id": "5b2c8cd4",
   "metadata": {},
   "source": [
    "# Day 20"
   ]
  },
  {
   "cell_type": "code",
   "execution_count": null,
   "id": "eb0891fe",
   "metadata": {},
   "outputs": [],
   "source": []
  },
  {
   "cell_type": "markdown",
   "id": "47b8a1ea",
   "metadata": {},
   "source": [
    "# Day 21"
   ]
  },
  {
   "cell_type": "code",
   "execution_count": null,
   "id": "048b327f",
   "metadata": {},
   "outputs": [],
   "source": []
  },
  {
   "cell_type": "markdown",
   "id": "97658d22",
   "metadata": {},
   "source": [
    "# Day 22"
   ]
  },
  {
   "cell_type": "code",
   "execution_count": null,
   "id": "b1fad67e",
   "metadata": {},
   "outputs": [],
   "source": []
  },
  {
   "cell_type": "markdown",
   "id": "8e24a5dd",
   "metadata": {},
   "source": [
    "# Day 23"
   ]
  },
  {
   "cell_type": "code",
   "execution_count": null,
   "id": "2762eb57",
   "metadata": {},
   "outputs": [],
   "source": []
  },
  {
   "cell_type": "markdown",
   "id": "dc53cea9",
   "metadata": {},
   "source": [
    "# Day 24"
   ]
  },
  {
   "cell_type": "code",
   "execution_count": null,
   "id": "4c52e68b",
   "metadata": {},
   "outputs": [],
   "source": []
  },
  {
   "cell_type": "markdown",
   "id": "6429147a",
   "metadata": {},
   "source": [
    "# Day 25"
   ]
  },
  {
   "cell_type": "code",
   "execution_count": null,
   "id": "8c884f89",
   "metadata": {},
   "outputs": [],
   "source": []
  }
 ],
 "metadata": {
  "kernelspec": {
   "display_name": "venv",
   "language": "python",
   "name": "venv"
  },
  "language_info": {
   "codemirror_mode": {
    "name": "ipython",
    "version": 3
   },
   "file_extension": ".py",
   "mimetype": "text/x-python",
   "name": "python",
   "nbconvert_exporter": "python",
   "pygments_lexer": "ipython3",
   "version": "3.11.2"
  },
  "toc": {
   "base_numbering": 1,
   "nav_menu": {},
   "number_sections": true,
   "sideBar": true,
   "skip_h1_title": false,
   "title_cell": "Table of Contents",
   "title_sidebar": "Contents",
   "toc_cell": false,
   "toc_position": {
    "height": "calc(100% - 180px)",
    "left": "10px",
    "top": "150px",
    "width": "384px"
   },
   "toc_section_display": true,
   "toc_window_display": true
  }
 },
 "nbformat": 4,
 "nbformat_minor": 5
}
