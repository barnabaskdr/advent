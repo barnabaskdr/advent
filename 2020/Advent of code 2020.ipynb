{
 "cells": [
  {
   "cell_type": "code",
   "execution_count": 1,
   "id": "7e9315b1",
   "metadata": {
    "ExecuteTime": {
     "end_time": "2022-01-11T11:51:40.077340Z",
     "start_time": "2022-01-11T11:51:37.189965Z"
    }
   },
   "outputs": [
    {
     "data": {
      "text/html": [
       "<style>.container { width:80% !important; }</style>"
      ],
      "text/plain": [
       "<IPython.core.display.HTML object>"
      ]
     },
     "metadata": {},
     "output_type": "display_data"
    }
   ],
   "source": [
    "from collections import defaultdict, Counter\n",
    "from itertools import combinations, permutations, product, chain, combinations_with_replacement\n",
    "import pandas as pd\n",
    "import re\n",
    "from re import findall\n",
    "import numpy as np\n",
    "import networkx as nx\n",
    "from sklearn.cluster import KMeans\n",
    "import matplotlib.pyplot as plt\n",
    "from math import ceil, sqrt, hypot\n",
    "from scipy.ndimage import generic_filter\n",
    "from skimage.segmentation import flood\n",
    "from IPython.core.display import display, HTML\n",
    "from sys import getsizeof\n",
    "import big_o\n",
    "from z3 import *\n",
    "from functools import lru_cache\n",
    "display(HTML(\"<style>.container { width:80% !important; }</style>\"))\n",
    "pd.set_option('display.max_columns', 50)\n",
    "import plotly.express as px"
   ]
  },
  {
   "cell_type": "code",
   "execution_count": 3,
   "id": "31c9de94",
   "metadata": {
    "ExecuteTime": {
     "end_time": "2022-01-11T11:52:40.760387Z",
     "start_time": "2022-01-11T11:52:40.742289Z"
    }
   },
   "outputs": [],
   "source": [
    "def open_source(day):\n",
    "    with open('source/day{}.txt'.format(day), 'r') as f:\n",
    "        lista = f.readlines()\n",
    "    lista = [x.strip('\\n') for x in lista]\n",
    "    return lista"
   ]
  },
  {
   "cell_type": "markdown",
   "id": "ac969a58",
   "metadata": {},
   "source": [
    "# Day 1"
   ]
  },
  {
   "cell_type": "code",
   "execution_count": 45,
   "id": "c5520ea0",
   "metadata": {
    "ExecuteTime": {
     "end_time": "2022-01-11T12:15:36.849179Z",
     "start_time": "2022-01-11T12:15:36.835180Z"
    }
   },
   "outputs": [],
   "source": [
    "lista = open_source(1)"
   ]
  },
  {
   "cell_type": "code",
   "execution_count": 46,
   "id": "7344eb22",
   "metadata": {
    "ExecuteTime": {
     "end_time": "2022-01-11T12:15:37.053262Z",
     "start_time": "2022-01-11T12:15:37.046178Z"
    }
   },
   "outputs": [],
   "source": [
    "lista = list(map(int, lista))"
   ]
  },
  {
   "cell_type": "code",
   "execution_count": 58,
   "id": "b99b3d9e",
   "metadata": {
    "ExecuteTime": {
     "end_time": "2022-01-11T12:17:19.846150Z",
     "start_time": "2022-01-11T12:17:19.834147Z"
    }
   },
   "outputs": [
    {
     "data": {
      "text/plain": [
       "956091"
      ]
     },
     "execution_count": 58,
     "metadata": {},
     "output_type": "execute_result"
    }
   ],
   "source": [
    "[x[0] * x[1] for x in list(combinations(lista, 2)) if x[0] + x[1] == 2020][0]"
   ]
  },
  {
   "cell_type": "code",
   "execution_count": 57,
   "id": "e6f1f307",
   "metadata": {
    "ExecuteTime": {
     "end_time": "2022-01-11T12:17:17.145475Z",
     "start_time": "2022-01-11T12:17:16.802943Z"
    }
   },
   "outputs": [
    {
     "data": {
      "text/plain": [
       "79734368"
      ]
     },
     "execution_count": 57,
     "metadata": {},
     "output_type": "execute_result"
    }
   ],
   "source": [
    "[x[0] * x[1] * x[2] for x in list(combinations(lista, 3)) if x[0] + x[1] + x[2] == 2020][0]"
   ]
  },
  {
   "cell_type": "markdown",
   "id": "b7e8a002",
   "metadata": {},
   "source": [
    "# Day 2"
   ]
  },
  {
   "cell_type": "code",
   "execution_count": 59,
   "id": "85aa7f95",
   "metadata": {
    "ExecuteTime": {
     "end_time": "2022-01-11T13:35:33.490617Z",
     "start_time": "2022-01-11T13:35:33.470606Z"
    }
   },
   "outputs": [],
   "source": [
    "lista = open_source(2)"
   ]
  },
  {
   "cell_type": "code",
   "execution_count": 80,
   "id": "004f122e",
   "metadata": {
    "ExecuteTime": {
     "end_time": "2022-01-11T13:48:33.533334Z",
     "start_time": "2022-01-11T13:48:33.510086Z"
    }
   },
   "outputs": [
    {
     "name": "stdout",
     "output_type": "stream",
     "text": [
      "439 584\n"
     ]
    }
   ],
   "source": [
    "valid_1 = valid_2 = 0\n",
    "for e in lista:\n",
    "    rule1, rule2, char, password = e.replace('-', ' ').replace(':', '').split(' ')\n",
    "    if int(rule1) <= password.count(char) <= int(rule2): valid_1 += 1\n",
    "    if bool(password[int(rule1)-1] == char) != bool(password[int(rule2)-1] == char): valid_2 += 1\n",
    "print(valid_1, valid_2)"
   ]
  },
  {
   "cell_type": "markdown",
   "id": "56b41861",
   "metadata": {},
   "source": [
    "# Day 3"
   ]
  },
  {
   "cell_type": "code",
   "execution_count": null,
   "id": "2771d4d2",
   "metadata": {},
   "outputs": [],
   "source": []
  }
 ],
 "metadata": {
  "kernelspec": {
   "display_name": "Python 3 (ipykernel)",
   "language": "python",
   "name": "python3"
  },
  "language_info": {
   "codemirror_mode": {
    "name": "ipython",
    "version": 3
   },
   "file_extension": ".py",
   "mimetype": "text/x-python",
   "name": "python",
   "nbconvert_exporter": "python",
   "pygments_lexer": "ipython3",
   "version": "3.8.12"
  },
  "toc": {
   "base_numbering": 1,
   "nav_menu": {},
   "number_sections": true,
   "sideBar": true,
   "skip_h1_title": false,
   "title_cell": "Table of Contents",
   "title_sidebar": "Contents",
   "toc_cell": false,
   "toc_position": {
    "height": "calc(100% - 180px)",
    "left": "10px",
    "top": "150px",
    "width": "304.469px"
   },
   "toc_section_display": true,
   "toc_window_display": false
  }
 },
 "nbformat": 4,
 "nbformat_minor": 5
}
