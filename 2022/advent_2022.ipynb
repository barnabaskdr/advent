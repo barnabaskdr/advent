{
 "cells": [
  {
   "cell_type": "markdown",
   "id": "6f99986c",
   "metadata": {},
   "source": [
    "# Imports"
   ]
  },
  {
   "cell_type": "code",
   "execution_count": 812,
   "id": "fa410033",
   "metadata": {},
   "outputs": [
    {
     "data": {
      "text/html": [
       "<style>.container { width:80% !important; }</style>"
      ],
      "text/plain": [
       "<IPython.core.display.HTML object>"
      ]
     },
     "metadata": {},
     "output_type": "display_data"
    }
   ],
   "source": [
    "import pandas as pd\n",
    "import os\n",
    "import string\n",
    "from itertools import groupby, product, combinations\n",
    "from heapq import nlargest\n",
    "from functools import lru_cache\n",
    "import re\n",
    "import numpy as np\n",
    "from copy import deepcopy\n",
    "import pprint\n",
    "pp = pprint.PrettyPrinter(indent=2)\n",
    "import networkx as nx\n",
    "from collections import defaultdict, deque\n",
    "from datetime import datetime\n",
    "from IPython.display import display, HTML\n",
    "display(HTML(\"<style>.container { width:80% !important; }</style>\"))"
   ]
  },
  {
   "cell_type": "code",
   "execution_count": 813,
   "id": "d3bbc08a",
   "metadata": {
    "code_folding": [
     0
    ]
   },
   "outputs": [],
   "source": [
    "def open_source(day):\n",
    "    with open(f'source/day{day}.txt', 'r') as f:\n",
    "        lista = f.readlines()\n",
    "    lista = [x.strip('\\n') for x in lista]\n",
    "    return lista"
   ]
  },
  {
   "cell_type": "code",
   "execution_count": 814,
   "id": "42b33d63",
   "metadata": {
    "code_folding": [
     2
    ]
   },
   "outputs": [],
   "source": [
    "path = '/Users/barnabas.kadar/Own_Repos/advent/2022/source'\n",
    "\n",
    "def create_txt_files(path):\n",
    "    files = [f\"day{x}\" if x > 9 else f\"day0{x}\" for x in range(1, 26)]\n",
    "    for file in files:\n",
    "        try:\n",
    "            with open(os.path.join(path, file + \".txt\"), 'x') as fp:\n",
    "                pass\n",
    "            with open(os.path.join(path, file + \"_example.txt\"), 'x') as fp:\n",
    "                pass\n",
    "        except FileExistsError:\n",
    "            print(\"file existed but continued loop\")\n",
    "            continue"
   ]
  },
  {
   "cell_type": "markdown",
   "id": "f3bdd303",
   "metadata": {
    "heading_collapsed": true
   },
   "source": [
    "# Day 1"
   ]
  },
  {
   "cell_type": "code",
   "execution_count": 171,
   "id": "eefda56e",
   "metadata": {
    "hidden": true
   },
   "outputs": [],
   "source": [
    "lista = open_source(\"01\")"
   ]
  },
  {
   "cell_type": "code",
   "execution_count": 183,
   "id": "a1aedde0",
   "metadata": {
    "hidden": true
   },
   "outputs": [],
   "source": [
    "result = [sum([int(x) for x in a[1]]) for a in groupby(lista, key=lambda s: not s) if not a[0]]"
   ]
  },
  {
   "cell_type": "code",
   "execution_count": 184,
   "id": "8d9f0f26",
   "metadata": {
    "hidden": true
   },
   "outputs": [
    {
     "data": {
      "text/plain": [
       "71780"
      ]
     },
     "execution_count": 184,
     "metadata": {},
     "output_type": "execute_result"
    }
   ],
   "source": [
    "max(result)"
   ]
  },
  {
   "cell_type": "code",
   "execution_count": 187,
   "id": "a4a2249f",
   "metadata": {
    "hidden": true
   },
   "outputs": [
    {
     "data": {
      "text/plain": [
       "212489"
      ]
     },
     "execution_count": 187,
     "metadata": {},
     "output_type": "execute_result"
    }
   ],
   "source": [
    "sum(nlargest(3, result))"
   ]
  },
  {
   "cell_type": "markdown",
   "id": "c65559e4",
   "metadata": {
    "heading_collapsed": true
   },
   "source": [
    "# Day 2"
   ]
  },
  {
   "cell_type": "code",
   "execution_count": 71,
   "id": "13c59fa6",
   "metadata": {
    "hidden": true
   },
   "outputs": [],
   "source": [
    "lista = open_source(\"02\")"
   ]
  },
  {
   "cell_type": "code",
   "execution_count": 72,
   "id": "b360bf9d",
   "metadata": {
    "hidden": true
   },
   "outputs": [],
   "source": [
    "scoring1 = {\n",
    "    'A X': 4,\n",
    "    'A Y': 8,\n",
    "    'A Z': 3,\n",
    "    'B X': 1,\n",
    "    'B Y': 5,\n",
    "    'B Z': 9,\n",
    "    'C X': 7,\n",
    "    'C Y': 2,\n",
    "    'C Z': 6\n",
    "}"
   ]
  },
  {
   "cell_type": "code",
   "execution_count": 73,
   "id": "b9b13c90",
   "metadata": {
    "hidden": true
   },
   "outputs": [],
   "source": [
    "scoring2 = {\n",
    "    'A X': 3,\n",
    "    'A Y': 4,\n",
    "    'A Z': 8,\n",
    "    'B X': 1,\n",
    "    'B Y': 5,\n",
    "    'B Z': 9,\n",
    "    'C X': 2,\n",
    "    'C Y': 6,\n",
    "    'C Z': 7\n",
    "}"
   ]
  },
  {
   "cell_type": "code",
   "execution_count": 74,
   "id": "683e24b9",
   "metadata": {
    "hidden": true
   },
   "outputs": [
    {
     "data": {
      "text/plain": [
       "10624"
      ]
     },
     "execution_count": 74,
     "metadata": {},
     "output_type": "execute_result"
    }
   ],
   "source": [
    "sum([scoring1[x] for x in lista])"
   ]
  },
  {
   "cell_type": "code",
   "execution_count": 75,
   "id": "18c700ac",
   "metadata": {
    "hidden": true
   },
   "outputs": [
    {
     "data": {
      "text/plain": [
       "14060"
      ]
     },
     "execution_count": 75,
     "metadata": {},
     "output_type": "execute_result"
    }
   ],
   "source": [
    "sum([scoring2[x] for x in lista])"
   ]
  },
  {
   "cell_type": "markdown",
   "id": "af8df737",
   "metadata": {
    "heading_collapsed": true
   },
   "source": [
    "# Day 3"
   ]
  },
  {
   "cell_type": "code",
   "execution_count": 4,
   "id": "5fa7b682",
   "metadata": {
    "hidden": true
   },
   "outputs": [],
   "source": [
    "lista = open_source(\"03\")"
   ]
  },
  {
   "cell_type": "code",
   "execution_count": 5,
   "id": "6084236f",
   "metadata": {
    "hidden": true
   },
   "outputs": [],
   "source": [
    "scoring = dict(zip(list(string.ascii_lowercase) + list(string.ascii_uppercase), list(range(1, 53))))"
   ]
  },
  {
   "cell_type": "code",
   "execution_count": 26,
   "id": "73feaf6e",
   "metadata": {
    "hidden": true
   },
   "outputs": [
    {
     "data": {
      "text/plain": [
       "7821"
      ]
     },
     "execution_count": 26,
     "metadata": {},
     "output_type": "execute_result"
    }
   ],
   "source": [
    "total = 0\n",
    "for sack in lista:\n",
    "    half = len(sack)//2\n",
    "    first, second = set(sack[half:]), set(sack[:half])\n",
    "    inter = set.intersection(first, second).pop()\n",
    "    total += scoring[inter]\n",
    "total"
   ]
  },
  {
   "cell_type": "code",
   "execution_count": 7,
   "id": "9a33ff64",
   "metadata": {
    "hidden": true
   },
   "outputs": [],
   "source": [
    "def chunks(l, n):\n",
    "    for i in range(0, len(l), n):\n",
    "        yield l[i:i+n]"
   ]
  },
  {
   "cell_type": "code",
   "execution_count": 25,
   "id": "072d82e5",
   "metadata": {
    "hidden": true
   },
   "outputs": [
    {
     "data": {
      "text/plain": [
       "2752"
      ]
     },
     "execution_count": 25,
     "metadata": {},
     "output_type": "execute_result"
    }
   ],
   "source": [
    "total = 0\n",
    "for sack in chunks(lista, 3):\n",
    "    inter = set.intersection(*list(map(lambda x: set(x), sack)))\n",
    "    total += scoring[inter.pop()]\n",
    "total"
   ]
  },
  {
   "cell_type": "markdown",
   "id": "cdf9bc4b",
   "metadata": {
    "heading_collapsed": true
   },
   "source": [
    "# Day 4"
   ]
  },
  {
   "cell_type": "code",
   "execution_count": 5,
   "id": "1103a118",
   "metadata": {
    "hidden": true
   },
   "outputs": [],
   "source": [
    "lista = open_source('04')"
   ]
  },
  {
   "cell_type": "code",
   "execution_count": 10,
   "id": "0edbad96",
   "metadata": {
    "hidden": true
   },
   "outputs": [
    {
     "name": "stdout",
     "output_type": "stream",
     "text": [
      "513 878\n"
     ]
    }
   ],
   "source": [
    "count1 = count2 = 0\n",
    "for task in lista:\n",
    "    fs, fe, ss, se = list(map(int, re.split(',|-', task)))\n",
    "    if (fs >= ss and fe <= se) or (fs <= ss and fe >= se):\n",
    "        count1 += 1\n",
    "    if fs <= se and ss <= fe:\n",
    "        count2 += 1\n",
    "print(count1, count2)"
   ]
  },
  {
   "cell_type": "markdown",
   "id": "08731135",
   "metadata": {
    "heading_collapsed": true
   },
   "source": [
    "# Day 5"
   ]
  },
  {
   "cell_type": "code",
   "execution_count": 438,
   "id": "d405d112",
   "metadata": {
    "hidden": true
   },
   "outputs": [],
   "source": [
    "lista = open_source('05')"
   ]
  },
  {
   "cell_type": "code",
   "execution_count": 439,
   "id": "ca7823d4",
   "metadata": {
    "hidden": true
   },
   "outputs": [],
   "source": [
    "def convert_day5_input(lista):\n",
    "    stacks = []\n",
    "    proc = []\n",
    "    stacks_dict = {}\n",
    "    for sor in lista:\n",
    "        if len(sor) > 20:\n",
    "            stacks.append(list(sor[1::4]))\n",
    "        elif 'move' in sor:\n",
    "            proc.append(re.findall('\\d+', sor))\n",
    "    stacks = np.rot90(stacks, 3)\n",
    "    for stack in stacks:\n",
    "        k, *v = [x for x in stack if x != ' ']\n",
    "        stacks_dict[k] = v\n",
    "    return stacks_dict, proc\n",
    "\n",
    "def get_day5(s, proc, part_1=True):\n",
    "    stacks = deepcopy(s)\n",
    "    for qty, old, new in proc:\n",
    "        qty = int(qty)\n",
    "        if part_1:\n",
    "            for _ in range(qty):\n",
    "                stacks[new].append(stacks[old].pop(-1))\n",
    "        else:\n",
    "            stacks[new] += stacks[old][-qty:]\n",
    "            del stacks[old][-qty:]\n",
    "    return ''.join([x[-1] for x in stacks.values()])"
   ]
  },
  {
   "cell_type": "code",
   "execution_count": 440,
   "id": "e52a1c06",
   "metadata": {
    "hidden": true
   },
   "outputs": [],
   "source": [
    "s, p = convert_day5_input(lista)"
   ]
  },
  {
   "cell_type": "code",
   "execution_count": 441,
   "id": "b4bcba4f",
   "metadata": {
    "hidden": true
   },
   "outputs": [
    {
     "data": {
      "text/plain": [
       "'TPGVQPFDH'"
      ]
     },
     "execution_count": 441,
     "metadata": {},
     "output_type": "execute_result"
    }
   ],
   "source": [
    "get_day5(s, p, part_1=True)"
   ]
  },
  {
   "cell_type": "code",
   "execution_count": 442,
   "id": "7b2753af",
   "metadata": {
    "hidden": true
   },
   "outputs": [
    {
     "data": {
      "text/plain": [
       "'DMRDFRHHH'"
      ]
     },
     "execution_count": 442,
     "metadata": {},
     "output_type": "execute_result"
    }
   ],
   "source": [
    "get_day5(s, p, part_1=False)"
   ]
  },
  {
   "cell_type": "markdown",
   "id": "886751cb",
   "metadata": {
    "heading_collapsed": true
   },
   "source": [
    "# Day 6"
   ]
  },
  {
   "cell_type": "code",
   "execution_count": 58,
   "id": "f91ed9be",
   "metadata": {
    "hidden": true
   },
   "outputs": [],
   "source": [
    "lista = open_source('06')"
   ]
  },
  {
   "cell_type": "code",
   "execution_count": 61,
   "id": "01e1c136",
   "metadata": {
    "hidden": true
   },
   "outputs": [
    {
     "name": "stdout",
     "output_type": "stream",
     "text": [
      "3534\n"
     ]
    }
   ],
   "source": [
    "buffer = 14\n",
    "for elem in lista:\n",
    "    for i, c in enumerate(elem):\n",
    "        result = elem[i:i + buffer]\n",
    "        if len(set(result)) == buffer:\n",
    "            print(i + buffer)\n",
    "            break"
   ]
  },
  {
   "cell_type": "markdown",
   "id": "ce2db7aa",
   "metadata": {
    "heading_collapsed": true
   },
   "source": [
    "# Day 7"
   ]
  },
  {
   "cell_type": "code",
   "execution_count": 128,
   "id": "2c7dce03",
   "metadata": {
    "hidden": true
   },
   "outputs": [],
   "source": [
    "lista = open_source('07')"
   ]
  },
  {
   "cell_type": "code",
   "execution_count": 146,
   "id": "acda9ad0",
   "metadata": {
    "hidden": true
   },
   "outputs": [
    {
     "data": {
      "text/plain": [
       "1444896"
      ]
     },
     "execution_count": 146,
     "metadata": {},
     "output_type": "execute_result"
    }
   ],
   "source": [
    "path = []\n",
    "files = defaultdict(int)\n",
    "for l in lista:\n",
    "    if l.startswith('$'):\n",
    "        if ' cd ' in l:\n",
    "            if l.endswith('..'):\n",
    "                path.pop()\n",
    "            else:\n",
    "                path.append(l.split()[-1])\n",
    "    elif not l.startswith('dir'):\n",
    "        for i, _ in enumerate(path):\n",
    "            files['|'.join(path[:i + 1])] += int(l.split()[0])\n",
    "            \n",
    "sum(x for x in files.values() if x <= 100000)"
   ]
  },
  {
   "cell_type": "code",
   "execution_count": 147,
   "id": "ef82b10f",
   "metadata": {
    "hidden": true
   },
   "outputs": [
    {
     "data": {
      "text/plain": [
       "404395"
      ]
     },
     "execution_count": 147,
     "metadata": {},
     "output_type": "execute_result"
    }
   ],
   "source": [
    "min(x for x in files.values() if x >= files['/'] - 40000000)"
   ]
  },
  {
   "cell_type": "markdown",
   "id": "039f2c65",
   "metadata": {
    "heading_collapsed": true
   },
   "source": [
    "# Day 8"
   ]
  },
  {
   "cell_type": "code",
   "execution_count": 5,
   "id": "43c0cac5",
   "metadata": {
    "hidden": true
   },
   "outputs": [],
   "source": [
    "lista = open_source('08')\n",
    "lista = np.array([[int(x) for x in list(x)] for x in lista])"
   ]
  },
  {
   "cell_type": "code",
   "execution_count": 15,
   "id": "b8e5bb0e",
   "metadata": {
    "hidden": true
   },
   "outputs": [],
   "source": [
    "def visibl(part):\n",
    "    return all(np.greater(C, part))\n",
    "\n",
    "def view(part, reverse=False):\n",
    "    if reverse:\n",
    "        part = np.flip(part)\n",
    "    result = np.argmax(np.append(part, 9) >= C)\n",
    "    if len(part) != result:\n",
    "        result += 1\n",
    "    return result"
   ]
  },
  {
   "cell_type": "code",
   "execution_count": 20,
   "id": "f6e7e406",
   "metadata": {
    "hidden": true
   },
   "outputs": [
    {
     "name": "stdout",
     "output_type": "stream",
     "text": [
      "part1: 1851\n",
      "part2: 574080\n"
     ]
    }
   ],
   "source": [
    "visible = 4 * (len(lista) - 1)\n",
    "max_scenic = 0\n",
    "R = range(1, len(lista) - 1)\n",
    "for x, y in product(R, R):\n",
    "    C, l, u, r, d = lista[x, y], lista[x, :y], lista[:x, y], lista[x, y + 1:], lista[x + 1:, y]\n",
    "    \n",
    "    if visibl(l) or visibl(u) or visibl(r) or visibl(d):\n",
    "        visible += 1\n",
    "        \n",
    "    scenic = view(l, True) * view(u, True) * view(r) * view(d)\n",
    "    if max_scenic < scenic:\n",
    "        max_scenic = scenic\n",
    "print(f\"part1: {visible}\\npart2: {max_res}\")"
   ]
  },
  {
   "cell_type": "markdown",
   "id": "31d57b9f",
   "metadata": {},
   "source": [
    "# Day 9"
   ]
  },
  {
   "cell_type": "code",
   "execution_count": 664,
   "id": "8306571c",
   "metadata": {},
   "outputs": [],
   "source": [
    "lista = open_source('09')"
   ]
  },
  {
   "cell_type": "code",
   "execution_count": 665,
   "id": "f3299e66",
   "metadata": {
    "code_folding": []
   },
   "outputs": [],
   "source": [
    "dirs = dict(zip(['R', 'U', 'L', 'D'], [(1, 0), (0, 1), (-1, 0), (0, -1)]))\n",
    "\n",
    "def which_dir(h, t):\n",
    "    result = []\n",
    "    if h[0] == t[0] or h[1] == t[1]:\n",
    "        if h[0] - t[0] > 0:\n",
    "            result.append('R')\n",
    "        elif h[0] - t[0] < 0:\n",
    "            result.append('L')\n",
    "        elif h[1] - t[1] > 0:\n",
    "            result.append('U')\n",
    "        elif h[1] - t[1] < 0:\n",
    "            result.append('D')\n",
    "    else:\n",
    "        result.append('R') if h[0] > t[0] else result.append('L')\n",
    "        result.append('U') if h[1] > t[1] else result.append('D')\n",
    "    return result        \n",
    "        \n",
    "def get_prod(h):\n",
    "    return list(product((h[0]-1, h[0], h[0]+1), (h[1]-1, h[1], h[1]+1)))"
   ]
  },
  {
   "cell_type": "code",
   "execution_count": 668,
   "id": "28002666",
   "metadata": {},
   "outputs": [],
   "source": [
    "visited = {(0, 0)}\n",
    "length = 10\n",
    "snake = [(0, 0)] * length\n",
    "for l in lista:\n",
    "    d, n = l.split()\n",
    "    \n",
    "    for _ in range(int(n)):\n",
    "        snake[0] = tuple(np.add(snake[0], dirs[d]))\n",
    "        for h, t in zip(range(0, len(snake)), range(1, len(snake))):\n",
    "            if snake[t] not in get_prod(snake[h]):\n",
    "                for w in which_dir(snake[h], snake[t]):\n",
    "                    snake[t] = tuple(np.add(snake[t], dirs[w]))\n",
    "            if t == length - 1:\n",
    "                visited.add(snake[t])"
   ]
  },
  {
   "cell_type": "code",
   "execution_count": 669,
   "id": "b67be00e",
   "metadata": {},
   "outputs": [
    {
     "data": {
      "text/plain": [
       "2651"
      ]
     },
     "execution_count": 669,
     "metadata": {},
     "output_type": "execute_result"
    }
   ],
   "source": [
    "len(visited)"
   ]
  },
  {
   "cell_type": "markdown",
   "id": "e52f7c6d",
   "metadata": {
    "heading_collapsed": true
   },
   "source": [
    "# Day 10"
   ]
  },
  {
   "cell_type": "code",
   "execution_count": 275,
   "id": "62676af8",
   "metadata": {
    "hidden": true
   },
   "outputs": [],
   "source": [
    "source = open_source('10')\n",
    "lista = []\n",
    "for l in source:\n",
    "    if l.startswith('a'):\n",
    "        lista.append('noop')\n",
    "        lista.append(l)\n",
    "    else:\n",
    "        lista.append('noop')"
   ]
  },
  {
   "cell_type": "code",
   "execution_count": 276,
   "id": "c41894e0",
   "metadata": {
    "hidden": true
   },
   "outputs": [
    {
     "name": "stdout",
     "output_type": "stream",
     "text": [
      "13860\n",
      "###..####.#..#.####..##....##..##..###..\n",
      "#..#....#.#..#.#....#..#....#.#..#.#..#.\n",
      "#..#...#..####.###..#.......#.#....###..\n",
      "###...#...#..#.#....#.##....#.#....#..#.\n",
      "#.#..#....#..#.#....#..#.#..#.#..#.#..#.\n",
      "#..#.####.#..#.#.....###..##...##..###..\n"
     ]
    }
   ],
   "source": [
    "strength, cycle, signal_sum, pixel = 1, 0, 0, ''\n",
    "for l in lista:\n",
    "    if cycle % 40 - 1 <= strength <= cycle % 40 + 1:\n",
    "        pixel += \"#\"\n",
    "    else:\n",
    "        pixel += \".\"\n",
    "    if cycle + 1 in list(range(20, 221, 40)):\n",
    "        signal_sum += strength * (cycle + 1)\n",
    "    if l.startswith('n'):\n",
    "        cycle += 1\n",
    "    elif l.startswith('a'):\n",
    "        strength += int(l.split()[-1])\n",
    "        cycle += 1\n",
    "print(signal_sum)\n",
    "_ = [print(pixel[40 * x:40 * x + 40]) for x in range(6)]"
   ]
  },
  {
   "cell_type": "markdown",
   "id": "5ccf9bcc",
   "metadata": {
    "heading_collapsed": true
   },
   "source": [
    "# Day 11"
   ]
  },
  {
   "cell_type": "code",
   "execution_count": 281,
   "id": "142c2f18",
   "metadata": {
    "hidden": true
   },
   "outputs": [],
   "source": [
    "source = open_source('11')\n",
    "source.append('')\n",
    "\n",
    "lista = defaultdict(lambda: defaultdict(str))\n",
    "item_status = defaultdict(list)\n",
    "total_modulo = 1\n",
    "\n",
    "for monkey, start, op, test, true, false, _ in zip(*[iter(source)]*7):\n",
    "    d = defaultdict(str)\n",
    "    monke = monkey.lower().rstrip(':')\n",
    "    item_status[monke]= list(map(int, start.split(': ')[-1].split(', ')))\n",
    "    d['op'] = op.split(' = ')[-1]\n",
    "    d['test'] = test.split(': ')[-1].replace('divisible by ', 'new % ') + ' == 0'\n",
    "    total_modulo *= int(test.split()[-1])\n",
    "    d['true'] = true.split('to ')[-1]\n",
    "    d['false'] = false.split('to ')[-1]\n",
    "    lista[monke] = d"
   ]
  },
  {
   "cell_type": "code",
   "execution_count": 282,
   "id": "fdaa5ca7",
   "metadata": {
    "hidden": true
   },
   "outputs": [],
   "source": [
    "inspections = defaultdict(int)\n",
    "for r in range(10000):\n",
    "    for monkey, a in lista.items():\n",
    "        for old in item_status[monkey]:\n",
    "            new = eval(a['op']) % total_modulo # // 3\n",
    "            if eval(a['test']):\n",
    "                item_status[a['true']].append(new)\n",
    "            else:\n",
    "                item_status[a['false']].append(new)\n",
    "            inspections[monkey] += 1\n",
    "        item_status[monkey].clear()"
   ]
  },
  {
   "cell_type": "code",
   "execution_count": 283,
   "id": "171c44c3",
   "metadata": {
    "hidden": true
   },
   "outputs": [
    {
     "data": {
      "text/plain": [
       "14106266886"
      ]
     },
     "execution_count": 283,
     "metadata": {},
     "output_type": "execute_result"
    }
   ],
   "source": [
    "order = sorted(list(inspections.values()))\n",
    "order[-2] * order[-1]"
   ]
  },
  {
   "cell_type": "markdown",
   "id": "367b57a6",
   "metadata": {},
   "source": [
    "# Day 12"
   ]
  },
  {
   "cell_type": "code",
   "execution_count": 1029,
   "id": "e61128b8",
   "metadata": {},
   "outputs": [],
   "source": [
    "source = open_source('12')\n",
    "source = np.array([[ord(c) - ord('a') for c in list(x)] for x in source])\n",
    "sx, sy = list(zip(*np.where(source == -14)))[0]\n",
    "ex, ey = list(zip(*np.where(source == -28)))[0]\n",
    "source[source==-14] = 0\n",
    "source[source==-28] = 25\n",
    "\n",
    "directions = [(-1, 0), (0, -1), (1, 0), (0, 1)]\n",
    "lenx, leny = source.shape[0], source.shape[1]"
   ]
  },
  {
   "cell_type": "code",
   "execution_count": 1030,
   "id": "3ec68eb7",
   "metadata": {
    "code_folding": []
   },
   "outputs": [],
   "source": [
    "def get_shortest_hike(queue):\n",
    "    status = defaultdict(int)\n",
    "    for x, y in queue:\n",
    "        status[x, y] = 0\n",
    "    result = []\n",
    "    num = 0\n",
    "    while queue:\n",
    "        cx, cy = queue.popleft()\n",
    "        num += 1\n",
    "        if (cx, cy) == (ex, ey) or num > 50000:\n",
    "            result = status[ex, ey]\n",
    "            break\n",
    "        for dx, dy in directions:\n",
    "            nx, ny = cx + dx, cy + dy\n",
    "            if (\n",
    "                nx in range(lenx) and\n",
    "                ny in range(leny) and\n",
    "                (nx, ny) not in status\n",
    "                and (source[cx, cy] - source[nx, ny]) > -2\n",
    "            ):\n",
    "                queue.append((nx, ny))\n",
    "                status[nx, ny] = status[cx, cy] + 1\n",
    "    return result"
   ]
  },
  {
   "cell_type": "code",
   "execution_count": 1031,
   "id": "c345e136",
   "metadata": {},
   "outputs": [
    {
     "data": {
      "text/plain": [
       "449"
      ]
     },
     "execution_count": 1031,
     "metadata": {},
     "output_type": "execute_result"
    }
   ],
   "source": [
    "queue = deque([(sx, sy)])\n",
    "get_shortest_hike(queue)"
   ]
  },
  {
   "cell_type": "code",
   "execution_count": 1032,
   "id": "208188f3",
   "metadata": {},
   "outputs": [
    {
     "data": {
      "text/plain": [
       "443"
      ]
     },
     "execution_count": 1032,
     "metadata": {},
     "output_type": "execute_result"
    }
   ],
   "source": [
    "result = []\n",
    "for x, y in list(zip(*np.where(source == 0))):\n",
    "    queue = deque([(x, y)])\n",
    "    sub_result = get_shortest_hike(queue)\n",
    "    if sub_result:\n",
    "        result.append(sub_result)\n",
    "min(result)"
   ]
  },
  {
   "cell_type": "markdown",
   "id": "0f5ffb37",
   "metadata": {},
   "source": [
    "# Day 13"
   ]
  },
  {
   "cell_type": "code",
   "execution_count": null,
   "id": "9a5d852c",
   "metadata": {},
   "outputs": [],
   "source": []
  },
  {
   "cell_type": "markdown",
   "id": "4aac3dd7",
   "metadata": {},
   "source": [
    "# Day 14"
   ]
  },
  {
   "cell_type": "code",
   "execution_count": null,
   "id": "c97b5ebc",
   "metadata": {},
   "outputs": [],
   "source": []
  },
  {
   "cell_type": "markdown",
   "id": "8b1e7db7",
   "metadata": {},
   "source": [
    "# Day 15"
   ]
  },
  {
   "cell_type": "code",
   "execution_count": null,
   "id": "5163dd86",
   "metadata": {},
   "outputs": [],
   "source": []
  },
  {
   "cell_type": "markdown",
   "id": "67c32dbf",
   "metadata": {},
   "source": [
    "# Day 16"
   ]
  },
  {
   "cell_type": "code",
   "execution_count": null,
   "id": "0c25b621",
   "metadata": {},
   "outputs": [],
   "source": []
  },
  {
   "cell_type": "markdown",
   "id": "378924e1",
   "metadata": {},
   "source": [
    "# Day 17"
   ]
  },
  {
   "cell_type": "code",
   "execution_count": null,
   "id": "180e2872",
   "metadata": {},
   "outputs": [],
   "source": []
  },
  {
   "cell_type": "markdown",
   "id": "0ca4a36f",
   "metadata": {},
   "source": [
    "# Day 18"
   ]
  },
  {
   "cell_type": "code",
   "execution_count": null,
   "id": "c48b4ba4",
   "metadata": {},
   "outputs": [],
   "source": []
  },
  {
   "cell_type": "markdown",
   "id": "e99c5415",
   "metadata": {},
   "source": [
    "# Day 19"
   ]
  },
  {
   "cell_type": "code",
   "execution_count": null,
   "id": "a54beefc",
   "metadata": {},
   "outputs": [],
   "source": []
  },
  {
   "cell_type": "markdown",
   "id": "5b2c8cd4",
   "metadata": {},
   "source": [
    "# Day 20"
   ]
  },
  {
   "cell_type": "code",
   "execution_count": null,
   "id": "eb0891fe",
   "metadata": {},
   "outputs": [],
   "source": []
  },
  {
   "cell_type": "markdown",
   "id": "47b8a1ea",
   "metadata": {},
   "source": [
    "# Day 21"
   ]
  },
  {
   "cell_type": "code",
   "execution_count": null,
   "id": "048b327f",
   "metadata": {},
   "outputs": [],
   "source": []
  },
  {
   "cell_type": "markdown",
   "id": "97658d22",
   "metadata": {},
   "source": [
    "# Day 22"
   ]
  },
  {
   "cell_type": "code",
   "execution_count": null,
   "id": "b1fad67e",
   "metadata": {},
   "outputs": [],
   "source": []
  },
  {
   "cell_type": "markdown",
   "id": "8e24a5dd",
   "metadata": {},
   "source": [
    "# Day 23"
   ]
  },
  {
   "cell_type": "code",
   "execution_count": null,
   "id": "2762eb57",
   "metadata": {},
   "outputs": [],
   "source": []
  },
  {
   "cell_type": "markdown",
   "id": "dc53cea9",
   "metadata": {},
   "source": [
    "# Day 24"
   ]
  },
  {
   "cell_type": "code",
   "execution_count": null,
   "id": "4c52e68b",
   "metadata": {},
   "outputs": [],
   "source": []
  },
  {
   "cell_type": "markdown",
   "id": "6429147a",
   "metadata": {},
   "source": [
    "# Day 25"
   ]
  },
  {
   "cell_type": "code",
   "execution_count": null,
   "id": "8c884f89",
   "metadata": {},
   "outputs": [],
   "source": []
  }
 ],
 "metadata": {
  "kernelspec": {
   "display_name": "Python 3 (ipykernel)",
   "language": "python",
   "name": "python3"
  },
  "language_info": {
   "codemirror_mode": {
    "name": "ipython",
    "version": 3
   },
   "file_extension": ".py",
   "mimetype": "text/x-python",
   "name": "python",
   "nbconvert_exporter": "python",
   "pygments_lexer": "ipython3",
   "version": "3.9.6"
  },
  "toc": {
   "base_numbering": 1,
   "nav_menu": {},
   "number_sections": true,
   "sideBar": true,
   "skip_h1_title": false,
   "title_cell": "Table of Contents",
   "title_sidebar": "Contents",
   "toc_cell": false,
   "toc_position": {
    "height": "calc(100% - 180px)",
    "left": "10px",
    "top": "150px",
    "width": "384px"
   },
   "toc_section_display": true,
   "toc_window_display": true
  }
 },
 "nbformat": 4,
 "nbformat_minor": 5
}
