{
 "cells": [
  {
   "cell_type": "markdown",
   "id": "6f99986c",
   "metadata": {},
   "source": [
    "# Imports"
   ]
  },
  {
   "cell_type": "code",
   "execution_count": 1,
   "id": "fa410033",
   "metadata": {},
   "outputs": [],
   "source": [
    "import pandas as pd\n",
    "import os\n",
    "import string\n",
    "from itertools import groupby\n",
    "from heapq import nlargest\n",
    "import re\n",
    "import numpy as np\n",
    "from copy import deepcopy"
   ]
  },
  {
   "cell_type": "code",
   "execution_count": 2,
   "id": "d3bbc08a",
   "metadata": {
    "code_folding": [
     0
    ]
   },
   "outputs": [],
   "source": [
    "def open_source(day):\n",
    "    with open(f'source/day{day}.txt', 'r') as f:\n",
    "        lista = f.readlines()\n",
    "    lista = [x.strip('\\n') for x in lista]\n",
    "    return lista"
   ]
  },
  {
   "cell_type": "code",
   "execution_count": 3,
   "id": "42b33d63",
   "metadata": {
    "code_folding": [
     2
    ]
   },
   "outputs": [],
   "source": [
    "path = '/Users/barnabas.kadar/Own_Repos/advent/2022/source'\n",
    "\n",
    "def create_txt_files(path):\n",
    "    files = [f\"day{x}\" if x > 9 else f\"day0{x}\" for x in range(1, 26)]\n",
    "    for file in files:\n",
    "        try:\n",
    "            with open(os.path.join(path, file + \".txt\"), 'x') as fp:\n",
    "                pass\n",
    "            with open(os.path.join(path, file + \"_example.txt\"), 'x') as fp:\n",
    "                pass\n",
    "        except FileExistsError:\n",
    "            print(\"file existed but continued loop\")\n",
    "            continue"
   ]
  },
  {
   "cell_type": "markdown",
   "id": "f3bdd303",
   "metadata": {
    "heading_collapsed": true
   },
   "source": [
    "# Day 1"
   ]
  },
  {
   "cell_type": "code",
   "execution_count": 171,
   "id": "eefda56e",
   "metadata": {
    "hidden": true
   },
   "outputs": [],
   "source": [
    "lista = open_source(\"01\")"
   ]
  },
  {
   "cell_type": "code",
   "execution_count": 183,
   "id": "a1aedde0",
   "metadata": {
    "hidden": true
   },
   "outputs": [],
   "source": [
    "result = [sum([int(x) for x in a[1]]) for a in groupby(lista, key=lambda s: not s) if not a[0]]"
   ]
  },
  {
   "cell_type": "code",
   "execution_count": 184,
   "id": "8d9f0f26",
   "metadata": {
    "hidden": true
   },
   "outputs": [
    {
     "data": {
      "text/plain": [
       "71780"
      ]
     },
     "execution_count": 184,
     "metadata": {},
     "output_type": "execute_result"
    }
   ],
   "source": [
    "max(result)"
   ]
  },
  {
   "cell_type": "code",
   "execution_count": 187,
   "id": "a4a2249f",
   "metadata": {
    "hidden": true
   },
   "outputs": [
    {
     "data": {
      "text/plain": [
       "212489"
      ]
     },
     "execution_count": 187,
     "metadata": {},
     "output_type": "execute_result"
    }
   ],
   "source": [
    "sum(nlargest(3, result))"
   ]
  },
  {
   "cell_type": "markdown",
   "id": "c65559e4",
   "metadata": {
    "heading_collapsed": true
   },
   "source": [
    "# Day 2"
   ]
  },
  {
   "cell_type": "code",
   "execution_count": 71,
   "id": "13c59fa6",
   "metadata": {
    "hidden": true
   },
   "outputs": [],
   "source": [
    "lista = open_source(\"02\")"
   ]
  },
  {
   "cell_type": "code",
   "execution_count": 72,
   "id": "b360bf9d",
   "metadata": {
    "hidden": true
   },
   "outputs": [],
   "source": [
    "scoring1 = {\n",
    "    'A X': 4,\n",
    "    'A Y': 8,\n",
    "    'A Z': 3,\n",
    "    'B X': 1,\n",
    "    'B Y': 5,\n",
    "    'B Z': 9,\n",
    "    'C X': 7,\n",
    "    'C Y': 2,\n",
    "    'C Z': 6\n",
    "}"
   ]
  },
  {
   "cell_type": "code",
   "execution_count": 73,
   "id": "b9b13c90",
   "metadata": {
    "hidden": true
   },
   "outputs": [],
   "source": [
    "scoring2 = {\n",
    "    'A X': 3,\n",
    "    'A Y': 4,\n",
    "    'A Z': 8,\n",
    "    'B X': 1,\n",
    "    'B Y': 5,\n",
    "    'B Z': 9,\n",
    "    'C X': 2,\n",
    "    'C Y': 6,\n",
    "    'C Z': 7\n",
    "}"
   ]
  },
  {
   "cell_type": "code",
   "execution_count": 74,
   "id": "683e24b9",
   "metadata": {
    "hidden": true
   },
   "outputs": [
    {
     "data": {
      "text/plain": [
       "10624"
      ]
     },
     "execution_count": 74,
     "metadata": {},
     "output_type": "execute_result"
    }
   ],
   "source": [
    "sum([scoring1[x] for x in lista])"
   ]
  },
  {
   "cell_type": "code",
   "execution_count": 75,
   "id": "18c700ac",
   "metadata": {
    "hidden": true
   },
   "outputs": [
    {
     "data": {
      "text/plain": [
       "14060"
      ]
     },
     "execution_count": 75,
     "metadata": {},
     "output_type": "execute_result"
    }
   ],
   "source": [
    "sum([scoring2[x] for x in lista])"
   ]
  },
  {
   "cell_type": "markdown",
   "id": "af8df737",
   "metadata": {
    "heading_collapsed": true
   },
   "source": [
    "# Day 3"
   ]
  },
  {
   "cell_type": "code",
   "execution_count": 4,
   "id": "5fa7b682",
   "metadata": {
    "hidden": true
   },
   "outputs": [],
   "source": [
    "lista = open_source(\"03\")"
   ]
  },
  {
   "cell_type": "code",
   "execution_count": 5,
   "id": "6084236f",
   "metadata": {
    "hidden": true
   },
   "outputs": [],
   "source": [
    "scoring = dict(zip(list(string.ascii_lowercase) + list(string.ascii_uppercase), list(range(1, 53))))"
   ]
  },
  {
   "cell_type": "code",
   "execution_count": 26,
   "id": "73feaf6e",
   "metadata": {
    "hidden": true
   },
   "outputs": [
    {
     "data": {
      "text/plain": [
       "7821"
      ]
     },
     "execution_count": 26,
     "metadata": {},
     "output_type": "execute_result"
    }
   ],
   "source": [
    "total = 0\n",
    "for sack in lista:\n",
    "    half = len(sack)//2\n",
    "    first, second = set(sack[half:]), set(sack[:half])\n",
    "    inter = set.intersection(first, second).pop()\n",
    "    total += scoring[inter]\n",
    "total"
   ]
  },
  {
   "cell_type": "code",
   "execution_count": 7,
   "id": "9a33ff64",
   "metadata": {
    "hidden": true
   },
   "outputs": [],
   "source": [
    "def chunks(l, n):\n",
    "    for i in range(0, len(l), n):\n",
    "        yield l[i:i+n]"
   ]
  },
  {
   "cell_type": "code",
   "execution_count": 25,
   "id": "072d82e5",
   "metadata": {
    "hidden": true
   },
   "outputs": [
    {
     "data": {
      "text/plain": [
       "2752"
      ]
     },
     "execution_count": 25,
     "metadata": {},
     "output_type": "execute_result"
    }
   ],
   "source": [
    "total = 0\n",
    "for sack in chunks(lista, 3):\n",
    "    inter = set.intersection(*list(map(lambda x: set(x), sack)))\n",
    "    total += scoring[inter.pop()]\n",
    "total"
   ]
  },
  {
   "cell_type": "markdown",
   "id": "cdf9bc4b",
   "metadata": {
    "heading_collapsed": true
   },
   "source": [
    "# Day 4"
   ]
  },
  {
   "cell_type": "code",
   "execution_count": 5,
   "id": "1103a118",
   "metadata": {
    "hidden": true
   },
   "outputs": [],
   "source": [
    "lista = open_source('04')"
   ]
  },
  {
   "cell_type": "code",
   "execution_count": 10,
   "id": "0edbad96",
   "metadata": {
    "hidden": true
   },
   "outputs": [
    {
     "name": "stdout",
     "output_type": "stream",
     "text": [
      "513 878\n"
     ]
    }
   ],
   "source": [
    "count1 = count2 = 0\n",
    "for task in lista:\n",
    "    fs, fe, ss, se = list(map(int, re.split(',|-', task)))\n",
    "    if (fs >= ss and fe <= se) or (fs <= ss and fe >= se):\n",
    "        count1 += 1\n",
    "    if fs <= se and ss <= fe:\n",
    "        count2 += 1\n",
    "print(count1, count2)"
   ]
  },
  {
   "cell_type": "markdown",
   "id": "08731135",
   "metadata": {
    "heading_collapsed": true
   },
   "source": [
    "# Day 5"
   ]
  },
  {
   "cell_type": "code",
   "execution_count": 438,
   "id": "d405d112",
   "metadata": {
    "hidden": true
   },
   "outputs": [],
   "source": [
    "lista = open_source('05')"
   ]
  },
  {
   "cell_type": "code",
   "execution_count": 439,
   "id": "ca7823d4",
   "metadata": {
    "hidden": true
   },
   "outputs": [],
   "source": [
    "def convert_day5_input(lista):\n",
    "    stacks = []\n",
    "    proc = []\n",
    "    stacks_dict = {}\n",
    "    for sor in lista:\n",
    "        if len(sor) > 20:\n",
    "            stacks.append(list(sor[1::4]))\n",
    "        elif 'move' in sor:\n",
    "            proc.append(re.findall('\\d+', sor))\n",
    "    stacks = np.rot90(stacks, 3)\n",
    "    for stack in stacks:\n",
    "        k, *v = [x for x in stack if x != ' ']\n",
    "        stacks_dict[k] = v\n",
    "    return stacks_dict, proc\n",
    "\n",
    "def get_day5(s, proc, part_1=True):\n",
    "    stacks = deepcopy(s)\n",
    "    for qty, old, new in proc:\n",
    "        qty = int(qty)\n",
    "        if part_1:\n",
    "            for _ in range(qty):\n",
    "                stacks[new].append(stacks[old].pop(-1))\n",
    "        else:\n",
    "            stacks[new] += stacks[old][-qty:]\n",
    "            del stacks[old][-qty:]\n",
    "    return ''.join([x[-1] for x in stacks.values()])"
   ]
  },
  {
   "cell_type": "code",
   "execution_count": 440,
   "id": "e52a1c06",
   "metadata": {
    "hidden": true
   },
   "outputs": [],
   "source": [
    "s, p = convert_day5_input(lista)"
   ]
  },
  {
   "cell_type": "code",
   "execution_count": 441,
   "id": "b4bcba4f",
   "metadata": {
    "hidden": true
   },
   "outputs": [
    {
     "data": {
      "text/plain": [
       "'TPGVQPFDH'"
      ]
     },
     "execution_count": 441,
     "metadata": {},
     "output_type": "execute_result"
    }
   ],
   "source": [
    "get_day5(s, p, part_1=True)"
   ]
  },
  {
   "cell_type": "code",
   "execution_count": 442,
   "id": "7b2753af",
   "metadata": {
    "hidden": true
   },
   "outputs": [
    {
     "data": {
      "text/plain": [
       "'DMRDFRHHH'"
      ]
     },
     "execution_count": 442,
     "metadata": {},
     "output_type": "execute_result"
    }
   ],
   "source": [
    "get_day5(s, p, part_1=False)"
   ]
  },
  {
   "cell_type": "markdown",
   "id": "886751cb",
   "metadata": {},
   "source": [
    "# Day 6"
   ]
  },
  {
   "cell_type": "code",
   "execution_count": null,
   "id": "f91ed9be",
   "metadata": {},
   "outputs": [],
   "source": []
  },
  {
   "cell_type": "markdown",
   "id": "ce2db7aa",
   "metadata": {},
   "source": [
    "# Day 7"
   ]
  },
  {
   "cell_type": "code",
   "execution_count": null,
   "id": "2c7dce03",
   "metadata": {},
   "outputs": [],
   "source": []
  },
  {
   "cell_type": "markdown",
   "id": "039f2c65",
   "metadata": {},
   "source": [
    "# Day 8"
   ]
  },
  {
   "cell_type": "code",
   "execution_count": null,
   "id": "43c0cac5",
   "metadata": {},
   "outputs": [],
   "source": []
  },
  {
   "cell_type": "markdown",
   "id": "31d57b9f",
   "metadata": {},
   "source": [
    "# Day 9"
   ]
  },
  {
   "cell_type": "code",
   "execution_count": null,
   "id": "8306571c",
   "metadata": {},
   "outputs": [],
   "source": []
  },
  {
   "cell_type": "markdown",
   "id": "e52f7c6d",
   "metadata": {},
   "source": [
    "# Day 10"
   ]
  },
  {
   "cell_type": "code",
   "execution_count": null,
   "id": "62676af8",
   "metadata": {},
   "outputs": [],
   "source": []
  },
  {
   "cell_type": "markdown",
   "id": "5ccf9bcc",
   "metadata": {},
   "source": [
    "# Day 11"
   ]
  },
  {
   "cell_type": "code",
   "execution_count": null,
   "id": "142c2f18",
   "metadata": {},
   "outputs": [],
   "source": []
  },
  {
   "cell_type": "markdown",
   "id": "367b57a6",
   "metadata": {},
   "source": [
    "# Day 12"
   ]
  },
  {
   "cell_type": "code",
   "execution_count": null,
   "id": "e61128b8",
   "metadata": {},
   "outputs": [],
   "source": []
  },
  {
   "cell_type": "markdown",
   "id": "0f5ffb37",
   "metadata": {},
   "source": [
    "# Day 13"
   ]
  },
  {
   "cell_type": "code",
   "execution_count": null,
   "id": "9a5d852c",
   "metadata": {},
   "outputs": [],
   "source": []
  },
  {
   "cell_type": "markdown",
   "id": "4aac3dd7",
   "metadata": {},
   "source": [
    "# Day 14"
   ]
  },
  {
   "cell_type": "code",
   "execution_count": null,
   "id": "c97b5ebc",
   "metadata": {},
   "outputs": [],
   "source": []
  },
  {
   "cell_type": "markdown",
   "id": "8b1e7db7",
   "metadata": {},
   "source": [
    "# Day 15"
   ]
  },
  {
   "cell_type": "code",
   "execution_count": null,
   "id": "5163dd86",
   "metadata": {},
   "outputs": [],
   "source": []
  },
  {
   "cell_type": "markdown",
   "id": "67c32dbf",
   "metadata": {},
   "source": [
    "# Day 16"
   ]
  },
  {
   "cell_type": "code",
   "execution_count": null,
   "id": "0c25b621",
   "metadata": {},
   "outputs": [],
   "source": []
  },
  {
   "cell_type": "markdown",
   "id": "378924e1",
   "metadata": {},
   "source": [
    "# Day 17"
   ]
  },
  {
   "cell_type": "code",
   "execution_count": null,
   "id": "180e2872",
   "metadata": {},
   "outputs": [],
   "source": []
  },
  {
   "cell_type": "markdown",
   "id": "0ca4a36f",
   "metadata": {},
   "source": [
    "# Day 18"
   ]
  },
  {
   "cell_type": "code",
   "execution_count": null,
   "id": "c48b4ba4",
   "metadata": {},
   "outputs": [],
   "source": []
  },
  {
   "cell_type": "markdown",
   "id": "e99c5415",
   "metadata": {},
   "source": [
    "# Day 19"
   ]
  },
  {
   "cell_type": "code",
   "execution_count": null,
   "id": "a54beefc",
   "metadata": {},
   "outputs": [],
   "source": []
  },
  {
   "cell_type": "markdown",
   "id": "5b2c8cd4",
   "metadata": {},
   "source": [
    "# Day 20"
   ]
  },
  {
   "cell_type": "code",
   "execution_count": null,
   "id": "eb0891fe",
   "metadata": {},
   "outputs": [],
   "source": []
  },
  {
   "cell_type": "markdown",
   "id": "47b8a1ea",
   "metadata": {},
   "source": [
    "# Day 21"
   ]
  },
  {
   "cell_type": "code",
   "execution_count": null,
   "id": "048b327f",
   "metadata": {},
   "outputs": [],
   "source": []
  },
  {
   "cell_type": "markdown",
   "id": "97658d22",
   "metadata": {},
   "source": [
    "# Day 22"
   ]
  },
  {
   "cell_type": "code",
   "execution_count": null,
   "id": "b1fad67e",
   "metadata": {},
   "outputs": [],
   "source": []
  },
  {
   "cell_type": "markdown",
   "id": "8e24a5dd",
   "metadata": {},
   "source": [
    "# Day 23"
   ]
  },
  {
   "cell_type": "code",
   "execution_count": null,
   "id": "2762eb57",
   "metadata": {},
   "outputs": [],
   "source": []
  },
  {
   "cell_type": "markdown",
   "id": "dc53cea9",
   "metadata": {},
   "source": [
    "# Day 24"
   ]
  },
  {
   "cell_type": "code",
   "execution_count": null,
   "id": "4c52e68b",
   "metadata": {},
   "outputs": [],
   "source": []
  },
  {
   "cell_type": "markdown",
   "id": "6429147a",
   "metadata": {},
   "source": [
    "# Day 25"
   ]
  },
  {
   "cell_type": "code",
   "execution_count": null,
   "id": "8c884f89",
   "metadata": {},
   "outputs": [],
   "source": []
  }
 ],
 "metadata": {
  "kernelspec": {
   "display_name": "Python 3 (ipykernel)",
   "language": "python",
   "name": "python3"
  },
  "language_info": {
   "codemirror_mode": {
    "name": "ipython",
    "version": 3
   },
   "file_extension": ".py",
   "mimetype": "text/x-python",
   "name": "python",
   "nbconvert_exporter": "python",
   "pygments_lexer": "ipython3",
   "version": "3.9.6"
  },
  "toc": {
   "base_numbering": 1,
   "nav_menu": {},
   "number_sections": true,
   "sideBar": true,
   "skip_h1_title": false,
   "title_cell": "Table of Contents",
   "title_sidebar": "Contents",
   "toc_cell": false,
   "toc_position": {
    "height": "calc(100% - 180px)",
    "left": "10px",
    "top": "150px",
    "width": "384px"
   },
   "toc_section_display": true,
   "toc_window_display": true
  }
 },
 "nbformat": 4,
 "nbformat_minor": 5
}
