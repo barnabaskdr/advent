{
 "cells": [
  {
   "cell_type": "markdown",
   "id": "6f99986c",
   "metadata": {},
   "source": [
    "# Imports"
   ]
  },
  {
   "cell_type": "code",
   "execution_count": 57,
   "id": "fa410033",
   "metadata": {},
   "outputs": [],
   "source": [
    "import pandas as pd\n",
    "import os\n",
    "import string\n",
    "import itertools"
   ]
  },
  {
   "cell_type": "code",
   "execution_count": 14,
   "id": "d3bbc08a",
   "metadata": {},
   "outputs": [],
   "source": [
    "def open_source(day):\n",
    "    with open(f'source/day{day}.txt', 'r') as f:\n",
    "        lista = f.readlines()\n",
    "    lista = [x.strip('\\n') for x in lista]\n",
    "    return lista"
   ]
  },
  {
   "cell_type": "code",
   "execution_count": 15,
   "id": "42b33d63",
   "metadata": {},
   "outputs": [],
   "source": [
    "path = '/Users/barnabas.kadar/Own Repos/advent/2022/source'\n",
    "\n",
    "def create_txt_files(path):\n",
    "    files = [f\"day{x}\" if x > 9 else f\"day0{x}\" for x in range(1, 26)]\n",
    "    for file in files:\n",
    "        try:\n",
    "            with open(os.path.join(path, file + \".txt\"), 'x') as fp:\n",
    "                pass\n",
    "            with open(os.path.join(path, file + \"_example.txt\"), 'x') as fp:\n",
    "                pass\n",
    "        except FileExistsError:\n",
    "            print(\"file existed but continued loop\")\n",
    "            continue"
   ]
  },
  {
   "cell_type": "markdown",
   "id": "f3bdd303",
   "metadata": {},
   "source": [
    "# Day 1"
   ]
  },
  {
   "cell_type": "code",
   "execution_count": 8,
   "id": "eefda56e",
   "metadata": {},
   "outputs": [],
   "source": [
    "lista = open_source(\"01\")"
   ]
  },
  {
   "cell_type": "code",
   "execution_count": 9,
   "id": "48eafb18",
   "metadata": {},
   "outputs": [],
   "source": [
    "lista = [int(x) if x else x for x in lista]"
   ]
  },
  {
   "cell_type": "code",
   "execution_count": 10,
   "id": "390d6cad",
   "metadata": {},
   "outputs": [],
   "source": [
    "current = 0\n",
    "summed_lista = []\n",
    "for x in lista:\n",
    "    if x:\n",
    "        current += x\n",
    "    else:\n",
    "        summed_lista.append(current)\n",
    "        current = 0\n",
    "summed_lista.sort()"
   ]
  },
  {
   "cell_type": "code",
   "execution_count": 11,
   "id": "e1708094",
   "metadata": {},
   "outputs": [
    {
     "data": {
      "text/plain": [
       "71780"
      ]
     },
     "execution_count": 11,
     "metadata": {},
     "output_type": "execute_result"
    }
   ],
   "source": [
    "max(summed_lista)"
   ]
  },
  {
   "cell_type": "code",
   "execution_count": 12,
   "id": "798b9364",
   "metadata": {},
   "outputs": [
    {
     "data": {
      "text/plain": [
       "212489"
      ]
     },
     "execution_count": 12,
     "metadata": {},
     "output_type": "execute_result"
    }
   ],
   "source": [
    "sum(summed_lista[-3:])"
   ]
  },
  {
   "cell_type": "markdown",
   "id": "c65559e4",
   "metadata": {},
   "source": [
    "# Day 2"
   ]
  },
  {
   "cell_type": "code",
   "execution_count": 35,
   "id": "13c59fa6",
   "metadata": {},
   "outputs": [],
   "source": [
    "lista = open_source(\"02\")"
   ]
  },
  {
   "cell_type": "code",
   "execution_count": 23,
   "id": "95cffea1",
   "metadata": {},
   "outputs": [],
   "source": [
    "translate = {\n",
    "    'A': 'r',\n",
    "    'B': 'p',\n",
    "    'C': 's',\n",
    "    'X': 'r',\n",
    "    'Y': 'p',\n",
    "    'Z': 's'\n",
    "}"
   ]
  },
  {
   "cell_type": "code",
   "execution_count": 24,
   "id": "ea5e2df6",
   "metadata": {},
   "outputs": [],
   "source": [
    "for k, v in translate.items():\n",
    "    lista = [x.replace(k, v) for x in lista]"
   ]
  },
  {
   "cell_type": "code",
   "execution_count": 25,
   "id": "7708585d",
   "metadata": {},
   "outputs": [],
   "source": [
    "def outcome_score(elf, you):\n",
    "    if elf == you:\n",
    "        return 3\n",
    "    elif elf == 'r' and you == 'p':\n",
    "        return 6\n",
    "    elif elf == 'p' and you == 's':\n",
    "        return 6\n",
    "    elif elf == 's' and you == 'r':\n",
    "        return 6\n",
    "    else:\n",
    "        return 0\n",
    "    \n",
    "def object_shown_score(you):\n",
    "    if you == 'r':\n",
    "        return 1\n",
    "    elif you == 'p':\n",
    "        return 2\n",
    "    else:\n",
    "        return 3"
   ]
  },
  {
   "cell_type": "code",
   "execution_count": 26,
   "id": "e5a36df5",
   "metadata": {},
   "outputs": [
    {
     "data": {
      "text/plain": [
       "10624"
      ]
     },
     "execution_count": 26,
     "metadata": {},
     "output_type": "execute_result"
    }
   ],
   "source": [
    "score = 0\n",
    "for r in lista:\n",
    "    elf, you = r.split(' ')\n",
    "    score += outcome_score(elf, you)\n",
    "    score += object_shown_score(you)\n",
    "score"
   ]
  },
  {
   "cell_type": "code",
   "execution_count": 36,
   "id": "da3951ac",
   "metadata": {},
   "outputs": [],
   "source": [
    "translate = {\n",
    "    'A': 'r',\n",
    "    'B': 'p',\n",
    "    'C': 's',\n",
    "    'X': 'l',\n",
    "    'Y': 'd',\n",
    "    'Z': 'w'\n",
    "}"
   ]
  },
  {
   "cell_type": "code",
   "execution_count": 37,
   "id": "d81f6a05",
   "metadata": {},
   "outputs": [],
   "source": [
    "for k, v in translate.items():\n",
    "    lista = [x.replace(k, v) for x in lista]"
   ]
  },
  {
   "cell_type": "code",
   "execution_count": 38,
   "id": "4c17782d",
   "metadata": {},
   "outputs": [],
   "source": [
    "def outcome_score(result):\n",
    "    if result == 'l':\n",
    "        return 0\n",
    "    elif result == 'd':\n",
    "        return 3\n",
    "    else:\n",
    "        return 6\n",
    "    \n",
    "def object_shown(elf, result):\n",
    "    if result == 'd':\n",
    "        return elf\n",
    "    elif result == 'l':\n",
    "        if elf == 'r':\n",
    "            return 's'\n",
    "        elif elf == 'p':\n",
    "            return 'r'\n",
    "        else:\n",
    "            return 'p'\n",
    "    else:\n",
    "        if elf == 'r':\n",
    "            return 'p'\n",
    "        elif elf == 'p':\n",
    "            return 's'\n",
    "        else:\n",
    "            return 'r'\n",
    "        \n",
    "def object_showm_score(you):\n",
    "    if you == 'r':\n",
    "        return 1\n",
    "    elif you == 'p':\n",
    "        return 2\n",
    "    else:\n",
    "        return 3"
   ]
  },
  {
   "cell_type": "code",
   "execution_count": 39,
   "id": "ea04fe48",
   "metadata": {},
   "outputs": [
    {
     "data": {
      "text/plain": [
       "14060"
      ]
     },
     "execution_count": 39,
     "metadata": {},
     "output_type": "execute_result"
    }
   ],
   "source": [
    "score = 0\n",
    "for r in lista:\n",
    "    elf, result = r.split(' ')\n",
    "    score += outcome_score(result)\n",
    "    you = object_shown(elf, result)\n",
    "    score += object_shown_score(you)\n",
    "score"
   ]
  },
  {
   "cell_type": "markdown",
   "id": "af8df737",
   "metadata": {},
   "source": [
    "# Day 3"
   ]
  },
  {
   "cell_type": "code",
   "execution_count": 75,
   "id": "5fa7b682",
   "metadata": {},
   "outputs": [],
   "source": [
    "lista = open_source(\"03\")"
   ]
  },
  {
   "cell_type": "code",
   "execution_count": 49,
   "id": "6084236f",
   "metadata": {},
   "outputs": [],
   "source": [
    "scoring = dict(zip(list(string.ascii_lowercase) + list(string.ascii_uppercase), list(range(1, 53))))"
   ]
  },
  {
   "cell_type": "code",
   "execution_count": 50,
   "id": "73feaf6e",
   "metadata": {},
   "outputs": [
    {
     "data": {
      "text/plain": [
       "7821"
      ]
     },
     "execution_count": 50,
     "metadata": {},
     "output_type": "execute_result"
    }
   ],
   "source": [
    "total = 0\n",
    "for sack in lista:\n",
    "    half = len(sack)//2\n",
    "    first, second = set(sack[half:]), set(sack[:half])\n",
    "    inter = next(iter(first.intersection(second)))\n",
    "    total += scoring[inter]\n",
    "total"
   ]
  },
  {
   "cell_type": "code",
   "execution_count": 59,
   "id": "9a33ff64",
   "metadata": {},
   "outputs": [],
   "source": [
    "def chunks(l, n):\n",
    "    for i in range(0, len(l), n):\n",
    "        yield l[i:i+n]"
   ]
  },
  {
   "cell_type": "code",
   "execution_count": 76,
   "id": "072d82e5",
   "metadata": {},
   "outputs": [
    {
     "data": {
      "text/plain": [
       "2752"
      ]
     },
     "execution_count": 76,
     "metadata": {},
     "output_type": "execute_result"
    }
   ],
   "source": [
    "total = 0\n",
    "for sack in chunks(lista, 3):\n",
    "    first, second, third = sack\n",
    "    inter = set(first).intersection(set(second)).intersection(set(third))\n",
    "    total += scoring[next(iter(inter))]\n",
    "total"
   ]
  },
  {
   "cell_type": "markdown",
   "id": "cdf9bc4b",
   "metadata": {},
   "source": [
    "# Day 4"
   ]
  },
  {
   "cell_type": "code",
   "execution_count": null,
   "id": "1103a118",
   "metadata": {},
   "outputs": [],
   "source": []
  },
  {
   "cell_type": "markdown",
   "id": "08731135",
   "metadata": {},
   "source": [
    "# Day 5"
   ]
  },
  {
   "cell_type": "code",
   "execution_count": null,
   "id": "d405d112",
   "metadata": {},
   "outputs": [],
   "source": []
  },
  {
   "cell_type": "markdown",
   "id": "886751cb",
   "metadata": {},
   "source": [
    "# Day 6"
   ]
  },
  {
   "cell_type": "code",
   "execution_count": null,
   "id": "f91ed9be",
   "metadata": {},
   "outputs": [],
   "source": []
  },
  {
   "cell_type": "markdown",
   "id": "ce2db7aa",
   "metadata": {},
   "source": [
    "# Day 7"
   ]
  },
  {
   "cell_type": "code",
   "execution_count": null,
   "id": "2c7dce03",
   "metadata": {},
   "outputs": [],
   "source": []
  },
  {
   "cell_type": "markdown",
   "id": "039f2c65",
   "metadata": {},
   "source": [
    "# Day 8"
   ]
  },
  {
   "cell_type": "code",
   "execution_count": null,
   "id": "43c0cac5",
   "metadata": {},
   "outputs": [],
   "source": []
  },
  {
   "cell_type": "markdown",
   "id": "31d57b9f",
   "metadata": {},
   "source": [
    "# Day 9"
   ]
  },
  {
   "cell_type": "code",
   "execution_count": null,
   "id": "8306571c",
   "metadata": {},
   "outputs": [],
   "source": []
  },
  {
   "cell_type": "markdown",
   "id": "e52f7c6d",
   "metadata": {},
   "source": [
    "# Day 10"
   ]
  },
  {
   "cell_type": "code",
   "execution_count": null,
   "id": "62676af8",
   "metadata": {},
   "outputs": [],
   "source": []
  },
  {
   "cell_type": "markdown",
   "id": "5ccf9bcc",
   "metadata": {},
   "source": [
    "# Day 11"
   ]
  },
  {
   "cell_type": "code",
   "execution_count": null,
   "id": "142c2f18",
   "metadata": {},
   "outputs": [],
   "source": []
  },
  {
   "cell_type": "markdown",
   "id": "367b57a6",
   "metadata": {},
   "source": [
    "# Day 12"
   ]
  },
  {
   "cell_type": "code",
   "execution_count": null,
   "id": "e61128b8",
   "metadata": {},
   "outputs": [],
   "source": []
  },
  {
   "cell_type": "markdown",
   "id": "0f5ffb37",
   "metadata": {},
   "source": [
    "# Day 13"
   ]
  },
  {
   "cell_type": "code",
   "execution_count": null,
   "id": "9a5d852c",
   "metadata": {},
   "outputs": [],
   "source": []
  },
  {
   "cell_type": "markdown",
   "id": "4aac3dd7",
   "metadata": {},
   "source": [
    "# Day 14"
   ]
  },
  {
   "cell_type": "code",
   "execution_count": null,
   "id": "c97b5ebc",
   "metadata": {},
   "outputs": [],
   "source": []
  },
  {
   "cell_type": "markdown",
   "id": "8b1e7db7",
   "metadata": {},
   "source": [
    "# Day 15"
   ]
  },
  {
   "cell_type": "code",
   "execution_count": null,
   "id": "5163dd86",
   "metadata": {},
   "outputs": [],
   "source": []
  },
  {
   "cell_type": "markdown",
   "id": "67c32dbf",
   "metadata": {},
   "source": [
    "# Day 16"
   ]
  },
  {
   "cell_type": "code",
   "execution_count": null,
   "id": "0c25b621",
   "metadata": {},
   "outputs": [],
   "source": []
  },
  {
   "cell_type": "markdown",
   "id": "378924e1",
   "metadata": {},
   "source": [
    "# Day 17"
   ]
  },
  {
   "cell_type": "code",
   "execution_count": null,
   "id": "180e2872",
   "metadata": {},
   "outputs": [],
   "source": []
  },
  {
   "cell_type": "markdown",
   "id": "0ca4a36f",
   "metadata": {},
   "source": [
    "# Day 18"
   ]
  },
  {
   "cell_type": "code",
   "execution_count": null,
   "id": "c48b4ba4",
   "metadata": {},
   "outputs": [],
   "source": []
  },
  {
   "cell_type": "markdown",
   "id": "e99c5415",
   "metadata": {},
   "source": [
    "# Day 19"
   ]
  },
  {
   "cell_type": "code",
   "execution_count": null,
   "id": "a54beefc",
   "metadata": {},
   "outputs": [],
   "source": []
  },
  {
   "cell_type": "markdown",
   "id": "5b2c8cd4",
   "metadata": {},
   "source": [
    "# Day 20"
   ]
  },
  {
   "cell_type": "code",
   "execution_count": null,
   "id": "eb0891fe",
   "metadata": {},
   "outputs": [],
   "source": []
  },
  {
   "cell_type": "markdown",
   "id": "47b8a1ea",
   "metadata": {},
   "source": [
    "# Day 21"
   ]
  },
  {
   "cell_type": "code",
   "execution_count": null,
   "id": "048b327f",
   "metadata": {},
   "outputs": [],
   "source": []
  },
  {
   "cell_type": "markdown",
   "id": "97658d22",
   "metadata": {},
   "source": [
    "# Day 22"
   ]
  },
  {
   "cell_type": "code",
   "execution_count": null,
   "id": "b1fad67e",
   "metadata": {},
   "outputs": [],
   "source": []
  },
  {
   "cell_type": "markdown",
   "id": "8e24a5dd",
   "metadata": {},
   "source": [
    "# Day 23"
   ]
  },
  {
   "cell_type": "code",
   "execution_count": null,
   "id": "2762eb57",
   "metadata": {},
   "outputs": [],
   "source": []
  },
  {
   "cell_type": "markdown",
   "id": "dc53cea9",
   "metadata": {},
   "source": [
    "# Day 24"
   ]
  },
  {
   "cell_type": "code",
   "execution_count": null,
   "id": "4c52e68b",
   "metadata": {},
   "outputs": [],
   "source": []
  },
  {
   "cell_type": "markdown",
   "id": "6429147a",
   "metadata": {},
   "source": [
    "# Day 25"
   ]
  },
  {
   "cell_type": "code",
   "execution_count": null,
   "id": "8c884f89",
   "metadata": {},
   "outputs": [],
   "source": []
  }
 ],
 "metadata": {
  "kernelspec": {
   "display_name": "Python 3 (ipykernel)",
   "language": "python",
   "name": "python3"
  },
  "language_info": {
   "codemirror_mode": {
    "name": "ipython",
    "version": 3
   },
   "file_extension": ".py",
   "mimetype": "text/x-python",
   "name": "python",
   "nbconvert_exporter": "python",
   "pygments_lexer": "ipython3",
   "version": "3.9.6"
  }
 },
 "nbformat": 4,
 "nbformat_minor": 5
}
