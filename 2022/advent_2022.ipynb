{
 "cells": [
  {
   "cell_type": "markdown",
   "id": "6f99986c",
   "metadata": {},
   "source": [
    "# Imports"
   ]
  },
  {
   "cell_type": "code",
   "execution_count": 55,
   "id": "fa410033",
   "metadata": {},
   "outputs": [],
   "source": [
    "import pandas as pd\n",
    "import os\n",
    "import string\n",
    "from itertools import groupby\n",
    "from heapq import nlargest\n",
    "import re\n",
    "import numpy as np"
   ]
  },
  {
   "cell_type": "code",
   "execution_count": 2,
   "id": "d3bbc08a",
   "metadata": {},
   "outputs": [],
   "source": [
    "def open_source(day):\n",
    "    with open(f'source/day{day}.txt', 'r') as f:\n",
    "        lista = f.readlines()\n",
    "    lista = [x.strip('\\n') for x in lista]\n",
    "    return lista"
   ]
  },
  {
   "cell_type": "code",
   "execution_count": 3,
   "id": "42b33d63",
   "metadata": {},
   "outputs": [],
   "source": [
    "path = '/Users/barnabas.kadar/Own Repos/advent/2022/source'\n",
    "\n",
    "def create_txt_files(path):\n",
    "    files = [f\"day{x}\" if x > 9 else f\"day0{x}\" for x in range(1, 26)]\n",
    "    for file in files:\n",
    "        try:\n",
    "            with open(os.path.join(path, file + \".txt\"), 'x') as fp:\n",
    "                pass\n",
    "            with open(os.path.join(path, file + \"_example.txt\"), 'x') as fp:\n",
    "                pass\n",
    "        except FileExistsError:\n",
    "            print(\"file existed but continued loop\")\n",
    "            continue"
   ]
  },
  {
   "cell_type": "markdown",
   "id": "f3bdd303",
   "metadata": {},
   "source": [
    "# Day 1"
   ]
  },
  {
   "cell_type": "code",
   "execution_count": 171,
   "id": "eefda56e",
   "metadata": {},
   "outputs": [],
   "source": [
    "lista = open_source(\"01\")"
   ]
  },
  {
   "cell_type": "code",
   "execution_count": 183,
   "id": "a1aedde0",
   "metadata": {},
   "outputs": [],
   "source": [
    "result = [sum([int(x) for x in a[1]]) for a in groupby(lista, key=lambda s: not s) if not a[0]]"
   ]
  },
  {
   "cell_type": "code",
   "execution_count": 184,
   "id": "8d9f0f26",
   "metadata": {},
   "outputs": [
    {
     "data": {
      "text/plain": [
       "71780"
      ]
     },
     "execution_count": 184,
     "metadata": {},
     "output_type": "execute_result"
    }
   ],
   "source": [
    "max(result)"
   ]
  },
  {
   "cell_type": "code",
   "execution_count": 187,
   "id": "a4a2249f",
   "metadata": {},
   "outputs": [
    {
     "data": {
      "text/plain": [
       "212489"
      ]
     },
     "execution_count": 187,
     "metadata": {},
     "output_type": "execute_result"
    }
   ],
   "source": [
    "sum(nlargest(3, result))"
   ]
  },
  {
   "cell_type": "markdown",
   "id": "c65559e4",
   "metadata": {},
   "source": [
    "# Day 2"
   ]
  },
  {
   "cell_type": "code",
   "execution_count": 71,
   "id": "13c59fa6",
   "metadata": {},
   "outputs": [],
   "source": [
    "lista = open_source(\"02\")"
   ]
  },
  {
   "cell_type": "code",
   "execution_count": 72,
   "id": "b360bf9d",
   "metadata": {},
   "outputs": [],
   "source": [
    "scoring1 = {\n",
    "    'A X': 4,\n",
    "    'A Y': 8,\n",
    "    'A Z': 3,\n",
    "    'B X': 1,\n",
    "    'B Y': 5,\n",
    "    'B Z': 9,\n",
    "    'C X': 7,\n",
    "    'C Y': 2,\n",
    "    'C Z': 6\n",
    "}"
   ]
  },
  {
   "cell_type": "code",
   "execution_count": 73,
   "id": "b9b13c90",
   "metadata": {},
   "outputs": [],
   "source": [
    "scoring2 = {\n",
    "    'A X': 3,\n",
    "    'A Y': 4,\n",
    "    'A Z': 8,\n",
    "    'B X': 1,\n",
    "    'B Y': 5,\n",
    "    'B Z': 9,\n",
    "    'C X': 2,\n",
    "    'C Y': 6,\n",
    "    'C Z': 7\n",
    "}"
   ]
  },
  {
   "cell_type": "code",
   "execution_count": 74,
   "id": "683e24b9",
   "metadata": {},
   "outputs": [
    {
     "data": {
      "text/plain": [
       "10624"
      ]
     },
     "execution_count": 74,
     "metadata": {},
     "output_type": "execute_result"
    }
   ],
   "source": [
    "sum([scoring1[x] for x in lista])"
   ]
  },
  {
   "cell_type": "code",
   "execution_count": 75,
   "id": "18c700ac",
   "metadata": {},
   "outputs": [
    {
     "data": {
      "text/plain": [
       "14060"
      ]
     },
     "execution_count": 75,
     "metadata": {},
     "output_type": "execute_result"
    }
   ],
   "source": [
    "sum([scoring2[x] for x in lista])"
   ]
  },
  {
   "cell_type": "markdown",
   "id": "af8df737",
   "metadata": {},
   "source": [
    "# Day 3"
   ]
  },
  {
   "cell_type": "code",
   "execution_count": 4,
   "id": "5fa7b682",
   "metadata": {},
   "outputs": [],
   "source": [
    "lista = open_source(\"03\")"
   ]
  },
  {
   "cell_type": "code",
   "execution_count": 5,
   "id": "6084236f",
   "metadata": {},
   "outputs": [],
   "source": [
    "scoring = dict(zip(list(string.ascii_lowercase) + list(string.ascii_uppercase), list(range(1, 53))))"
   ]
  },
  {
   "cell_type": "code",
   "execution_count": 26,
   "id": "73feaf6e",
   "metadata": {},
   "outputs": [
    {
     "data": {
      "text/plain": [
       "7821"
      ]
     },
     "execution_count": 26,
     "metadata": {},
     "output_type": "execute_result"
    }
   ],
   "source": [
    "total = 0\n",
    "for sack in lista:\n",
    "    half = len(sack)//2\n",
    "    first, second = set(sack[half:]), set(sack[:half])\n",
    "    inter = set.intersection(first, second).pop()\n",
    "    total += scoring[inter]\n",
    "total"
   ]
  },
  {
   "cell_type": "code",
   "execution_count": 7,
   "id": "9a33ff64",
   "metadata": {},
   "outputs": [],
   "source": [
    "def chunks(l, n):\n",
    "    for i in range(0, len(l), n):\n",
    "        yield l[i:i+n]"
   ]
  },
  {
   "cell_type": "code",
   "execution_count": 25,
   "id": "072d82e5",
   "metadata": {},
   "outputs": [
    {
     "data": {
      "text/plain": [
       "2752"
      ]
     },
     "execution_count": 25,
     "metadata": {},
     "output_type": "execute_result"
    }
   ],
   "source": [
    "total = 0\n",
    "for sack in chunks(lista, 3):\n",
    "    inter = set.intersection(*list(map(lambda x: set(x), sack)))\n",
    "    total += scoring[inter.pop()]\n",
    "total"
   ]
  },
  {
   "cell_type": "markdown",
   "id": "cdf9bc4b",
   "metadata": {},
   "source": [
    "# Day 4"
   ]
  },
  {
   "cell_type": "code",
   "execution_count": 5,
   "id": "1103a118",
   "metadata": {},
   "outputs": [],
   "source": [
    "lista = open_source('04')"
   ]
  },
  {
   "cell_type": "code",
   "execution_count": 10,
   "id": "0edbad96",
   "metadata": {},
   "outputs": [
    {
     "name": "stdout",
     "output_type": "stream",
     "text": [
      "513 878\n"
     ]
    }
   ],
   "source": [
    "count1 = count2 = 0\n",
    "for task in lista:\n",
    "    fs, fe, ss, se = list(map(int, re.split(',|-', task)))\n",
    "    if (fs >= ss and fe <= se) or (fs <= ss and fe >= se):\n",
    "        count1 += 1\n",
    "    if fs <= se and ss <= fe:\n",
    "        count2 += 1\n",
    "print(count1, count2)"
   ]
  },
  {
   "cell_type": "markdown",
   "id": "08731135",
   "metadata": {},
   "source": [
    "# Day 5"
   ]
  },
  {
   "cell_type": "code",
   "execution_count": 224,
   "id": "d405d112",
   "metadata": {},
   "outputs": [],
   "source": [
    "lista = open_source('05_example')"
   ]
  },
  {
   "cell_type": "code",
   "execution_count": 214,
   "id": "d2096bff",
   "metadata": {},
   "outputs": [],
   "source": [
    "def get_day5_part1(s_dict, proc):\n",
    "    _stack_dict = s_dict.copy()\n",
    "    for c in proc:\n",
    "        for times in range(c[0]):\n",
    "            moved_item = _stack_dict[c[1]].pop(-1)\n",
    "            _stack_dict[c[2]].append(moved_item)\n",
    "    result = ''\n",
    "    for k, v in _stack_dict.items():\n",
    "        result += v[-1]\n",
    "    return result"
   ]
  },
  {
   "cell_type": "code",
   "execution_count": 215,
   "id": "2af5a745",
   "metadata": {},
   "outputs": [],
   "source": [
    "def get_day5_part2(s_dict, proc):\n",
    "    _stack_dict = s_dict.copy()\n",
    "    for c in proc:\n",
    "        length = c[0]\n",
    "        moved_item = _stack_dict[c[1]][-length:]\n",
    "        del _stack_dict[c[1]][-length:]\n",
    "        _stack_dict[c[2]] = _stack_dict[c[2]] + moved_item\n",
    "    result = ''\n",
    "    for k, v in _stack_dict.items():\n",
    "        result += v[-1]\n",
    "    return result"
   ]
  },
  {
   "cell_type": "code",
   "execution_count": 213,
   "id": "d578143f",
   "metadata": {},
   "outputs": [],
   "source": [
    "def convert_day5_input(lista):\n",
    "    stacks = []\n",
    "    proc = []\n",
    "    for sor in lista:\n",
    "        if '[' in sor:\n",
    "            sor = [x.lstrip('[').rstrip(']') for x in re.split('    |\\] \\[| \\[', sor)]\n",
    "            stacks.append(sor)\n",
    "        elif ' 1   2   3 ' in sor:\n",
    "            sor = [x for x in sor.split(' ') if x]\n",
    "            stacks.append(sor)\n",
    "        elif 'move' in sor:\n",
    "            sor = [int(x) for x in sor.split(' ') if x.isdigit()]\n",
    "            proc.append(sor)\n",
    "    stacks = np.rot90(stacks, 3)\n",
    "    stack_dict = {}\n",
    "    for stack in stacks:\n",
    "        k, *v = [x for x in stack if x]\n",
    "        stack_dict[int(k)] = v\n",
    "    return stack_dict, proc"
   ]
  },
  {
   "cell_type": "code",
   "execution_count": 225,
   "id": "07fd0e14",
   "metadata": {},
   "outputs": [
    {
     "data": {
      "text/plain": [
       "['    [D]    ',\n",
       " '[N] [C]    ',\n",
       " '[Z] [M] [P]',\n",
       " ' 1   2   3 ',\n",
       " '',\n",
       " 'move 1 from 2 to 1',\n",
       " 'move 3 from 1 to 3',\n",
       " 'move 2 from 2 to 1',\n",
       " 'move 1 from 1 to 2']"
      ]
     },
     "execution_count": 225,
     "metadata": {},
     "output_type": "execute_result"
    }
   ],
   "source": [
    "lista"
   ]
  },
  {
   "cell_type": "code",
   "execution_count": 228,
   "id": "231a6026",
   "metadata": {},
   "outputs": [
    {
     "name": "stdout",
     "output_type": "stream",
     "text": [
      " D \n",
      "NC \n",
      "ZMP\n",
      "123\n",
      "\n"
     ]
    }
   ],
   "source": [
    "for sor in lista:\n",
    "    if 'move' not in sor:\n",
    "        print(sor[1::4])"
   ]
  },
  {
   "cell_type": "code",
   "execution_count": null,
   "id": "76e3da23",
   "metadata": {},
   "outputs": [],
   "source": []
  },
  {
   "cell_type": "code",
   "execution_count": 220,
   "id": "4fec48e5",
   "metadata": {},
   "outputs": [
    {
     "data": {
      "text/plain": [
       "{1: ['P', 'F', 'M', 'Q', 'W', 'G', 'R', 'T'],\n",
       " 2: ['H', 'F', 'R'],\n",
       " 3: ['P', 'Z', 'R', 'V', 'G', 'H', 'S', 'D'],\n",
       " 4: ['Q', 'H', 'P', 'B', 'F', 'W', 'G'],\n",
       " 5: ['P', 'S', 'M', 'J', 'H'],\n",
       " 6: ['M', 'Z', 'T', 'H', 'S', 'R', 'P', 'L'],\n",
       " 7: ['P', 'T', 'H', 'N', 'M', 'L'],\n",
       " 8: ['F', 'D', 'Q', 'R'],\n",
       " 9: ['D', 'S', 'C', 'N', 'L', 'P', 'H']}"
      ]
     },
     "execution_count": 220,
     "metadata": {},
     "output_type": "execute_result"
    }
   ],
   "source": [
    "s, p = convert_day5_input(lista)\n",
    "s"
   ]
  },
  {
   "cell_type": "code",
   "execution_count": 222,
   "id": "68b217b9",
   "metadata": {},
   "outputs": [
    {
     "data": {
      "text/plain": [
       "[[3, 8, 9], [2, 2, 8], [5, 4, 2], [7, 1, 4], [3, 8, 2]]"
      ]
     },
     "execution_count": 222,
     "metadata": {},
     "output_type": "execute_result"
    }
   ],
   "source": [
    "p[:5]"
   ]
  },
  {
   "cell_type": "code",
   "execution_count": 216,
   "id": "8f314ff2",
   "metadata": {},
   "outputs": [
    {
     "data": {
      "text/plain": [
       "'TPGVQPFDH'"
      ]
     },
     "execution_count": 216,
     "metadata": {},
     "output_type": "execute_result"
    }
   ],
   "source": [
    "get_day5_part1(s, p)"
   ]
  },
  {
   "cell_type": "code",
   "execution_count": 217,
   "id": "553ad0b5",
   "metadata": {},
   "outputs": [
    {
     "data": {
      "text/plain": [
       "'NQGMFRWMP'"
      ]
     },
     "execution_count": 217,
     "metadata": {},
     "output_type": "execute_result"
    }
   ],
   "source": [
    "get_day5_part2(s, p)"
   ]
  },
  {
   "cell_type": "code",
   "execution_count": 212,
   "id": "112fc294",
   "metadata": {},
   "outputs": [
    {
     "data": {
      "text/plain": [
       "'DMRDFRHHH'"
      ]
     },
     "execution_count": 212,
     "metadata": {},
     "output_type": "execute_result"
    }
   ],
   "source": [
    "s, p = convert_day5_input(lista)\n",
    "get_day5_part2(s, p)"
   ]
  },
  {
   "cell_type": "code",
   "execution_count": 219,
   "id": "c86224ac",
   "metadata": {},
   "outputs": [
    {
     "name": "stdout",
     "output_type": "stream",
     "text": [
      "TBSHPZJWB\n"
     ]
    },
    {
     "ename": "TypeError",
     "evalue": "unhashable type: 'slice'",
     "output_type": "error",
     "traceback": [
      "\u001b[0;31m---------------------------------------------------------------------------\u001b[0m",
      "\u001b[0;31mTypeError\u001b[0m                                 Traceback (most recent call last)",
      "Cell \u001b[0;32mIn[219], line 19\u001b[0m\n\u001b[1;32m      1\u001b[0m \u001b[38;5;28mprint\u001b[39m(\u001b[38;5;124m\"\u001b[39m\u001b[38;5;124m\"\u001b[39m\u001b[38;5;241m.\u001b[39mjoin(z[\u001b[38;5;241m-\u001b[39m\u001b[38;5;241m1\u001b[39m] \u001b[38;5;28;01mfor\u001b[39;00m z \u001b[38;5;129;01min\u001b[39;00m stacks[\u001b[38;5;241m1\u001b[39m:]))\n\u001b[1;32m      5\u001b[0m stacks \u001b[38;5;241m=\u001b[39m [\n\u001b[1;32m      6\u001b[0m     [],\n\u001b[1;32m      7\u001b[0m     \u001b[38;5;28mlist\u001b[39m(\u001b[38;5;124m\"\u001b[39m\u001b[38;5;124mQSWCZVFT\u001b[39m\u001b[38;5;124m\"\u001b[39m),\n\u001b[0;32m   (...)\u001b[0m\n\u001b[1;32m     15\u001b[0m     \u001b[38;5;28mlist\u001b[39m(\u001b[38;5;124m\"\u001b[39m\u001b[38;5;124mJZTQPRB\u001b[39m\u001b[38;5;124m\"\u001b[39m)\n\u001b[1;32m     16\u001b[0m ]\n\u001b[0;32m---> 19\u001b[0m \u001b[38;5;28;01mfor\u001b[39;00m l \u001b[38;5;129;01min\u001b[39;00m \u001b[43ms\u001b[49m\u001b[43m[\u001b[49m\u001b[38;5;241;43m10\u001b[39;49m\u001b[43m:\u001b[49m\u001b[43m]\u001b[49m:\n\u001b[1;32m     20\u001b[0m     l \u001b[38;5;241m=\u001b[39m l[\u001b[38;5;241m5\u001b[39m:]\n\u001b[1;32m     21\u001b[0m     a,r \u001b[38;5;241m=\u001b[39m l\u001b[38;5;241m.\u001b[39msplit(\u001b[38;5;124m\"\u001b[39m\u001b[38;5;124m from \u001b[39m\u001b[38;5;124m\"\u001b[39m)\n",
      "\u001b[0;31mTypeError\u001b[0m: unhashable type: 'slice'"
     ]
    }
   ],
   "source": [
    "print(\"\".join(z[-1] for z in stacks[1:]))\n",
    "\n",
    "\n",
    "\n",
    "stacks = [\n",
    "    [],\n",
    "    list(\"QSWCZVFT\"),\n",
    "    list(\"QRB\"),\n",
    "    list(\"BZTQPMS\"),\n",
    "    list(\"DVFRQH\"),\n",
    "    list(\"JGLDBSTP\"),\n",
    "    list(\"WRTZ\"),\n",
    "    list(\"HQMNSFRJ\"),\n",
    "    list(\"RNFHW\"),\n",
    "    list(\"JZTQPRB\")\n",
    "]\n",
    "\n",
    "\n",
    "for l in s[10:]:\n",
    "    l = l[5:]\n",
    "    a,r = l.split(\" from \")\n",
    "    b,c = r.split(\" to \")\n",
    "    a=int(a)\n",
    "    b=int(b)\n",
    "    c=int(c)\n",
    "    stacks[c].extend(stacks[b][-a:])\n",
    "    del stacks[b][-a:]\n",
    "#    for _ in range(a):\n",
    "#        stacks[b].pop(-1)\n",
    "\n",
    "\n",
    "print(\"\".join(z[-1] for z in stacks[1:]))"
   ]
  },
  {
   "cell_type": "code",
   "execution_count": 205,
   "id": "6330a3ef",
   "metadata": {},
   "outputs": [
    {
     "ename": "IndexError",
     "evalue": "list index out of range",
     "output_type": "error",
     "traceback": [
      "\u001b[0;31m---------------------------------------------------------------------------\u001b[0m",
      "\u001b[0;31mIndexError\u001b[0m                                Traceback (most recent call last)",
      "Cell \u001b[0;32mIn[205], line 1\u001b[0m\n\u001b[0;32m----> 1\u001b[0m \u001b[43mget_day5_part2\u001b[49m\u001b[43m(\u001b[49m\u001b[43ms\u001b[49m\u001b[43m,\u001b[49m\u001b[43m \u001b[49m\u001b[43mp\u001b[49m\u001b[43m)\u001b[49m\n",
      "Cell \u001b[0;32mIn[194], line 10\u001b[0m, in \u001b[0;36mget_day5_part2\u001b[0;34m(stack_dict, proc)\u001b[0m\n\u001b[1;32m      8\u001b[0m result \u001b[38;5;241m=\u001b[39m \u001b[38;5;124m'\u001b[39m\u001b[38;5;124m'\u001b[39m\n\u001b[1;32m      9\u001b[0m \u001b[38;5;28;01mfor\u001b[39;00m k, v \u001b[38;5;129;01min\u001b[39;00m _stack_dict\u001b[38;5;241m.\u001b[39mitems():\n\u001b[0;32m---> 10\u001b[0m     result \u001b[38;5;241m+\u001b[39m\u001b[38;5;241m=\u001b[39m \u001b[43mv\u001b[49m\u001b[43m[\u001b[49m\u001b[38;5;241;43m-\u001b[39;49m\u001b[38;5;241;43m1\u001b[39;49m\u001b[43m]\u001b[49m\n\u001b[1;32m     11\u001b[0m \u001b[38;5;28;01mreturn\u001b[39;00m result\n",
      "\u001b[0;31mIndexError\u001b[0m: list index out of range"
     ]
    }
   ],
   "source": [
    "get_day5_part2(s, p)"
   ]
  },
  {
   "cell_type": "code",
   "execution_count": 181,
   "id": "2116ce85",
   "metadata": {},
   "outputs": [
    {
     "data": {
      "text/plain": [
       "'DMRDFRHHH'"
      ]
     },
     "execution_count": 181,
     "metadata": {},
     "output_type": "execute_result"
    }
   ],
   "source": [
    "for c in proc:\n",
    "    length = c[0]\n",
    "    moved_item = stack_dict[c[1]][-length:]\n",
    "    del stack_dict[c[1]][-length:]\n",
    "    stack_dict[c[2]] = stack_dict[c[2]] + moved_item\n",
    "result = ''\n",
    "for k, v in stack_dict.items():\n",
    "    result += v[-1]\n",
    "result"
   ]
  },
  {
   "cell_type": "markdown",
   "id": "886751cb",
   "metadata": {},
   "source": [
    "# Day 6"
   ]
  },
  {
   "cell_type": "code",
   "execution_count": null,
   "id": "f91ed9be",
   "metadata": {},
   "outputs": [],
   "source": []
  },
  {
   "cell_type": "markdown",
   "id": "ce2db7aa",
   "metadata": {},
   "source": [
    "# Day 7"
   ]
  },
  {
   "cell_type": "code",
   "execution_count": null,
   "id": "2c7dce03",
   "metadata": {},
   "outputs": [],
   "source": []
  },
  {
   "cell_type": "markdown",
   "id": "039f2c65",
   "metadata": {},
   "source": [
    "# Day 8"
   ]
  },
  {
   "cell_type": "code",
   "execution_count": null,
   "id": "43c0cac5",
   "metadata": {},
   "outputs": [],
   "source": []
  },
  {
   "cell_type": "markdown",
   "id": "31d57b9f",
   "metadata": {},
   "source": [
    "# Day 9"
   ]
  },
  {
   "cell_type": "code",
   "execution_count": null,
   "id": "8306571c",
   "metadata": {},
   "outputs": [],
   "source": []
  },
  {
   "cell_type": "markdown",
   "id": "e52f7c6d",
   "metadata": {},
   "source": [
    "# Day 10"
   ]
  },
  {
   "cell_type": "code",
   "execution_count": null,
   "id": "62676af8",
   "metadata": {},
   "outputs": [],
   "source": []
  },
  {
   "cell_type": "markdown",
   "id": "5ccf9bcc",
   "metadata": {},
   "source": [
    "# Day 11"
   ]
  },
  {
   "cell_type": "code",
   "execution_count": null,
   "id": "142c2f18",
   "metadata": {},
   "outputs": [],
   "source": []
  },
  {
   "cell_type": "markdown",
   "id": "367b57a6",
   "metadata": {},
   "source": [
    "# Day 12"
   ]
  },
  {
   "cell_type": "code",
   "execution_count": null,
   "id": "e61128b8",
   "metadata": {},
   "outputs": [],
   "source": []
  },
  {
   "cell_type": "markdown",
   "id": "0f5ffb37",
   "metadata": {},
   "source": [
    "# Day 13"
   ]
  },
  {
   "cell_type": "code",
   "execution_count": null,
   "id": "9a5d852c",
   "metadata": {},
   "outputs": [],
   "source": []
  },
  {
   "cell_type": "markdown",
   "id": "4aac3dd7",
   "metadata": {},
   "source": [
    "# Day 14"
   ]
  },
  {
   "cell_type": "code",
   "execution_count": null,
   "id": "c97b5ebc",
   "metadata": {},
   "outputs": [],
   "source": []
  },
  {
   "cell_type": "markdown",
   "id": "8b1e7db7",
   "metadata": {},
   "source": [
    "# Day 15"
   ]
  },
  {
   "cell_type": "code",
   "execution_count": null,
   "id": "5163dd86",
   "metadata": {},
   "outputs": [],
   "source": []
  },
  {
   "cell_type": "markdown",
   "id": "67c32dbf",
   "metadata": {},
   "source": [
    "# Day 16"
   ]
  },
  {
   "cell_type": "code",
   "execution_count": null,
   "id": "0c25b621",
   "metadata": {},
   "outputs": [],
   "source": []
  },
  {
   "cell_type": "markdown",
   "id": "378924e1",
   "metadata": {},
   "source": [
    "# Day 17"
   ]
  },
  {
   "cell_type": "code",
   "execution_count": null,
   "id": "180e2872",
   "metadata": {},
   "outputs": [],
   "source": []
  },
  {
   "cell_type": "markdown",
   "id": "0ca4a36f",
   "metadata": {},
   "source": [
    "# Day 18"
   ]
  },
  {
   "cell_type": "code",
   "execution_count": null,
   "id": "c48b4ba4",
   "metadata": {},
   "outputs": [],
   "source": []
  },
  {
   "cell_type": "markdown",
   "id": "e99c5415",
   "metadata": {},
   "source": [
    "# Day 19"
   ]
  },
  {
   "cell_type": "code",
   "execution_count": null,
   "id": "a54beefc",
   "metadata": {},
   "outputs": [],
   "source": []
  },
  {
   "cell_type": "markdown",
   "id": "5b2c8cd4",
   "metadata": {},
   "source": [
    "# Day 20"
   ]
  },
  {
   "cell_type": "code",
   "execution_count": null,
   "id": "eb0891fe",
   "metadata": {},
   "outputs": [],
   "source": []
  },
  {
   "cell_type": "markdown",
   "id": "47b8a1ea",
   "metadata": {},
   "source": [
    "# Day 21"
   ]
  },
  {
   "cell_type": "code",
   "execution_count": null,
   "id": "048b327f",
   "metadata": {},
   "outputs": [],
   "source": []
  },
  {
   "cell_type": "markdown",
   "id": "97658d22",
   "metadata": {},
   "source": [
    "# Day 22"
   ]
  },
  {
   "cell_type": "code",
   "execution_count": null,
   "id": "b1fad67e",
   "metadata": {},
   "outputs": [],
   "source": []
  },
  {
   "cell_type": "markdown",
   "id": "8e24a5dd",
   "metadata": {},
   "source": [
    "# Day 23"
   ]
  },
  {
   "cell_type": "code",
   "execution_count": null,
   "id": "2762eb57",
   "metadata": {},
   "outputs": [],
   "source": []
  },
  {
   "cell_type": "markdown",
   "id": "dc53cea9",
   "metadata": {},
   "source": [
    "# Day 24"
   ]
  },
  {
   "cell_type": "code",
   "execution_count": null,
   "id": "4c52e68b",
   "metadata": {},
   "outputs": [],
   "source": []
  },
  {
   "cell_type": "markdown",
   "id": "6429147a",
   "metadata": {},
   "source": [
    "# Day 25"
   ]
  },
  {
   "cell_type": "code",
   "execution_count": null,
   "id": "8c884f89",
   "metadata": {},
   "outputs": [],
   "source": []
  }
 ],
 "metadata": {
  "kernelspec": {
   "display_name": "Python 3 (ipykernel)",
   "language": "python",
   "name": "python3"
  },
  "language_info": {
   "codemirror_mode": {
    "name": "ipython",
    "version": 3
   },
   "file_extension": ".py",
   "mimetype": "text/x-python",
   "name": "python",
   "nbconvert_exporter": "python",
   "pygments_lexer": "ipython3",
   "version": "3.9.6"
  }
 },
 "nbformat": 4,
 "nbformat_minor": 5
}
