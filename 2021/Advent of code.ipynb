{
 "cells": [
  {
   "cell_type": "code",
   "execution_count": 1034,
   "id": "7e9315b1",
   "metadata": {
    "ExecuteTime": {
     "end_time": "2021-12-09T15:59:23.674016Z",
     "start_time": "2021-12-09T15:59:23.656609Z"
    }
   },
   "outputs": [
    {
     "data": {
      "text/html": [
       "<style>.container { width:80% !important; }</style>"
      ],
      "text/plain": [
       "<IPython.core.display.HTML object>"
      ]
     },
     "metadata": {},
     "output_type": "display_data"
    }
   ],
   "source": [
    "from collections import defaultdict, Counter\n",
    "import pandas as pd\n",
    "import re\n",
    "import numpy as np\n",
    "from IPython.core.display import display, HTML\n",
    "display(HTML(\"<style>.container { width:80% !important; }</style>\"))"
   ]
  },
  {
   "cell_type": "code",
   "execution_count": 3,
   "id": "31c9de94",
   "metadata": {
    "ExecuteTime": {
     "end_time": "2021-12-06T08:33:01.144655Z",
     "start_time": "2021-12-06T08:33:01.121101Z"
    }
   },
   "outputs": [],
   "source": [
    "def open_source(day):\n",
    "    with open('source/{}.txt'.format(day), 'r') as f:\n",
    "        lista = f.readlines()\n",
    "    lista = [x.strip('\\n') for x in lista]\n",
    "    return lista"
   ]
  },
  {
   "cell_type": "markdown",
   "id": "ac969a58",
   "metadata": {
    "heading_collapsed": true
   },
   "source": [
    "# Day 1"
   ]
  },
  {
   "cell_type": "markdown",
   "id": "9dd6dc23",
   "metadata": {
    "hidden": true
   },
   "source": [
    "## Feladat 1"
   ]
  },
  {
   "cell_type": "code",
   "execution_count": 35,
   "id": "eebb556d",
   "metadata": {
    "ExecuteTime": {
     "end_time": "2021-12-02T15:15:14.272561Z",
     "start_time": "2021-12-02T15:15:14.259639Z"
    },
    "hidden": true
   },
   "outputs": [],
   "source": [
    "with open('source/day1_1.txt', 'r') as f:\n",
    "    lista = f.readlines()"
   ]
  },
  {
   "cell_type": "code",
   "execution_count": 36,
   "id": "fd84a1f7",
   "metadata": {
    "ExecuteTime": {
     "end_time": "2021-12-02T15:15:14.677114Z",
     "start_time": "2021-12-02T15:15:14.658655Z"
    },
    "hidden": true
   },
   "outputs": [],
   "source": [
    "lista = [int(x.strip('\\n')) for x in lista]"
   ]
  },
  {
   "cell_type": "code",
   "execution_count": 34,
   "id": "9898858f",
   "metadata": {
    "ExecuteTime": {
     "end_time": "2021-12-02T15:15:10.282679Z",
     "start_time": "2021-12-02T15:15:10.268282Z"
    },
    "hidden": true
   },
   "outputs": [],
   "source": [
    "def nagyobb(lista):\n",
    "    elozo = lista[0]\n",
    "    eredmeny = 0\n",
    "    for x in lista[1:]:\n",
    "        if x > elozo:\n",
    "            eredmeny += 1\n",
    "        elozo = x\n",
    "    return eredmeny"
   ]
  },
  {
   "cell_type": "code",
   "execution_count": 38,
   "id": "6c4ac5b1",
   "metadata": {
    "ExecuteTime": {
     "end_time": "2021-12-02T15:15:23.614312Z",
     "start_time": "2021-12-02T15:15:23.602660Z"
    },
    "hidden": true
   },
   "outputs": [
    {
     "data": {
      "text/plain": [
       "1390"
      ]
     },
     "execution_count": 38,
     "metadata": {},
     "output_type": "execute_result"
    }
   ],
   "source": [
    "nagyobb(lista)"
   ]
  },
  {
   "cell_type": "markdown",
   "id": "139985e2",
   "metadata": {
    "hidden": true
   },
   "source": [
    "## Feladat 2"
   ]
  },
  {
   "cell_type": "code",
   "execution_count": 28,
   "id": "e71b6d45",
   "metadata": {
    "ExecuteTime": {
     "end_time": "2021-12-02T15:12:50.621706Z",
     "start_time": "2021-12-02T15:12:50.603017Z"
    },
    "hidden": true
   },
   "outputs": [],
   "source": [
    "def chunks(lista, chunk_size, overlap):\n",
    "    for i in range(0, len(lista), overlap):\n",
    "        if len(lista[i:i+chunk_size]) == 3:\n",
    "            yield lista[i:i+chunk_size]\n",
    "\n",
    "lista_3as = []            \n",
    "for x in chunks(lista, 3, 1):\n",
    "    lista_3as.append(sum(x))"
   ]
  },
  {
   "cell_type": "code",
   "execution_count": 39,
   "id": "d39b216e",
   "metadata": {
    "ExecuteTime": {
     "end_time": "2021-12-02T15:15:33.324141Z",
     "start_time": "2021-12-02T15:15:33.305377Z"
    },
    "hidden": true
   },
   "outputs": [
    {
     "data": {
      "text/plain": [
       "1457"
      ]
     },
     "execution_count": 39,
     "metadata": {},
     "output_type": "execute_result"
    }
   ],
   "source": [
    "nagyobb(lista_3as)"
   ]
  },
  {
   "cell_type": "markdown",
   "id": "119966b0",
   "metadata": {
    "ExecuteTime": {
     "end_time": "2021-12-02T15:13:22.811361Z",
     "start_time": "2021-12-02T15:13:22.797325Z"
    },
    "heading_collapsed": true
   },
   "source": [
    "# Day 2"
   ]
  },
  {
   "cell_type": "markdown",
   "id": "f7ac8e02",
   "metadata": {
    "hidden": true
   },
   "source": [
    "## Feladat 1"
   ]
  },
  {
   "cell_type": "code",
   "execution_count": null,
   "id": "c38502c1",
   "metadata": {
    "hidden": true
   },
   "outputs": [],
   "source": [
    "final horizontal * final depth"
   ]
  },
  {
   "cell_type": "code",
   "execution_count": 42,
   "id": "f81f27c7",
   "metadata": {
    "ExecuteTime": {
     "end_time": "2021-12-02T15:20:56.150066Z",
     "start_time": "2021-12-02T15:20:56.145049Z"
    },
    "hidden": true
   },
   "outputs": [],
   "source": [
    "with open('source/day2.txt', 'r') as f:\n",
    "    lista = f.readlines()\n",
    "lista = [x.strip('\\n') for x in lista]"
   ]
  },
  {
   "cell_type": "code",
   "execution_count": 47,
   "id": "ea186310",
   "metadata": {
    "ExecuteTime": {
     "end_time": "2021-12-02T15:23:19.668520Z",
     "start_time": "2021-12-02T15:23:19.651835Z"
    },
    "hidden": true
   },
   "outputs": [],
   "source": [
    "horizontal_pos = 0\n",
    "depth = 0\n",
    "for x in lista:\n",
    "    if 'forward' in x:\n",
    "        horizontal_pos += int(x.split(' ')[-1])\n",
    "    elif 'up' in x:\n",
    "        depth -= int(x.split(' ')[-1])\n",
    "    elif 'down' in x:\n",
    "        depth += int(x.split(' ')[-1])"
   ]
  },
  {
   "cell_type": "code",
   "execution_count": 50,
   "id": "9fd4b082",
   "metadata": {
    "ExecuteTime": {
     "end_time": "2021-12-02T15:23:31.595943Z",
     "start_time": "2021-12-02T15:23:31.585930Z"
    },
    "hidden": true
   },
   "outputs": [
    {
     "data": {
      "text/plain": [
       "1693300"
      ]
     },
     "execution_count": 50,
     "metadata": {},
     "output_type": "execute_result"
    }
   ],
   "source": [
    "horizontal_pos * depth"
   ]
  },
  {
   "cell_type": "markdown",
   "id": "0b15a18d",
   "metadata": {
    "ExecuteTime": {
     "end_time": "2021-12-02T15:23:24.662621Z",
     "start_time": "2021-12-02T15:23:24.649446Z"
    },
    "hidden": true
   },
   "source": [
    "## Feladat 2"
   ]
  },
  {
   "cell_type": "code",
   "execution_count": 51,
   "id": "d4925e0d",
   "metadata": {
    "ExecuteTime": {
     "end_time": "2021-12-02T15:27:02.946481Z",
     "start_time": "2021-12-02T15:27:02.939262Z"
    },
    "hidden": true
   },
   "outputs": [],
   "source": [
    "horizontal_pos = 0\n",
    "aim = 0\n",
    "depth = 0\n",
    "for x in lista:\n",
    "    if 'up' in x:\n",
    "        aim -= int(x.split(' ')[-1])\n",
    "    elif 'down' in x:\n",
    "        aim += int(x.split(' ')[-1])\n",
    "    if 'forward' in x:\n",
    "        horizontal_pos += int(x.split(' ')[-1])\n",
    "        depth += int(x.split(' ')[-1]) * aim"
   ]
  },
  {
   "cell_type": "code",
   "execution_count": 54,
   "id": "5f349af6",
   "metadata": {
    "ExecuteTime": {
     "end_time": "2021-12-02T15:27:30.134338Z",
     "start_time": "2021-12-02T15:27:30.120247Z"
    },
    "hidden": true
   },
   "outputs": [
    {
     "data": {
      "text/plain": [
       "1857958050"
      ]
     },
     "execution_count": 54,
     "metadata": {},
     "output_type": "execute_result"
    }
   ],
   "source": [
    "horizontal_pos * depth"
   ]
  },
  {
   "cell_type": "markdown",
   "id": "cb8575ba",
   "metadata": {
    "heading_collapsed": true
   },
   "source": [
    "# Day 3"
   ]
  },
  {
   "cell_type": "markdown",
   "id": "a1e4743b",
   "metadata": {
    "heading_collapsed": true,
    "hidden": true
   },
   "source": [
    "## Feladat 1"
   ]
  },
  {
   "cell_type": "code",
   "execution_count": 73,
   "id": "9d7e5094",
   "metadata": {
    "ExecuteTime": {
     "end_time": "2021-12-03T07:37:26.452229Z",
     "start_time": "2021-12-03T07:37:26.433187Z"
    },
    "hidden": true
   },
   "outputs": [],
   "source": []
  },
  {
   "cell_type": "code",
   "execution_count": 65,
   "id": "c09426de",
   "metadata": {
    "ExecuteTime": {
     "end_time": "2021-12-03T07:29:54.929373Z",
     "start_time": "2021-12-03T07:29:54.924985Z"
    },
    "hidden": true
   },
   "outputs": [],
   "source": [
    "def open_source(day):\n",
    "    with open('source/{}.txt'.format(day), 'r') as f:\n",
    "        lista = f.readlines()\n",
    "    lista = [x.strip('\\n') for x in lista]\n",
    "    return lista"
   ]
  },
  {
   "cell_type": "code",
   "execution_count": 66,
   "id": "8f25c762",
   "metadata": {
    "ExecuteTime": {
     "end_time": "2021-12-03T07:29:55.223310Z",
     "start_time": "2021-12-03T07:29:55.216430Z"
    },
    "hidden": true
   },
   "outputs": [],
   "source": [
    "lista = open_source('day3')"
   ]
  },
  {
   "cell_type": "code",
   "execution_count": 74,
   "id": "3db9e71c",
   "metadata": {
    "ExecuteTime": {
     "end_time": "2021-12-03T07:38:26.002168Z",
     "start_time": "2021-12-03T07:38:25.987071Z"
    },
    "hidden": true
   },
   "outputs": [],
   "source": [
    "dd = defaultdict(list)"
   ]
  },
  {
   "cell_type": "code",
   "execution_count": 97,
   "id": "2f16dbf2",
   "metadata": {
    "ExecuteTime": {
     "end_time": "2021-12-03T07:48:03.561994Z",
     "start_time": "2021-12-03T07:48:03.549735Z"
    },
    "hidden": true
   },
   "outputs": [],
   "source": [
    "#def count_binary()\n",
    "dd = defaultdict(list)\n",
    "gamma = ''\n",
    "epsilon = ''\n",
    "for i in range(len(lista[0])):\n",
    "    for j in lista:\n",
    "        dd[i].append(j[i])\n",
    "    gamma += max(set(dd[i]), key=dd[i].count)\n",
    "    epsilon += min(set(dd[i]), key=dd[i].count)    "
   ]
  },
  {
   "cell_type": "code",
   "execution_count": 101,
   "id": "d60f9716",
   "metadata": {
    "ExecuteTime": {
     "end_time": "2021-12-03T07:48:31.435935Z",
     "start_time": "2021-12-03T07:48:31.420715Z"
    },
    "hidden": true
   },
   "outputs": [
    {
     "data": {
      "text/plain": [
       "2640986"
      ]
     },
     "execution_count": 101,
     "metadata": {},
     "output_type": "execute_result"
    }
   ],
   "source": [
    "int(gamma, 2) * int(epsilon, 2)"
   ]
  },
  {
   "cell_type": "markdown",
   "id": "7178cbc7",
   "metadata": {
    "ExecuteTime": {
     "end_time": "2021-12-03T07:48:06.952888Z",
     "start_time": "2021-12-03T07:48:06.941038Z"
    },
    "hidden": true
   },
   "source": [
    "## Feladat 2"
   ]
  },
  {
   "cell_type": "code",
   "execution_count": 94,
   "id": "f16e9487",
   "metadata": {
    "ExecuteTime": {
     "end_time": "2021-12-03T07:46:49.827296Z",
     "start_time": "2021-12-03T07:46:49.815789Z"
    },
    "hidden": true
   },
   "outputs": [
    {
     "data": {
      "text/plain": [
       "'0'"
      ]
     },
     "execution_count": 94,
     "metadata": {},
     "output_type": "execute_result"
    }
   ],
   "source": [
    "dd = defaultdict(list)\n",
    "gamma = ''\n",
    "epsilon = ''\n",
    "for i in range(len(lista[0])):\n",
    "    for j in lista:\n",
    "        dd[i].append(j[i])"
   ]
  },
  {
   "cell_type": "code",
   "execution_count": 113,
   "id": "841c95fb",
   "metadata": {
    "ExecuteTime": {
     "end_time": "2021-12-03T08:07:15.906840Z",
     "start_time": "2021-12-03T08:07:15.899386Z"
    },
    "hidden": true
   },
   "outputs": [],
   "source": [
    "pandas_lista = [list(x) for x in lista]"
   ]
  },
  {
   "cell_type": "code",
   "execution_count": 115,
   "id": "c7a1d82f",
   "metadata": {
    "ExecuteTime": {
     "end_time": "2021-12-03T08:07:33.660340Z",
     "start_time": "2021-12-03T08:07:33.642685Z"
    },
    "hidden": true
   },
   "outputs": [],
   "source": [
    "df = pd.DataFrame(pandas_lista)"
   ]
  },
  {
   "cell_type": "code",
   "execution_count": 149,
   "id": "ef686abf",
   "metadata": {
    "ExecuteTime": {
     "end_time": "2021-12-03T08:20:30.753592Z",
     "start_time": "2021-12-03T08:20:30.748592Z"
    },
    "hidden": true
   },
   "outputs": [],
   "source": [
    "def melyik_o(df, pos):  \n",
    "    if df.groupby([pos])[pos].count().iloc[0] > df.groupby([pos])[pos].count().iloc[1]:\n",
    "        return '0'\n",
    "    elif df.groupby([pos])[pos].count().iloc[0] < df.groupby([pos])[pos].count().iloc[1]:\n",
    "        return '1'\n",
    "    else:\n",
    "        return '1'\n",
    "    \n",
    "def melyik_co(df, pos):  \n",
    "    if df.groupby([pos])[pos].count().iloc[0] > df.groupby([pos])[pos].count().iloc[1]:\n",
    "        return '1'\n",
    "    elif df.groupby([pos])[pos].count().iloc[0] < df.groupby([pos])[pos].count().iloc[1]:\n",
    "        return '0'\n",
    "    else:\n",
    "        return '0'"
   ]
  },
  {
   "cell_type": "code",
   "execution_count": 150,
   "id": "44f208a1",
   "metadata": {
    "ExecuteTime": {
     "end_time": "2021-12-03T08:21:07.259958Z",
     "start_time": "2021-12-03T08:21:07.224168Z"
    },
    "hidden": true
   },
   "outputs": [],
   "source": [
    "def melyik_o(df, pos):  \n",
    "    if df.groupby([pos])[pos].count().iloc[0] > df.groupby([pos])[pos].count().iloc[1]:\n",
    "        return '0'\n",
    "    elif df.groupby([pos])[pos].count().iloc[0] < df.groupby([pos])[pos].count().iloc[1]:\n",
    "        return '1'\n",
    "    else:\n",
    "        return '1'\n",
    "\n",
    "oxigen = df.copy()\n",
    "for col in oxigen.columns:\n",
    "    marado = melyik_o(oxigen, col)\n",
    "    oxigen = oxigen.loc[oxigen[col] == marado]\n",
    "    if len(oxigen) == 1:\n",
    "        break"
   ]
  },
  {
   "cell_type": "code",
   "execution_count": 158,
   "id": "461a9995",
   "metadata": {
    "ExecuteTime": {
     "end_time": "2021-12-03T08:23:37.142103Z",
     "start_time": "2021-12-03T08:23:37.116928Z"
    },
    "hidden": true
   },
   "outputs": [],
   "source": [
    "co2 = df.copy()\n",
    "for col in co2.columns:\n",
    "    marado = melyik_co(co2, col)\n",
    "    co2 = co2.loc[co2[col] == marado]\n",
    "    if len(co2) == 1:\n",
    "        break"
   ]
  },
  {
   "cell_type": "code",
   "execution_count": 162,
   "id": "4de0df3d",
   "metadata": {
    "ExecuteTime": {
     "end_time": "2021-12-03T08:25:10.666330Z",
     "start_time": "2021-12-03T08:25:10.653710Z"
    },
    "hidden": true
   },
   "outputs": [
    {
     "data": {
      "text/plain": [
       "6822109"
      ]
     },
     "execution_count": 162,
     "metadata": {},
     "output_type": "execute_result"
    }
   ],
   "source": [
    "int(co2.apply(''.join, axis=1).iloc[0], 2) * int(oxigen.apply(''.join, axis=1).iloc[0], 2)"
   ]
  },
  {
   "cell_type": "markdown",
   "id": "cfe8c7e0",
   "metadata": {
    "heading_collapsed": true
   },
   "source": [
    "# Day 4"
   ]
  },
  {
   "cell_type": "markdown",
   "id": "1c40e2d5",
   "metadata": {
    "hidden": true
   },
   "source": [
    "## Feladat 1"
   ]
  },
  {
   "cell_type": "code",
   "execution_count": 630,
   "id": "a37bbcaa",
   "metadata": {
    "ExecuteTime": {
     "end_time": "2021-12-04T12:24:16.189913Z",
     "start_time": "2021-12-04T12:24:16.174547Z"
    },
    "hidden": true
   },
   "outputs": [],
   "source": [
    "with open('source/day4.txt', 'r') as f:\n",
    "    lista = f.readlines()"
   ]
  },
  {
   "cell_type": "code",
   "execution_count": 631,
   "id": "62573cae",
   "metadata": {
    "ExecuteTime": {
     "end_time": "2021-12-04T12:24:16.540111Z",
     "start_time": "2021-12-04T12:24:16.521979Z"
    },
    "hidden": true
   },
   "outputs": [],
   "source": [
    "boards = [list(filter(None, x.strip('\\n').split(' '))) for x in lista[2:]]"
   ]
  },
  {
   "cell_type": "code",
   "execution_count": 625,
   "id": "b807b752",
   "metadata": {
    "ExecuteTime": {
     "end_time": "2021-12-04T12:22:08.781801Z",
     "start_time": "2021-12-04T12:22:08.681914Z"
    },
    "hidden": true
   },
   "outputs": [],
   "source": [
    "def vert_match(df):\n",
    "    a = df.to_numpy() # df.values (pandas<0.24)\n",
    "    if True in (a[0] == a).all(0):\n",
    "        return True\n",
    "    else:\n",
    "        return False\n",
    "    \n",
    "def hori_match(df):\n",
    "    if len(df[df.apply(lambda x: min(x) == max(x), 1)]) > 0:\n",
    "        return True\n",
    "    else:\n",
    "        return False\n",
    "\n",
    "list_of_boards = []\n",
    "for x, y in zip(range(0, len(boards)+1, 6), range(5, len(boards)+1, 6)):\n",
    "    list_of_boards.append(pd.DataFrame(boards[x:y]))\n",
    "    \n",
    "result = ''\n",
    "result_df = ''\n",
    "for i, num in enumerate(draw):\n",
    "    for j, df in enumerate(list_of_boards):\n",
    "        df.replace(num, 'x', inplace=True)\n",
    "        if vert_match(df) or hori_match(df):\n",
    "            result_df = df\n",
    "            result = result_df.replace('x', 0).astype(int).sum().sum() * int(num)\n",
    "            break\n",
    "    else:\n",
    "        continue\n",
    "    break"
   ]
  },
  {
   "cell_type": "code",
   "execution_count": 629,
   "id": "491cb8cb",
   "metadata": {
    "ExecuteTime": {
     "end_time": "2021-12-04T12:22:18.482587Z",
     "start_time": "2021-12-04T12:22:18.457127Z"
    },
    "hidden": true
   },
   "outputs": [
    {
     "data": {
      "text/plain": [
       "64084"
      ]
     },
     "execution_count": 629,
     "metadata": {},
     "output_type": "execute_result"
    }
   ],
   "source": [
    "result"
   ]
  },
  {
   "cell_type": "markdown",
   "id": "1ced6437",
   "metadata": {
    "hidden": true
   },
   "source": [
    "## Feladat 2"
   ]
  },
  {
   "cell_type": "code",
   "execution_count": 687,
   "id": "42d96d07",
   "metadata": {
    "ExecuteTime": {
     "end_time": "2021-12-04T12:55:04.835701Z",
     "start_time": "2021-12-04T12:54:58.715835Z"
    },
    "hidden": true,
    "scrolled": true
   },
   "outputs": [
    {
     "name": "stdout",
     "output_type": "stream",
     "text": [
      "removed df: 54 for num: 74\n",
      "removed df: 42 for num: 26\n",
      "removed df: 12 for num: 83\n",
      "removed df: 12 for num: 77\n",
      "removed df: 27 for num: 75\n",
      "removed df: 7 for num: 56\n",
      "removed df: 42 for num: 73\n",
      "removed df: 64 for num: 86\n",
      "removed df: 70 for num: 86\n",
      "removed df: 87 for num: 86\n",
      "removed df: 4 for num: 55\n",
      "removed df: 12 for num: 55\n",
      "removed df: 22 for num: 55\n",
      "removed df: 66 for num: 55\n",
      "removed df: 67 for num: 55\n",
      "removed df: 38 for num: 36\n",
      "removed df: 15 for num: 13\n",
      "removed df: 75 for num: 52\n",
      "removed df: 76 for num: 52\n",
      "removed df: 75 for num: 63\n",
      "removed df: 0 for num: 79\n",
      "removed df: 15 for num: 79\n",
      "removed df: 10 for num: 9\n",
      "removed df: 17 for num: 10\n",
      "removed df: 18 for num: 10\n",
      "removed df: 53 for num: 10\n",
      "removed df: 61 for num: 10\n",
      "removed df: 1 for num: 16\n",
      "removed df: 8 for num: 16\n",
      "removed df: 34 for num: 16\n",
      "removed df: 66 for num: 16\n",
      "removed df: 68 for num: 16\n",
      "removed df: 28 for num: 8\n",
      "removed df: 47 for num: 8\n",
      "removed df: 58 for num: 8\n",
      "removed df: 11 for num: 69\n",
      "removed df: 33 for num: 69\n",
      "removed df: 54 for num: 69\n",
      "removed df: 34 for num: 11\n",
      "removed df: 40 for num: 11\n",
      "removed df: 31 for num: 50\n",
      "removed df: 50 for num: 50\n",
      "removed df: 57 for num: 50\n",
      "removed df: 17 for num: 54\n",
      "removed df: 3 for num: 81\n",
      "removed df: 13 for num: 81\n",
      "removed df: 15 for num: 81\n",
      "removed df: 46 for num: 81\n",
      "removed df: 1 for num: 22\n",
      "removed df: 9 for num: 22\n",
      "removed df: 19 for num: 22\n",
      "removed df: 20 for num: 22\n",
      "removed df: 33 for num: 22\n",
      "removed df: 46 for num: 22\n",
      "removed df: 6 for num: 45\n",
      "removed df: 15 for num: 45\n",
      "removed df: 25 for num: 45\n",
      "removed df: 31 for num: 45\n",
      "removed df: 33 for num: 45\n",
      "removed df: 6 for num: 1\n",
      "removed df: 13 for num: 1\n",
      "removed df: 18 for num: 1\n",
      "removed df: 26 for num: 1\n",
      "removed df: 31 for num: 1\n",
      "removed df: 3 for num: 88\n",
      "removed df: 11 for num: 88\n",
      "removed df: 18 for num: 88\n",
      "removed df: 28 for num: 88\n",
      "removed df: 9 for num: 44\n",
      "removed df: 12 for num: 44\n",
      "removed df: 20 for num: 44\n",
      "removed df: 24 for num: 44\n",
      "removed df: 26 for num: 44\n",
      "removed df: 8 for num: 62\n",
      "removed df: 12 for num: 62\n",
      "removed df: 13 for num: 62\n",
      "removed df: 23 for num: 62\n",
      "removed df: 10 for num: 0\n",
      "removed df: 1 for num: 96\n",
      "removed df: 8 for num: 96\n",
      "removed df: 12 for num: 96\n",
      "removed df: 16 for num: 96\n",
      "removed df: 17 for num: 96\n",
      "removed df: 12 for num: 94\n",
      "removed df: 3 for num: 31\n",
      "removed df: 5 for num: 31\n",
      "removed df: 11 for num: 31\n",
      "removed df: 12 for num: 31\n",
      "removed df: 3 for num: 90\n",
      "removed df: 2 for num: 39\n",
      "removed df: 0 for num: 92\n",
      "removed df: 3 for num: 92\n",
      "removed df: 5 for num: 92\n",
      "removed df: 3 for num: 37\n",
      "removed df: 5 for num: 98\n",
      "removed df: 1 for num: 21\n",
      "removed df: 0 for num: 41\n"
     ]
    }
   ],
   "source": [
    "list_of_boards = []\n",
    "for x, y in zip(range(0, len(boards)+1, 6), range(5, len(boards)+1, 6)):\n",
    "    list_of_boards.append(pd.DataFrame(boards[x:y]))\n",
    "    \n",
    "result = ''\n",
    "for i, num in enumerate(draw):\n",
    "    for j, df in enumerate(list_of_boards):\n",
    "        df.replace(num, 'x', inplace=True)\n",
    "        if (vert_match(df) or hori_match(df)) and (len(list_of_boards) > 1):\n",
    "            print(\"removed df: {} for num: {}\".format(j, num))\n",
    "            list_of_boards.pop(j)\n",
    "        if num == '41':\n",
    "            break\n",
    "    else:\n",
    "        continue\n",
    "    break\n",
    "\n"
   ]
  },
  {
   "cell_type": "code",
   "execution_count": 678,
   "id": "bc0052ec",
   "metadata": {
    "ExecuteTime": {
     "end_time": "2021-12-04T12:50:08.410854Z",
     "start_time": "2021-12-04T12:50:08.381038Z"
    },
    "hidden": true
   },
   "outputs": [
    {
     "data": {
      "text/html": [
       "<div>\n",
       "<style scoped>\n",
       "    .dataframe tbody tr th:only-of-type {\n",
       "        vertical-align: middle;\n",
       "    }\n",
       "\n",
       "    .dataframe tbody tr th {\n",
       "        vertical-align: top;\n",
       "    }\n",
       "\n",
       "    .dataframe thead th {\n",
       "        text-align: right;\n",
       "    }\n",
       "</style>\n",
       "<table border=\"1\" class=\"dataframe\">\n",
       "  <thead>\n",
       "    <tr style=\"text-align: right;\">\n",
       "      <th></th>\n",
       "      <th>0</th>\n",
       "      <th>1</th>\n",
       "      <th>2</th>\n",
       "      <th>3</th>\n",
       "      <th>4</th>\n",
       "    </tr>\n",
       "  </thead>\n",
       "  <tbody>\n",
       "    <tr>\n",
       "      <th>0</th>\n",
       "      <td>x</td>\n",
       "      <td>44</td>\n",
       "      <td>x</td>\n",
       "      <td>x</td>\n",
       "      <td>x</td>\n",
       "    </tr>\n",
       "    <tr>\n",
       "      <th>1</th>\n",
       "      <td>31</td>\n",
       "      <td>x</td>\n",
       "      <td>x</td>\n",
       "      <td>x</td>\n",
       "      <td>3</td>\n",
       "    </tr>\n",
       "    <tr>\n",
       "      <th>2</th>\n",
       "      <td>x</td>\n",
       "      <td>21</td>\n",
       "      <td>x</td>\n",
       "      <td>x</td>\n",
       "      <td>60</td>\n",
       "    </tr>\n",
       "    <tr>\n",
       "      <th>3</th>\n",
       "      <td>x</td>\n",
       "      <td>81</td>\n",
       "      <td>x</td>\n",
       "      <td>x</td>\n",
       "      <td>x</td>\n",
       "    </tr>\n",
       "    <tr>\n",
       "      <th>4</th>\n",
       "      <td>x</td>\n",
       "      <td>x</td>\n",
       "      <td>48</td>\n",
       "      <td>59</td>\n",
       "      <td>x</td>\n",
       "    </tr>\n",
       "  </tbody>\n",
       "</table>\n",
       "</div>"
      ],
      "text/plain": [
       "    0   1   2   3   4\n",
       "0   x  44   x   x   x\n",
       "1  31   x   x   x   3\n",
       "2   x  21   x   x  60\n",
       "3   x  81   x   x   x\n",
       "4   x   x  48  59   x"
      ]
     },
     "execution_count": 678,
     "metadata": {},
     "output_type": "execute_result"
    }
   ],
   "source": [
    "list_of_boards[0].replace('41', 'x')"
   ]
  },
  {
   "cell_type": "code",
   "execution_count": null,
   "id": "f6452c37",
   "metadata": {
    "hidden": true
   },
   "outputs": [],
   "source": [
    "list_of_boards = []\n",
    "for x, y in zip(range(0, len(boards)+1, 6), range(5, len(boards)+1, 6)):\n",
    "    list_of_boards.append(pd.DataFrame(boards[x:y]))\n",
    "    \n",
    "total_df = len(list_of_boards)\n",
    "remaining_df = 0\n",
    "for i, num in enumerate(draw):\n",
    "    for j, df in enumerate(list_of_boards):\n",
    "        df.replace(num, 'x', inplace=True)\n",
    "        if vert_match(df) or hori_match(df):\n",
    "            remanining_df += 1\n",
    "            list\n",
    "            break\n",
    "    else:\n",
    "        continue\n",
    "    break"
   ]
  },
  {
   "cell_type": "code",
   "execution_count": 688,
   "id": "a8bb45a9",
   "metadata": {
    "ExecuteTime": {
     "end_time": "2021-12-04T12:55:08.644968Z",
     "start_time": "2021-12-04T12:55:08.620368Z"
    },
    "hidden": true
   },
   "outputs": [
    {
     "data": {
      "text/plain": [
       "[    0   1   2   3   4\n",
       " 0   x  44   x   x   x\n",
       " 1  31   x   x   x   3\n",
       " 2   x  21  41   x  60\n",
       " 3   x  81   x   x   x\n",
       " 4   x   x  48  59   x,\n",
       "     0   1   2   3   4\n",
       " 0  67   x   x  88  89\n",
       " 1   x   x   x  28   x\n",
       " 2   x   x  60   x   x\n",
       " 3  42   x   x   x   x\n",
       " 4   x  62   x   x   x,\n",
       "     0   1   2   3   4\n",
       " 0   x   x   x  91   x\n",
       " 1   x   x   x   3   x\n",
       " 2   x  89  58   x   x\n",
       " 3  29   x  48  44   x\n",
       " 4   x   1  42   x  92]"
      ]
     },
     "execution_count": 688,
     "metadata": {},
     "output_type": "execute_result"
    }
   ],
   "source": [
    "list_of_boards"
   ]
  },
  {
   "cell_type": "code",
   "execution_count": 721,
   "id": "7e4aab8d",
   "metadata": {
    "ExecuteTime": {
     "end_time": "2021-12-04T13:16:14.506513Z",
     "start_time": "2021-12-04T13:16:14.248659Z"
    },
    "hidden": true
   },
   "outputs": [],
   "source": [
    "list_of_boards = []\n",
    "\n",
    "for x, y in zip(range(0, len(boards)+1, 6), range(5, len(boards)+1, 6)):\n",
    "    list_of_boards.append(pd.DataFrame(boards[x:y]))\n",
    "nyolc = [list_of_boards[8]]   \n",
    "to_remove = []\n",
    "for i, num in enumerate(draw):\n",
    "    for j, df in enumerate(nyolc):\n",
    "        df.replace(num, 'x', inplace=True)\n",
    "        if (vert_match(df) or hori_match(df)):\n",
    "            break\n",
    "    else:\n",
    "        continue\n",
    "    break\n",
    "\n"
   ]
  },
  {
   "cell_type": "code",
   "execution_count": 724,
   "id": "c94012ea",
   "metadata": {
    "ExecuteTime": {
     "end_time": "2021-12-04T13:17:01.594829Z",
     "start_time": "2021-12-04T13:17:01.559366Z"
    },
    "hidden": true
   },
   "outputs": [
    {
     "data": {
      "text/plain": [
       "12833"
      ]
     },
     "execution_count": 724,
     "metadata": {},
     "output_type": "execute_result"
    }
   ],
   "source": [
    "\n",
    "nyolc[0].replace('x', 0).astype(int).sum().sum() * int(num)\n"
   ]
  },
  {
   "cell_type": "code",
   "execution_count": 717,
   "id": "17b26dd8",
   "metadata": {
    "ExecuteTime": {
     "end_time": "2021-12-04T13:13:06.959984Z",
     "start_time": "2021-12-04T13:13:06.669984Z"
    },
    "hidden": true
   },
   "outputs": [
    {
     "data": {
      "text/plain": [
       "8"
      ]
     },
     "execution_count": 717,
     "metadata": {},
     "output_type": "execute_result"
    }
   ],
   "source": [
    "min(to_remove, key=to_remove.count)"
   ]
  },
  {
   "cell_type": "code",
   "execution_count": 719,
   "id": "648ba123",
   "metadata": {
    "ExecuteTime": {
     "end_time": "2021-12-04T13:15:06.461746Z",
     "start_time": "2021-12-04T13:15:06.439485Z"
    },
    "hidden": true
   },
   "outputs": [
    {
     "data": {
      "text/plain": [
       "[   0  1  2  3  4\n",
       " 0  x  x  x  x  x\n",
       " 1  x  x  x  x  x\n",
       " 2  x  x  x  x  x\n",
       " 3  x  x  x  x  x\n",
       " 4  x  x  x  x  x]"
      ]
     },
     "execution_count": 719,
     "metadata": {},
     "output_type": "execute_result"
    }
   ],
   "source": [
    "[list_of_boards[8]]"
   ]
  },
  {
   "cell_type": "markdown",
   "id": "a3292d95",
   "metadata": {
    "heading_collapsed": true
   },
   "source": [
    "# Day 5"
   ]
  },
  {
   "cell_type": "markdown",
   "id": "e8a9fb1a",
   "metadata": {
    "hidden": true
   },
   "source": [
    "## Feladat 1"
   ]
  },
  {
   "cell_type": "code",
   "execution_count": 3,
   "id": "1aecc770",
   "metadata": {
    "ExecuteTime": {
     "end_time": "2021-12-05T23:36:12.141275Z",
     "start_time": "2021-12-05T23:36:12.112940Z"
    },
    "hidden": true
   },
   "outputs": [],
   "source": [
    "with open('source/day5.txt', 'r') as f:\n",
    "    lista = f.readlines()"
   ]
  },
  {
   "cell_type": "code",
   "execution_count": 4,
   "id": "ccf97c67",
   "metadata": {
    "ExecuteTime": {
     "end_time": "2021-12-05T23:36:12.707270Z",
     "start_time": "2021-12-05T23:36:12.675513Z"
    },
    "hidden": true
   },
   "outputs": [],
   "source": [
    "floor = [re.split(' -> |,', x.strip('\\n')) for x in lista]\n",
    "floor = [[int(y) for y in x] for x in floor]"
   ]
  },
  {
   "cell_type": "code",
   "execution_count": 5,
   "id": "2c20e818",
   "metadata": {
    "ExecuteTime": {
     "end_time": "2021-12-05T23:36:13.241356Z",
     "start_time": "2021-12-05T23:36:13.221964Z"
    },
    "hidden": true
   },
   "outputs": [],
   "source": [
    "rmap = np.zeros((1000,1000), dtype=int)\n",
    "df = pd.DataFrame(rmap)\n",
    "df.index += 1\n",
    "df.columns = [x+1 for x in df.columns]\n",
    "# első az index"
   ]
  },
  {
   "cell_type": "code",
   "execution_count": 961,
   "id": "bc659244",
   "metadata": {
    "ExecuteTime": {
     "end_time": "2021-12-05T23:22:50.191802Z",
     "start_time": "2021-12-05T23:22:38.758818Z"
    },
    "hidden": true
   },
   "outputs": [],
   "source": [
    "def add(e, m):\n",
    "    df.loc[e, m] += 1\n",
    "\n",
    "for l in floor:\n",
    "    if l[0] == l[2]:\n",
    "        # vertical le és fel\n",
    "        df.loc[l[0], l[1]:l[3]] += 1\n",
    "        df.loc[l[0], l[3]:l[1]] += 1\n",
    "    elif l[1] == l[3]:\n",
    "        # horizontal jobbra és balra\n",
    "        df.loc[l[0]:l[2], l[1]] += 1\n",
    "        df.loc[l[2]:l[0], l[1]] += 1"
   ]
  },
  {
   "cell_type": "code",
   "execution_count": null,
   "id": "34331eaa",
   "metadata": {
    "hidden": true
   },
   "outputs": [],
   "source": [
    "df[df >= 2].count().sum()"
   ]
  },
  {
   "cell_type": "markdown",
   "id": "f6b296b4",
   "metadata": {
    "hidden": true
   },
   "source": [
    "## Feladat 2"
   ]
  },
  {
   "cell_type": "code",
   "execution_count": 6,
   "id": "1958766b",
   "metadata": {
    "ExecuteTime": {
     "end_time": "2021-12-05T23:36:55.440785Z",
     "start_time": "2021-12-05T23:36:17.291576Z"
    },
    "hidden": true
   },
   "outputs": [],
   "source": [
    "def add(e, m):\n",
    "    df.loc[e, m] += 1\n",
    "\n",
    "for l in floor:\n",
    "    if l[0] == l[2]:\n",
    "        # vertical le és fel\n",
    "        df.loc[l[0], l[1]:l[3]] += 1\n",
    "        df.loc[l[0], l[3]:l[1]] += 1\n",
    "    elif l[1] == l[3]:\n",
    "        # horizontal jobbra és balra\n",
    "        df.loc[l[0]:l[2], l[1]] += 1\n",
    "        df.loc[l[2]:l[0], l[1]] += 1\n",
    "    elif (l[0] < l[2]) and (l[1] < l[3]):\n",
    "        # d jobbra le\n",
    "        e = np.arange(l[0], l[2]+1, 1)\n",
    "        m = np.arange(l[1], l[3]+1, 1)\n",
    "        [add(x[0], x[1]) for x in zip(e, m)]\n",
    "    elif (l[0] > l[2]) and (l[1] > l[3]):\n",
    "        # d balra fel\n",
    "        e = np.arange(l[0], l[2]-1, -1)\n",
    "        m = np.arange(l[1], l[3]-1, -1)\n",
    "        [add(x[0], x[1]) for x in zip(e, m)]\n",
    "    elif (l[0] > l[2]) and (l[1] < l[3]):\n",
    "        # d jobbra fel\n",
    "        e = np.arange(l[0], l[2]-1, -1)\n",
    "        m = np.arange(l[1], l[3]+1, 1)\n",
    "        [add(x[0], x[1]) for x in zip(e, m)]\n",
    "    elif (l[0] < l[2]) and (l[1] > l[3]):\n",
    "        # d balra le\n",
    "        e = np.arange(l[0], l[2]+1, 1)\n",
    "        m = np.arange(l[1], l[3]-1, -1)\n",
    "        [add(x[0], x[1]) for x in zip(e, m)]"
   ]
  },
  {
   "cell_type": "code",
   "execution_count": 963,
   "id": "9580ca4c",
   "metadata": {
    "ExecuteTime": {
     "end_time": "2021-12-05T23:23:00.581767Z",
     "start_time": "2021-12-05T23:23:00.323242Z"
    },
    "hidden": true
   },
   "outputs": [
    {
     "data": {
      "text/plain": [
       "18144"
      ]
     },
     "execution_count": 963,
     "metadata": {},
     "output_type": "execute_result"
    }
   ],
   "source": [
    "df[df >= 2].count().sum()"
   ]
  },
  {
   "cell_type": "markdown",
   "id": "d1299d87",
   "metadata": {},
   "source": [
    "# Day 6"
   ]
  },
  {
   "cell_type": "markdown",
   "id": "07bf41c0",
   "metadata": {},
   "source": [
    "## Feladat 1-2"
   ]
  },
  {
   "cell_type": "code",
   "execution_count": 5,
   "id": "15ddceb2",
   "metadata": {
    "ExecuteTime": {
     "end_time": "2021-12-06T08:33:31.726148Z",
     "start_time": "2021-12-06T08:33:31.696989Z"
    }
   },
   "outputs": [],
   "source": [
    "lista = open_source('day6')"
   ]
  },
  {
   "cell_type": "code",
   "execution_count": 28,
   "id": "0ba8a3de",
   "metadata": {
    "ExecuteTime": {
     "end_time": "2021-12-06T08:43:40.205327Z",
     "start_time": "2021-12-06T08:43:40.180927Z"
    }
   },
   "outputs": [
    {
     "data": {
      "text/plain": [
       "Counter({5: 32, 4: 28, 3: 32, 2: 33, 1: 175})"
      ]
     },
     "execution_count": 28,
     "metadata": {},
     "output_type": "execute_result"
    }
   ],
   "source": [
    "start = lista[0].split(',')\n",
    "start = [int(x) for x in start]\n",
    "start = Counter(reversed(sorted(start)))\n",
    "start"
   ]
  },
  {
   "cell_type": "code",
   "execution_count": 90,
   "id": "57af6645",
   "metadata": {
    "ExecuteTime": {
     "end_time": "2021-12-06T09:10:20.362301Z",
     "start_time": "2021-12-06T09:10:20.344311Z"
    }
   },
   "outputs": [],
   "source": [
    "def breeding(current, r):\n",
    "    if r == 0:\n",
    "        return current\n",
    "    else:\n",
    "        next_round = {}\n",
    "        for k, v in current.items():\n",
    "            if k != 0:\n",
    "                next_round[k-1] = next_round.get(k-1, 0) + v\n",
    "            elif k == 0:\n",
    "                next_round[6] = next_round.get(6, 0) + v\n",
    "                next_round[8] = next_round.get(8, 0) + v\n",
    "        return breeding(next_round, r-1)"
   ]
  },
  {
   "cell_type": "code",
   "execution_count": 105,
   "id": "1fce4fea",
   "metadata": {
    "ExecuteTime": {
     "end_time": "2021-12-06T09:17:06.253268Z",
     "start_time": "2021-12-06T09:17:06.234059Z"
    }
   },
   "outputs": [],
   "source": [
    "asd = start.copy()\n",
    "result = breeding(asd, 256)"
   ]
  },
  {
   "cell_type": "code",
   "execution_count": 106,
   "id": "e03d2079",
   "metadata": {
    "ExecuteTime": {
     "end_time": "2021-12-06T09:17:08.423450Z",
     "start_time": "2021-12-06T09:17:08.404362Z"
    }
   },
   "outputs": [
    {
     "data": {
      "text/plain": [
       "1710623015163"
      ]
     },
     "execution_count": 106,
     "metadata": {},
     "output_type": "execute_result"
    }
   ],
   "source": [
    "sum(result.values())"
   ]
  },
  {
   "cell_type": "markdown",
   "id": "fe7632d7",
   "metadata": {},
   "source": [
    "# Day 7"
   ]
  },
  {
   "cell_type": "markdown",
   "id": "5158621d",
   "metadata": {},
   "source": [
    "## Feladat 1-2"
   ]
  },
  {
   "cell_type": "code",
   "execution_count": 110,
   "id": "7ab4997a",
   "metadata": {
    "ExecuteTime": {
     "end_time": "2021-12-07T07:32:51.750632Z",
     "start_time": "2021-12-07T07:32:51.724711Z"
    }
   },
   "outputs": [],
   "source": [
    "lista = open_source('day7')\n",
    "lista = lista[0].split(',')\n",
    "lista = [int(x) for x in lista]"
   ]
  },
  {
   "cell_type": "code",
   "execution_count": 134,
   "id": "b24dbec4",
   "metadata": {
    "ExecuteTime": {
     "end_time": "2021-12-07T10:22:55.943873Z",
     "start_time": "2021-12-07T10:22:53.907769Z"
    }
   },
   "outputs": [],
   "source": [
    "result = 10**100\n",
    "for i in range(0, max(lista)):\n",
    "    summ = 0\n",
    "    for l in lista:\n",
    "        diff = np.abs(l - i)\n",
    "        diff = diff*(diff+1)/2\n",
    "        summ += diff\n",
    "    if summ < result:\n",
    "        result = summ"
   ]
  },
  {
   "cell_type": "code",
   "execution_count": 135,
   "id": "7d084169",
   "metadata": {
    "ExecuteTime": {
     "end_time": "2021-12-07T10:22:56.408031Z",
     "start_time": "2021-12-07T10:22:56.393175Z"
    }
   },
   "outputs": [
    {
     "data": {
      "text/plain": [
       "96864235.0"
      ]
     },
     "execution_count": 135,
     "metadata": {},
     "output_type": "execute_result"
    }
   ],
   "source": [
    "result"
   ]
  },
  {
   "cell_type": "markdown",
   "id": "1ee54666",
   "metadata": {},
   "source": [
    "# Day 8"
   ]
  },
  {
   "cell_type": "markdown",
   "id": "c6b81fb1",
   "metadata": {
    "heading_collapsed": true
   },
   "source": [
    "## Feladat 1"
   ]
  },
  {
   "cell_type": "code",
   "execution_count": 136,
   "id": "600e4eba",
   "metadata": {
    "ExecuteTime": {
     "end_time": "2021-12-08T08:01:07.725340Z",
     "start_time": "2021-12-08T08:01:07.610793Z"
    },
    "hidden": true
   },
   "outputs": [],
   "source": [
    "lista = open_source('day8')"
   ]
  },
  {
   "cell_type": "code",
   "execution_count": 160,
   "id": "edd5b513",
   "metadata": {
    "ExecuteTime": {
     "end_time": "2021-12-08T08:06:10.750261Z",
     "start_time": "2021-12-08T08:06:10.728812Z"
    },
    "hidden": true
   },
   "outputs": [],
   "source": [
    "vege = [x.split(' | ')[-1].split(' ') for x in lista]\n",
    "vege = [item for sublist in vege for item in sublist]\n",
    "vege = [len(x) for x in vege if len(x) == 2 or len(x) == 3 or len(x) == 4 or len(x) == 7]"
   ]
  },
  {
   "cell_type": "code",
   "execution_count": 162,
   "id": "187483f1",
   "metadata": {
    "ExecuteTime": {
     "end_time": "2021-12-08T08:06:27.163509Z",
     "start_time": "2021-12-08T08:06:27.138975Z"
    },
    "hidden": true
   },
   "outputs": [
    {
     "data": {
      "text/plain": [
       "272"
      ]
     },
     "execution_count": 162,
     "metadata": {},
     "output_type": "execute_result"
    }
   ],
   "source": [
    "len(vege)"
   ]
  },
  {
   "cell_type": "markdown",
   "id": "3758dfe8",
   "metadata": {
    "ExecuteTime": {
     "end_time": "2021-12-08T08:08:35.231977Z",
     "start_time": "2021-12-08T08:08:35.218203Z"
    }
   },
   "source": [
    "## Feladat 2"
   ]
  },
  {
   "cell_type": "code",
   "execution_count": 868,
   "id": "0e62eebc",
   "metadata": {
    "ExecuteTime": {
     "end_time": "2021-12-08T13:08:07.352391Z",
     "start_time": "2021-12-08T13:08:07.314219Z"
    },
    "code_folding": []
   },
   "outputs": [
    {
     "data": {
      "text/plain": [
       "1007675"
      ]
     },
     "execution_count": 868,
     "metadata": {},
     "output_type": "execute_result"
    }
   ],
   "source": [
    "def get_dict(row):\n",
    "    row_set = [set(x) for x in row]\n",
    "    rdict = {}\n",
    "    rdict['1'] = [x for x in row_set if len(x) == 2][0]\n",
    "    rdict['4'] = [x for x in row_set if len(x) == 4][0]\n",
    "    rdict['7'] = [x for x in row_set if len(x) == 3][0]\n",
    "    rdict['8'] = [x for x in row_set if len(x) == 7][0]\n",
    "    rdict['9'] = [x for x in row_set if rdict['4'].issubset(x) and len(x) == 6][0]\n",
    "    rdict['3'] = [x for x in row_set if rdict['7'].issubset(x) and len(x) == 5][0]\n",
    "    rdict['6'] = [x for x in row_set if not rdict['1'].issubset(x) and len(x) == 6][0]\n",
    "    rdict['5'] = [x for x in row_set if x.issubset(rdict['6']) and len(x) == 5][0]\n",
    "    rdict['0'] = [x for x in row_set if not rdict['5'].issubset(x) and len(x) == 6][0]\n",
    "    rdict['2'] = [x for x in row_set if not x.issubset(rdict['5']) and not x.issubset(rdict['3']) and len(x) == 5][0]\n",
    "    resdict = {}\n",
    "    [resdict.update({''.join(sorted(list(v))): k}) for k, v in rdict.items()]\n",
    "    return resdict\n",
    "\n",
    "result = 0\n",
    "for ele in lista:\n",
    "    first = [''.join(sorted(x)) for x in ele.split(' | ')[0].split(' ')]\n",
    "    second = [''.join(sorted(x)) for x in ele.split(' | ')[1].split(' ')]\n",
    "    string_to_num = get_dict(first)\n",
    "    result += int(''.join([string_to_num[x] for x in second]))\n",
    "result"
   ]
  },
  {
   "cell_type": "markdown",
   "id": "545f0b00",
   "metadata": {},
   "source": [
    "# Day 9"
   ]
  },
  {
   "cell_type": "markdown",
   "id": "fd43e1dd",
   "metadata": {},
   "source": [
    "## Feladat 1"
   ]
  },
  {
   "cell_type": "code",
   "execution_count": 990,
   "id": "b57d27d4",
   "metadata": {
    "ExecuteTime": {
     "end_time": "2021-12-09T15:19:21.861151Z",
     "start_time": "2021-12-09T15:19:21.844730Z"
    }
   },
   "outputs": [],
   "source": [
    "lista = open_source('day9')"
   ]
  },
  {
   "cell_type": "code",
   "execution_count": 991,
   "id": "63d9c451",
   "metadata": {
    "ExecuteTime": {
     "end_time": "2021-12-09T15:19:22.094874Z",
     "start_time": "2021-12-09T15:19:22.072919Z"
    }
   },
   "outputs": [],
   "source": [
    "lista = [list(x) for x in lista]\n",
    "lista = [[int(y) for y in x] for x in lista]"
   ]
  },
  {
   "cell_type": "code",
   "execution_count": 992,
   "id": "589ef46d",
   "metadata": {
    "ExecuteTime": {
     "end_time": "2021-12-09T15:19:22.517338Z",
     "start_time": "2021-12-09T15:19:22.500075Z"
    }
   },
   "outputs": [],
   "source": [
    "def check_up(l, i, j):\n",
    "    if i == 0:\n",
    "        return True\n",
    "    elif l[i][j] < l[i-1][j]:\n",
    "        return True\n",
    "    else:\n",
    "        return False\n",
    "    \n",
    "def check_down(l, i, j):\n",
    "    if i == 99:\n",
    "        return True\n",
    "    elif l[i][j] < l[i+1][j]:\n",
    "        return True\n",
    "    else:\n",
    "        return False\n",
    "\n",
    "def check_left(l, i, j):\n",
    "    if j == 0:\n",
    "        return True\n",
    "    elif l[i][j] < l[i][j-1]:\n",
    "        return True\n",
    "    else:\n",
    "        return False\n",
    "    \n",
    "def check_right(l, i, j):\n",
    "    if j == 99:\n",
    "        return True\n",
    "    elif l[i][j] < l[i][j+1]:\n",
    "        return True\n",
    "    else:\n",
    "        return False"
   ]
  },
  {
   "cell_type": "code",
   "execution_count": 995,
   "id": "e49ebca9",
   "metadata": {
    "ExecuteTime": {
     "end_time": "2021-12-09T15:19:40.736096Z",
     "start_time": "2021-12-09T15:19:40.711014Z"
    }
   },
   "outputs": [
    {
     "data": {
      "text/plain": [
       "577"
      ]
     },
     "execution_count": 995,
     "metadata": {},
     "output_type": "execute_result"
    }
   ],
   "source": [
    "result = 0\n",
    "for i in range(0, len(lista)):\n",
    "    for j in range(0, len(lista[0])):\n",
    "        if check_left(lista, i, j) and check_right(lista, i, j) and check_up(lista, i, j) and check_down(lista, i, j):\n",
    "            result += lista[i][j] + 1\n",
    "result"
   ]
  },
  {
   "cell_type": "markdown",
   "id": "2d742d26",
   "metadata": {
    "ExecuteTime": {
     "end_time": "2021-12-09T15:19:25.989778Z",
     "start_time": "2021-12-09T15:19:25.971573Z"
    }
   },
   "source": [
    "## Feladat 2 ("
   ]
  },
  {
   "cell_type": "code",
   "execution_count": 1046,
   "id": "58b87a2e",
   "metadata": {
    "ExecuteTime": {
     "end_time": "2021-12-09T16:02:55.083953Z",
     "start_time": "2021-12-09T16:02:54.941520Z"
    }
   },
   "outputs": [
    {
     "name": "stdout",
     "output_type": "stream",
     "text": [
      "577\n",
      "1069200\n"
     ]
    }
   ],
   "source": [
    "import numpy as np\n",
    "from scipy.ndimage import generic_filter\n",
    "from skimage.segmentation import flood\n",
    "\n",
    "a = np.genfromtxt(\"source/day9.txt\", dtype=int, delimiter=1)\n",
    "\n",
    "# Part 1\n",
    "def test_func(values):\n",
    "    return np.all(values[2] < values[[0,1,3,4]])\n",
    "\n",
    "footprint = np.array([[0,1,0],\n",
    "                      [1,1,1],\n",
    "                      [0,1,0]])\n",
    "                  \n",
    "results = generic_filter(a, test_func, footprint=footprint, mode=\"constant\", cval=10)\n",
    "\n",
    "print( (a[results == 1] + 1).sum() )\n",
    "\n",
    "# Part 2\n",
    "a[a < 9] = 1\n",
    "basin_coords = np.nonzero(results)\n",
    "sizes = []\n",
    "for (x,y) in zip(*basin_coords):\n",
    "    mask = flood(a, (x,y), tolerance=1, connectivity=1)\n",
    "    sizes.append(mask.sum())\n",
    "\n",
    "\n",
    "print(np.prod(sorted(sizes)[-3:]))"
   ]
  },
  {
   "cell_type": "code",
   "execution_count": null,
   "id": "210c61d9",
   "metadata": {},
   "outputs": [],
   "source": []
  }
 ],
 "metadata": {
  "kernelspec": {
   "display_name": "Python 3 (ipykernel)",
   "language": "python",
   "name": "python3"
  },
  "language_info": {
   "codemirror_mode": {
    "name": "ipython",
    "version": 3
   },
   "file_extension": ".py",
   "mimetype": "text/x-python",
   "name": "python",
   "nbconvert_exporter": "python",
   "pygments_lexer": "ipython3",
   "version": "3.8.12"
  },
  "toc": {
   "base_numbering": 1,
   "nav_menu": {},
   "number_sections": true,
   "sideBar": true,
   "skip_h1_title": false,
   "title_cell": "Table of Contents",
   "title_sidebar": "Contents",
   "toc_cell": false,
   "toc_position": {},
   "toc_section_display": true,
   "toc_window_display": false
  }
 },
 "nbformat": 4,
 "nbformat_minor": 5
}
