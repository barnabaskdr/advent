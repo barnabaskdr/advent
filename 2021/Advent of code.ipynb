{
 "cells": [
  {
   "cell_type": "code",
   "execution_count": 1944,
   "id": "7e9315b1",
   "metadata": {
    "ExecuteTime": {
     "end_time": "2021-12-13T17:47:40.542623Z",
     "start_time": "2021-12-13T17:47:40.517447Z"
    }
   },
   "outputs": [
    {
     "data": {
      "text/html": [
       "<style>.container { width:80% !important; }</style>"
      ],
      "text/plain": [
       "<IPython.core.display.HTML object>"
      ]
     },
     "metadata": {},
     "output_type": "display_data"
    }
   ],
   "source": [
    "from collections import defaultdict, Counter\n",
    "import pandas as pd\n",
    "import re\n",
    "import numpy as np\n",
    "import networkx as nx\n",
    "import matplotlib.pyplot as plt\n",
    "import numpy as np\n",
    "from scipy.ndimage import generic_filter\n",
    "from skimage.segmentation import flood\n",
    "from IPython.core.display import display, HTML\n",
    "display(HTML(\"<style>.container { width:80% !important; }</style>\"))\n",
    "pd.set_option('display.max_columns', 50)"
   ]
  },
  {
   "cell_type": "code",
   "execution_count": 3,
   "id": "31c9de94",
   "metadata": {
    "ExecuteTime": {
     "end_time": "2021-12-06T08:33:01.144655Z",
     "start_time": "2021-12-06T08:33:01.121101Z"
    }
   },
   "outputs": [],
   "source": [
    "def open_source(day):\n",
    "    with open('source/{}.txt'.format(day), 'r') as f:\n",
    "        lista = f.readlines()\n",
    "    lista = [x.strip('\\n') for x in lista]\n",
    "    return lista"
   ]
  },
  {
   "cell_type": "markdown",
   "id": "ac969a58",
   "metadata": {
    "heading_collapsed": true
   },
   "source": [
    "# Day 1"
   ]
  },
  {
   "cell_type": "markdown",
   "id": "9dd6dc23",
   "metadata": {
    "hidden": true
   },
   "source": [
    "## Feladat 1"
   ]
  },
  {
   "cell_type": "code",
   "execution_count": 35,
   "id": "eebb556d",
   "metadata": {
    "ExecuteTime": {
     "end_time": "2021-12-02T15:15:14.272561Z",
     "start_time": "2021-12-02T15:15:14.259639Z"
    },
    "hidden": true
   },
   "outputs": [],
   "source": [
    "with open('source/day1_1.txt', 'r') as f:\n",
    "    lista = f.readlines()"
   ]
  },
  {
   "cell_type": "code",
   "execution_count": 36,
   "id": "fd84a1f7",
   "metadata": {
    "ExecuteTime": {
     "end_time": "2021-12-02T15:15:14.677114Z",
     "start_time": "2021-12-02T15:15:14.658655Z"
    },
    "hidden": true
   },
   "outputs": [],
   "source": [
    "lista = [int(x.strip('\\n')) for x in lista]"
   ]
  },
  {
   "cell_type": "code",
   "execution_count": 34,
   "id": "9898858f",
   "metadata": {
    "ExecuteTime": {
     "end_time": "2021-12-02T15:15:10.282679Z",
     "start_time": "2021-12-02T15:15:10.268282Z"
    },
    "hidden": true
   },
   "outputs": [],
   "source": [
    "def nagyobb(lista):\n",
    "    elozo = lista[0]\n",
    "    eredmeny = 0\n",
    "    for x in lista[1:]:\n",
    "        if x > elozo:\n",
    "            eredmeny += 1\n",
    "        elozo = x\n",
    "    return eredmeny"
   ]
  },
  {
   "cell_type": "code",
   "execution_count": 38,
   "id": "6c4ac5b1",
   "metadata": {
    "ExecuteTime": {
     "end_time": "2021-12-02T15:15:23.614312Z",
     "start_time": "2021-12-02T15:15:23.602660Z"
    },
    "hidden": true
   },
   "outputs": [
    {
     "data": {
      "text/plain": [
       "1390"
      ]
     },
     "execution_count": 38,
     "metadata": {},
     "output_type": "execute_result"
    }
   ],
   "source": [
    "nagyobb(lista)"
   ]
  },
  {
   "cell_type": "markdown",
   "id": "139985e2",
   "metadata": {
    "hidden": true
   },
   "source": [
    "## Feladat 2"
   ]
  },
  {
   "cell_type": "code",
   "execution_count": 28,
   "id": "e71b6d45",
   "metadata": {
    "ExecuteTime": {
     "end_time": "2021-12-02T15:12:50.621706Z",
     "start_time": "2021-12-02T15:12:50.603017Z"
    },
    "hidden": true
   },
   "outputs": [],
   "source": [
    "def chunks(lista, chunk_size, overlap):\n",
    "    for i in range(0, len(lista), overlap):\n",
    "        if len(lista[i:i+chunk_size]) == 3:\n",
    "            yield lista[i:i+chunk_size]\n",
    "\n",
    "lista_3as = []            \n",
    "for x in chunks(lista, 3, 1):\n",
    "    lista_3as.append(sum(x))"
   ]
  },
  {
   "cell_type": "code",
   "execution_count": 39,
   "id": "d39b216e",
   "metadata": {
    "ExecuteTime": {
     "end_time": "2021-12-02T15:15:33.324141Z",
     "start_time": "2021-12-02T15:15:33.305377Z"
    },
    "hidden": true
   },
   "outputs": [
    {
     "data": {
      "text/plain": [
       "1457"
      ]
     },
     "execution_count": 39,
     "metadata": {},
     "output_type": "execute_result"
    }
   ],
   "source": [
    "nagyobb(lista_3as)"
   ]
  },
  {
   "cell_type": "markdown",
   "id": "119966b0",
   "metadata": {
    "ExecuteTime": {
     "end_time": "2021-12-02T15:13:22.811361Z",
     "start_time": "2021-12-02T15:13:22.797325Z"
    },
    "heading_collapsed": true
   },
   "source": [
    "# Day 2"
   ]
  },
  {
   "cell_type": "markdown",
   "id": "f7ac8e02",
   "metadata": {
    "hidden": true
   },
   "source": [
    "## Feladat 1"
   ]
  },
  {
   "cell_type": "code",
   "execution_count": null,
   "id": "c38502c1",
   "metadata": {
    "hidden": true
   },
   "outputs": [],
   "source": [
    "final horizontal * final depth"
   ]
  },
  {
   "cell_type": "code",
   "execution_count": 42,
   "id": "f81f27c7",
   "metadata": {
    "ExecuteTime": {
     "end_time": "2021-12-02T15:20:56.150066Z",
     "start_time": "2021-12-02T15:20:56.145049Z"
    },
    "hidden": true
   },
   "outputs": [],
   "source": [
    "with open('source/day2.txt', 'r') as f:\n",
    "    lista = f.readlines()\n",
    "lista = [x.strip('\\n') for x in lista]"
   ]
  },
  {
   "cell_type": "code",
   "execution_count": 47,
   "id": "ea186310",
   "metadata": {
    "ExecuteTime": {
     "end_time": "2021-12-02T15:23:19.668520Z",
     "start_time": "2021-12-02T15:23:19.651835Z"
    },
    "hidden": true
   },
   "outputs": [],
   "source": [
    "horizontal_pos = 0\n",
    "depth = 0\n",
    "for x in lista:\n",
    "    if 'forward' in x:\n",
    "        horizontal_pos += int(x.split(' ')[-1])\n",
    "    elif 'up' in x:\n",
    "        depth -= int(x.split(' ')[-1])\n",
    "    elif 'down' in x:\n",
    "        depth += int(x.split(' ')[-1])"
   ]
  },
  {
   "cell_type": "code",
   "execution_count": 50,
   "id": "9fd4b082",
   "metadata": {
    "ExecuteTime": {
     "end_time": "2021-12-02T15:23:31.595943Z",
     "start_time": "2021-12-02T15:23:31.585930Z"
    },
    "hidden": true
   },
   "outputs": [
    {
     "data": {
      "text/plain": [
       "1693300"
      ]
     },
     "execution_count": 50,
     "metadata": {},
     "output_type": "execute_result"
    }
   ],
   "source": [
    "horizontal_pos * depth"
   ]
  },
  {
   "cell_type": "markdown",
   "id": "0b15a18d",
   "metadata": {
    "ExecuteTime": {
     "end_time": "2021-12-02T15:23:24.662621Z",
     "start_time": "2021-12-02T15:23:24.649446Z"
    },
    "hidden": true
   },
   "source": [
    "## Feladat 2"
   ]
  },
  {
   "cell_type": "code",
   "execution_count": 51,
   "id": "d4925e0d",
   "metadata": {
    "ExecuteTime": {
     "end_time": "2021-12-02T15:27:02.946481Z",
     "start_time": "2021-12-02T15:27:02.939262Z"
    },
    "hidden": true
   },
   "outputs": [],
   "source": [
    "horizontal_pos = 0\n",
    "aim = 0\n",
    "depth = 0\n",
    "for x in lista:\n",
    "    if 'up' in x:\n",
    "        aim -= int(x.split(' ')[-1])\n",
    "    elif 'down' in x:\n",
    "        aim += int(x.split(' ')[-1])\n",
    "    if 'forward' in x:\n",
    "        horizontal_pos += int(x.split(' ')[-1])\n",
    "        depth += int(x.split(' ')[-1]) * aim"
   ]
  },
  {
   "cell_type": "code",
   "execution_count": 54,
   "id": "5f349af6",
   "metadata": {
    "ExecuteTime": {
     "end_time": "2021-12-02T15:27:30.134338Z",
     "start_time": "2021-12-02T15:27:30.120247Z"
    },
    "hidden": true
   },
   "outputs": [
    {
     "data": {
      "text/plain": [
       "1857958050"
      ]
     },
     "execution_count": 54,
     "metadata": {},
     "output_type": "execute_result"
    }
   ],
   "source": [
    "horizontal_pos * depth"
   ]
  },
  {
   "cell_type": "markdown",
   "id": "cb8575ba",
   "metadata": {
    "heading_collapsed": true
   },
   "source": [
    "# Day 3"
   ]
  },
  {
   "cell_type": "markdown",
   "id": "a1e4743b",
   "metadata": {
    "heading_collapsed": true,
    "hidden": true
   },
   "source": [
    "## Feladat 1"
   ]
  },
  {
   "cell_type": "code",
   "execution_count": 73,
   "id": "9d7e5094",
   "metadata": {
    "ExecuteTime": {
     "end_time": "2021-12-03T07:37:26.452229Z",
     "start_time": "2021-12-03T07:37:26.433187Z"
    },
    "hidden": true
   },
   "outputs": [],
   "source": []
  },
  {
   "cell_type": "code",
   "execution_count": 65,
   "id": "c09426de",
   "metadata": {
    "ExecuteTime": {
     "end_time": "2021-12-03T07:29:54.929373Z",
     "start_time": "2021-12-03T07:29:54.924985Z"
    },
    "hidden": true
   },
   "outputs": [],
   "source": [
    "def open_source(day):\n",
    "    with open('source/{}.txt'.format(day), 'r') as f:\n",
    "        lista = f.readlines()\n",
    "    lista = [x.strip('\\n') for x in lista]\n",
    "    return lista"
   ]
  },
  {
   "cell_type": "code",
   "execution_count": 66,
   "id": "8f25c762",
   "metadata": {
    "ExecuteTime": {
     "end_time": "2021-12-03T07:29:55.223310Z",
     "start_time": "2021-12-03T07:29:55.216430Z"
    },
    "hidden": true
   },
   "outputs": [],
   "source": [
    "lista = open_source('day3')"
   ]
  },
  {
   "cell_type": "code",
   "execution_count": 74,
   "id": "3db9e71c",
   "metadata": {
    "ExecuteTime": {
     "end_time": "2021-12-03T07:38:26.002168Z",
     "start_time": "2021-12-03T07:38:25.987071Z"
    },
    "hidden": true
   },
   "outputs": [],
   "source": [
    "dd = defaultdict(list)"
   ]
  },
  {
   "cell_type": "code",
   "execution_count": 97,
   "id": "2f16dbf2",
   "metadata": {
    "ExecuteTime": {
     "end_time": "2021-12-03T07:48:03.561994Z",
     "start_time": "2021-12-03T07:48:03.549735Z"
    },
    "hidden": true
   },
   "outputs": [],
   "source": [
    "#def count_binary()\n",
    "dd = defaultdict(list)\n",
    "gamma = ''\n",
    "epsilon = ''\n",
    "for i in range(len(lista[0])):\n",
    "    for j in lista:\n",
    "        dd[i].append(j[i])\n",
    "    gamma += max(set(dd[i]), key=dd[i].count)\n",
    "    epsilon += min(set(dd[i]), key=dd[i].count)    "
   ]
  },
  {
   "cell_type": "code",
   "execution_count": 101,
   "id": "d60f9716",
   "metadata": {
    "ExecuteTime": {
     "end_time": "2021-12-03T07:48:31.435935Z",
     "start_time": "2021-12-03T07:48:31.420715Z"
    },
    "hidden": true
   },
   "outputs": [
    {
     "data": {
      "text/plain": [
       "2640986"
      ]
     },
     "execution_count": 101,
     "metadata": {},
     "output_type": "execute_result"
    }
   ],
   "source": [
    "int(gamma, 2) * int(epsilon, 2)"
   ]
  },
  {
   "cell_type": "markdown",
   "id": "7178cbc7",
   "metadata": {
    "ExecuteTime": {
     "end_time": "2021-12-03T07:48:06.952888Z",
     "start_time": "2021-12-03T07:48:06.941038Z"
    },
    "hidden": true
   },
   "source": [
    "## Feladat 2"
   ]
  },
  {
   "cell_type": "code",
   "execution_count": 94,
   "id": "f16e9487",
   "metadata": {
    "ExecuteTime": {
     "end_time": "2021-12-03T07:46:49.827296Z",
     "start_time": "2021-12-03T07:46:49.815789Z"
    },
    "hidden": true
   },
   "outputs": [
    {
     "data": {
      "text/plain": [
       "'0'"
      ]
     },
     "execution_count": 94,
     "metadata": {},
     "output_type": "execute_result"
    }
   ],
   "source": [
    "dd = defaultdict(list)\n",
    "gamma = ''\n",
    "epsilon = ''\n",
    "for i in range(len(lista[0])):\n",
    "    for j in lista:\n",
    "        dd[i].append(j[i])"
   ]
  },
  {
   "cell_type": "code",
   "execution_count": 113,
   "id": "841c95fb",
   "metadata": {
    "ExecuteTime": {
     "end_time": "2021-12-03T08:07:15.906840Z",
     "start_time": "2021-12-03T08:07:15.899386Z"
    },
    "hidden": true
   },
   "outputs": [],
   "source": [
    "pandas_lista = [list(x) for x in lista]"
   ]
  },
  {
   "cell_type": "code",
   "execution_count": 115,
   "id": "c7a1d82f",
   "metadata": {
    "ExecuteTime": {
     "end_time": "2021-12-03T08:07:33.660340Z",
     "start_time": "2021-12-03T08:07:33.642685Z"
    },
    "hidden": true
   },
   "outputs": [],
   "source": [
    "df = pd.DataFrame(pandas_lista)"
   ]
  },
  {
   "cell_type": "code",
   "execution_count": 149,
   "id": "ef686abf",
   "metadata": {
    "ExecuteTime": {
     "end_time": "2021-12-03T08:20:30.753592Z",
     "start_time": "2021-12-03T08:20:30.748592Z"
    },
    "hidden": true
   },
   "outputs": [],
   "source": [
    "def melyik_o(df, pos):  \n",
    "    if df.groupby([pos])[pos].count().iloc[0] > df.groupby([pos])[pos].count().iloc[1]:\n",
    "        return '0'\n",
    "    elif df.groupby([pos])[pos].count().iloc[0] < df.groupby([pos])[pos].count().iloc[1]:\n",
    "        return '1'\n",
    "    else:\n",
    "        return '1'\n",
    "    \n",
    "def melyik_co(df, pos):  \n",
    "    if df.groupby([pos])[pos].count().iloc[0] > df.groupby([pos])[pos].count().iloc[1]:\n",
    "        return '1'\n",
    "    elif df.groupby([pos])[pos].count().iloc[0] < df.groupby([pos])[pos].count().iloc[1]:\n",
    "        return '0'\n",
    "    else:\n",
    "        return '0'"
   ]
  },
  {
   "cell_type": "code",
   "execution_count": 150,
   "id": "44f208a1",
   "metadata": {
    "ExecuteTime": {
     "end_time": "2021-12-03T08:21:07.259958Z",
     "start_time": "2021-12-03T08:21:07.224168Z"
    },
    "hidden": true
   },
   "outputs": [],
   "source": [
    "def melyik_o(df, pos):  \n",
    "    if df.groupby([pos])[pos].count().iloc[0] > df.groupby([pos])[pos].count().iloc[1]:\n",
    "        return '0'\n",
    "    elif df.groupby([pos])[pos].count().iloc[0] < df.groupby([pos])[pos].count().iloc[1]:\n",
    "        return '1'\n",
    "    else:\n",
    "        return '1'\n",
    "\n",
    "oxigen = df.copy()\n",
    "for col in oxigen.columns:\n",
    "    marado = melyik_o(oxigen, col)\n",
    "    oxigen = oxigen.loc[oxigen[col] == marado]\n",
    "    if len(oxigen) == 1:\n",
    "        break"
   ]
  },
  {
   "cell_type": "code",
   "execution_count": 158,
   "id": "461a9995",
   "metadata": {
    "ExecuteTime": {
     "end_time": "2021-12-03T08:23:37.142103Z",
     "start_time": "2021-12-03T08:23:37.116928Z"
    },
    "hidden": true
   },
   "outputs": [],
   "source": [
    "co2 = df.copy()\n",
    "for col in co2.columns:\n",
    "    marado = melyik_co(co2, col)\n",
    "    co2 = co2.loc[co2[col] == marado]\n",
    "    if len(co2) == 1:\n",
    "        break"
   ]
  },
  {
   "cell_type": "code",
   "execution_count": 162,
   "id": "4de0df3d",
   "metadata": {
    "ExecuteTime": {
     "end_time": "2021-12-03T08:25:10.666330Z",
     "start_time": "2021-12-03T08:25:10.653710Z"
    },
    "hidden": true
   },
   "outputs": [
    {
     "data": {
      "text/plain": [
       "6822109"
      ]
     },
     "execution_count": 162,
     "metadata": {},
     "output_type": "execute_result"
    }
   ],
   "source": [
    "int(co2.apply(''.join, axis=1).iloc[0], 2) * int(oxigen.apply(''.join, axis=1).iloc[0], 2)"
   ]
  },
  {
   "cell_type": "markdown",
   "id": "cfe8c7e0",
   "metadata": {
    "heading_collapsed": true
   },
   "source": [
    "# Day 4"
   ]
  },
  {
   "cell_type": "markdown",
   "id": "1c40e2d5",
   "metadata": {
    "hidden": true
   },
   "source": [
    "## Feladat 1"
   ]
  },
  {
   "cell_type": "code",
   "execution_count": 630,
   "id": "a37bbcaa",
   "metadata": {
    "ExecuteTime": {
     "end_time": "2021-12-04T12:24:16.189913Z",
     "start_time": "2021-12-04T12:24:16.174547Z"
    },
    "hidden": true
   },
   "outputs": [],
   "source": [
    "with open('source/day4.txt', 'r') as f:\n",
    "    lista = f.readlines()"
   ]
  },
  {
   "cell_type": "code",
   "execution_count": 631,
   "id": "62573cae",
   "metadata": {
    "ExecuteTime": {
     "end_time": "2021-12-04T12:24:16.540111Z",
     "start_time": "2021-12-04T12:24:16.521979Z"
    },
    "hidden": true
   },
   "outputs": [],
   "source": [
    "boards = [list(filter(None, x.strip('\\n').split(' '))) for x in lista[2:]]"
   ]
  },
  {
   "cell_type": "code",
   "execution_count": 625,
   "id": "b807b752",
   "metadata": {
    "ExecuteTime": {
     "end_time": "2021-12-04T12:22:08.781801Z",
     "start_time": "2021-12-04T12:22:08.681914Z"
    },
    "hidden": true
   },
   "outputs": [],
   "source": [
    "def vert_match(df):\n",
    "    a = df.to_numpy() # df.values (pandas<0.24)\n",
    "    if True in (a[0] == a).all(0):\n",
    "        return True\n",
    "    else:\n",
    "        return False\n",
    "    \n",
    "def hori_match(df):\n",
    "    if len(df[df.apply(lambda x: min(x) == max(x), 1)]) > 0:\n",
    "        return True\n",
    "    else:\n",
    "        return False\n",
    "\n",
    "list_of_boards = []\n",
    "for x, y in zip(range(0, len(boards)+1, 6), range(5, len(boards)+1, 6)):\n",
    "    list_of_boards.append(pd.DataFrame(boards[x:y]))\n",
    "    \n",
    "result = ''\n",
    "result_df = ''\n",
    "for i, num in enumerate(draw):\n",
    "    for j, df in enumerate(list_of_boards):\n",
    "        df.replace(num, 'x', inplace=True)\n",
    "        if vert_match(df) or hori_match(df):\n",
    "            result_df = df\n",
    "            result = result_df.replace('x', 0).astype(int).sum().sum() * int(num)\n",
    "            break\n",
    "    else:\n",
    "        continue\n",
    "    break"
   ]
  },
  {
   "cell_type": "code",
   "execution_count": 629,
   "id": "491cb8cb",
   "metadata": {
    "ExecuteTime": {
     "end_time": "2021-12-04T12:22:18.482587Z",
     "start_time": "2021-12-04T12:22:18.457127Z"
    },
    "hidden": true
   },
   "outputs": [
    {
     "data": {
      "text/plain": [
       "64084"
      ]
     },
     "execution_count": 629,
     "metadata": {},
     "output_type": "execute_result"
    }
   ],
   "source": [
    "result"
   ]
  },
  {
   "cell_type": "markdown",
   "id": "1ced6437",
   "metadata": {
    "hidden": true
   },
   "source": [
    "## Feladat 2"
   ]
  },
  {
   "cell_type": "code",
   "execution_count": 687,
   "id": "42d96d07",
   "metadata": {
    "ExecuteTime": {
     "end_time": "2021-12-04T12:55:04.835701Z",
     "start_time": "2021-12-04T12:54:58.715835Z"
    },
    "hidden": true,
    "scrolled": true
   },
   "outputs": [
    {
     "name": "stdout",
     "output_type": "stream",
     "text": [
      "removed df: 54 for num: 74\n",
      "removed df: 42 for num: 26\n",
      "removed df: 12 for num: 83\n",
      "removed df: 12 for num: 77\n",
      "removed df: 27 for num: 75\n",
      "removed df: 7 for num: 56\n",
      "removed df: 42 for num: 73\n",
      "removed df: 64 for num: 86\n",
      "removed df: 70 for num: 86\n",
      "removed df: 87 for num: 86\n",
      "removed df: 4 for num: 55\n",
      "removed df: 12 for num: 55\n",
      "removed df: 22 for num: 55\n",
      "removed df: 66 for num: 55\n",
      "removed df: 67 for num: 55\n",
      "removed df: 38 for num: 36\n",
      "removed df: 15 for num: 13\n",
      "removed df: 75 for num: 52\n",
      "removed df: 76 for num: 52\n",
      "removed df: 75 for num: 63\n",
      "removed df: 0 for num: 79\n",
      "removed df: 15 for num: 79\n",
      "removed df: 10 for num: 9\n",
      "removed df: 17 for num: 10\n",
      "removed df: 18 for num: 10\n",
      "removed df: 53 for num: 10\n",
      "removed df: 61 for num: 10\n",
      "removed df: 1 for num: 16\n",
      "removed df: 8 for num: 16\n",
      "removed df: 34 for num: 16\n",
      "removed df: 66 for num: 16\n",
      "removed df: 68 for num: 16\n",
      "removed df: 28 for num: 8\n",
      "removed df: 47 for num: 8\n",
      "removed df: 58 for num: 8\n",
      "removed df: 11 for num: 69\n",
      "removed df: 33 for num: 69\n",
      "removed df: 54 for num: 69\n",
      "removed df: 34 for num: 11\n",
      "removed df: 40 for num: 11\n",
      "removed df: 31 for num: 50\n",
      "removed df: 50 for num: 50\n",
      "removed df: 57 for num: 50\n",
      "removed df: 17 for num: 54\n",
      "removed df: 3 for num: 81\n",
      "removed df: 13 for num: 81\n",
      "removed df: 15 for num: 81\n",
      "removed df: 46 for num: 81\n",
      "removed df: 1 for num: 22\n",
      "removed df: 9 for num: 22\n",
      "removed df: 19 for num: 22\n",
      "removed df: 20 for num: 22\n",
      "removed df: 33 for num: 22\n",
      "removed df: 46 for num: 22\n",
      "removed df: 6 for num: 45\n",
      "removed df: 15 for num: 45\n",
      "removed df: 25 for num: 45\n",
      "removed df: 31 for num: 45\n",
      "removed df: 33 for num: 45\n",
      "removed df: 6 for num: 1\n",
      "removed df: 13 for num: 1\n",
      "removed df: 18 for num: 1\n",
      "removed df: 26 for num: 1\n",
      "removed df: 31 for num: 1\n",
      "removed df: 3 for num: 88\n",
      "removed df: 11 for num: 88\n",
      "removed df: 18 for num: 88\n",
      "removed df: 28 for num: 88\n",
      "removed df: 9 for num: 44\n",
      "removed df: 12 for num: 44\n",
      "removed df: 20 for num: 44\n",
      "removed df: 24 for num: 44\n",
      "removed df: 26 for num: 44\n",
      "removed df: 8 for num: 62\n",
      "removed df: 12 for num: 62\n",
      "removed df: 13 for num: 62\n",
      "removed df: 23 for num: 62\n",
      "removed df: 10 for num: 0\n",
      "removed df: 1 for num: 96\n",
      "removed df: 8 for num: 96\n",
      "removed df: 12 for num: 96\n",
      "removed df: 16 for num: 96\n",
      "removed df: 17 for num: 96\n",
      "removed df: 12 for num: 94\n",
      "removed df: 3 for num: 31\n",
      "removed df: 5 for num: 31\n",
      "removed df: 11 for num: 31\n",
      "removed df: 12 for num: 31\n",
      "removed df: 3 for num: 90\n",
      "removed df: 2 for num: 39\n",
      "removed df: 0 for num: 92\n",
      "removed df: 3 for num: 92\n",
      "removed df: 5 for num: 92\n",
      "removed df: 3 for num: 37\n",
      "removed df: 5 for num: 98\n",
      "removed df: 1 for num: 21\n",
      "removed df: 0 for num: 41\n"
     ]
    }
   ],
   "source": [
    "list_of_boards = []\n",
    "for x, y in zip(range(0, len(boards)+1, 6), range(5, len(boards)+1, 6)):\n",
    "    list_of_boards.append(pd.DataFrame(boards[x:y]))\n",
    "    \n",
    "result = ''\n",
    "for i, num in enumerate(draw):\n",
    "    for j, df in enumerate(list_of_boards):\n",
    "        df.replace(num, 'x', inplace=True)\n",
    "        if (vert_match(df) or hori_match(df)) and (len(list_of_boards) > 1):\n",
    "            print(\"removed df: {} for num: {}\".format(j, num))\n",
    "            list_of_boards.pop(j)\n",
    "        if num == '41':\n",
    "            break\n",
    "    else:\n",
    "        continue\n",
    "    break\n",
    "\n"
   ]
  },
  {
   "cell_type": "code",
   "execution_count": 678,
   "id": "bc0052ec",
   "metadata": {
    "ExecuteTime": {
     "end_time": "2021-12-04T12:50:08.410854Z",
     "start_time": "2021-12-04T12:50:08.381038Z"
    },
    "hidden": true
   },
   "outputs": [
    {
     "data": {
      "text/html": [
       "<div>\n",
       "<style scoped>\n",
       "    .dataframe tbody tr th:only-of-type {\n",
       "        vertical-align: middle;\n",
       "    }\n",
       "\n",
       "    .dataframe tbody tr th {\n",
       "        vertical-align: top;\n",
       "    }\n",
       "\n",
       "    .dataframe thead th {\n",
       "        text-align: right;\n",
       "    }\n",
       "</style>\n",
       "<table border=\"1\" class=\"dataframe\">\n",
       "  <thead>\n",
       "    <tr style=\"text-align: right;\">\n",
       "      <th></th>\n",
       "      <th>0</th>\n",
       "      <th>1</th>\n",
       "      <th>2</th>\n",
       "      <th>3</th>\n",
       "      <th>4</th>\n",
       "    </tr>\n",
       "  </thead>\n",
       "  <tbody>\n",
       "    <tr>\n",
       "      <th>0</th>\n",
       "      <td>x</td>\n",
       "      <td>44</td>\n",
       "      <td>x</td>\n",
       "      <td>x</td>\n",
       "      <td>x</td>\n",
       "    </tr>\n",
       "    <tr>\n",
       "      <th>1</th>\n",
       "      <td>31</td>\n",
       "      <td>x</td>\n",
       "      <td>x</td>\n",
       "      <td>x</td>\n",
       "      <td>3</td>\n",
       "    </tr>\n",
       "    <tr>\n",
       "      <th>2</th>\n",
       "      <td>x</td>\n",
       "      <td>21</td>\n",
       "      <td>x</td>\n",
       "      <td>x</td>\n",
       "      <td>60</td>\n",
       "    </tr>\n",
       "    <tr>\n",
       "      <th>3</th>\n",
       "      <td>x</td>\n",
       "      <td>81</td>\n",
       "      <td>x</td>\n",
       "      <td>x</td>\n",
       "      <td>x</td>\n",
       "    </tr>\n",
       "    <tr>\n",
       "      <th>4</th>\n",
       "      <td>x</td>\n",
       "      <td>x</td>\n",
       "      <td>48</td>\n",
       "      <td>59</td>\n",
       "      <td>x</td>\n",
       "    </tr>\n",
       "  </tbody>\n",
       "</table>\n",
       "</div>"
      ],
      "text/plain": [
       "    0   1   2   3   4\n",
       "0   x  44   x   x   x\n",
       "1  31   x   x   x   3\n",
       "2   x  21   x   x  60\n",
       "3   x  81   x   x   x\n",
       "4   x   x  48  59   x"
      ]
     },
     "execution_count": 678,
     "metadata": {},
     "output_type": "execute_result"
    }
   ],
   "source": [
    "list_of_boards[0].replace('41', 'x')"
   ]
  },
  {
   "cell_type": "code",
   "execution_count": null,
   "id": "f6452c37",
   "metadata": {
    "hidden": true
   },
   "outputs": [],
   "source": [
    "list_of_boards = []\n",
    "for x, y in zip(range(0, len(boards)+1, 6), range(5, len(boards)+1, 6)):\n",
    "    list_of_boards.append(pd.DataFrame(boards[x:y]))\n",
    "    \n",
    "total_df = len(list_of_boards)\n",
    "remaining_df = 0\n",
    "for i, num in enumerate(draw):\n",
    "    for j, df in enumerate(list_of_boards):\n",
    "        df.replace(num, 'x', inplace=True)\n",
    "        if vert_match(df) or hori_match(df):\n",
    "            remanining_df += 1\n",
    "            list\n",
    "            break\n",
    "    else:\n",
    "        continue\n",
    "    break"
   ]
  },
  {
   "cell_type": "code",
   "execution_count": 688,
   "id": "a8bb45a9",
   "metadata": {
    "ExecuteTime": {
     "end_time": "2021-12-04T12:55:08.644968Z",
     "start_time": "2021-12-04T12:55:08.620368Z"
    },
    "hidden": true
   },
   "outputs": [
    {
     "data": {
      "text/plain": [
       "[    0   1   2   3   4\n",
       " 0   x  44   x   x   x\n",
       " 1  31   x   x   x   3\n",
       " 2   x  21  41   x  60\n",
       " 3   x  81   x   x   x\n",
       " 4   x   x  48  59   x,\n",
       "     0   1   2   3   4\n",
       " 0  67   x   x  88  89\n",
       " 1   x   x   x  28   x\n",
       " 2   x   x  60   x   x\n",
       " 3  42   x   x   x   x\n",
       " 4   x  62   x   x   x,\n",
       "     0   1   2   3   4\n",
       " 0   x   x   x  91   x\n",
       " 1   x   x   x   3   x\n",
       " 2   x  89  58   x   x\n",
       " 3  29   x  48  44   x\n",
       " 4   x   1  42   x  92]"
      ]
     },
     "execution_count": 688,
     "metadata": {},
     "output_type": "execute_result"
    }
   ],
   "source": [
    "list_of_boards"
   ]
  },
  {
   "cell_type": "code",
   "execution_count": 721,
   "id": "7e4aab8d",
   "metadata": {
    "ExecuteTime": {
     "end_time": "2021-12-04T13:16:14.506513Z",
     "start_time": "2021-12-04T13:16:14.248659Z"
    },
    "hidden": true
   },
   "outputs": [],
   "source": [
    "list_of_boards = []\n",
    "\n",
    "for x, y in zip(range(0, len(boards)+1, 6), range(5, len(boards)+1, 6)):\n",
    "    list_of_boards.append(pd.DataFrame(boards[x:y]))\n",
    "nyolc = [list_of_boards[8]]   \n",
    "to_remove = []\n",
    "for i, num in enumerate(draw):\n",
    "    for j, df in enumerate(nyolc):\n",
    "        df.replace(num, 'x', inplace=True)\n",
    "        if (vert_match(df) or hori_match(df)):\n",
    "            break\n",
    "    else:\n",
    "        continue\n",
    "    break\n",
    "\n"
   ]
  },
  {
   "cell_type": "code",
   "execution_count": 724,
   "id": "c94012ea",
   "metadata": {
    "ExecuteTime": {
     "end_time": "2021-12-04T13:17:01.594829Z",
     "start_time": "2021-12-04T13:17:01.559366Z"
    },
    "hidden": true
   },
   "outputs": [
    {
     "data": {
      "text/plain": [
       "12833"
      ]
     },
     "execution_count": 724,
     "metadata": {},
     "output_type": "execute_result"
    }
   ],
   "source": [
    "\n",
    "nyolc[0].replace('x', 0).astype(int).sum().sum() * int(num)\n"
   ]
  },
  {
   "cell_type": "code",
   "execution_count": 717,
   "id": "17b26dd8",
   "metadata": {
    "ExecuteTime": {
     "end_time": "2021-12-04T13:13:06.959984Z",
     "start_time": "2021-12-04T13:13:06.669984Z"
    },
    "hidden": true
   },
   "outputs": [
    {
     "data": {
      "text/plain": [
       "8"
      ]
     },
     "execution_count": 717,
     "metadata": {},
     "output_type": "execute_result"
    }
   ],
   "source": [
    "min(to_remove, key=to_remove.count)"
   ]
  },
  {
   "cell_type": "code",
   "execution_count": 719,
   "id": "648ba123",
   "metadata": {
    "ExecuteTime": {
     "end_time": "2021-12-04T13:15:06.461746Z",
     "start_time": "2021-12-04T13:15:06.439485Z"
    },
    "hidden": true
   },
   "outputs": [
    {
     "data": {
      "text/plain": [
       "[   0  1  2  3  4\n",
       " 0  x  x  x  x  x\n",
       " 1  x  x  x  x  x\n",
       " 2  x  x  x  x  x\n",
       " 3  x  x  x  x  x\n",
       " 4  x  x  x  x  x]"
      ]
     },
     "execution_count": 719,
     "metadata": {},
     "output_type": "execute_result"
    }
   ],
   "source": [
    "[list_of_boards[8]]"
   ]
  },
  {
   "cell_type": "markdown",
   "id": "a3292d95",
   "metadata": {
    "heading_collapsed": true
   },
   "source": [
    "# Day 5"
   ]
  },
  {
   "cell_type": "markdown",
   "id": "e8a9fb1a",
   "metadata": {
    "hidden": true
   },
   "source": [
    "## Feladat 1"
   ]
  },
  {
   "cell_type": "code",
   "execution_count": 3,
   "id": "1aecc770",
   "metadata": {
    "ExecuteTime": {
     "end_time": "2021-12-05T23:36:12.141275Z",
     "start_time": "2021-12-05T23:36:12.112940Z"
    },
    "hidden": true
   },
   "outputs": [],
   "source": [
    "with open('source/day5.txt', 'r') as f:\n",
    "    lista = f.readlines()"
   ]
  },
  {
   "cell_type": "code",
   "execution_count": 4,
   "id": "ccf97c67",
   "metadata": {
    "ExecuteTime": {
     "end_time": "2021-12-05T23:36:12.707270Z",
     "start_time": "2021-12-05T23:36:12.675513Z"
    },
    "hidden": true
   },
   "outputs": [],
   "source": [
    "floor = [re.split(' -> |,', x.strip('\\n')) for x in lista]\n",
    "floor = [[int(y) for y in x] for x in floor]"
   ]
  },
  {
   "cell_type": "code",
   "execution_count": 5,
   "id": "2c20e818",
   "metadata": {
    "ExecuteTime": {
     "end_time": "2021-12-05T23:36:13.241356Z",
     "start_time": "2021-12-05T23:36:13.221964Z"
    },
    "hidden": true
   },
   "outputs": [],
   "source": [
    "rmap = np.zeros((1000,1000), dtype=int)\n",
    "df = pd.DataFrame(rmap)\n",
    "df.index += 1\n",
    "df.columns = [x+1 for x in df.columns]\n",
    "# első az index"
   ]
  },
  {
   "cell_type": "code",
   "execution_count": 961,
   "id": "bc659244",
   "metadata": {
    "ExecuteTime": {
     "end_time": "2021-12-05T23:22:50.191802Z",
     "start_time": "2021-12-05T23:22:38.758818Z"
    },
    "hidden": true
   },
   "outputs": [],
   "source": [
    "def add(e, m):\n",
    "    df.loc[e, m] += 1\n",
    "\n",
    "for l in floor:\n",
    "    if l[0] == l[2]:\n",
    "        # vertical le és fel\n",
    "        df.loc[l[0], l[1]:l[3]] += 1\n",
    "        df.loc[l[0], l[3]:l[1]] += 1\n",
    "    elif l[1] == l[3]:\n",
    "        # horizontal jobbra és balra\n",
    "        df.loc[l[0]:l[2], l[1]] += 1\n",
    "        df.loc[l[2]:l[0], l[1]] += 1"
   ]
  },
  {
   "cell_type": "code",
   "execution_count": null,
   "id": "34331eaa",
   "metadata": {
    "hidden": true
   },
   "outputs": [],
   "source": [
    "df[df >= 2].count().sum()"
   ]
  },
  {
   "cell_type": "markdown",
   "id": "f6b296b4",
   "metadata": {
    "hidden": true
   },
   "source": [
    "## Feladat 2"
   ]
  },
  {
   "cell_type": "code",
   "execution_count": 6,
   "id": "1958766b",
   "metadata": {
    "ExecuteTime": {
     "end_time": "2021-12-05T23:36:55.440785Z",
     "start_time": "2021-12-05T23:36:17.291576Z"
    },
    "hidden": true
   },
   "outputs": [],
   "source": [
    "def add(e, m):\n",
    "    df.loc[e, m] += 1\n",
    "\n",
    "for l in floor:\n",
    "    if l[0] == l[2]:\n",
    "        # vertical le és fel\n",
    "        df.loc[l[0], l[1]:l[3]] += 1\n",
    "        df.loc[l[0], l[3]:l[1]] += 1\n",
    "    elif l[1] == l[3]:\n",
    "        # horizontal jobbra és balra\n",
    "        df.loc[l[0]:l[2], l[1]] += 1\n",
    "        df.loc[l[2]:l[0], l[1]] += 1\n",
    "    elif (l[0] < l[2]) and (l[1] < l[3]):\n",
    "        # d jobbra le\n",
    "        e = np.arange(l[0], l[2]+1, 1)\n",
    "        m = np.arange(l[1], l[3]+1, 1)\n",
    "        [add(x[0], x[1]) for x in zip(e, m)]\n",
    "    elif (l[0] > l[2]) and (l[1] > l[3]):\n",
    "        # d balra fel\n",
    "        e = np.arange(l[0], l[2]-1, -1)\n",
    "        m = np.arange(l[1], l[3]-1, -1)\n",
    "        [add(x[0], x[1]) for x in zip(e, m)]\n",
    "    elif (l[0] > l[2]) and (l[1] < l[3]):\n",
    "        # d jobbra fel\n",
    "        e = np.arange(l[0], l[2]-1, -1)\n",
    "        m = np.arange(l[1], l[3]+1, 1)\n",
    "        [add(x[0], x[1]) for x in zip(e, m)]\n",
    "    elif (l[0] < l[2]) and (l[1] > l[3]):\n",
    "        # d balra le\n",
    "        e = np.arange(l[0], l[2]+1, 1)\n",
    "        m = np.arange(l[1], l[3]-1, -1)\n",
    "        [add(x[0], x[1]) for x in zip(e, m)]"
   ]
  },
  {
   "cell_type": "code",
   "execution_count": 963,
   "id": "9580ca4c",
   "metadata": {
    "ExecuteTime": {
     "end_time": "2021-12-05T23:23:00.581767Z",
     "start_time": "2021-12-05T23:23:00.323242Z"
    },
    "hidden": true
   },
   "outputs": [
    {
     "data": {
      "text/plain": [
       "18144"
      ]
     },
     "execution_count": 963,
     "metadata": {},
     "output_type": "execute_result"
    }
   ],
   "source": [
    "df[df >= 2].count().sum()"
   ]
  },
  {
   "cell_type": "markdown",
   "id": "d1299d87",
   "metadata": {},
   "source": [
    "# Day 6"
   ]
  },
  {
   "cell_type": "markdown",
   "id": "07bf41c0",
   "metadata": {},
   "source": [
    "## Feladat 1-2"
   ]
  },
  {
   "cell_type": "code",
   "execution_count": 5,
   "id": "15ddceb2",
   "metadata": {
    "ExecuteTime": {
     "end_time": "2021-12-06T08:33:31.726148Z",
     "start_time": "2021-12-06T08:33:31.696989Z"
    }
   },
   "outputs": [],
   "source": [
    "lista = open_source('day6')"
   ]
  },
  {
   "cell_type": "code",
   "execution_count": 28,
   "id": "0ba8a3de",
   "metadata": {
    "ExecuteTime": {
     "end_time": "2021-12-06T08:43:40.205327Z",
     "start_time": "2021-12-06T08:43:40.180927Z"
    }
   },
   "outputs": [
    {
     "data": {
      "text/plain": [
       "Counter({5: 32, 4: 28, 3: 32, 2: 33, 1: 175})"
      ]
     },
     "execution_count": 28,
     "metadata": {},
     "output_type": "execute_result"
    }
   ],
   "source": [
    "start = lista[0].split(',')\n",
    "start = [int(x) for x in start]\n",
    "start = Counter(reversed(sorted(start)))\n",
    "start"
   ]
  },
  {
   "cell_type": "code",
   "execution_count": 90,
   "id": "57af6645",
   "metadata": {
    "ExecuteTime": {
     "end_time": "2021-12-06T09:10:20.362301Z",
     "start_time": "2021-12-06T09:10:20.344311Z"
    }
   },
   "outputs": [],
   "source": [
    "def breeding(current, r):\n",
    "    if r == 0:\n",
    "        return current\n",
    "    else:\n",
    "        next_round = {}\n",
    "        for k, v in current.items():\n",
    "            if k != 0:\n",
    "                next_round[k-1] = next_round.get(k-1, 0) + v\n",
    "            elif k == 0:\n",
    "                next_round[6] = next_round.get(6, 0) + v\n",
    "                next_round[8] = next_round.get(8, 0) + v\n",
    "        return breeding(next_round, r-1)"
   ]
  },
  {
   "cell_type": "code",
   "execution_count": 105,
   "id": "1fce4fea",
   "metadata": {
    "ExecuteTime": {
     "end_time": "2021-12-06T09:17:06.253268Z",
     "start_time": "2021-12-06T09:17:06.234059Z"
    }
   },
   "outputs": [],
   "source": [
    "asd = start.copy()\n",
    "result = breeding(asd, 256)"
   ]
  },
  {
   "cell_type": "code",
   "execution_count": 106,
   "id": "e03d2079",
   "metadata": {
    "ExecuteTime": {
     "end_time": "2021-12-06T09:17:08.423450Z",
     "start_time": "2021-12-06T09:17:08.404362Z"
    }
   },
   "outputs": [
    {
     "data": {
      "text/plain": [
       "1710623015163"
      ]
     },
     "execution_count": 106,
     "metadata": {},
     "output_type": "execute_result"
    }
   ],
   "source": [
    "sum(result.values())"
   ]
  },
  {
   "cell_type": "markdown",
   "id": "fe7632d7",
   "metadata": {
    "heading_collapsed": true
   },
   "source": [
    "# Day 7"
   ]
  },
  {
   "cell_type": "markdown",
   "id": "5158621d",
   "metadata": {
    "hidden": true
   },
   "source": [
    "## Feladat 1-2"
   ]
  },
  {
   "cell_type": "code",
   "execution_count": 110,
   "id": "7ab4997a",
   "metadata": {
    "ExecuteTime": {
     "end_time": "2021-12-07T07:32:51.750632Z",
     "start_time": "2021-12-07T07:32:51.724711Z"
    },
    "hidden": true
   },
   "outputs": [],
   "source": [
    "lista = open_source('day7')\n",
    "lista = lista[0].split(',')\n",
    "lista = [int(x) for x in lista]"
   ]
  },
  {
   "cell_type": "code",
   "execution_count": 134,
   "id": "b24dbec4",
   "metadata": {
    "ExecuteTime": {
     "end_time": "2021-12-07T10:22:55.943873Z",
     "start_time": "2021-12-07T10:22:53.907769Z"
    },
    "hidden": true
   },
   "outputs": [],
   "source": [
    "result = 10**100\n",
    "for i in range(0, max(lista)):\n",
    "    summ = 0\n",
    "    for l in lista:\n",
    "        diff = np.abs(l - i)\n",
    "        diff = diff*(diff+1)/2\n",
    "        summ += diff\n",
    "    if summ < result:\n",
    "        result = summ"
   ]
  },
  {
   "cell_type": "code",
   "execution_count": 135,
   "id": "7d084169",
   "metadata": {
    "ExecuteTime": {
     "end_time": "2021-12-07T10:22:56.408031Z",
     "start_time": "2021-12-07T10:22:56.393175Z"
    },
    "hidden": true
   },
   "outputs": [
    {
     "data": {
      "text/plain": [
       "96864235.0"
      ]
     },
     "execution_count": 135,
     "metadata": {},
     "output_type": "execute_result"
    }
   ],
   "source": [
    "result"
   ]
  },
  {
   "cell_type": "markdown",
   "id": "1ee54666",
   "metadata": {
    "heading_collapsed": true
   },
   "source": [
    "# Day 8"
   ]
  },
  {
   "cell_type": "markdown",
   "id": "c6b81fb1",
   "metadata": {
    "hidden": true
   },
   "source": [
    "## Feladat 1"
   ]
  },
  {
   "cell_type": "code",
   "execution_count": 136,
   "id": "600e4eba",
   "metadata": {
    "ExecuteTime": {
     "end_time": "2021-12-08T08:01:07.725340Z",
     "start_time": "2021-12-08T08:01:07.610793Z"
    },
    "hidden": true
   },
   "outputs": [],
   "source": [
    "lista = open_source('day8')"
   ]
  },
  {
   "cell_type": "code",
   "execution_count": 160,
   "id": "edd5b513",
   "metadata": {
    "ExecuteTime": {
     "end_time": "2021-12-08T08:06:10.750261Z",
     "start_time": "2021-12-08T08:06:10.728812Z"
    },
    "hidden": true
   },
   "outputs": [],
   "source": [
    "vege = [x.split(' | ')[-1].split(' ') for x in lista]\n",
    "vege = [item for sublist in vege for item in sublist]\n",
    "vege = [len(x) for x in vege if len(x) == 2 or len(x) == 3 or len(x) == 4 or len(x) == 7]"
   ]
  },
  {
   "cell_type": "code",
   "execution_count": 162,
   "id": "187483f1",
   "metadata": {
    "ExecuteTime": {
     "end_time": "2021-12-08T08:06:27.163509Z",
     "start_time": "2021-12-08T08:06:27.138975Z"
    },
    "hidden": true
   },
   "outputs": [
    {
     "data": {
      "text/plain": [
       "272"
      ]
     },
     "execution_count": 162,
     "metadata": {},
     "output_type": "execute_result"
    }
   ],
   "source": [
    "len(vege)"
   ]
  },
  {
   "cell_type": "markdown",
   "id": "3758dfe8",
   "metadata": {
    "ExecuteTime": {
     "end_time": "2021-12-08T08:08:35.231977Z",
     "start_time": "2021-12-08T08:08:35.218203Z"
    },
    "hidden": true
   },
   "source": [
    "## Feladat 2"
   ]
  },
  {
   "cell_type": "code",
   "execution_count": 868,
   "id": "0e62eebc",
   "metadata": {
    "ExecuteTime": {
     "end_time": "2021-12-08T13:08:07.352391Z",
     "start_time": "2021-12-08T13:08:07.314219Z"
    },
    "code_folding": [],
    "hidden": true
   },
   "outputs": [
    {
     "data": {
      "text/plain": [
       "1007675"
      ]
     },
     "execution_count": 868,
     "metadata": {},
     "output_type": "execute_result"
    }
   ],
   "source": [
    "def get_dict(row):\n",
    "    row_set = [set(x) for x in row]\n",
    "    rdict = {}\n",
    "    rdict['1'] = [x for x in row_set if len(x) == 2][0]\n",
    "    rdict['4'] = [x for x in row_set if len(x) == 4][0]\n",
    "    rdict['7'] = [x for x in row_set if len(x) == 3][0]\n",
    "    rdict['8'] = [x for x in row_set if len(x) == 7][0]\n",
    "    rdict['9'] = [x for x in row_set if rdict['4'].issubset(x) and len(x) == 6][0]\n",
    "    rdict['3'] = [x for x in row_set if rdict['7'].issubset(x) and len(x) == 5][0]\n",
    "    rdict['6'] = [x for x in row_set if not rdict['1'].issubset(x) and len(x) == 6][0]\n",
    "    rdict['5'] = [x for x in row_set if x.issubset(rdict['6']) and len(x) == 5][0]\n",
    "    rdict['0'] = [x for x in row_set if not rdict['5'].issubset(x) and len(x) == 6][0]\n",
    "    rdict['2'] = [x for x in row_set if not x.issubset(rdict['5']) and not x.issubset(rdict['3']) and len(x) == 5][0]\n",
    "    resdict = {}\n",
    "    [resdict.update({''.join(sorted(list(v))): k}) for k, v in rdict.items()]\n",
    "    return resdict\n",
    "\n",
    "result = 0\n",
    "for ele in lista:\n",
    "    first = [''.join(sorted(x)) for x in ele.split(' | ')[0].split(' ')]\n",
    "    second = [''.join(sorted(x)) for x in ele.split(' | ')[1].split(' ')]\n",
    "    string_to_num = get_dict(first)\n",
    "    result += int(''.join([string_to_num[x] for x in second]))\n",
    "result"
   ]
  },
  {
   "cell_type": "markdown",
   "id": "545f0b00",
   "metadata": {},
   "source": [
    "# Day 9"
   ]
  },
  {
   "cell_type": "markdown",
   "id": "fd43e1dd",
   "metadata": {},
   "source": [
    "## Feladat 1"
   ]
  },
  {
   "cell_type": "code",
   "execution_count": 1900,
   "id": "b57d27d4",
   "metadata": {
    "ExecuteTime": {
     "end_time": "2021-12-13T17:29:35.584099Z",
     "start_time": "2021-12-13T17:29:35.576951Z"
    }
   },
   "outputs": [],
   "source": [
    "lista = open_source('day9')"
   ]
  },
  {
   "cell_type": "code",
   "execution_count": 1901,
   "id": "63d9c451",
   "metadata": {
    "ExecuteTime": {
     "end_time": "2021-12-13T17:29:37.087141Z",
     "start_time": "2021-12-13T17:29:37.075959Z"
    }
   },
   "outputs": [],
   "source": [
    "lista = [[int(y) for y in x] for x in lista]"
   ]
  },
  {
   "cell_type": "code",
   "execution_count": 1935,
   "id": "a0214380",
   "metadata": {
    "ExecuteTime": {
     "end_time": "2021-12-13T17:44:46.966035Z",
     "start_time": "2021-12-13T17:44:46.944502Z"
    }
   },
   "outputs": [
    {
     "data": {
      "text/plain": [
       "[[-1, -1], [-1, 0], [-1, 1], [0, -1], [0, 1], [1, -1], [1, 0], [1, 1]]"
      ]
     },
     "execution_count": 1935,
     "metadata": {},
     "output_type": "execute_result"
    }
   ],
   "source": [
    "bordering = [[j, k] for j in range(-1, 2) for k in range(-1, 2)]\n",
    "bordering.remove([0, 0])\n",
    "bordering"
   ]
  },
  {
   "cell_type": "code",
   "execution_count": 1932,
   "id": "fecbc0cc",
   "metadata": {
    "ExecuteTime": {
     "end_time": "2021-12-13T17:44:15.941373Z",
     "start_time": "2021-12-13T17:44:15.926564Z"
    }
   },
   "outputs": [],
   "source": [
    "def get_border_9(l, bordering, i, j):\n",
    "    res_list = []\n",
    "    for c in bordering:\n",
    "        p = []\n",
    "        p.append(i+c[0])\n",
    "        p.append(j+c[1])\n",
    "        if (len(p) == 2 and \n",
    "            p[0] < len(l) and \n",
    "            p[1] < len(l[0]) and \n",
    "            p[0] >= 0 and \n",
    "            p[1] >= 0):\n",
    "            res_list.append(p)\n",
    "    return res_list"
   ]
  },
  {
   "cell_type": "code",
   "execution_count": 1954,
   "id": "e49ebca9",
   "metadata": {
    "ExecuteTime": {
     "end_time": "2021-12-13T17:56:32.749177Z",
     "start_time": "2021-12-13T17:56:32.690423Z"
    }
   },
   "outputs": [
    {
     "data": {
      "text/plain": [
       "577"
      ]
     },
     "execution_count": 1954,
     "metadata": {},
     "output_type": "execute_result"
    }
   ],
   "source": [
    "result = 0\n",
    "part_2 = np.zeros((len(lista), len(lista[0])))\n",
    "for i in range(0, len(lista)):\n",
    "    for j in range(0, len(lista[0])):\n",
    "        if min([lista[x[0]][x[1]] for x in get_border_9(lista, bordering, i, j)]) > lista[i][j]:\n",
    "            result += lista[i][j] + 1\n",
    "            part_2[i,j] = 1\n",
    "result"
   ]
  },
  {
   "cell_type": "markdown",
   "id": "2d742d26",
   "metadata": {
    "ExecuteTime": {
     "end_time": "2021-12-09T15:19:25.989778Z",
     "start_time": "2021-12-09T15:19:25.971573Z"
    }
   },
   "source": [
    "## Feladat 2"
   ]
  },
  {
   "cell_type": "code",
   "execution_count": 1942,
   "id": "c66767fb",
   "metadata": {
    "ExecuteTime": {
     "end_time": "2021-12-13T17:46:33.587961Z",
     "start_time": "2021-12-13T17:46:33.577899Z"
    }
   },
   "outputs": [],
   "source": [
    "a = np.array(lista)"
   ]
  },
  {
   "cell_type": "code",
   "execution_count": 1992,
   "id": "58b87a2e",
   "metadata": {
    "ExecuteTime": {
     "end_time": "2021-12-13T18:06:36.353538Z",
     "start_time": "2021-12-13T18:06:36.313688Z"
    }
   },
   "outputs": [
    {
     "data": {
      "text/plain": [
       "1069200"
      ]
     },
     "execution_count": 1992,
     "metadata": {},
     "output_type": "execute_result"
    }
   ],
   "source": [
    "a[a < 9] = 1\n",
    "basin_coords = np.nonzero(part_2)\n",
    "sizes = []\n",
    "for (x,y) in zip(*basin_coords):\n",
    "    mask = flood(a, (x,y), tolerance=1, connectivity=1)\n",
    "    sizes.append(mask.sum())\n",
    "\n",
    "np.prod(sorted(sizes)[-3:])"
   ]
  },
  {
   "cell_type": "code",
   "execution_count": 1991,
   "id": "38c3f9ad",
   "metadata": {
    "ExecuteTime": {
     "end_time": "2021-12-13T18:06:32.011614Z",
     "start_time": "2021-12-13T18:06:32.002408Z"
    }
   },
   "outputs": [
    {
     "data": {
      "text/plain": [
       "99"
      ]
     },
     "execution_count": 1991,
     "metadata": {},
     "output_type": "execute_result"
    }
   ],
   "source": [
    "np.prod([99])"
   ]
  },
  {
   "cell_type": "code",
   "execution_count": 1958,
   "id": "8a8459e2",
   "metadata": {
    "ExecuteTime": {
     "end_time": "2021-12-13T17:58:30.015953Z",
     "start_time": "2021-12-13T17:58:29.991883Z"
    }
   },
   "outputs": [
    {
     "name": "stderr",
     "output_type": "stream",
     "text": [
      "C:\\Users\\kadarb\\anaconda3\\lib\\site-packages\\IPython\\core\\displayhook.py:275: UserWarning: Output cache limit (currently 1000 entries) hit.\n",
      "Flushing oldest 200 entries.\n",
      "  warn('Output cache limit (currently {sz} entries) hit.\\n'\n"
     ]
    },
    {
     "data": {
      "text/plain": [
       "(array([0, 0, 0, 0, 0, 0, 1, 1, 1, 1, 2, 2, 5, 5, 7, 7, 7, 7, 7, 8, 8, 8,\n",
       "        8, 8, 9, 9, 9, 11, 12, 13, 13, 14, 14, 14, 14, 15, 16, 17, 17, 17,\n",
       "        17, 18, 18, 19, 19, 21, 21, 21, 21, 22, 22, 23, 23, 24, 24, 24, 25,\n",
       "        25, 25, 25, 26, 27, 27, 27, 28, 28, 29, 29, 29, 30, 30, 31, 31, 31,\n",
       "        31, 33, 33, 34, 34, 34, 35, 36, 36, 36, 37, 37, 37, 38, 39, 40, 40,\n",
       "        41, 41, 42, 42, 42, 43, 43, 43, 43, 43, 44, 44, 45, 45, 46, 47, 47,\n",
       "        47, 47, 48, 48, 48, 49, 49, 50, 51, 51, 52, 52, 53, 53, 53, 54, 54,\n",
       "        55, 56, 56, 56, 56, 56, 57, 58, 58, 60, 61, 61, 61, 61, 61, 61, 62,\n",
       "        62, 62, 63, 63, 64, 64, 65, 65, 65, 65, 67, 67, 68, 68, 69, 69, 69,\n",
       "        69, 70, 70, 70, 71, 71, 73, 73, 73, 73, 74, 75, 75, 76, 76, 77, 78,\n",
       "        78, 78, 79, 79, 79, 80, 80, 81, 82, 83, 83, 83, 84, 84, 84, 84, 85,\n",
       "        85, 85, 85, 86, 86, 86, 87, 87, 87, 88, 89, 89, 89, 90, 90, 90, 91,\n",
       "        92, 92, 92, 93, 93, 93, 94, 94, 95, 95, 95, 95, 96, 97, 98, 98, 98,\n",
       "        99, 99, 99, 99], dtype=int64),\n",
       " array([26, 47, 65, 76, 86, 92, 7, 57, 81, 99, 16, 41, 35, 62, 1, 22, 30,\n",
       "        38, 66, 7, 53, 79, 86, 99, 43, 60, 96, 15, 99, 49, 74, 6, 26, 34,\n",
       "        56, 1, 90, 20, 42, 61, 83, 70, 77, 5, 97, 43, 51, 63, 76, 13, 31,\n",
       "        91, 96, 0, 57, 68, 38, 51, 81, 99, 43, 22, 26, 75, 8, 15, 1, 48,\n",
       "        66, 55, 83, 33, 39, 61, 90, 25, 97, 4, 11, 64, 73, 15, 20, 45, 32,\n",
       "        79, 87, 54, 70, 27, 35, 13, 62, 42, 71, 84, 0, 49, 56, 94, 98, 20,\n",
       "        52, 41, 80, 69, 9, 19, 33, 63, 24, 51, 88, 75, 81, 12, 26, 92, 20,\n",
       "        56, 44, 85, 97, 5, 67, 33, 12, 49, 59, 73, 80, 17, 39, 90, 29, 20,\n",
       "        55, 62, 67, 95, 99, 10, 39, 73, 34, 89, 47, 82, 0, 21, 38, 59, 15,\n",
       "        27, 67, 99, 11, 37, 44, 92, 4, 41, 54, 32, 96, 17, 61, 72, 86, 79,\n",
       "        10, 26, 59, 99, 47, 0, 5, 95, 36, 67, 88, 42, 79, 75, 22, 10, 16,\n",
       "        51, 6, 39, 58, 62, 2, 33, 93, 97, 12, 46, 82, 28, 54, 71, 39, 64,\n",
       "        76, 97, 24, 81, 87, 16, 9, 29, 57, 36, 48, 72, 64, 92, 0, 20, 85,\n",
       "        98, 41, 71, 8, 55, 76, 27, 34, 46, 60], dtype=int64))"
      ]
     },
     "execution_count": 1958,
     "metadata": {},
     "output_type": "execute_result"
    }
   ],
   "source": [
    "basin_coords"
   ]
  },
  {
   "cell_type": "code",
   "execution_count": 1963,
   "id": "842cdb66",
   "metadata": {
    "ExecuteTime": {
     "end_time": "2021-12-13T18:00:09.733066Z",
     "start_time": "2021-12-13T18:00:09.721841Z"
    }
   },
   "outputs": [],
   "source": [
    "asd = [[1, 2], ['a', 'b']]"
   ]
  },
  {
   "cell_type": "code",
   "execution_count": 1965,
   "id": "7d444514",
   "metadata": {
    "ExecuteTime": {
     "end_time": "2021-12-13T18:00:22.717864Z",
     "start_time": "2021-12-13T18:00:22.708437Z"
    }
   },
   "outputs": [
    {
     "name": "stdout",
     "output_type": "stream",
     "text": [
      "1 2\n",
      "a b\n"
     ]
    }
   ],
   "source": [
    "for x in asd:\n",
    "    print(x[0], x[1])"
   ]
  },
  {
   "cell_type": "code",
   "execution_count": 1966,
   "id": "e57f6ffc",
   "metadata": {
    "ExecuteTime": {
     "end_time": "2021-12-13T18:00:38.064752Z",
     "start_time": "2021-12-13T18:00:38.047483Z"
    }
   },
   "outputs": [
    {
     "name": "stdout",
     "output_type": "stream",
     "text": [
      "1 a\n",
      "2 b\n"
     ]
    }
   ],
   "source": [
    "for x, y in zip(*asd):\n",
    "    print(x, y)"
   ]
  },
  {
   "cell_type": "code",
   "execution_count": 1967,
   "id": "1e4fce1f",
   "metadata": {
    "ExecuteTime": {
     "end_time": "2021-12-13T18:02:03.659156Z",
     "start_time": "2021-12-13T18:02:03.645148Z"
    }
   },
   "outputs": [],
   "source": [
    "dictasd = {'1': 'a', '2': 'b'}"
   ]
  },
  {
   "cell_type": "code",
   "execution_count": 1972,
   "id": "418f81cb",
   "metadata": {
    "ExecuteTime": {
     "end_time": "2021-12-13T18:03:04.915934Z",
     "start_time": "2021-12-13T18:03:04.910779Z"
    }
   },
   "outputs": [
    {
     "name": "stdout",
     "output_type": "stream",
     "text": [
      "1 a\n",
      "2 b\n"
     ]
    }
   ],
   "source": [
    "for k, v in dictasd.items():\n",
    "    print(k, v)"
   ]
  },
  {
   "cell_type": "code",
   "execution_count": 1974,
   "id": "08bf0a5c",
   "metadata": {
    "ExecuteTime": {
     "end_time": "2021-12-13T18:03:24.353054Z",
     "start_time": "2021-12-13T18:03:24.340467Z"
    }
   },
   "outputs": [
    {
     "ename": "TypeError",
     "evalue": "zip() takes no keyword arguments",
     "output_type": "error",
     "traceback": [
      "\u001b[1;31m---------------------------------------------------------------------------\u001b[0m",
      "\u001b[1;31mTypeError\u001b[0m                                 Traceback (most recent call last)",
      "\u001b[1;32m~\\AppData\\Local\\Temp/ipykernel_11040/3700119621.py\u001b[0m in \u001b[0;36m<module>\u001b[1;34m\u001b[0m\n\u001b[1;32m----> 1\u001b[1;33m \u001b[1;32mfor\u001b[0m \u001b[0mk\u001b[0m\u001b[1;33m,\u001b[0m \u001b[0mv\u001b[0m \u001b[1;32min\u001b[0m \u001b[0mzip\u001b[0m\u001b[1;33m(\u001b[0m\u001b[1;33m**\u001b[0m\u001b[0mdictasd\u001b[0m\u001b[1;33m)\u001b[0m\u001b[1;33m:\u001b[0m\u001b[1;33m\u001b[0m\u001b[1;33m\u001b[0m\u001b[0m\n\u001b[0m\u001b[0;32m      2\u001b[0m     \u001b[0mprint\u001b[0m\u001b[1;33m(\u001b[0m\u001b[0mk\u001b[0m\u001b[1;33m,\u001b[0m \u001b[0mv\u001b[0m\u001b[1;33m)\u001b[0m\u001b[1;33m\u001b[0m\u001b[1;33m\u001b[0m\u001b[0m\n",
      "\u001b[1;31mTypeError\u001b[0m: zip() takes no keyword arguments"
     ]
    }
   ],
   "source": [
    "for k, v in zip(**dictasd):\n",
    "    print(k, v)"
   ]
  },
  {
   "cell_type": "code",
   "execution_count": null,
   "id": "f593d266",
   "metadata": {},
   "outputs": [],
   "source": []
  },
  {
   "cell_type": "code",
   "execution_count": null,
   "id": "0ce5dad0",
   "metadata": {},
   "outputs": [],
   "source": [
    "for (x,y) in zip(*basin_coords):\n",
    "    mask = flood(a, (x,y), tolerance=1, connectivity=1)\n",
    "    sizes.append(mask.sum())\n",
    "\n",
    "\n",
    "print(np.prod(sorted(sizes)[-3:]))"
   ]
  },
  {
   "cell_type": "markdown",
   "id": "1d488c21",
   "metadata": {},
   "source": [
    "# Day 10"
   ]
  },
  {
   "cell_type": "markdown",
   "id": "6466b4e3",
   "metadata": {},
   "source": [
    "## Feladat 1-2"
   ]
  },
  {
   "cell_type": "code",
   "execution_count": 1134,
   "id": "7bb87cd4",
   "metadata": {
    "ExecuteTime": {
     "end_time": "2021-12-10T09:07:58.503481Z",
     "start_time": "2021-12-10T09:07:58.489856Z"
    }
   },
   "outputs": [],
   "source": [
    "lista = open_source('day10')"
   ]
  },
  {
   "cell_type": "code",
   "execution_count": 1161,
   "id": "e9714a5b",
   "metadata": {
    "ExecuteTime": {
     "end_time": "2021-12-10T09:19:58.415482Z",
     "start_time": "2021-12-10T09:19:58.408421Z"
    }
   },
   "outputs": [],
   "source": [
    "scoring_1 = {')': 3, ']': 57, '}': 1197, '>': 25137}\n",
    "scoring_2 = {'(': 1, '[': 2, '{': 3, '<': 4}"
   ]
  },
  {
   "cell_type": "code",
   "execution_count": 1148,
   "id": "dcfe66eb",
   "metadata": {
    "ExecuteTime": {
     "end_time": "2021-12-10T09:14:35.278296Z",
     "start_time": "2021-12-10T09:14:35.253096Z"
    }
   },
   "outputs": [
    {
     "data": {
      "text/plain": [
       "339537"
      ]
     },
     "execution_count": 1148,
     "metadata": {},
     "output_type": "execute_result"
    }
   ],
   "source": [
    "result = 0\n",
    "to_replace = ['<>', '()', '[]', '{}'] * 100\n",
    "task_2 = []\n",
    "for l in lista:\n",
    "    for c in to_replace:\n",
    "        l = l.replace(c, '')\n",
    "    l_original = l\n",
    "    for c in to_replace:\n",
    "        l = l.replace(c[0], '')\n",
    "    if len(l) == 0:\n",
    "        task_2.append(l_original)\n",
    "    else:\n",
    "        result += scoring_1[l[0]]\n",
    "result"
   ]
  },
  {
   "cell_type": "code",
   "execution_count": 1171,
   "id": "5463b79b",
   "metadata": {
    "ExecuteTime": {
     "end_time": "2021-12-10T09:24:57.570964Z",
     "start_time": "2021-12-10T09:24:57.560898Z"
    }
   },
   "outputs": [
    {
     "data": {
      "text/plain": [
       "2412013412"
      ]
     },
     "execution_count": 1171,
     "metadata": {},
     "output_type": "execute_result"
    }
   ],
   "source": [
    "from statistics import median\n",
    "\n",
    "result = []\n",
    "for l in task_2:\n",
    "    partial = 0\n",
    "    res = l[len(l)::-1]\n",
    "    for c in res:\n",
    "        partial *= 5\n",
    "        partial += scoring_2[c]\n",
    "    result.append(partial)\n",
    "\n",
    "median(result)"
   ]
  },
  {
   "cell_type": "markdown",
   "id": "f633c8c8",
   "metadata": {},
   "source": [
    "# Day 11"
   ]
  },
  {
   "cell_type": "markdown",
   "id": "5b4a2976",
   "metadata": {},
   "source": [
    "## Feladat 1"
   ]
  },
  {
   "cell_type": "code",
   "execution_count": 1525,
   "id": "e85f5654",
   "metadata": {
    "ExecuteTime": {
     "end_time": "2021-12-11T11:50:26.987207Z",
     "start_time": "2021-12-11T11:50:26.971557Z"
    },
    "code_folding": []
   },
   "outputs": [],
   "source": [
    "lista = open_source('day11')\n",
    "lista = [[int(x) for x in list(x)] for x in lista]"
   ]
  },
  {
   "cell_type": "code",
   "execution_count": 1526,
   "id": "09ff5eac",
   "metadata": {
    "ExecuteTime": {
     "end_time": "2021-12-11T11:50:35.708665Z",
     "start_time": "2021-12-11T11:50:35.687771Z"
    },
    "code_folding": []
   },
   "outputs": [],
   "source": [
    "df = np.array(lista)\n",
    "shape = np.array(lista).shape\n",
    "\n",
    "def flash(i, j):\n",
    "    if df[i,j] == 0 and flashed[i,j]:\n",
    "        return\n",
    "\n",
    "    df[i,j] += 1\n",
    "\n",
    "    if df[i,j] > 9:        \n",
    "        df[i,j] = 0\n",
    "        flashed[i,j] = True\n",
    "        for i, j in get_border(i,j):  \n",
    "            flash(i, j)\n",
    "            \n",
    "def get_border(i, j):\n",
    "    res_list = []\n",
    "    for c in bordering:\n",
    "        p = []\n",
    "        p.append(i+c[0])\n",
    "        p.append(j+c[1])\n",
    "        if (len(p) == 2 and \n",
    "            p[0] < shape[0] and \n",
    "            p[1] < shape[1] and \n",
    "            p[0] >= 0 and \n",
    "            p[1] >= 0):\n",
    "            res_list.append(p)\n",
    "    return res_list"
   ]
  },
  {
   "cell_type": "code",
   "execution_count": 1527,
   "id": "df63e518",
   "metadata": {
    "ExecuteTime": {
     "end_time": "2021-12-11T11:50:36.184658Z",
     "start_time": "2021-12-11T11:50:36.107161Z"
    },
    "code_folding": [
     0
    ]
   },
   "outputs": [
    {
     "data": {
      "text/plain": [
       "1608"
      ]
     },
     "execution_count": 1527,
     "metadata": {},
     "output_type": "execute_result"
    }
   ],
   "source": [
    "total_flash = 0\n",
    "\n",
    "for r in range(0, 100):\n",
    "    flashed = np.zeros(shape, dtype=bool)\n",
    "    for i in range(shape[0]):\n",
    "        for j in range(shape[1]):               \n",
    "            flash(i, j)\n",
    "    total_flash += np.count_nonzero(flashed)\n",
    "    \n",
    "total_flash"
   ]
  },
  {
   "cell_type": "markdown",
   "id": "f9735eda",
   "metadata": {
    "ExecuteTime": {
     "end_time": "2021-12-11T11:38:45.545401Z",
     "start_time": "2021-12-11T11:38:45.530144Z"
    }
   },
   "source": [
    "## Feladat 2"
   ]
  },
  {
   "cell_type": "code",
   "execution_count": 1528,
   "id": "d0749f35",
   "metadata": {
    "ExecuteTime": {
     "end_time": "2021-12-11T11:50:38.796217Z",
     "start_time": "2021-12-11T11:50:38.670124Z"
    }
   },
   "outputs": [
    {
     "data": {
      "text/plain": [
       "214"
      ]
     },
     "execution_count": 1528,
     "metadata": {},
     "output_type": "execute_result"
    }
   ],
   "source": [
    "all_flash = True\n",
    "r = 0\n",
    "df = np.array(lista)\n",
    "\n",
    "while all_flash:\n",
    "    flashed = np.zeros(shape, dtype=bool)\n",
    "    for i in range(shape[0]):\n",
    "        for j in range(shape[1]):               \n",
    "            flash(i, j)\n",
    "    r += 1\n",
    "    if np.count_nonzero(flashed) == 100:\n",
    "        all_flash = False\n",
    "        result = r\n",
    "\n",
    "result"
   ]
  },
  {
   "cell_type": "markdown",
   "id": "7d9edc36",
   "metadata": {},
   "source": [
    "# Day 12"
   ]
  },
  {
   "cell_type": "markdown",
   "id": "7b9368cf",
   "metadata": {},
   "source": [
    "## Feladat 1"
   ]
  },
  {
   "cell_type": "code",
   "execution_count": 1542,
   "id": "ec835f88",
   "metadata": {
    "ExecuteTime": {
     "end_time": "2021-12-12T08:07:45.827558Z",
     "start_time": "2021-12-12T08:07:45.813286Z"
    }
   },
   "outputs": [],
   "source": [
    "lista = open_source('day12')"
   ]
  },
  {
   "cell_type": "code",
   "execution_count": 1543,
   "id": "481de89f",
   "metadata": {
    "ExecuteTime": {
     "end_time": "2021-12-12T08:07:46.120557Z",
     "start_time": "2021-12-12T08:07:46.115426Z"
    }
   },
   "outputs": [],
   "source": [
    "lista = [tuple(x.split('-')) for x in lista]"
   ]
  },
  {
   "cell_type": "code",
   "execution_count": 1603,
   "id": "be29f7d9",
   "metadata": {
    "ExecuteTime": {
     "end_time": "2021-12-12T08:48:34.136760Z",
     "start_time": "2021-12-12T08:48:34.132179Z"
    }
   },
   "outputs": [],
   "source": [
    "gf = nx.Graph()"
   ]
  },
  {
   "cell_type": "code",
   "execution_count": 1604,
   "id": "91b1dd1e",
   "metadata": {
    "ExecuteTime": {
     "end_time": "2021-12-12T08:48:34.493739Z",
     "start_time": "2021-12-12T08:48:34.476204Z"
    }
   },
   "outputs": [],
   "source": [
    "gf.add_edges_from(lista)"
   ]
  },
  {
   "cell_type": "code",
   "execution_count": 1608,
   "id": "cf760f9d",
   "metadata": {
    "ExecuteTime": {
     "end_time": "2021-12-12T08:49:36.588916Z",
     "start_time": "2021-12-12T08:49:36.521587Z"
    }
   },
   "outputs": [
    {
     "data": {
      "image/png": "[encoded data removed]",
      "text/plain": [
       "<Figure size 432x288 with 1 Axes>"
      ]
     },
     "metadata": {},
     "output_type": "display_data"
    }
   ],
   "source": [
    "nx.draw(gf, with_labels = True, node_color='yellow')"
   ]
  },
  {
   "cell_type": "code",
   "execution_count": 1612,
   "id": "550a88cb",
   "metadata": {
    "ExecuteTime": {
     "end_time": "2021-12-12T08:50:06.972471Z",
     "start_time": "2021-12-12T08:50:06.957466Z"
    }
   },
   "outputs": [
    {
     "data": {
      "text/plain": [
       "961"
      ]
     },
     "execution_count": 1612,
     "metadata": {},
     "output_type": "execute_result"
    }
   ],
   "source": [
    "len(list(nx.all_simple_paths(gf, 'start', 'end')))"
   ]
  },
  {
   "cell_type": "code",
   "execution_count": 1580,
   "id": "857cdaee",
   "metadata": {
    "ExecuteTime": {
     "end_time": "2021-12-12T08:42:14.362323Z",
     "start_time": "2021-12-12T08:42:14.350634Z"
    }
   },
   "outputs": [],
   "source": [
    "def add_path(path):\n",
    "    if path[-1] == 'end':\n",
    "        yield path\n",
    "    for x in gf.neighbors(path[-1]):\n",
    "        if x == x.lower() and x in path:\n",
    "            continue\n",
    "        yield from add_path(path + [x])"
   ]
  },
  {
   "cell_type": "code",
   "execution_count": 1581,
   "id": "7b23eab6",
   "metadata": {
    "ExecuteTime": {
     "end_time": "2021-12-12T08:42:14.850804Z",
     "start_time": "2021-12-12T08:42:14.800340Z"
    }
   },
   "outputs": [
    {
     "data": {
      "text/plain": [
       "3779"
      ]
     },
     "execution_count": 1581,
     "metadata": {},
     "output_type": "execute_result"
    }
   ],
   "source": [
    "len(list(add_path(['start'])))"
   ]
  },
  {
   "cell_type": "markdown",
   "id": "1cbcc751",
   "metadata": {},
   "source": [
    "## Feladat 2"
   ]
  },
  {
   "cell_type": "code",
   "execution_count": 1635,
   "id": "eaad2b43",
   "metadata": {
    "ExecuteTime": {
     "end_time": "2021-12-12T08:59:50.016271Z",
     "start_time": "2021-12-12T08:59:50.007324Z"
    }
   },
   "outputs": [],
   "source": [
    "def add_path_double(path, double=False):\n",
    "    if path[-1] == 'end':\n",
    "        yield path\n",
    "    for x in gf.neighbors(path[-1]):\n",
    "        double_next = double\n",
    "        if x == x.lower() and x in path:\n",
    "            if double_next:\n",
    "                continue\n",
    "            else:\n",
    "                if x in ['start', 'end']:\n",
    "                    continue\n",
    "                double_next = True\n",
    "        yield from add_path_double(path + [x], double_next)"
   ]
  },
  {
   "cell_type": "code",
   "execution_count": 1636,
   "id": "eb483d5f",
   "metadata": {
    "ExecuteTime": {
     "end_time": "2021-12-12T08:59:51.546781Z",
     "start_time": "2021-12-12T08:59:50.361937Z"
    }
   },
   "outputs": [
    {
     "data": {
      "text/plain": [
       "96988"
      ]
     },
     "execution_count": 1636,
     "metadata": {},
     "output_type": "execute_result"
    }
   ],
   "source": [
    "len(list(add_path_double(['start'])))"
   ]
  },
  {
   "cell_type": "markdown",
   "id": "70fcf429",
   "metadata": {},
   "source": [
    "# Day 13"
   ]
  },
  {
   "cell_type": "markdown",
   "id": "2aa302b7",
   "metadata": {},
   "source": [
    "## Feladat 1"
   ]
  },
  {
   "cell_type": "code",
   "execution_count": 1859,
   "id": "23923aad",
   "metadata": {
    "ExecuteTime": {
     "end_time": "2021-12-13T10:43:19.686666Z",
     "start_time": "2021-12-13T10:43:19.676865Z"
    }
   },
   "outputs": [],
   "source": [
    "lista = open_source('day13')"
   ]
  },
  {
   "cell_type": "code",
   "execution_count": 1860,
   "id": "a9a2cc10",
   "metadata": {
    "ExecuteTime": {
     "end_time": "2021-12-13T10:43:19.905274Z",
     "start_time": "2021-12-13T10:43:19.895211Z"
    }
   },
   "outputs": [],
   "source": [
    "fold = [x for x in lista if 'fold' in x]\n",
    "fold = [tuple([int(y) if 'x' not in y and 'y' not in y else y for y in x.split(' ')[-1].split('=')]) for x in fold]\n",
    "coord = [tuple([int(x) for x in x.split(',')]) for x in lista if ',' in x]"
   ]
  },
  {
   "cell_type": "code",
   "execution_count": 1861,
   "id": "6b14fa11",
   "metadata": {
    "ExecuteTime": {
     "end_time": "2021-12-13T10:43:20.076191Z",
     "start_time": "2021-12-13T10:43:20.068159Z"
    }
   },
   "outputs": [],
   "source": [
    "x_max = max([x[0] for x in coord]) + 1\n",
    "y_max = max([x[1] for x in coord]) + 2"
   ]
  },
  {
   "cell_type": "code",
   "execution_count": 1862,
   "id": "e2c1eb43",
   "metadata": {
    "ExecuteTime": {
     "end_time": "2021-12-13T10:43:20.511932Z",
     "start_time": "2021-12-13T10:43:20.502767Z"
    }
   },
   "outputs": [],
   "source": [
    "arr = np.zeros((y_max, x_max))\n",
    "for v in coord:\n",
    "    arr[v[1], v[0]] = 1"
   ]
  },
  {
   "cell_type": "code",
   "execution_count": 1777,
   "id": "bf690e25",
   "metadata": {
    "ExecuteTime": {
     "end_time": "2021-12-13T10:21:40.443221Z",
     "start_time": "2021-12-13T10:21:40.429224Z"
    }
   },
   "outputs": [],
   "source": [
    "fold1 = 655\n",
    "first = arr[:,:fold1]\n",
    "second = np.flip(arr[:,fold1+1:], axis=1)\n",
    "res = first + second\n",
    "np.count_nonzero(res)"
   ]
  },
  {
   "cell_type": "markdown",
   "id": "62df05da",
   "metadata": {
    "ExecuteTime": {
     "end_time": "2021-12-13T10:03:23.064152Z",
     "start_time": "2021-12-13T10:03:23.049623Z"
    }
   },
   "source": [
    "## Feladat 2"
   ]
  },
  {
   "cell_type": "code",
   "execution_count": 1864,
   "id": "d8bba339",
   "metadata": {
    "ExecuteTime": {
     "end_time": "2021-12-13T10:43:35.283389Z",
     "start_time": "2021-12-13T10:43:35.262844Z"
    }
   },
   "outputs": [],
   "source": [
    "for axis, value in fold:\n",
    "    if axis == 'x':\n",
    "        first = arr[:,:value]\n",
    "        second = np.flip(arr[:,value+1:], axis=1)\n",
    "    elif axis == 'y':\n",
    "        first = arr[:value,:]\n",
    "        second = np.flip(arr[value+1:,:], axis=0)\n",
    "    res = first + second\n",
    "    arr = res"
   ]
  },
  {
   "cell_type": "code",
   "execution_count": 1865,
   "id": "580787f6",
   "metadata": {
    "ExecuteTime": {
     "end_time": "2021-12-13T10:43:39.403996Z",
     "start_time": "2021-12-13T10:43:39.356920Z"
    }
   },
   "outputs": [
    {
     "data": {
      "text/html": [
       "<div>\n",
       "<style scoped>\n",
       "    .dataframe tbody tr th:only-of-type {\n",
       "        vertical-align: middle;\n",
       "    }\n",
       "\n",
       "    .dataframe tbody tr th {\n",
       "        vertical-align: top;\n",
       "    }\n",
       "\n",
       "    .dataframe thead th {\n",
       "        text-align: right;\n",
       "    }\n",
       "</style>\n",
       "<table border=\"1\" class=\"dataframe\">\n",
       "  <thead>\n",
       "    <tr style=\"text-align: right;\">\n",
       "      <th></th>\n",
       "      <th>0</th>\n",
       "      <th>1</th>\n",
       "      <th>2</th>\n",
       "      <th>3</th>\n",
       "      <th>4</th>\n",
       "      <th>5</th>\n",
       "      <th>6</th>\n",
       "      <th>7</th>\n",
       "      <th>8</th>\n",
       "      <th>9</th>\n",
       "      <th>10</th>\n",
       "      <th>11</th>\n",
       "      <th>12</th>\n",
       "      <th>13</th>\n",
       "      <th>14</th>\n",
       "      <th>15</th>\n",
       "      <th>16</th>\n",
       "      <th>17</th>\n",
       "      <th>18</th>\n",
       "      <th>19</th>\n",
       "      <th>20</th>\n",
       "      <th>21</th>\n",
       "      <th>22</th>\n",
       "      <th>23</th>\n",
       "      <th>24</th>\n",
       "      <th>25</th>\n",
       "      <th>26</th>\n",
       "      <th>27</th>\n",
       "      <th>28</th>\n",
       "      <th>29</th>\n",
       "      <th>30</th>\n",
       "      <th>31</th>\n",
       "      <th>32</th>\n",
       "      <th>33</th>\n",
       "      <th>34</th>\n",
       "      <th>35</th>\n",
       "      <th>36</th>\n",
       "      <th>37</th>\n",
       "      <th>38</th>\n",
       "      <th>39</th>\n",
       "    </tr>\n",
       "  </thead>\n",
       "  <tbody>\n",
       "    <tr>\n",
       "      <th>0</th>\n",
       "      <td>1.0</td>\n",
       "      <td>1.0</td>\n",
       "      <td>1.0</td>\n",
       "      <td>1.0</td>\n",
       "      <td></td>\n",
       "      <td></td>\n",
       "      <td></td>\n",
       "      <td>1.0</td>\n",
       "      <td>1.0</td>\n",
       "      <td></td>\n",
       "      <td></td>\n",
       "      <td>1.0</td>\n",
       "      <td>1.0</td>\n",
       "      <td></td>\n",
       "      <td></td>\n",
       "      <td>1.0</td>\n",
       "      <td></td>\n",
       "      <td></td>\n",
       "      <td>1.0</td>\n",
       "      <td></td>\n",
       "      <td></td>\n",
       "      <td></td>\n",
       "      <td>1.0</td>\n",
       "      <td>1.0</td>\n",
       "      <td></td>\n",
       "      <td></td>\n",
       "      <td>1.0</td>\n",
       "      <td>1.0</td>\n",
       "      <td></td>\n",
       "      <td></td>\n",
       "      <td></td>\n",
       "      <td>1.0</td>\n",
       "      <td>1.0</td>\n",
       "      <td></td>\n",
       "      <td></td>\n",
       "      <td>1.0</td>\n",
       "      <td></td>\n",
       "      <td></td>\n",
       "      <td>1.0</td>\n",
       "      <td></td>\n",
       "    </tr>\n",
       "    <tr>\n",
       "      <th>1</th>\n",
       "      <td>1.0</td>\n",
       "      <td></td>\n",
       "      <td></td>\n",
       "      <td></td>\n",
       "      <td></td>\n",
       "      <td></td>\n",
       "      <td></td>\n",
       "      <td></td>\n",
       "      <td>1.0</td>\n",
       "      <td></td>\n",
       "      <td>1.0</td>\n",
       "      <td></td>\n",
       "      <td></td>\n",
       "      <td>1.0</td>\n",
       "      <td></td>\n",
       "      <td>1.0</td>\n",
       "      <td></td>\n",
       "      <td></td>\n",
       "      <td>1.0</td>\n",
       "      <td></td>\n",
       "      <td></td>\n",
       "      <td></td>\n",
       "      <td></td>\n",
       "      <td>1.0</td>\n",
       "      <td></td>\n",
       "      <td>1.0</td>\n",
       "      <td></td>\n",
       "      <td></td>\n",
       "      <td>1.0</td>\n",
       "      <td></td>\n",
       "      <td>1.0</td>\n",
       "      <td></td>\n",
       "      <td></td>\n",
       "      <td>1.0</td>\n",
       "      <td></td>\n",
       "      <td>1.0</td>\n",
       "      <td></td>\n",
       "      <td></td>\n",
       "      <td>1.0</td>\n",
       "      <td></td>\n",
       "    </tr>\n",
       "    <tr>\n",
       "      <th>2</th>\n",
       "      <td>1.0</td>\n",
       "      <td>1.0</td>\n",
       "      <td>1.0</td>\n",
       "      <td></td>\n",
       "      <td></td>\n",
       "      <td></td>\n",
       "      <td></td>\n",
       "      <td></td>\n",
       "      <td>1.0</td>\n",
       "      <td></td>\n",
       "      <td>1.0</td>\n",
       "      <td></td>\n",
       "      <td></td>\n",
       "      <td>1.0</td>\n",
       "      <td></td>\n",
       "      <td>1.0</td>\n",
       "      <td>1.0</td>\n",
       "      <td>1.0</td>\n",
       "      <td>1.0</td>\n",
       "      <td></td>\n",
       "      <td></td>\n",
       "      <td></td>\n",
       "      <td></td>\n",
       "      <td>1.0</td>\n",
       "      <td></td>\n",
       "      <td>1.0</td>\n",
       "      <td></td>\n",
       "      <td></td>\n",
       "      <td></td>\n",
       "      <td></td>\n",
       "      <td>1.0</td>\n",
       "      <td></td>\n",
       "      <td></td>\n",
       "      <td>1.0</td>\n",
       "      <td></td>\n",
       "      <td>1.0</td>\n",
       "      <td>1.0</td>\n",
       "      <td>1.0</td>\n",
       "      <td>1.0</td>\n",
       "      <td></td>\n",
       "    </tr>\n",
       "    <tr>\n",
       "      <th>3</th>\n",
       "      <td>1.0</td>\n",
       "      <td></td>\n",
       "      <td></td>\n",
       "      <td></td>\n",
       "      <td></td>\n",
       "      <td></td>\n",
       "      <td></td>\n",
       "      <td></td>\n",
       "      <td>1.0</td>\n",
       "      <td></td>\n",
       "      <td>1.0</td>\n",
       "      <td>1.0</td>\n",
       "      <td>1.0</td>\n",
       "      <td>1.0</td>\n",
       "      <td></td>\n",
       "      <td>1.0</td>\n",
       "      <td></td>\n",
       "      <td></td>\n",
       "      <td>1.0</td>\n",
       "      <td></td>\n",
       "      <td></td>\n",
       "      <td></td>\n",
       "      <td></td>\n",
       "      <td>1.0</td>\n",
       "      <td></td>\n",
       "      <td>1.0</td>\n",
       "      <td></td>\n",
       "      <td>1.0</td>\n",
       "      <td>1.0</td>\n",
       "      <td></td>\n",
       "      <td>1.0</td>\n",
       "      <td>1.0</td>\n",
       "      <td>1.0</td>\n",
       "      <td>1.0</td>\n",
       "      <td></td>\n",
       "      <td>1.0</td>\n",
       "      <td></td>\n",
       "      <td></td>\n",
       "      <td>1.0</td>\n",
       "      <td></td>\n",
       "    </tr>\n",
       "    <tr>\n",
       "      <th>4</th>\n",
       "      <td>1.0</td>\n",
       "      <td></td>\n",
       "      <td></td>\n",
       "      <td></td>\n",
       "      <td></td>\n",
       "      <td>1.0</td>\n",
       "      <td></td>\n",
       "      <td></td>\n",
       "      <td>1.0</td>\n",
       "      <td></td>\n",
       "      <td>1.0</td>\n",
       "      <td></td>\n",
       "      <td></td>\n",
       "      <td>1.0</td>\n",
       "      <td></td>\n",
       "      <td>1.0</td>\n",
       "      <td></td>\n",
       "      <td></td>\n",
       "      <td>1.0</td>\n",
       "      <td></td>\n",
       "      <td>1.0</td>\n",
       "      <td></td>\n",
       "      <td></td>\n",
       "      <td>1.0</td>\n",
       "      <td></td>\n",
       "      <td>1.0</td>\n",
       "      <td></td>\n",
       "      <td></td>\n",
       "      <td>1.0</td>\n",
       "      <td></td>\n",
       "      <td>1.0</td>\n",
       "      <td></td>\n",
       "      <td></td>\n",
       "      <td>1.0</td>\n",
       "      <td></td>\n",
       "      <td>1.0</td>\n",
       "      <td></td>\n",
       "      <td></td>\n",
       "      <td>1.0</td>\n",
       "      <td></td>\n",
       "    </tr>\n",
       "    <tr>\n",
       "      <th>5</th>\n",
       "      <td>1.0</td>\n",
       "      <td></td>\n",
       "      <td></td>\n",
       "      <td></td>\n",
       "      <td></td>\n",
       "      <td></td>\n",
       "      <td>1.0</td>\n",
       "      <td>1.0</td>\n",
       "      <td></td>\n",
       "      <td></td>\n",
       "      <td>1.0</td>\n",
       "      <td></td>\n",
       "      <td></td>\n",
       "      <td>1.0</td>\n",
       "      <td></td>\n",
       "      <td>1.0</td>\n",
       "      <td></td>\n",
       "      <td></td>\n",
       "      <td>1.0</td>\n",
       "      <td></td>\n",
       "      <td></td>\n",
       "      <td>1.0</td>\n",
       "      <td>1.0</td>\n",
       "      <td></td>\n",
       "      <td></td>\n",
       "      <td></td>\n",
       "      <td>1.0</td>\n",
       "      <td>1.0</td>\n",
       "      <td>1.0</td>\n",
       "      <td></td>\n",
       "      <td>1.0</td>\n",
       "      <td></td>\n",
       "      <td></td>\n",
       "      <td>1.0</td>\n",
       "      <td></td>\n",
       "      <td>1.0</td>\n",
       "      <td></td>\n",
       "      <td></td>\n",
       "      <td>1.0</td>\n",
       "      <td></td>\n",
       "    </tr>\n",
       "  </tbody>\n",
       "</table>\n",
       "</div>"
      ],
      "text/plain": [
       "    0    1    2    3  4    5    6    7    8  9    10   11   12   13 14   15  \\\n",
       "0  1.0  1.0  1.0  1.0               1.0  1.0          1.0  1.0          1.0   \n",
       "1  1.0                                   1.0     1.0            1.0     1.0   \n",
       "2  1.0  1.0  1.0                         1.0     1.0            1.0     1.0   \n",
       "3  1.0                                   1.0     1.0  1.0  1.0  1.0     1.0   \n",
       "4  1.0                    1.0            1.0     1.0            1.0     1.0   \n",
       "5  1.0                         1.0  1.0          1.0            1.0     1.0   \n",
       "\n",
       "    16   17   18 19   20   21   22   23 24   25   26   27   28 29   30   31  \\\n",
       "0            1.0               1.0  1.0          1.0  1.0               1.0   \n",
       "1            1.0                    1.0     1.0            1.0     1.0        \n",
       "2  1.0  1.0  1.0                    1.0     1.0                    1.0        \n",
       "3            1.0                    1.0     1.0       1.0  1.0     1.0  1.0   \n",
       "4            1.0     1.0            1.0     1.0            1.0     1.0        \n",
       "5            1.0          1.0  1.0               1.0  1.0  1.0     1.0        \n",
       "\n",
       "    32   33 34   35   36   37   38 39  \n",
       "0  1.0          1.0            1.0     \n",
       "1       1.0     1.0            1.0     \n",
       "2       1.0     1.0  1.0  1.0  1.0     \n",
       "3  1.0  1.0     1.0            1.0     \n",
       "4       1.0     1.0            1.0     \n",
       "5       1.0     1.0            1.0     "
      ]
     },
     "execution_count": 1865,
     "metadata": {},
     "output_type": "execute_result"
    }
   ],
   "source": [
    "df = pd.DataFrame(arr)\n",
    "df[df > 0] = 1\n",
    "df.replace(0, '')"
   ]
  },
  {
   "cell_type": "code",
   "execution_count": null,
   "id": "1e39a2b2",
   "metadata": {},
   "outputs": [],
   "source": [
    "11.20\n",
    "3.14\n",
    "6.00\n",
    "20.34\n"
   ]
  },
  {
   "cell_type": "code",
   "execution_count": 1868,
   "id": "0099fd2f",
   "metadata": {
    "ExecuteTime": {
     "end_time": "2021-12-13T14:25:13.807204Z",
     "start_time": "2021-12-13T14:25:13.666064Z"
    }
   },
   "outputs": [
    {
     "ename": "AttributeError",
     "evalue": "'list' object has no attribute 'astype'",
     "output_type": "error",
     "traceback": [
      "\u001b[1;31m---------------------------------------------------------------------------\u001b[0m",
      "\u001b[1;31mAttributeError\u001b[0m                            Traceback (most recent call last)",
      "\u001b[1;32m~\\AppData\\Local\\Temp/ipykernel_11040/1196395455.py\u001b[0m in \u001b[0;36m<module>\u001b[1;34m\u001b[0m\n\u001b[1;32m----> 1\u001b[1;33m \u001b[1;34m\"123,456\"\u001b[0m\u001b[1;33m.\u001b[0m\u001b[0msplit\u001b[0m\u001b[1;33m(\u001b[0m\u001b[1;34m','\u001b[0m\u001b[1;33m)\u001b[0m\u001b[1;33m.\u001b[0m\u001b[0mastype\u001b[0m\u001b[1;33m(\u001b[0m\u001b[0mint\u001b[0m\u001b[1;33m)\u001b[0m\u001b[1;33m\u001b[0m\u001b[1;33m\u001b[0m\u001b[0m\n\u001b[0m",
      "\u001b[1;31mAttributeError\u001b[0m: 'list' object has no attribute 'astype'"
     ]
    }
   ],
   "source": [
    "\"123,456\".split(',').astype(int)"
   ]
  },
  {
   "cell_type": "code",
   "execution_count": null,
   "id": "35e84ceb",
   "metadata": {},
   "outputs": [],
   "source": [
    "9 buttons, 2 hexagons, 2 squares, 3 rectangles, 1 triangle\n",
    "4 red, 3 blue, 2 green\n"
   ]
  },
  {
   "cell_type": "code",
   "execution_count": 1866,
   "id": "94ee8afc",
   "metadata": {
    "ExecuteTime": {
     "end_time": "2021-12-13T13:57:01.365145Z",
     "start_time": "2021-12-13T13:57:01.333155Z"
    }
   },
   "outputs": [
    {
     "data": {
      "text/plain": [
       "1200"
      ]
     },
     "execution_count": 1866,
     "metadata": {},
     "output_type": "execute_result"
    }
   ],
   "source": [
    "20*60"
   ]
  },
  {
   "cell_type": "markdown",
   "id": "2f91fb71",
   "metadata": {
    "heading_collapsed": true
   },
   "source": [
    "# Other random stuff"
   ]
  },
  {
   "cell_type": "code",
   "execution_count": 1184,
   "id": "e4b51ec9",
   "metadata": {
    "ExecuteTime": {
     "end_time": "2021-12-10T20:33:12.990615Z",
     "start_time": "2021-12-10T20:33:12.984397Z"
    },
    "hidden": true
   },
   "outputs": [],
   "source": [
    "label = ('a', 'b')\n",
    "row1 = ('asd   ', 2)\n",
    "row2 = ('basd   ', 4)"
   ]
  },
  {
   "cell_type": "code",
   "execution_count": 1185,
   "id": "04e2ab4e",
   "metadata": {
    "ExecuteTime": {
     "end_time": "2021-12-10T20:33:13.774413Z",
     "start_time": "2021-12-10T20:33:13.759236Z"
    },
    "hidden": true
   },
   "outputs": [
    {
     "data": {
      "text/plain": [
       "{'a': ('asd   ', 'basd   '), 'b': (2, 4)}"
      ]
     },
     "execution_count": 1185,
     "metadata": {},
     "output_type": "execute_result"
    }
   ],
   "source": [
    "dict(zip(label, tuple(zip(row1, row2))))"
   ]
  },
  {
   "cell_type": "code",
   "execution_count": 1187,
   "id": "f5a0e0b0",
   "metadata": {
    "ExecuteTime": {
     "end_time": "2021-12-10T20:35:49.848901Z",
     "start_time": "2021-12-10T20:35:49.843832Z"
    },
    "hidden": true
   },
   "outputs": [],
   "source": [
    "rows = [('basd   ', 1), ('asd    ', '2')]"
   ]
  },
  {
   "cell_type": "code",
   "execution_count": 1199,
   "id": "ad9d7029",
   "metadata": {
    "ExecuteTime": {
     "end_time": "2021-12-10T20:37:31.319151Z",
     "start_time": "2021-12-10T20:37:31.311992Z"
    },
    "hidden": true
   },
   "outputs": [],
   "source": [
    "df = pd.DataFrame(rows, columns=label)\n",
    "df['a'].str.strip().to_list()"
   ]
  },
  {
   "cell_type": "code",
   "execution_count": 1198,
   "id": "4afc8938",
   "metadata": {
    "ExecuteTime": {
     "end_time": "2021-12-10T20:37:29.518722Z",
     "start_time": "2021-12-10T20:37:29.508568Z"
    },
    "hidden": true
   },
   "outputs": [],
   "source": [
    "df['a'] = [x.strip() for x in df['a']]"
   ]
  },
  {
   "cell_type": "code",
   "execution_count": 1219,
   "id": "c7a571bf",
   "metadata": {
    "ExecuteTime": {
     "end_time": "2021-12-10T20:43:11.348044Z",
     "start_time": "2021-12-10T20:43:11.328170Z"
    },
    "hidden": true
   },
   "outputs": [],
   "source": [
    "dd = defaultdict(list)"
   ]
  },
  {
   "cell_type": "code",
   "execution_count": 1220,
   "id": "3aa14828",
   "metadata": {
    "ExecuteTime": {
     "end_time": "2021-12-10T20:43:48.818372Z",
     "start_time": "2021-12-10T20:43:48.804832Z"
    },
    "hidden": true
   },
   "outputs": [],
   "source": [
    "dicta = {}\n",
    "for i, l in enumerate(label):\n",
    "    for v in rows:\n",
    "        if isinstance(v[i], str):\n",
    "            dd[l].append(v[i].strip())\n",
    "        else:\n",
    "            dd[l].append(v[i])"
   ]
  },
  {
   "cell_type": "code",
   "execution_count": 1221,
   "id": "4ffe06cc",
   "metadata": {
    "ExecuteTime": {
     "end_time": "2021-12-10T20:43:51.804473Z",
     "start_time": "2021-12-10T20:43:51.795824Z"
    },
    "hidden": true
   },
   "outputs": [
    {
     "data": {
      "text/plain": [
       "defaultdict(list, {'a': ['basd', 'asd'], 'b': [1, '2']})"
      ]
     },
     "execution_count": 1221,
     "metadata": {},
     "output_type": "execute_result"
    }
   ],
   "source": [
    "dd"
   ]
  }
 ],
 "metadata": {
  "kernelspec": {
   "display_name": "Python 3 (ipykernel)",
   "language": "python",
   "name": "python3"
  },
  "language_info": {
   "codemirror_mode": {
    "name": "ipython",
    "version": 3
   },
   "file_extension": ".py",
   "mimetype": "text/x-python",
   "name": "python",
   "nbconvert_exporter": "python",
   "pygments_lexer": "ipython3",
   "version": "3.8.12"
  },
  "toc": {
   "base_numbering": 1,
   "nav_menu": {},
   "number_sections": true,
   "sideBar": true,
   "skip_h1_title": false,
   "title_cell": "Table of Contents",
   "title_sidebar": "Contents",
   "toc_cell": false,
   "toc_position": {},
   "toc_section_display": true,
   "toc_window_display": false
  }
 },
 "nbformat": 4,
 "nbformat_minor": 5
}
