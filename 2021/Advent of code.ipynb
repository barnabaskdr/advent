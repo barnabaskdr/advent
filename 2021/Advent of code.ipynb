{
 "cells": [
  {
   "cell_type": "code",
   "execution_count": 1402,
   "id": "7e9315b1",
   "metadata": {
    "ExecuteTime": {
     "end_time": "2021-12-17T09:20:39.066569Z",
     "start_time": "2021-12-17T09:20:39.028588Z"
    }
   },
   "outputs": [
    {
     "data": {
      "text/html": [
       "<style>.container { width:80% !important; }</style>"
      ],
      "text/plain": [
       "<IPython.core.display.HTML object>"
      ]
     },
     "metadata": {},
     "output_type": "display_data"
    }
   ],
   "source": [
    "from collections import defaultdict, Counter\n",
    "from itertools import combinations, permutations, product\n",
    "import pandas as pd\n",
    "import re\n",
    "from re import findall\n",
    "import numpy as np\n",
    "import networkx as nx\n",
    "import matplotlib.pyplot as plt\n",
    "from math import ceil, sqrt\n",
    "from scipy.ndimage import generic_filter\n",
    "from skimage.segmentation import flood\n",
    "from IPython.core.display import display, HTML\n",
    "import big_o\n",
    "display(HTML(\"<style>.container { width:80% !important; }</style>\"))\n",
    "pd.set_option('display.max_columns', 50)"
   ]
  },
  {
   "cell_type": "code",
   "execution_count": 7,
   "id": "31c9de94",
   "metadata": {
    "ExecuteTime": {
     "end_time": "2021-12-14T10:33:37.541942Z",
     "start_time": "2021-12-14T10:33:37.527942Z"
    }
   },
   "outputs": [],
   "source": [
    "def open_source(day):\n",
    "    with open('source/{}.txt'.format(day), 'r') as f:\n",
    "        lista = f.readlines()\n",
    "    lista = [x.strip('\\n') for x in lista]\n",
    "    return lista"
   ]
  },
  {
   "cell_type": "markdown",
   "id": "ac969a58",
   "metadata": {},
   "source": [
    "# Day 1"
   ]
  },
  {
   "cell_type": "markdown",
   "id": "9dd6dc23",
   "metadata": {},
   "source": [
    "## Feladat 1"
   ]
  },
  {
   "cell_type": "code",
   "execution_count": 8,
   "id": "eebb556d",
   "metadata": {
    "ExecuteTime": {
     "end_time": "2021-12-14T10:33:37.557017Z",
     "start_time": "2021-12-14T10:33:37.543943Z"
    }
   },
   "outputs": [],
   "source": [
    "with open('source/day1.txt', 'r') as f:\n",
    "    lista = f.readlines()"
   ]
  },
  {
   "cell_type": "code",
   "execution_count": 9,
   "id": "fd84a1f7",
   "metadata": {
    "ExecuteTime": {
     "end_time": "2021-12-14T10:33:37.573022Z",
     "start_time": "2021-12-14T10:33:37.558942Z"
    }
   },
   "outputs": [],
   "source": [
    "lista = [int(x.strip('\\n')) for x in lista]"
   ]
  },
  {
   "cell_type": "code",
   "execution_count": 10,
   "id": "9898858f",
   "metadata": {
    "ExecuteTime": {
     "end_time": "2021-12-14T10:33:37.588944Z",
     "start_time": "2021-12-14T10:33:37.574944Z"
    }
   },
   "outputs": [],
   "source": [
    "def nagyobb(lista):\n",
    "    elozo = lista[0]\n",
    "    eredmeny = 0\n",
    "    for x in lista[1:]:\n",
    "        if x > elozo:\n",
    "            eredmeny += 1\n",
    "        elozo = x\n",
    "    return eredmeny"
   ]
  },
  {
   "cell_type": "code",
   "execution_count": 11,
   "id": "6c4ac5b1",
   "metadata": {
    "ExecuteTime": {
     "end_time": "2021-12-14T10:33:37.604942Z",
     "start_time": "2021-12-14T10:33:37.589942Z"
    }
   },
   "outputs": [
    {
     "data": {
      "text/plain": [
       "1390"
      ]
     },
     "execution_count": 11,
     "metadata": {},
     "output_type": "execute_result"
    }
   ],
   "source": [
    "nagyobb(lista)"
   ]
  },
  {
   "cell_type": "markdown",
   "id": "139985e2",
   "metadata": {},
   "source": [
    "## Feladat 2"
   ]
  },
  {
   "cell_type": "code",
   "execution_count": 12,
   "id": "e71b6d45",
   "metadata": {
    "ExecuteTime": {
     "end_time": "2021-12-14T10:33:37.619944Z",
     "start_time": "2021-12-14T10:33:37.605942Z"
    }
   },
   "outputs": [],
   "source": [
    "def chunks(lista, chunk_size, overlap):\n",
    "    for i in range(0, len(lista), overlap):\n",
    "        if len(lista[i:i+chunk_size]) == 3:\n",
    "            yield lista[i:i+chunk_size]\n",
    "\n",
    "lista_3as = []            \n",
    "for x in chunks(lista, 3, 1):\n",
    "    lista_3as.append(sum(x))"
   ]
  },
  {
   "cell_type": "code",
   "execution_count": 13,
   "id": "d39b216e",
   "metadata": {
    "ExecuteTime": {
     "end_time": "2021-12-14T10:33:37.635945Z",
     "start_time": "2021-12-14T10:33:37.621943Z"
    }
   },
   "outputs": [
    {
     "data": {
      "text/plain": [
       "1457"
      ]
     },
     "execution_count": 13,
     "metadata": {},
     "output_type": "execute_result"
    }
   ],
   "source": [
    "nagyobb(lista_3as)"
   ]
  },
  {
   "cell_type": "markdown",
   "id": "119966b0",
   "metadata": {
    "ExecuteTime": {
     "end_time": "2021-12-02T15:13:22.811361Z",
     "start_time": "2021-12-02T15:13:22.797325Z"
    }
   },
   "source": [
    "# Day 2"
   ]
  },
  {
   "cell_type": "markdown",
   "id": "f7ac8e02",
   "metadata": {},
   "source": [
    "## Feladat 1"
   ]
  },
  {
   "cell_type": "code",
   "execution_count": 14,
   "id": "c38502c1",
   "metadata": {
    "ExecuteTime": {
     "end_time": "2021-12-14T10:33:37.651950Z",
     "start_time": "2021-12-14T10:33:37.637947Z"
    }
   },
   "outputs": [
    {
     "ename": "SyntaxError",
     "evalue": "invalid syntax (Temp/ipykernel_32836/2119270184.py, line 1)",
     "output_type": "error",
     "traceback": [
      "\u001b[1;36m  File \u001b[1;32m\"C:\\Users\\kadarb\\AppData\\Local\\Temp/ipykernel_32836/2119270184.py\"\u001b[1;36m, line \u001b[1;32m1\u001b[0m\n\u001b[1;33m    final horizontal * final depth\u001b[0m\n\u001b[1;37m          ^\u001b[0m\n\u001b[1;31mSyntaxError\u001b[0m\u001b[1;31m:\u001b[0m invalid syntax\n"
     ]
    }
   ],
   "source": [
    "final horizontal * final depth"
   ]
  },
  {
   "cell_type": "code",
   "execution_count": null,
   "id": "f81f27c7",
   "metadata": {
    "ExecuteTime": {
     "end_time": "2021-12-14T10:33:37.654945Z",
     "start_time": "2021-12-14T10:33:37.654945Z"
    }
   },
   "outputs": [],
   "source": [
    "with open('source/day2.txt', 'r') as f:\n",
    "    lista = f.readlines()\n",
    "lista = [x.strip('\\n') for x in lista]"
   ]
  },
  {
   "cell_type": "code",
   "execution_count": null,
   "id": "ea186310",
   "metadata": {
    "ExecuteTime": {
     "end_time": "2021-12-14T10:33:37.656943Z",
     "start_time": "2021-12-14T10:33:37.656943Z"
    }
   },
   "outputs": [],
   "source": [
    "horizontal_pos = 0\n",
    "depth = 0\n",
    "for x in lista:\n",
    "    if 'forward' in x:\n",
    "        horizontal_pos += int(x.split(' ')[-1])\n",
    "    elif 'up' in x:\n",
    "        depth -= int(x.split(' ')[-1])\n",
    "    elif 'down' in x:\n",
    "        depth += int(x.split(' ')[-1])"
   ]
  },
  {
   "cell_type": "code",
   "execution_count": null,
   "id": "9fd4b082",
   "metadata": {
    "ExecuteTime": {
     "end_time": "2021-12-14T10:33:37.657942Z",
     "start_time": "2021-12-14T10:33:37.657942Z"
    }
   },
   "outputs": [],
   "source": [
    "horizontal_pos * depth"
   ]
  },
  {
   "cell_type": "markdown",
   "id": "0b15a18d",
   "metadata": {
    "ExecuteTime": {
     "end_time": "2021-12-02T15:23:24.662621Z",
     "start_time": "2021-12-02T15:23:24.649446Z"
    }
   },
   "source": [
    "## Feladat 2"
   ]
  },
  {
   "cell_type": "code",
   "execution_count": null,
   "id": "d4925e0d",
   "metadata": {
    "ExecuteTime": {
     "end_time": "2021-12-14T10:33:37.658942Z",
     "start_time": "2021-12-14T10:33:37.658942Z"
    }
   },
   "outputs": [],
   "source": [
    "horizontal_pos = 0\n",
    "aim = 0\n",
    "depth = 0\n",
    "for x in lista:\n",
    "    if 'up' in x:\n",
    "        aim -= int(x.split(' ')[-1])\n",
    "    elif 'down' in x:\n",
    "        aim += int(x.split(' ')[-1])\n",
    "    if 'forward' in x:\n",
    "        horizontal_pos += int(x.split(' ')[-1])\n",
    "        depth += int(x.split(' ')[-1]) * aim"
   ]
  },
  {
   "cell_type": "code",
   "execution_count": null,
   "id": "5f349af6",
   "metadata": {
    "ExecuteTime": {
     "end_time": "2021-12-14T10:33:37.659956Z",
     "start_time": "2021-12-14T10:33:37.659956Z"
    }
   },
   "outputs": [],
   "source": [
    "horizontal_pos * depth"
   ]
  },
  {
   "cell_type": "markdown",
   "id": "cb8575ba",
   "metadata": {},
   "source": [
    "# Day 3"
   ]
  },
  {
   "cell_type": "markdown",
   "id": "a1e4743b",
   "metadata": {
    "heading_collapsed": true
   },
   "source": [
    "## Feladat 1"
   ]
  },
  {
   "cell_type": "code",
   "execution_count": null,
   "id": "9d7e5094",
   "metadata": {
    "ExecuteTime": {
     "end_time": "2021-12-03T07:37:26.452229Z",
     "start_time": "2021-12-03T07:37:26.433187Z"
    },
    "hidden": true
   },
   "outputs": [],
   "source": []
  },
  {
   "cell_type": "code",
   "execution_count": null,
   "id": "c09426de",
   "metadata": {
    "ExecuteTime": {
     "end_time": "2021-12-14T10:33:37.659956Z",
     "start_time": "2021-12-14T10:33:37.659956Z"
    },
    "hidden": true
   },
   "outputs": [],
   "source": [
    "def open_source(day):\n",
    "    with open('source/{}.txt'.format(day), 'r') as f:\n",
    "        lista = f.readlines()\n",
    "    lista = [x.strip('\\n') for x in lista]\n",
    "    return lista"
   ]
  },
  {
   "cell_type": "code",
   "execution_count": null,
   "id": "8f25c762",
   "metadata": {
    "ExecuteTime": {
     "end_time": "2021-12-14T10:33:37.660943Z",
     "start_time": "2021-12-14T10:33:37.660943Z"
    },
    "hidden": true
   },
   "outputs": [],
   "source": [
    "lista = open_source('day3')"
   ]
  },
  {
   "cell_type": "code",
   "execution_count": null,
   "id": "3db9e71c",
   "metadata": {
    "ExecuteTime": {
     "end_time": "2021-12-14T10:33:37.661943Z",
     "start_time": "2021-12-14T10:33:37.661943Z"
    },
    "hidden": true
   },
   "outputs": [],
   "source": [
    "dd = defaultdict(list)"
   ]
  },
  {
   "cell_type": "code",
   "execution_count": null,
   "id": "2f16dbf2",
   "metadata": {
    "ExecuteTime": {
     "end_time": "2021-12-14T10:33:37.662943Z",
     "start_time": "2021-12-14T10:33:37.662943Z"
    },
    "hidden": true
   },
   "outputs": [],
   "source": [
    "#def count_binary()\n",
    "dd = defaultdict(list)\n",
    "gamma = ''\n",
    "epsilon = ''\n",
    "for i in range(len(lista[0])):\n",
    "    for j in lista:\n",
    "        dd[i].append(j[i])\n",
    "    gamma += max(set(dd[i]), key=dd[i].count)\n",
    "    epsilon += min(set(dd[i]), key=dd[i].count)    "
   ]
  },
  {
   "cell_type": "code",
   "execution_count": null,
   "id": "d60f9716",
   "metadata": {
    "ExecuteTime": {
     "end_time": "2021-12-14T10:33:37.663943Z",
     "start_time": "2021-12-14T10:33:37.663943Z"
    },
    "hidden": true
   },
   "outputs": [],
   "source": [
    "int(gamma, 2) * int(epsilon, 2)"
   ]
  },
  {
   "cell_type": "markdown",
   "id": "7178cbc7",
   "metadata": {
    "ExecuteTime": {
     "end_time": "2021-12-03T07:48:06.952888Z",
     "start_time": "2021-12-03T07:48:06.941038Z"
    }
   },
   "source": [
    "## Feladat 2"
   ]
  },
  {
   "cell_type": "code",
   "execution_count": null,
   "id": "f16e9487",
   "metadata": {
    "ExecuteTime": {
     "end_time": "2021-12-14T10:33:37.664943Z",
     "start_time": "2021-12-14T10:33:37.664943Z"
    }
   },
   "outputs": [],
   "source": [
    "dd = defaultdict(list)\n",
    "gamma = ''\n",
    "epsilon = ''\n",
    "for i in range(len(lista[0])):\n",
    "    for j in lista:\n",
    "        dd[i].append(j[i])"
   ]
  },
  {
   "cell_type": "code",
   "execution_count": null,
   "id": "841c95fb",
   "metadata": {
    "ExecuteTime": {
     "end_time": "2021-12-14T10:33:37.665943Z",
     "start_time": "2021-12-14T10:33:37.664943Z"
    }
   },
   "outputs": [],
   "source": [
    "pandas_lista = [list(x) for x in lista]"
   ]
  },
  {
   "cell_type": "code",
   "execution_count": null,
   "id": "c7a1d82f",
   "metadata": {
    "ExecuteTime": {
     "end_time": "2021-12-14T10:33:37.666944Z",
     "start_time": "2021-12-14T10:33:37.666944Z"
    }
   },
   "outputs": [],
   "source": [
    "df = pd.DataFrame(pandas_lista)"
   ]
  },
  {
   "cell_type": "code",
   "execution_count": null,
   "id": "ef686abf",
   "metadata": {
    "ExecuteTime": {
     "end_time": "2021-12-14T10:33:37.667943Z",
     "start_time": "2021-12-14T10:33:37.667943Z"
    }
   },
   "outputs": [],
   "source": [
    "def melyik_o(df, pos):  \n",
    "    if df.groupby([pos])[pos].count().iloc[0] > df.groupby([pos])[pos].count().iloc[1]:\n",
    "        return '0'\n",
    "    elif df.groupby([pos])[pos].count().iloc[0] < df.groupby([pos])[pos].count().iloc[1]:\n",
    "        return '1'\n",
    "    else:\n",
    "        return '1'\n",
    "    \n",
    "def melyik_co(df, pos):  \n",
    "    if df.groupby([pos])[pos].count().iloc[0] > df.groupby([pos])[pos].count().iloc[1]:\n",
    "        return '1'\n",
    "    elif df.groupby([pos])[pos].count().iloc[0] < df.groupby([pos])[pos].count().iloc[1]:\n",
    "        return '0'\n",
    "    else:\n",
    "        return '0'"
   ]
  },
  {
   "cell_type": "code",
   "execution_count": null,
   "id": "44f208a1",
   "metadata": {
    "ExecuteTime": {
     "end_time": "2021-12-14T10:33:37.668945Z",
     "start_time": "2021-12-14T10:33:37.668945Z"
    }
   },
   "outputs": [],
   "source": [
    "def melyik_o(df, pos):  \n",
    "    if df.groupby([pos])[pos].count().iloc[0] > df.groupby([pos])[pos].count().iloc[1]:\n",
    "        return '0'\n",
    "    elif df.groupby([pos])[pos].count().iloc[0] < df.groupby([pos])[pos].count().iloc[1]:\n",
    "        return '1'\n",
    "    else:\n",
    "        return '1'\n",
    "\n",
    "oxigen = df.copy()\n",
    "for col in oxigen.columns:\n",
    "    marado = melyik_o(oxigen, col)\n",
    "    oxigen = oxigen.loc[oxigen[col] == marado]\n",
    "    if len(oxigen) == 1:\n",
    "        break"
   ]
  },
  {
   "cell_type": "code",
   "execution_count": null,
   "id": "461a9995",
   "metadata": {
    "ExecuteTime": {
     "end_time": "2021-12-14T10:33:37.668945Z",
     "start_time": "2021-12-14T10:33:37.668945Z"
    }
   },
   "outputs": [],
   "source": [
    "co2 = df.copy()\n",
    "for col in co2.columns:\n",
    "    marado = melyik_co(co2, col)\n",
    "    co2 = co2.loc[co2[col] == marado]\n",
    "    if len(co2) == 1:\n",
    "        break"
   ]
  },
  {
   "cell_type": "code",
   "execution_count": null,
   "id": "4de0df3d",
   "metadata": {
    "ExecuteTime": {
     "end_time": "2021-12-14T10:33:37.669943Z",
     "start_time": "2021-12-14T10:33:37.669943Z"
    }
   },
   "outputs": [],
   "source": [
    "int(co2.apply(''.join, axis=1).iloc[0], 2) * int(oxigen.apply(''.join, axis=1).iloc[0], 2)"
   ]
  },
  {
   "cell_type": "markdown",
   "id": "cfe8c7e0",
   "metadata": {},
   "source": [
    "# Day 4"
   ]
  },
  {
   "cell_type": "markdown",
   "id": "1c40e2d5",
   "metadata": {},
   "source": [
    "## Feladat 1"
   ]
  },
  {
   "cell_type": "code",
   "execution_count": null,
   "id": "a37bbcaa",
   "metadata": {
    "ExecuteTime": {
     "end_time": "2021-12-14T10:33:37.670943Z",
     "start_time": "2021-12-14T10:33:37.670943Z"
    }
   },
   "outputs": [],
   "source": [
    "with open('source/day4.txt', 'r') as f:\n",
    "    lista = f.readlines()"
   ]
  },
  {
   "cell_type": "code",
   "execution_count": null,
   "id": "62573cae",
   "metadata": {
    "ExecuteTime": {
     "end_time": "2021-12-14T10:33:37.671943Z",
     "start_time": "2021-12-14T10:33:37.671943Z"
    }
   },
   "outputs": [],
   "source": [
    "boards = [list(filter(None, x.strip('\\n').split(' '))) for x in lista[2:]]"
   ]
  },
  {
   "cell_type": "code",
   "execution_count": null,
   "id": "b807b752",
   "metadata": {
    "ExecuteTime": {
     "end_time": "2021-12-14T10:33:37.672943Z",
     "start_time": "2021-12-14T10:33:37.672943Z"
    }
   },
   "outputs": [],
   "source": [
    "def vert_match(df):\n",
    "    a = df.to_numpy() # df.values (pandas<0.24)\n",
    "    if True in (a[0] == a).all(0):\n",
    "        return True\n",
    "    else:\n",
    "        return False\n",
    "    \n",
    "def hori_match(df):\n",
    "    if len(df[df.apply(lambda x: min(x) == max(x), 1)]) > 0:\n",
    "        return True\n",
    "    else:\n",
    "        return False\n",
    "\n",
    "list_of_boards = []\n",
    "for x, y in zip(range(0, len(boards)+1, 6), range(5, len(boards)+1, 6)):\n",
    "    list_of_boards.append(pd.DataFrame(boards[x:y]))\n",
    "    \n",
    "result = ''\n",
    "result_df = ''\n",
    "for i, num in enumerate(draw):\n",
    "    for j, df in enumerate(list_of_boards):\n",
    "        df.replace(num, 'x', inplace=True)\n",
    "        if vert_match(df) or hori_match(df):\n",
    "            result_df = df\n",
    "            result = result_df.replace('x', 0).astype(int).sum().sum() * int(num)\n",
    "            break\n",
    "    else:\n",
    "        continue\n",
    "    break"
   ]
  },
  {
   "cell_type": "code",
   "execution_count": null,
   "id": "491cb8cb",
   "metadata": {
    "ExecuteTime": {
     "end_time": "2021-12-14T10:33:37.672943Z",
     "start_time": "2021-12-14T10:33:37.672943Z"
    }
   },
   "outputs": [],
   "source": [
    "result"
   ]
  },
  {
   "cell_type": "markdown",
   "id": "1ced6437",
   "metadata": {},
   "source": [
    "## Feladat 2"
   ]
  },
  {
   "cell_type": "code",
   "execution_count": null,
   "id": "42d96d07",
   "metadata": {
    "ExecuteTime": {
     "end_time": "2021-12-14T10:33:37.673942Z",
     "start_time": "2021-12-14T10:33:37.673942Z"
    },
    "scrolled": true
   },
   "outputs": [],
   "source": [
    "list_of_boards = []\n",
    "for x, y in zip(range(0, len(boards)+1, 6), range(5, len(boards)+1, 6)):\n",
    "    list_of_boards.append(pd.DataFrame(boards[x:y]))\n",
    "    \n",
    "result = ''\n",
    "for i, num in enumerate(draw):\n",
    "    for j, df in enumerate(list_of_boards):\n",
    "        df.replace(num, 'x', inplace=True)\n",
    "        if (vert_match(df) or hori_match(df)) and (len(list_of_boards) > 1):\n",
    "            print(\"removed df: {} for num: {}\".format(j, num))\n",
    "            list_of_boards.pop(j)\n",
    "        if num == '41':\n",
    "            break\n",
    "    else:\n",
    "        continue\n",
    "    break\n",
    "\n"
   ]
  },
  {
   "cell_type": "code",
   "execution_count": null,
   "id": "bc0052ec",
   "metadata": {
    "ExecuteTime": {
     "end_time": "2021-12-14T10:33:37.674942Z",
     "start_time": "2021-12-14T10:33:37.674942Z"
    }
   },
   "outputs": [],
   "source": [
    "list_of_boards[0].replace('41', 'x')"
   ]
  },
  {
   "cell_type": "code",
   "execution_count": null,
   "id": "f6452c37",
   "metadata": {
    "ExecuteTime": {
     "end_time": "2021-12-14T10:33:37.675943Z",
     "start_time": "2021-12-14T10:33:37.675943Z"
    }
   },
   "outputs": [],
   "source": [
    "list_of_boards = []\n",
    "for x, y in zip(range(0, len(boards)+1, 6), range(5, len(boards)+1, 6)):\n",
    "    list_of_boards.append(pd.DataFrame(boards[x:y]))\n",
    "    \n",
    "total_df = len(list_of_boards)\n",
    "remaining_df = 0\n",
    "for i, num in enumerate(draw):\n",
    "    for j, df in enumerate(list_of_boards):\n",
    "        df.replace(num, 'x', inplace=True)\n",
    "        if vert_match(df) or hori_match(df):\n",
    "            remanining_df += 1\n",
    "            list\n",
    "            break\n",
    "    else:\n",
    "        continue\n",
    "    break"
   ]
  },
  {
   "cell_type": "code",
   "execution_count": null,
   "id": "a8bb45a9",
   "metadata": {
    "ExecuteTime": {
     "end_time": "2021-12-14T10:33:37.676942Z",
     "start_time": "2021-12-14T10:33:37.676942Z"
    }
   },
   "outputs": [],
   "source": [
    "list_of_boards"
   ]
  },
  {
   "cell_type": "code",
   "execution_count": null,
   "id": "7e4aab8d",
   "metadata": {
    "ExecuteTime": {
     "end_time": "2021-12-14T10:33:37.677943Z",
     "start_time": "2021-12-14T10:33:37.677943Z"
    }
   },
   "outputs": [],
   "source": [
    "list_of_boards = []\n",
    "\n",
    "for x, y in zip(range(0, len(boards)+1, 6), range(5, len(boards)+1, 6)):\n",
    "    list_of_boards.append(pd.DataFrame(boards[x:y]))\n",
    "nyolc = [list_of_boards[8]]   \n",
    "to_remove = []\n",
    "for i, num in enumerate(draw):\n",
    "    for j, df in enumerate(nyolc):\n",
    "        df.replace(num, 'x', inplace=True)\n",
    "        if (vert_match(df) or hori_match(df)):\n",
    "            break\n",
    "    else:\n",
    "        continue\n",
    "    break\n",
    "\n"
   ]
  },
  {
   "cell_type": "code",
   "execution_count": null,
   "id": "c94012ea",
   "metadata": {
    "ExecuteTime": {
     "end_time": "2021-12-14T10:33:37.677943Z",
     "start_time": "2021-12-14T10:33:37.677943Z"
    }
   },
   "outputs": [],
   "source": [
    "\n",
    "nyolc[0].replace('x', 0).astype(int).sum().sum() * int(num)\n"
   ]
  },
  {
   "cell_type": "code",
   "execution_count": null,
   "id": "17b26dd8",
   "metadata": {
    "ExecuteTime": {
     "end_time": "2021-12-14T10:33:37.678942Z",
     "start_time": "2021-12-14T10:33:37.678942Z"
    }
   },
   "outputs": [],
   "source": [
    "min(to_remove, key=to_remove.count)"
   ]
  },
  {
   "cell_type": "code",
   "execution_count": null,
   "id": "648ba123",
   "metadata": {
    "ExecuteTime": {
     "end_time": "2021-12-14T10:33:37.679942Z",
     "start_time": "2021-12-14T10:33:37.679942Z"
    }
   },
   "outputs": [],
   "source": [
    "[list_of_boards[8]]"
   ]
  },
  {
   "cell_type": "markdown",
   "id": "a3292d95",
   "metadata": {},
   "source": [
    "# Day 5"
   ]
  },
  {
   "cell_type": "markdown",
   "id": "e8a9fb1a",
   "metadata": {},
   "source": [
    "## Feladat 1"
   ]
  },
  {
   "cell_type": "code",
   "execution_count": null,
   "id": "1aecc770",
   "metadata": {
    "ExecuteTime": {
     "end_time": "2021-12-14T10:33:37.680942Z",
     "start_time": "2021-12-14T10:33:37.680942Z"
    }
   },
   "outputs": [],
   "source": [
    "with open('source/day5.txt', 'r') as f:\n",
    "    lista = f.readlines()"
   ]
  },
  {
   "cell_type": "code",
   "execution_count": 15,
   "id": "ccf97c67",
   "metadata": {
    "ExecuteTime": {
     "end_time": "2021-12-14T10:33:37.699943Z",
     "start_time": "2021-12-14T10:33:37.683942Z"
    }
   },
   "outputs": [
    {
     "ename": "AttributeError",
     "evalue": "'int' object has no attribute 'strip'",
     "output_type": "error",
     "traceback": [
      "\u001b[1;31m---------------------------------------------------------------------------\u001b[0m",
      "\u001b[1;31mAttributeError\u001b[0m                            Traceback (most recent call last)",
      "\u001b[1;32m~\\AppData\\Local\\Temp/ipykernel_32836/339056077.py\u001b[0m in \u001b[0;36m<module>\u001b[1;34m\u001b[0m\n\u001b[1;32m----> 1\u001b[1;33m \u001b[0mfloor\u001b[0m \u001b[1;33m=\u001b[0m \u001b[1;33m[\u001b[0m\u001b[0mre\u001b[0m\u001b[1;33m.\u001b[0m\u001b[0msplit\u001b[0m\u001b[1;33m(\u001b[0m\u001b[1;34m' -> |,'\u001b[0m\u001b[1;33m,\u001b[0m \u001b[0mx\u001b[0m\u001b[1;33m.\u001b[0m\u001b[0mstrip\u001b[0m\u001b[1;33m(\u001b[0m\u001b[1;34m'\\n'\u001b[0m\u001b[1;33m)\u001b[0m\u001b[1;33m)\u001b[0m \u001b[1;32mfor\u001b[0m \u001b[0mx\u001b[0m \u001b[1;32min\u001b[0m \u001b[0mlista\u001b[0m\u001b[1;33m]\u001b[0m\u001b[1;33m\u001b[0m\u001b[1;33m\u001b[0m\u001b[0m\n\u001b[0m\u001b[0;32m      2\u001b[0m \u001b[0mfloor\u001b[0m \u001b[1;33m=\u001b[0m \u001b[1;33m[\u001b[0m\u001b[1;33m[\u001b[0m\u001b[0mint\u001b[0m\u001b[1;33m(\u001b[0m\u001b[0my\u001b[0m\u001b[1;33m)\u001b[0m \u001b[1;32mfor\u001b[0m \u001b[0my\u001b[0m \u001b[1;32min\u001b[0m \u001b[0mx\u001b[0m\u001b[1;33m]\u001b[0m \u001b[1;32mfor\u001b[0m \u001b[0mx\u001b[0m \u001b[1;32min\u001b[0m \u001b[0mfloor\u001b[0m\u001b[1;33m]\u001b[0m\u001b[1;33m\u001b[0m\u001b[1;33m\u001b[0m\u001b[0m\n",
      "\u001b[1;32m~\\AppData\\Local\\Temp/ipykernel_32836/339056077.py\u001b[0m in \u001b[0;36m<listcomp>\u001b[1;34m(.0)\u001b[0m\n\u001b[1;32m----> 1\u001b[1;33m \u001b[0mfloor\u001b[0m \u001b[1;33m=\u001b[0m \u001b[1;33m[\u001b[0m\u001b[0mre\u001b[0m\u001b[1;33m.\u001b[0m\u001b[0msplit\u001b[0m\u001b[1;33m(\u001b[0m\u001b[1;34m' -> |,'\u001b[0m\u001b[1;33m,\u001b[0m \u001b[0mx\u001b[0m\u001b[1;33m.\u001b[0m\u001b[0mstrip\u001b[0m\u001b[1;33m(\u001b[0m\u001b[1;34m'\\n'\u001b[0m\u001b[1;33m)\u001b[0m\u001b[1;33m)\u001b[0m \u001b[1;32mfor\u001b[0m \u001b[0mx\u001b[0m \u001b[1;32min\u001b[0m \u001b[0mlista\u001b[0m\u001b[1;33m]\u001b[0m\u001b[1;33m\u001b[0m\u001b[1;33m\u001b[0m\u001b[0m\n\u001b[0m\u001b[0;32m      2\u001b[0m \u001b[0mfloor\u001b[0m \u001b[1;33m=\u001b[0m \u001b[1;33m[\u001b[0m\u001b[1;33m[\u001b[0m\u001b[0mint\u001b[0m\u001b[1;33m(\u001b[0m\u001b[0my\u001b[0m\u001b[1;33m)\u001b[0m \u001b[1;32mfor\u001b[0m \u001b[0my\u001b[0m \u001b[1;32min\u001b[0m \u001b[0mx\u001b[0m\u001b[1;33m]\u001b[0m \u001b[1;32mfor\u001b[0m \u001b[0mx\u001b[0m \u001b[1;32min\u001b[0m \u001b[0mfloor\u001b[0m\u001b[1;33m]\u001b[0m\u001b[1;33m\u001b[0m\u001b[1;33m\u001b[0m\u001b[0m\n",
      "\u001b[1;31mAttributeError\u001b[0m: 'int' object has no attribute 'strip'"
     ]
    }
   ],
   "source": [
    "floor = [re.split(' -> |,', x.strip('\\n')) for x in lista]\n",
    "floor = [[int(y) for y in x] for x in floor]"
   ]
  },
  {
   "cell_type": "code",
   "execution_count": null,
   "id": "2c20e818",
   "metadata": {
    "ExecuteTime": {
     "end_time": "2021-12-14T10:33:37.700943Z",
     "start_time": "2021-12-14T10:33:37.700943Z"
    }
   },
   "outputs": [],
   "source": [
    "rmap = np.zeros((1000,1000), dtype=int)\n",
    "df = pd.DataFrame(rmap)\n",
    "df.index += 1\n",
    "df.columns = [x+1 for x in df.columns]\n",
    "# első az index"
   ]
  },
  {
   "cell_type": "code",
   "execution_count": null,
   "id": "bc659244",
   "metadata": {
    "ExecuteTime": {
     "end_time": "2021-12-14T10:33:37.701942Z",
     "start_time": "2021-12-14T10:33:37.701942Z"
    }
   },
   "outputs": [],
   "source": [
    "def add(e, m):\n",
    "    df.loc[e, m] += 1\n",
    "\n",
    "for l in floor:\n",
    "    if l[0] == l[2]:\n",
    "        # vertical le és fel\n",
    "        df.loc[l[0], l[1]:l[3]] += 1\n",
    "        df.loc[l[0], l[3]:l[1]] += 1\n",
    "    elif l[1] == l[3]:\n",
    "        # horizontal jobbra és balra\n",
    "        df.loc[l[0]:l[2], l[1]] += 1\n",
    "        df.loc[l[2]:l[0], l[1]] += 1"
   ]
  },
  {
   "cell_type": "code",
   "execution_count": null,
   "id": "34331eaa",
   "metadata": {
    "ExecuteTime": {
     "end_time": "2021-12-14T10:33:37.702942Z",
     "start_time": "2021-12-14T10:33:37.702942Z"
    }
   },
   "outputs": [],
   "source": [
    "df[df >= 2].count().sum()"
   ]
  },
  {
   "cell_type": "markdown",
   "id": "f6b296b4",
   "metadata": {},
   "source": [
    "## Feladat 2"
   ]
  },
  {
   "cell_type": "code",
   "execution_count": null,
   "id": "1958766b",
   "metadata": {
    "ExecuteTime": {
     "end_time": "2021-12-14T10:33:37.702942Z",
     "start_time": "2021-12-14T10:33:37.702942Z"
    }
   },
   "outputs": [],
   "source": [
    "def add(e, m):\n",
    "    df.loc[e, m] += 1\n",
    "\n",
    "for l in floor:\n",
    "    if l[0] == l[2]:\n",
    "        # vertical le és fel\n",
    "        df.loc[l[0], l[1]:l[3]] += 1\n",
    "        df.loc[l[0], l[3]:l[1]] += 1\n",
    "    elif l[1] == l[3]:\n",
    "        # horizontal jobbra és balra\n",
    "        df.loc[l[0]:l[2], l[1]] += 1\n",
    "        df.loc[l[2]:l[0], l[1]] += 1\n",
    "    elif (l[0] < l[2]) and (l[1] < l[3]):\n",
    "        # d jobbra le\n",
    "        e = np.arange(l[0], l[2]+1, 1)\n",
    "        m = np.arange(l[1], l[3]+1, 1)\n",
    "        [add(x[0], x[1]) for x in zip(e, m)]\n",
    "    elif (l[0] > l[2]) and (l[1] > l[3]):\n",
    "        # d balra fel\n",
    "        e = np.arange(l[0], l[2]-1, -1)\n",
    "        m = np.arange(l[1], l[3]-1, -1)\n",
    "        [add(x[0], x[1]) for x in zip(e, m)]\n",
    "    elif (l[0] > l[2]) and (l[1] < l[3]):\n",
    "        # d jobbra fel\n",
    "        e = np.arange(l[0], l[2]-1, -1)\n",
    "        m = np.arange(l[1], l[3]+1, 1)\n",
    "        [add(x[0], x[1]) for x in zip(e, m)]\n",
    "    elif (l[0] < l[2]) and (l[1] > l[3]):\n",
    "        # d balra le\n",
    "        e = np.arange(l[0], l[2]+1, 1)\n",
    "        m = np.arange(l[1], l[3]-1, -1)\n",
    "        [add(x[0], x[1]) for x in zip(e, m)]"
   ]
  },
  {
   "cell_type": "code",
   "execution_count": null,
   "id": "9580ca4c",
   "metadata": {
    "ExecuteTime": {
     "end_time": "2021-12-14T10:33:37.703943Z",
     "start_time": "2021-12-14T10:33:37.703943Z"
    }
   },
   "outputs": [],
   "source": [
    "df[df >= 2].count().sum()"
   ]
  },
  {
   "cell_type": "markdown",
   "id": "d1299d87",
   "metadata": {},
   "source": [
    "# Day 6"
   ]
  },
  {
   "cell_type": "markdown",
   "id": "07bf41c0",
   "metadata": {},
   "source": [
    "## Feladat 1-2"
   ]
  },
  {
   "cell_type": "code",
   "execution_count": null,
   "id": "15ddceb2",
   "metadata": {
    "ExecuteTime": {
     "end_time": "2021-12-14T10:33:37.704942Z",
     "start_time": "2021-12-14T10:33:37.704942Z"
    }
   },
   "outputs": [],
   "source": [
    "lista = open_source('day6')"
   ]
  },
  {
   "cell_type": "code",
   "execution_count": null,
   "id": "0ba8a3de",
   "metadata": {
    "ExecuteTime": {
     "end_time": "2021-12-14T10:33:37.704942Z",
     "start_time": "2021-12-14T10:33:37.704942Z"
    }
   },
   "outputs": [],
   "source": [
    "start = lista[0].split(',')\n",
    "start = [int(x) for x in start]\n",
    "start = Counter(reversed(sorted(start)))\n",
    "start"
   ]
  },
  {
   "cell_type": "code",
   "execution_count": null,
   "id": "57af6645",
   "metadata": {
    "ExecuteTime": {
     "end_time": "2021-12-14T10:33:37.705942Z",
     "start_time": "2021-12-14T10:33:37.705942Z"
    }
   },
   "outputs": [],
   "source": [
    "def breeding(current, r):\n",
    "    if r == 0:\n",
    "        return current\n",
    "    else:\n",
    "        next_round = {}\n",
    "        for k, v in current.items():\n",
    "            if k != 0:\n",
    "                next_round[k-1] = next_round.get(k-1, 0) + v\n",
    "            elif k == 0:\n",
    "                next_round[6] = next_round.get(6, 0) + v\n",
    "                next_round[8] = next_round.get(8, 0) + v\n",
    "        return breeding(next_round, r-1)"
   ]
  },
  {
   "cell_type": "code",
   "execution_count": null,
   "id": "1fce4fea",
   "metadata": {
    "ExecuteTime": {
     "end_time": "2021-12-14T10:33:37.706942Z",
     "start_time": "2021-12-14T10:33:37.706942Z"
    }
   },
   "outputs": [],
   "source": [
    "asd = start.copy()\n",
    "result = breeding(asd, 256)"
   ]
  },
  {
   "cell_type": "code",
   "execution_count": null,
   "id": "e03d2079",
   "metadata": {
    "ExecuteTime": {
     "end_time": "2021-12-14T10:33:37.707942Z",
     "start_time": "2021-12-14T10:33:37.707942Z"
    }
   },
   "outputs": [],
   "source": [
    "sum(result.values())"
   ]
  },
  {
   "cell_type": "markdown",
   "id": "fe7632d7",
   "metadata": {},
   "source": [
    "# Day 7"
   ]
  },
  {
   "cell_type": "markdown",
   "id": "5158621d",
   "metadata": {},
   "source": [
    "## Feladat 1-2"
   ]
  },
  {
   "cell_type": "code",
   "execution_count": 16,
   "id": "7ab4997a",
   "metadata": {
    "ExecuteTime": {
     "end_time": "2021-12-14T10:33:37.731942Z",
     "start_time": "2021-12-14T10:33:37.708950Z"
    }
   },
   "outputs": [],
   "source": [
    "lista = open_source('day7')\n",
    "lista = lista[0].split(',')\n",
    "lista = [int(x) for x in lista]"
   ]
  },
  {
   "cell_type": "code",
   "execution_count": 17,
   "id": "b24dbec4",
   "metadata": {
    "ExecuteTime": {
     "end_time": "2021-12-14T10:33:39.592369Z",
     "start_time": "2021-12-14T10:33:37.732942Z"
    }
   },
   "outputs": [],
   "source": [
    "result = 10**100\n",
    "for i in range(0, max(lista)):\n",
    "    summ = 0\n",
    "    for l in lista:\n",
    "        diff = np.abs(l - i)\n",
    "        diff = diff*(diff+1)/2\n",
    "        summ += diff\n",
    "    if summ < result:\n",
    "        result = summ"
   ]
  },
  {
   "cell_type": "code",
   "execution_count": 18,
   "id": "7d084169",
   "metadata": {
    "ExecuteTime": {
     "end_time": "2021-12-14T10:33:39.608377Z",
     "start_time": "2021-12-14T10:33:39.593379Z"
    }
   },
   "outputs": [
    {
     "data": {
      "text/plain": [
       "96864235.0"
      ]
     },
     "execution_count": 18,
     "metadata": {},
     "output_type": "execute_result"
    }
   ],
   "source": [
    "result"
   ]
  },
  {
   "cell_type": "markdown",
   "id": "1ee54666",
   "metadata": {},
   "source": [
    "# Day 8"
   ]
  },
  {
   "cell_type": "markdown",
   "id": "c6b81fb1",
   "metadata": {},
   "source": [
    "## Feladat 1"
   ]
  },
  {
   "cell_type": "code",
   "execution_count": 19,
   "id": "600e4eba",
   "metadata": {
    "ExecuteTime": {
     "end_time": "2021-12-14T10:33:39.623572Z",
     "start_time": "2021-12-14T10:33:39.609378Z"
    }
   },
   "outputs": [],
   "source": [
    "lista = open_source('day8')"
   ]
  },
  {
   "cell_type": "code",
   "execution_count": 20,
   "id": "edd5b513",
   "metadata": {
    "ExecuteTime": {
     "end_time": "2021-12-14T10:33:39.638771Z",
     "start_time": "2021-12-14T10:33:39.624562Z"
    }
   },
   "outputs": [],
   "source": [
    "vege = [x.split(' | ')[-1].split(' ') for x in lista]\n",
    "vege = [item for sublist in vege for item in sublist]\n",
    "vege = [len(x) for x in vege if len(x) == 2 or len(x) == 3 or len(x) == 4 or len(x) == 7]"
   ]
  },
  {
   "cell_type": "code",
   "execution_count": 21,
   "id": "187483f1",
   "metadata": {
    "ExecuteTime": {
     "end_time": "2021-12-14T10:33:39.653972Z",
     "start_time": "2021-12-14T10:33:39.639971Z"
    }
   },
   "outputs": [
    {
     "data": {
      "text/plain": [
       "272"
      ]
     },
     "execution_count": 21,
     "metadata": {},
     "output_type": "execute_result"
    }
   ],
   "source": [
    "len(vege)"
   ]
  },
  {
   "cell_type": "markdown",
   "id": "3758dfe8",
   "metadata": {
    "ExecuteTime": {
     "end_time": "2021-12-08T08:08:35.231977Z",
     "start_time": "2021-12-08T08:08:35.218203Z"
    }
   },
   "source": [
    "## Feladat 2"
   ]
  },
  {
   "cell_type": "code",
   "execution_count": 22,
   "id": "0e62eebc",
   "metadata": {
    "ExecuteTime": {
     "end_time": "2021-12-14T10:33:39.684980Z",
     "start_time": "2021-12-14T10:33:39.655981Z"
    },
    "code_folding": []
   },
   "outputs": [
    {
     "data": {
      "text/plain": [
       "1007675"
      ]
     },
     "execution_count": 22,
     "metadata": {},
     "output_type": "execute_result"
    }
   ],
   "source": [
    "def get_dict(row):\n",
    "    row_set = [set(x) for x in row]\n",
    "    rdict = {}\n",
    "    rdict['1'] = [x for x in row_set if len(x) == 2][0]\n",
    "    rdict['4'] = [x for x in row_set if len(x) == 4][0]\n",
    "    rdict['7'] = [x for x in row_set if len(x) == 3][0]\n",
    "    rdict['8'] = [x for x in row_set if len(x) == 7][0]\n",
    "    rdict['9'] = [x for x in row_set if rdict['4'].issubset(x) and len(x) == 6][0]\n",
    "    rdict['3'] = [x for x in row_set if rdict['7'].issubset(x) and len(x) == 5][0]\n",
    "    rdict['6'] = [x for x in row_set if not rdict['1'].issubset(x) and len(x) == 6][0]\n",
    "    rdict['5'] = [x for x in row_set if x.issubset(rdict['6']) and len(x) == 5][0]\n",
    "    rdict['0'] = [x for x in row_set if not rdict['5'].issubset(x) and len(x) == 6][0]\n",
    "    rdict['2'] = [x for x in row_set if not x.issubset(rdict['5']) and not x.issubset(rdict['3']) and len(x) == 5][0]\n",
    "    resdict = {}\n",
    "    [resdict.update({''.join(sorted(list(v))): k}) for k, v in rdict.items()]\n",
    "    return resdict\n",
    "\n",
    "result = 0\n",
    "for ele in lista:\n",
    "    first = [''.join(sorted(x)) for x in ele.split(' | ')[0].split(' ')]\n",
    "    second = [''.join(sorted(x)) for x in ele.split(' | ')[1].split(' ')]\n",
    "    string_to_num = get_dict(first)\n",
    "    result += int(''.join([string_to_num[x] for x in second]))\n",
    "result"
   ]
  },
  {
   "cell_type": "markdown",
   "id": "545f0b00",
   "metadata": {},
   "source": [
    "# Day 9"
   ]
  },
  {
   "cell_type": "markdown",
   "id": "fd43e1dd",
   "metadata": {},
   "source": [
    "## Feladat 1"
   ]
  },
  {
   "cell_type": "code",
   "execution_count": 23,
   "id": "b57d27d4",
   "metadata": {
    "ExecuteTime": {
     "end_time": "2021-12-14T10:33:39.700993Z",
     "start_time": "2021-12-14T10:33:39.687980Z"
    }
   },
   "outputs": [],
   "source": [
    "lista = open_source('day9')"
   ]
  },
  {
   "cell_type": "code",
   "execution_count": 24,
   "id": "63d9c451",
   "metadata": {
    "ExecuteTime": {
     "end_time": "2021-12-14T10:33:39.716993Z",
     "start_time": "2021-12-14T10:33:39.701985Z"
    }
   },
   "outputs": [],
   "source": [
    "lista = [[int(y) for y in x] for x in lista]"
   ]
  },
  {
   "cell_type": "code",
   "execution_count": 25,
   "id": "1f3cebba",
   "metadata": {
    "ExecuteTime": {
     "end_time": "2021-12-14T10:33:39.732986Z",
     "start_time": "2021-12-14T10:33:39.717996Z"
    }
   },
   "outputs": [
    {
     "data": {
      "text/plain": [
       "[[-1, -1], [-1, 0], [-1, 1], [0, -1], [0, 1], [1, -1], [1, 0], [1, 1]]"
      ]
     },
     "execution_count": 25,
     "metadata": {},
     "output_type": "execute_result"
    }
   ],
   "source": [
    "bordering = [[j, k] for j in range(-1, 2) for k in range(-1, 2)]\n",
    "bordering.remove([0, 0])\n",
    "bordering"
   ]
  },
  {
   "cell_type": "code",
   "execution_count": 26,
   "id": "e1452453",
   "metadata": {
    "ExecuteTime": {
     "end_time": "2021-12-14T10:33:39.748985Z",
     "start_time": "2021-12-14T10:33:39.736083Z"
    }
   },
   "outputs": [],
   "source": [
    "def get_border_9(l, bordering, i, j):\n",
    "    res_list = []\n",
    "    for c in bordering:\n",
    "        p = []\n",
    "        p.append(i+c[0])\n",
    "        p.append(j+c[1])\n",
    "        if (len(p) == 2 and \n",
    "            p[0] < len(l) and \n",
    "            p[1] < len(l[0]) and \n",
    "            p[0] >= 0 and \n",
    "            p[1] >= 0):\n",
    "            res_list.append(p)\n",
    "    return res_list"
   ]
  },
  {
   "cell_type": "code",
   "execution_count": 27,
   "id": "e49ebca9",
   "metadata": {
    "ExecuteTime": {
     "end_time": "2021-12-14T10:33:39.812062Z",
     "start_time": "2021-12-14T10:33:39.749985Z"
    }
   },
   "outputs": [
    {
     "data": {
      "text/plain": [
       "577"
      ]
     },
     "execution_count": 27,
     "metadata": {},
     "output_type": "execute_result"
    }
   ],
   "source": [
    "result = 0\n",
    "part_2 = np.zeros((len(lista), len(lista[0])))\n",
    "for i in range(0, len(lista)):\n",
    "    for j in range(0, len(lista[0])):\n",
    "        if min([lista[x[0]][x[1]] for x in get_border_9(lista, bordering, i, j)]) > lista[i][j]:\n",
    "            result += lista[i][j] + 1\n",
    "            part_2[i,j] = 1\n",
    "result"
   ]
  },
  {
   "cell_type": "markdown",
   "id": "2d742d26",
   "metadata": {
    "ExecuteTime": {
     "end_time": "2021-12-09T15:19:25.989778Z",
     "start_time": "2021-12-09T15:19:25.971573Z"
    }
   },
   "source": [
    "## Feladat 2"
   ]
  },
  {
   "cell_type": "code",
   "execution_count": 28,
   "id": "147ea13e",
   "metadata": {
    "ExecuteTime": {
     "end_time": "2021-12-14T10:33:39.827986Z",
     "start_time": "2021-12-14T10:33:39.813986Z"
    }
   },
   "outputs": [],
   "source": [
    "a = np.array(lista)"
   ]
  },
  {
   "cell_type": "code",
   "execution_count": 29,
   "id": "58b87a2e",
   "metadata": {
    "ExecuteTime": {
     "end_time": "2021-12-14T10:33:39.875056Z",
     "start_time": "2021-12-14T10:33:39.829041Z"
    }
   },
   "outputs": [
    {
     "data": {
      "text/plain": [
       "1069200"
      ]
     },
     "execution_count": 29,
     "metadata": {},
     "output_type": "execute_result"
    }
   ],
   "source": [
    "a[a < 9] = 1\n",
    "basin_coords = np.nonzero(part_2)\n",
    "sizes = []\n",
    "for (x,y) in zip(*basin_coords):\n",
    "    mask = flood(a, (x,y), tolerance=1, connectivity=1)\n",
    "    sizes.append(mask.sum())\n",
    "\n",
    "np.prod(sorted(sizes)[-3:])"
   ]
  },
  {
   "cell_type": "markdown",
   "id": "1d488c21",
   "metadata": {},
   "source": [
    "# Day 10"
   ]
  },
  {
   "cell_type": "markdown",
   "id": "6466b4e3",
   "metadata": {},
   "source": [
    "## Feladat 1-2"
   ]
  },
  {
   "cell_type": "code",
   "execution_count": 30,
   "id": "7bb87cd4",
   "metadata": {
    "ExecuteTime": {
     "end_time": "2021-12-14T10:33:39.891021Z",
     "start_time": "2021-12-14T10:33:39.876985Z"
    }
   },
   "outputs": [],
   "source": [
    "lista = open_source('day10')"
   ]
  },
  {
   "cell_type": "code",
   "execution_count": 31,
   "id": "e9714a5b",
   "metadata": {
    "ExecuteTime": {
     "end_time": "2021-12-14T10:33:39.906061Z",
     "start_time": "2021-12-14T10:33:39.892074Z"
    }
   },
   "outputs": [],
   "source": [
    "scoring_1 = {')': 3, ']': 57, '}': 1197, '>': 25137}\n",
    "scoring_2 = {'(': 1, '[': 2, '{': 3, '<': 4}"
   ]
  },
  {
   "cell_type": "code",
   "execution_count": 32,
   "id": "dcfe66eb",
   "metadata": {
    "ExecuteTime": {
     "end_time": "2021-12-14T10:33:39.935985Z",
     "start_time": "2021-12-14T10:33:39.907985Z"
    }
   },
   "outputs": [
    {
     "data": {
      "text/plain": [
       "339537"
      ]
     },
     "execution_count": 32,
     "metadata": {},
     "output_type": "execute_result"
    }
   ],
   "source": [
    "result = 0\n",
    "to_replace = ['<>', '()', '[]', '{}'] * 100\n",
    "task_2 = []\n",
    "for l in lista:\n",
    "    for c in to_replace:\n",
    "        l = l.replace(c, '')\n",
    "    l_original = l\n",
    "    for c in to_replace:\n",
    "        l = l.replace(c[0], '')\n",
    "    if len(l) == 0:\n",
    "        task_2.append(l_original)\n",
    "    else:\n",
    "        result += scoring_1[l[0]]\n",
    "result"
   ]
  },
  {
   "cell_type": "code",
   "execution_count": 33,
   "id": "5463b79b",
   "metadata": {
    "ExecuteTime": {
     "end_time": "2021-12-14T10:33:39.952057Z",
     "start_time": "2021-12-14T10:33:39.937987Z"
    }
   },
   "outputs": [
    {
     "data": {
      "text/plain": [
       "2412013412"
      ]
     },
     "execution_count": 33,
     "metadata": {},
     "output_type": "execute_result"
    }
   ],
   "source": [
    "from statistics import median\n",
    "\n",
    "result = []\n",
    "for l in task_2:\n",
    "    partial = 0\n",
    "    res = l[len(l)::-1]\n",
    "    for c in res:\n",
    "        partial *= 5\n",
    "        partial += scoring_2[c]\n",
    "    result.append(partial)\n",
    "\n",
    "median(result)"
   ]
  },
  {
   "cell_type": "markdown",
   "id": "bd15a7cf",
   "metadata": {},
   "source": [
    "# Day 11"
   ]
  },
  {
   "cell_type": "markdown",
   "id": "f30c594b",
   "metadata": {},
   "source": [
    "## Feladat 1"
   ]
  },
  {
   "cell_type": "code",
   "execution_count": 190,
   "id": "621a1289",
   "metadata": {
    "ExecuteTime": {
     "end_time": "2021-12-14T13:00:43.974361Z",
     "start_time": "2021-12-14T13:00:43.958277Z"
    },
    "code_folding": []
   },
   "outputs": [],
   "source": [
    "lista = open_source('day11')\n",
    "lista = [[int(x) for x in list(x)] for x in lista]"
   ]
  },
  {
   "cell_type": "code",
   "execution_count": 35,
   "id": "9c6628d1",
   "metadata": {
    "ExecuteTime": {
     "end_time": "2021-12-14T10:33:39.983993Z",
     "start_time": "2021-12-14T10:33:39.969037Z"
    },
    "code_folding": []
   },
   "outputs": [],
   "source": [
    "df = np.array(lista)\n",
    "shape = np.array(lista).shape\n",
    "\n",
    "def flash(i, j):\n",
    "    if df[i,j] == 0 and flashed[i,j]:\n",
    "        return\n",
    "\n",
    "    df[i,j] += 1\n",
    "\n",
    "    if df[i,j] > 9:        \n",
    "        df[i,j] = 0\n",
    "        flashed[i,j] = True\n",
    "        for i, j in get_border(i,j):  \n",
    "            flash(i, j)\n",
    "            \n",
    "def get_border(i, j):\n",
    "    res_list = []\n",
    "    for c in bordering:\n",
    "        p = []\n",
    "        p.append(i+c[0])\n",
    "        p.append(j+c[1])\n",
    "        if (len(p) == 2 and \n",
    "            p[0] < shape[0] and \n",
    "            p[1] < shape[1] and \n",
    "            p[0] >= 0 and \n",
    "            p[1] >= 0):\n",
    "            res_list.append(p)\n",
    "    return res_list"
   ]
  },
  {
   "cell_type": "code",
   "execution_count": 36,
   "id": "56ce5aea",
   "metadata": {
    "ExecuteTime": {
     "end_time": "2021-12-14T10:33:40.030986Z",
     "start_time": "2021-12-14T10:33:39.985986Z"
    },
    "code_folding": [
     0
    ]
   },
   "outputs": [
    {
     "data": {
      "text/plain": [
       "1608"
      ]
     },
     "execution_count": 36,
     "metadata": {},
     "output_type": "execute_result"
    }
   ],
   "source": [
    "total_flash = 0\n",
    "\n",
    "for r in range(0, 100):\n",
    "    flashed = np.zeros(shape, dtype=bool)\n",
    "    for i in range(shape[0]):\n",
    "        for j in range(shape[1]):               \n",
    "            flash(i, j)\n",
    "    total_flash += np.count_nonzero(flashed)\n",
    "    \n",
    "total_flash"
   ]
  },
  {
   "cell_type": "markdown",
   "id": "ea36eec7",
   "metadata": {
    "ExecuteTime": {
     "end_time": "2021-12-11T11:38:45.545401Z",
     "start_time": "2021-12-11T11:38:45.530144Z"
    }
   },
   "source": [
    "## Feladat 2"
   ]
  },
  {
   "cell_type": "code",
   "execution_count": 37,
   "id": "cb70eef6",
   "metadata": {
    "ExecuteTime": {
     "end_time": "2021-12-14T10:33:40.093986Z",
     "start_time": "2021-12-14T10:33:40.034987Z"
    }
   },
   "outputs": [
    {
     "data": {
      "text/plain": [
       "214"
      ]
     },
     "execution_count": 37,
     "metadata": {},
     "output_type": "execute_result"
    }
   ],
   "source": [
    "all_flash = True\n",
    "r = 0\n",
    "df = np.array(lista)\n",
    "\n",
    "while all_flash:\n",
    "    flashed = np.zeros(shape, dtype=bool)\n",
    "    for i in range(shape[0]):\n",
    "        for j in range(shape[1]):               \n",
    "            flash(i, j)\n",
    "    r += 1\n",
    "    if np.count_nonzero(flashed) == 100:\n",
    "        all_flash = False\n",
    "        result = r\n",
    "\n",
    "result"
   ]
  },
  {
   "cell_type": "markdown",
   "id": "975e2fae",
   "metadata": {},
   "source": [
    "# Day 12"
   ]
  },
  {
   "cell_type": "markdown",
   "id": "507c5c87",
   "metadata": {},
   "source": [
    "## Feladat 1"
   ]
  },
  {
   "cell_type": "code",
   "execution_count": 187,
   "id": "30422553",
   "metadata": {
    "ExecuteTime": {
     "end_time": "2021-12-14T13:00:07.442849Z",
     "start_time": "2021-12-14T13:00:07.430638Z"
    }
   },
   "outputs": [],
   "source": [
    "lista = open_source('day12')"
   ]
  },
  {
   "cell_type": "code",
   "execution_count": 188,
   "id": "750f3af0",
   "metadata": {
    "ExecuteTime": {
     "end_time": "2021-12-14T13:00:07.689113Z",
     "start_time": "2021-12-14T13:00:07.677158Z"
    }
   },
   "outputs": [],
   "source": [
    "lista = [tuple(x.split('-')) for x in lista]"
   ]
  },
  {
   "cell_type": "code",
   "execution_count": 164,
   "id": "f55cfb29",
   "metadata": {
    "ExecuteTime": {
     "end_time": "2021-12-14T12:49:15.135984Z",
     "start_time": "2021-12-14T12:49:15.123821Z"
    }
   },
   "outputs": [],
   "source": [
    "gf = nx.Graph()"
   ]
  },
  {
   "cell_type": "code",
   "execution_count": 165,
   "id": "fc54bea4",
   "metadata": {
    "ExecuteTime": {
     "end_time": "2021-12-14T12:49:15.323994Z",
     "start_time": "2021-12-14T12:49:15.311412Z"
    }
   },
   "outputs": [],
   "source": [
    "gf.add_edges_from(lista)"
   ]
  },
  {
   "cell_type": "code",
   "execution_count": 166,
   "id": "62b5f7e5",
   "metadata": {
    "ExecuteTime": {
     "end_time": "2021-12-14T12:49:16.273297Z",
     "start_time": "2021-12-14T12:49:15.870654Z"
    }
   },
   "outputs": [
    {
     "data": {
      "image/png": "[encoded data removed]",
      "text/plain": [
       "<Figure size 432x288 with 1 Axes>"
      ]
     },
     "metadata": {},
     "output_type": "display_data"
    }
   ],
   "source": [
    "nx.draw(gf, with_labels = True, node_color='yellow')"
   ]
  },
  {
   "cell_type": "code",
   "execution_count": 167,
   "id": "94d2100a",
   "metadata": {
    "ExecuteTime": {
     "end_time": "2021-12-14T12:49:17.952871Z",
     "start_time": "2021-12-14T12:49:17.902759Z"
    }
   },
   "outputs": [
    {
     "data": {
      "text/plain": [
       "961"
      ]
     },
     "execution_count": 167,
     "metadata": {},
     "output_type": "execute_result"
    }
   ],
   "source": [
    "len(list(nx.all_simple_paths(gf, 'start', 'end')))"
   ]
  },
  {
   "cell_type": "code",
   "execution_count": 169,
   "id": "789d6420",
   "metadata": {
    "ExecuteTime": {
     "end_time": "2021-12-14T12:50:03.286573Z",
     "start_time": "2021-12-14T12:50:03.270156Z"
    }
   },
   "outputs": [],
   "source": [
    "def add_path(path):\n",
    "    if path[-1] == 'end':\n",
    "        yield path\n",
    "    for x in gf.neighbors(path[-1]):\n",
    "        if x == x.lower() and x in path:\n",
    "            continue\n",
    "        yield from add_path(path + [x])"
   ]
  },
  {
   "cell_type": "code",
   "execution_count": 170,
   "id": "63545732",
   "metadata": {
    "ExecuteTime": {
     "end_time": "2021-12-14T12:50:03.863124Z",
     "start_time": "2021-12-14T12:50:03.676640Z"
    }
   },
   "outputs": [
    {
     "data": {
      "text/plain": [
       "3779"
      ]
     },
     "execution_count": 170,
     "metadata": {},
     "output_type": "execute_result"
    }
   ],
   "source": [
    "len(list(add_path(['start'])))"
   ]
  },
  {
   "cell_type": "markdown",
   "id": "00e010d2",
   "metadata": {},
   "source": [
    "## Feladat 2"
   ]
  },
  {
   "cell_type": "code",
   "execution_count": 171,
   "id": "ddd47df9",
   "metadata": {
    "ExecuteTime": {
     "end_time": "2021-12-14T12:50:05.802076Z",
     "start_time": "2021-12-14T12:50:05.785627Z"
    }
   },
   "outputs": [],
   "source": [
    "def add_path_double(path, double=False):\n",
    "    if path[-1] == 'end':\n",
    "        yield path\n",
    "    for x in gf.neighbors(path[-1]):\n",
    "        double_next = double\n",
    "        if x == x.lower() and x in path:\n",
    "            if double_next:\n",
    "                continue\n",
    "            else:\n",
    "                if x in ['start', 'end']:\n",
    "                    continue\n",
    "                double_next = True\n",
    "        yield from add_path_double(path + [x], double_next)"
   ]
  },
  {
   "cell_type": "code",
   "execution_count": 172,
   "id": "cae11fed",
   "metadata": {
    "ExecuteTime": {
     "end_time": "2021-12-14T12:50:11.909138Z",
     "start_time": "2021-12-14T12:50:06.018802Z"
    }
   },
   "outputs": [
    {
     "data": {
      "text/plain": [
       "96988"
      ]
     },
     "execution_count": 172,
     "metadata": {},
     "output_type": "execute_result"
    }
   ],
   "source": [
    "len(list(add_path_double(['start'])))"
   ]
  },
  {
   "cell_type": "markdown",
   "id": "0dec267c",
   "metadata": {},
   "source": [
    "# Day 13"
   ]
  },
  {
   "cell_type": "markdown",
   "id": "9a9b9df5",
   "metadata": {},
   "source": [
    "## Feladat 1"
   ]
  },
  {
   "cell_type": "code",
   "execution_count": 48,
   "id": "ee13abcf",
   "metadata": {
    "ExecuteTime": {
     "end_time": "2021-12-14T10:33:41.589951Z",
     "start_time": "2021-12-14T10:33:41.575239Z"
    }
   },
   "outputs": [],
   "source": [
    "lista = open_source('day13')"
   ]
  },
  {
   "cell_type": "code",
   "execution_count": 49,
   "id": "e8d05a5e",
   "metadata": {
    "ExecuteTime": {
     "end_time": "2021-12-14T10:33:41.605367Z",
     "start_time": "2021-12-14T10:33:41.590952Z"
    }
   },
   "outputs": [],
   "source": [
    "fold = [x for x in lista if 'fold' in x]\n",
    "fold = [tuple([int(y) if 'x' not in y and 'y' not in y else y for y in x.split(' ')[-1].split('=')]) for x in fold]\n",
    "coord = [tuple([int(x) for x in x.split(',')]) for x in lista if ',' in x]"
   ]
  },
  {
   "cell_type": "code",
   "execution_count": 50,
   "id": "edd04b35",
   "metadata": {
    "ExecuteTime": {
     "end_time": "2021-12-14T10:33:41.620375Z",
     "start_time": "2021-12-14T10:33:41.606414Z"
    }
   },
   "outputs": [],
   "source": [
    "x_max = max([x[0] for x in coord]) + 1\n",
    "y_max = max([x[1] for x in coord]) + 2"
   ]
  },
  {
   "cell_type": "code",
   "execution_count": 51,
   "id": "0a489083",
   "metadata": {
    "ExecuteTime": {
     "end_time": "2021-12-14T10:33:41.636424Z",
     "start_time": "2021-12-14T10:33:41.622429Z"
    }
   },
   "outputs": [],
   "source": [
    "arr = np.zeros((y_max, x_max))\n",
    "for v in coord:\n",
    "    arr[v[1], v[0]] = 1"
   ]
  },
  {
   "cell_type": "code",
   "execution_count": 52,
   "id": "cd5c7746",
   "metadata": {
    "ExecuteTime": {
     "end_time": "2021-12-14T10:33:41.652334Z",
     "start_time": "2021-12-14T10:33:41.637374Z"
    }
   },
   "outputs": [
    {
     "data": {
      "text/plain": [
       "785"
      ]
     },
     "execution_count": 52,
     "metadata": {},
     "output_type": "execute_result"
    }
   ],
   "source": [
    "fold1 = 655\n",
    "first = arr[:,:fold1]\n",
    "second = np.flip(arr[:,fold1+1:], axis=1)\n",
    "res = first + second\n",
    "np.count_nonzero(res)"
   ]
  },
  {
   "cell_type": "markdown",
   "id": "e39704ad",
   "metadata": {
    "ExecuteTime": {
     "end_time": "2021-12-13T10:03:23.064152Z",
     "start_time": "2021-12-13T10:03:23.049623Z"
    }
   },
   "source": [
    "## Feladat 2"
   ]
  },
  {
   "cell_type": "code",
   "execution_count": 53,
   "id": "cb1b61ae",
   "metadata": {
    "ExecuteTime": {
     "end_time": "2021-12-14T10:33:41.668371Z",
     "start_time": "2021-12-14T10:33:41.654335Z"
    }
   },
   "outputs": [],
   "source": [
    "for axis, value in fold:\n",
    "    if axis == 'x':\n",
    "        first = arr[:,:value]\n",
    "        second = np.flip(arr[:,value+1:], axis=1)\n",
    "    elif axis == 'y':\n",
    "        first = arr[:value,:]\n",
    "        second = np.flip(arr[value+1:,:], axis=0)\n",
    "    res = first + second\n",
    "    arr = res"
   ]
  },
  {
   "cell_type": "code",
   "execution_count": 54,
   "id": "dd3b91df",
   "metadata": {
    "ExecuteTime": {
     "end_time": "2021-12-14T10:33:41.716334Z",
     "start_time": "2021-12-14T10:33:41.670333Z"
    }
   },
   "outputs": [
    {
     "data": {
      "text/html": [
       "<div>\n",
       "<style scoped>\n",
       "    .dataframe tbody tr th:only-of-type {\n",
       "        vertical-align: middle;\n",
       "    }\n",
       "\n",
       "    .dataframe tbody tr th {\n",
       "        vertical-align: top;\n",
       "    }\n",
       "\n",
       "    .dataframe thead th {\n",
       "        text-align: right;\n",
       "    }\n",
       "</style>\n",
       "<table border=\"1\" class=\"dataframe\">\n",
       "  <thead>\n",
       "    <tr style=\"text-align: right;\">\n",
       "      <th></th>\n",
       "      <th>0</th>\n",
       "      <th>1</th>\n",
       "      <th>2</th>\n",
       "      <th>3</th>\n",
       "      <th>4</th>\n",
       "      <th>5</th>\n",
       "      <th>6</th>\n",
       "      <th>7</th>\n",
       "      <th>8</th>\n",
       "      <th>9</th>\n",
       "      <th>10</th>\n",
       "      <th>11</th>\n",
       "      <th>12</th>\n",
       "      <th>13</th>\n",
       "      <th>14</th>\n",
       "      <th>15</th>\n",
       "      <th>16</th>\n",
       "      <th>17</th>\n",
       "      <th>18</th>\n",
       "      <th>19</th>\n",
       "      <th>20</th>\n",
       "      <th>21</th>\n",
       "      <th>22</th>\n",
       "      <th>23</th>\n",
       "      <th>24</th>\n",
       "      <th>25</th>\n",
       "      <th>26</th>\n",
       "      <th>27</th>\n",
       "      <th>28</th>\n",
       "      <th>29</th>\n",
       "      <th>30</th>\n",
       "      <th>31</th>\n",
       "      <th>32</th>\n",
       "      <th>33</th>\n",
       "      <th>34</th>\n",
       "      <th>35</th>\n",
       "      <th>36</th>\n",
       "      <th>37</th>\n",
       "      <th>38</th>\n",
       "      <th>39</th>\n",
       "    </tr>\n",
       "  </thead>\n",
       "  <tbody>\n",
       "    <tr>\n",
       "      <th>0</th>\n",
       "      <td>1.0</td>\n",
       "      <td>1.0</td>\n",
       "      <td>1.0</td>\n",
       "      <td>1.0</td>\n",
       "      <td></td>\n",
       "      <td></td>\n",
       "      <td></td>\n",
       "      <td>1.0</td>\n",
       "      <td>1.0</td>\n",
       "      <td></td>\n",
       "      <td></td>\n",
       "      <td>1.0</td>\n",
       "      <td>1.0</td>\n",
       "      <td></td>\n",
       "      <td></td>\n",
       "      <td>1.0</td>\n",
       "      <td></td>\n",
       "      <td></td>\n",
       "      <td>1.0</td>\n",
       "      <td></td>\n",
       "      <td></td>\n",
       "      <td></td>\n",
       "      <td>1.0</td>\n",
       "      <td>1.0</td>\n",
       "      <td></td>\n",
       "      <td></td>\n",
       "      <td>1.0</td>\n",
       "      <td>1.0</td>\n",
       "      <td></td>\n",
       "      <td></td>\n",
       "      <td></td>\n",
       "      <td>1.0</td>\n",
       "      <td>1.0</td>\n",
       "      <td></td>\n",
       "      <td></td>\n",
       "      <td>1.0</td>\n",
       "      <td></td>\n",
       "      <td></td>\n",
       "      <td>1.0</td>\n",
       "      <td></td>\n",
       "    </tr>\n",
       "    <tr>\n",
       "      <th>1</th>\n",
       "      <td>1.0</td>\n",
       "      <td></td>\n",
       "      <td></td>\n",
       "      <td></td>\n",
       "      <td></td>\n",
       "      <td></td>\n",
       "      <td></td>\n",
       "      <td></td>\n",
       "      <td>1.0</td>\n",
       "      <td></td>\n",
       "      <td>1.0</td>\n",
       "      <td></td>\n",
       "      <td></td>\n",
       "      <td>1.0</td>\n",
       "      <td></td>\n",
       "      <td>1.0</td>\n",
       "      <td></td>\n",
       "      <td></td>\n",
       "      <td>1.0</td>\n",
       "      <td></td>\n",
       "      <td></td>\n",
       "      <td></td>\n",
       "      <td></td>\n",
       "      <td>1.0</td>\n",
       "      <td></td>\n",
       "      <td>1.0</td>\n",
       "      <td></td>\n",
       "      <td></td>\n",
       "      <td>1.0</td>\n",
       "      <td></td>\n",
       "      <td>1.0</td>\n",
       "      <td></td>\n",
       "      <td></td>\n",
       "      <td>1.0</td>\n",
       "      <td></td>\n",
       "      <td>1.0</td>\n",
       "      <td></td>\n",
       "      <td></td>\n",
       "      <td>1.0</td>\n",
       "      <td></td>\n",
       "    </tr>\n",
       "    <tr>\n",
       "      <th>2</th>\n",
       "      <td>1.0</td>\n",
       "      <td>1.0</td>\n",
       "      <td>1.0</td>\n",
       "      <td></td>\n",
       "      <td></td>\n",
       "      <td></td>\n",
       "      <td></td>\n",
       "      <td></td>\n",
       "      <td>1.0</td>\n",
       "      <td></td>\n",
       "      <td>1.0</td>\n",
       "      <td></td>\n",
       "      <td></td>\n",
       "      <td>1.0</td>\n",
       "      <td></td>\n",
       "      <td>1.0</td>\n",
       "      <td>1.0</td>\n",
       "      <td>1.0</td>\n",
       "      <td>1.0</td>\n",
       "      <td></td>\n",
       "      <td></td>\n",
       "      <td></td>\n",
       "      <td></td>\n",
       "      <td>1.0</td>\n",
       "      <td></td>\n",
       "      <td>1.0</td>\n",
       "      <td></td>\n",
       "      <td></td>\n",
       "      <td></td>\n",
       "      <td></td>\n",
       "      <td>1.0</td>\n",
       "      <td></td>\n",
       "      <td></td>\n",
       "      <td>1.0</td>\n",
       "      <td></td>\n",
       "      <td>1.0</td>\n",
       "      <td>1.0</td>\n",
       "      <td>1.0</td>\n",
       "      <td>1.0</td>\n",
       "      <td></td>\n",
       "    </tr>\n",
       "    <tr>\n",
       "      <th>3</th>\n",
       "      <td>1.0</td>\n",
       "      <td></td>\n",
       "      <td></td>\n",
       "      <td></td>\n",
       "      <td></td>\n",
       "      <td></td>\n",
       "      <td></td>\n",
       "      <td></td>\n",
       "      <td>1.0</td>\n",
       "      <td></td>\n",
       "      <td>1.0</td>\n",
       "      <td>1.0</td>\n",
       "      <td>1.0</td>\n",
       "      <td>1.0</td>\n",
       "      <td></td>\n",
       "      <td>1.0</td>\n",
       "      <td></td>\n",
       "      <td></td>\n",
       "      <td>1.0</td>\n",
       "      <td></td>\n",
       "      <td></td>\n",
       "      <td></td>\n",
       "      <td></td>\n",
       "      <td>1.0</td>\n",
       "      <td></td>\n",
       "      <td>1.0</td>\n",
       "      <td></td>\n",
       "      <td>1.0</td>\n",
       "      <td>1.0</td>\n",
       "      <td></td>\n",
       "      <td>1.0</td>\n",
       "      <td>1.0</td>\n",
       "      <td>1.0</td>\n",
       "      <td>1.0</td>\n",
       "      <td></td>\n",
       "      <td>1.0</td>\n",
       "      <td></td>\n",
       "      <td></td>\n",
       "      <td>1.0</td>\n",
       "      <td></td>\n",
       "    </tr>\n",
       "    <tr>\n",
       "      <th>4</th>\n",
       "      <td>1.0</td>\n",
       "      <td></td>\n",
       "      <td></td>\n",
       "      <td></td>\n",
       "      <td></td>\n",
       "      <td>1.0</td>\n",
       "      <td></td>\n",
       "      <td></td>\n",
       "      <td>1.0</td>\n",
       "      <td></td>\n",
       "      <td>1.0</td>\n",
       "      <td></td>\n",
       "      <td></td>\n",
       "      <td>1.0</td>\n",
       "      <td></td>\n",
       "      <td>1.0</td>\n",
       "      <td></td>\n",
       "      <td></td>\n",
       "      <td>1.0</td>\n",
       "      <td></td>\n",
       "      <td>1.0</td>\n",
       "      <td></td>\n",
       "      <td></td>\n",
       "      <td>1.0</td>\n",
       "      <td></td>\n",
       "      <td>1.0</td>\n",
       "      <td></td>\n",
       "      <td></td>\n",
       "      <td>1.0</td>\n",
       "      <td></td>\n",
       "      <td>1.0</td>\n",
       "      <td></td>\n",
       "      <td></td>\n",
       "      <td>1.0</td>\n",
       "      <td></td>\n",
       "      <td>1.0</td>\n",
       "      <td></td>\n",
       "      <td></td>\n",
       "      <td>1.0</td>\n",
       "      <td></td>\n",
       "    </tr>\n",
       "    <tr>\n",
       "      <th>5</th>\n",
       "      <td>1.0</td>\n",
       "      <td></td>\n",
       "      <td></td>\n",
       "      <td></td>\n",
       "      <td></td>\n",
       "      <td></td>\n",
       "      <td>1.0</td>\n",
       "      <td>1.0</td>\n",
       "      <td></td>\n",
       "      <td></td>\n",
       "      <td>1.0</td>\n",
       "      <td></td>\n",
       "      <td></td>\n",
       "      <td>1.0</td>\n",
       "      <td></td>\n",
       "      <td>1.0</td>\n",
       "      <td></td>\n",
       "      <td></td>\n",
       "      <td>1.0</td>\n",
       "      <td></td>\n",
       "      <td></td>\n",
       "      <td>1.0</td>\n",
       "      <td>1.0</td>\n",
       "      <td></td>\n",
       "      <td></td>\n",
       "      <td></td>\n",
       "      <td>1.0</td>\n",
       "      <td>1.0</td>\n",
       "      <td>1.0</td>\n",
       "      <td></td>\n",
       "      <td>1.0</td>\n",
       "      <td></td>\n",
       "      <td></td>\n",
       "      <td>1.0</td>\n",
       "      <td></td>\n",
       "      <td>1.0</td>\n",
       "      <td></td>\n",
       "      <td></td>\n",
       "      <td>1.0</td>\n",
       "      <td></td>\n",
       "    </tr>\n",
       "  </tbody>\n",
       "</table>\n",
       "</div>"
      ],
      "text/plain": [
       "    0    1    2    3  4    5    6    7    8  9    10   11   12   13 14   15  \\\n",
       "0  1.0  1.0  1.0  1.0               1.0  1.0          1.0  1.0          1.0   \n",
       "1  1.0                                   1.0     1.0            1.0     1.0   \n",
       "2  1.0  1.0  1.0                         1.0     1.0            1.0     1.0   \n",
       "3  1.0                                   1.0     1.0  1.0  1.0  1.0     1.0   \n",
       "4  1.0                    1.0            1.0     1.0            1.0     1.0   \n",
       "5  1.0                         1.0  1.0          1.0            1.0     1.0   \n",
       "\n",
       "    16   17   18 19   20   21   22   23 24   25   26   27   28 29   30   31  \\\n",
       "0            1.0               1.0  1.0          1.0  1.0               1.0   \n",
       "1            1.0                    1.0     1.0            1.0     1.0        \n",
       "2  1.0  1.0  1.0                    1.0     1.0                    1.0        \n",
       "3            1.0                    1.0     1.0       1.0  1.0     1.0  1.0   \n",
       "4            1.0     1.0            1.0     1.0            1.0     1.0        \n",
       "5            1.0          1.0  1.0               1.0  1.0  1.0     1.0        \n",
       "\n",
       "    32   33 34   35   36   37   38 39  \n",
       "0  1.0          1.0            1.0     \n",
       "1       1.0     1.0            1.0     \n",
       "2       1.0     1.0  1.0  1.0  1.0     \n",
       "3  1.0  1.0     1.0            1.0     \n",
       "4       1.0     1.0            1.0     \n",
       "5       1.0     1.0            1.0     "
      ]
     },
     "execution_count": 54,
     "metadata": {},
     "output_type": "execute_result"
    }
   ],
   "source": [
    "df = pd.DataFrame(arr)\n",
    "df[df > 0] = 1\n",
    "df.replace(0, '')"
   ]
  },
  {
   "cell_type": "markdown",
   "id": "bd7c27a1",
   "metadata": {},
   "source": [
    "# Day 14"
   ]
  },
  {
   "cell_type": "markdown",
   "id": "d7b7fe2d",
   "metadata": {},
   "source": [
    "## Feladat 1-2"
   ]
  },
  {
   "cell_type": "code",
   "execution_count": 81,
   "id": "2e57f6fe",
   "metadata": {
    "ExecuteTime": {
     "end_time": "2021-12-14T10:40:26.492658Z",
     "start_time": "2021-12-14T10:40:26.475670Z"
    }
   },
   "outputs": [],
   "source": [
    "lista = open_source('day14')"
   ]
  },
  {
   "cell_type": "code",
   "execution_count": 96,
   "id": "9f60c71e",
   "metadata": {
    "ExecuteTime": {
     "end_time": "2021-12-14T10:48:11.624134Z",
     "start_time": "2021-12-14T10:48:11.616156Z"
    }
   },
   "outputs": [],
   "source": [
    "template = lista[0]"
   ]
  },
  {
   "cell_type": "code",
   "execution_count": 97,
   "id": "cf053adb",
   "metadata": {
    "ExecuteTime": {
     "end_time": "2021-12-14T10:48:16.372682Z",
     "start_time": "2021-12-14T10:48:16.360328Z"
    }
   },
   "outputs": [
    {
     "data": {
      "text/plain": [
       "'SCVHKHVSHPVCNBKBPVHV'"
      ]
     },
     "execution_count": 97,
     "metadata": {},
     "output_type": "execute_result"
    }
   ],
   "source": [
    "template"
   ]
  },
  {
   "cell_type": "code",
   "execution_count": 83,
   "id": "e01e2e52",
   "metadata": {
    "ExecuteTime": {
     "end_time": "2021-12-14T10:40:27.303964Z",
     "start_time": "2021-12-14T10:40:27.286965Z"
    }
   },
   "outputs": [],
   "source": [
    "dd = defaultdict(str)\n",
    "for x in lista[2:]:\n",
    "    a = x.split(' -> ')\n",
    "    dd[a[0]] = a[1]"
   ]
  },
  {
   "cell_type": "code",
   "execution_count": 58,
   "id": "383a6b9b",
   "metadata": {
    "ExecuteTime": {
     "end_time": "2021-12-14T10:33:41.778298Z",
     "start_time": "2021-12-14T10:33:41.766302Z"
    }
   },
   "outputs": [],
   "source": [
    "def start_poly(template):\n",
    "    template_start = Counter()\n",
    "    for c in list(zip('A' + template, template))[1:]:\n",
    "        template_start[''.join(c)] += 1\n",
    "    return template_start\n",
    "\n",
    "def poly(template, step):\n",
    "    if step == 0:\n",
    "        return template\n",
    "    else:\n",
    "        template_next = Counter()\n",
    "        for k, v in template.items():\n",
    "            template_next[k[0] + dd[k]] += v\n",
    "            template_next[dd[k] + k[1]] += v\n",
    "        step -= 1\n",
    "        return poly(template_next, step)\n",
    "\n",
    "def end_poly(res):\n",
    "    res_final = Counter()\n",
    "    for k, v in res.items():\n",
    "        res_final[k[0]] += v\n",
    "        res_final[k[1]] += v\n",
    "    for k, v in res_final.items():\n",
    "        res_final[k] = ceil(v/2)\n",
    "    mx = max(res_final, key=res_final.get)\n",
    "    mn = min(res_final, key=res_final.get)\n",
    "    return res_final[mx] - res_final[mn]"
   ]
  },
  {
   "cell_type": "code",
   "execution_count": 99,
   "id": "6c144b42",
   "metadata": {
    "ExecuteTime": {
     "end_time": "2021-12-14T10:48:27.439857Z",
     "start_time": "2021-12-14T10:48:27.431683Z"
    }
   },
   "outputs": [],
   "source": [
    "template_start = start_poly(template)"
   ]
  },
  {
   "cell_type": "code",
   "execution_count": 60,
   "id": "9ca3a7ac",
   "metadata": {
    "ExecuteTime": {
     "end_time": "2021-12-14T10:33:41.809304Z",
     "start_time": "2021-12-14T10:33:41.794300Z"
    }
   },
   "outputs": [
    {
     "data": {
      "text/plain": [
       "2712"
      ]
     },
     "execution_count": 60,
     "metadata": {},
     "output_type": "execute_result"
    }
   ],
   "source": [
    "res1 = poly(template_start, 10)\n",
    "res1 = end_poly(res1)\n",
    "res1"
   ]
  },
  {
   "cell_type": "code",
   "execution_count": 61,
   "id": "7120f1cd",
   "metadata": {
    "ExecuteTime": {
     "end_time": "2021-12-14T10:33:41.825375Z",
     "start_time": "2021-12-14T10:33:41.810299Z"
    }
   },
   "outputs": [
    {
     "data": {
      "text/plain": [
       "8336623059567"
      ]
     },
     "execution_count": 61,
     "metadata": {},
     "output_type": "execute_result"
    }
   ],
   "source": [
    "res2 = poly(template_start, 40)\n",
    "res2 = end_poly(res2)\n",
    "res2"
   ]
  },
  {
   "cell_type": "code",
   "execution_count": 148,
   "id": "2da5323d",
   "metadata": {
    "ExecuteTime": {
     "end_time": "2021-12-14T12:44:47.972187Z",
     "start_time": "2021-12-14T12:44:47.959815Z"
    }
   },
   "outputs": [],
   "source": [
    "def complexity_14(x):\n",
    "    template_start = start_poly(template)\n",
    "    res = poly(template_start, x)\n",
    "    res = end_poly(res)\n",
    "    return res"
   ]
  },
  {
   "cell_type": "code",
   "execution_count": 149,
   "id": "49d31f65",
   "metadata": {
    "ExecuteTime": {
     "end_time": "2021-12-14T12:44:49.234678Z",
     "start_time": "2021-12-14T12:44:49.211115Z"
    }
   },
   "outputs": [
    {
     "data": {
      "text/plain": [
       "2712"
      ]
     },
     "execution_count": 149,
     "metadata": {},
     "output_type": "execute_result"
    }
   ],
   "source": [
    "complexity_14(10)"
   ]
  },
  {
   "cell_type": "code",
   "execution_count": 196,
   "id": "145a7b81",
   "metadata": {
    "ExecuteTime": {
     "end_time": "2021-12-14T13:02:50.127354Z",
     "start_time": "2021-12-14T13:02:44.623158Z"
    }
   },
   "outputs": [],
   "source": [
    "best, others = big_o.big_o(complexity_14, big_o.datagen.n_, n_repeats=20, min_n=1, max_n=800)"
   ]
  },
  {
   "cell_type": "code",
   "execution_count": 197,
   "id": "0335f319",
   "metadata": {
    "ExecuteTime": {
     "end_time": "2021-12-14T13:02:50.751760Z",
     "start_time": "2021-12-14T13:02:50.747836Z"
    }
   },
   "outputs": [
    {
     "name": "stdout",
     "output_type": "stream",
     "text": [
      "Linear: time = -0.014 + 0.0014*n (sec)\n"
     ]
    }
   ],
   "source": [
    "print(best)"
   ]
  },
  {
   "cell_type": "code",
   "execution_count": 199,
   "id": "085aac2b",
   "metadata": {
    "ExecuteTime": {
     "end_time": "2021-12-14T13:25:57.325563Z",
     "start_time": "2021-12-14T13:25:57.320639Z"
    },
    "scrolled": true
   },
   "outputs": [
    {
     "name": "stdout",
     "output_type": "stream",
     "text": [
      "Constant: time = 0.55 (sec)\n",
      "Linear: time = -0.014 + 0.0014*n (sec)\n",
      "Quadratic: time = 0.18 + 1.6E-06*n^2 (sec)\n",
      "Cubic: time = 0.27 + 2E-09*n^3 (sec)\n",
      "Polynomial: time = -7.1 * x^1.1 (sec)\n",
      "Logarithmic: time = -0.22 + 0.14*log(n) (sec)\n",
      "Linearithmic: time = 0.033 + 0.00021*n*log(n) (sec)\n",
      "Exponential: time = -3.8 * 0.0061^n (sec)\n"
     ]
    }
   ],
   "source": [
    "_ = [print(x) for x in list(others)]"
   ]
  },
  {
   "cell_type": "markdown",
   "id": "bd002211",
   "metadata": {},
   "source": [
    "# Day 15 (graph traversal: dijsktra and A* alogrithm)"
   ]
  },
  {
   "cell_type": "markdown",
   "id": "d3f9b2da",
   "metadata": {},
   "source": [
    "## Feladat 1"
   ]
  },
  {
   "cell_type": "code",
   "execution_count": 981,
   "id": "3a3e9df2",
   "metadata": {
    "ExecuteTime": {
     "end_time": "2021-12-15T12:22:15.518258Z",
     "start_time": "2021-12-15T12:22:15.511658Z"
    }
   },
   "outputs": [],
   "source": [
    "lista = open_source('day15')"
   ]
  },
  {
   "cell_type": "code",
   "execution_count": 982,
   "id": "aad96593",
   "metadata": {
    "ExecuteTime": {
     "end_time": "2021-12-15T12:22:15.707150Z",
     "start_time": "2021-12-15T12:22:15.696151Z"
    }
   },
   "outputs": [],
   "source": [
    "lista = [[int(x) for x in list(x)] for x in lista]\n",
    "df = np.array(lista)"
   ]
  },
  {
   "cell_type": "code",
   "execution_count": 983,
   "id": "17aca37d",
   "metadata": {
    "ExecuteTime": {
     "end_time": "2021-12-15T12:22:15.861869Z",
     "start_time": "2021-12-15T12:22:15.844834Z"
    }
   },
   "outputs": [],
   "source": [
    "target = np.zeros(df.shape, dtype=int)\n",
    "target[target == 0] = 99999"
   ]
  },
  {
   "cell_type": "code",
   "execution_count": 984,
   "id": "66766212",
   "metadata": {
    "ExecuteTime": {
     "end_time": "2021-12-15T12:22:16.018933Z",
     "start_time": "2021-12-15T12:22:16.000864Z"
    },
    "code_folding": []
   },
   "outputs": [],
   "source": [
    "def lowest_risk(df, target):\n",
    "    target[0][0] = 0\n",
    "\n",
    "    for y in range(len(target)):\n",
    "        for x in range(len(target[y])):\n",
    "            if y == 0 and x == 0:\n",
    "                continue\n",
    "\n",
    "            temp = []\n",
    "            if y + 1 < len(target):\n",
    "                temp.append(target[y+1,x])\n",
    "            if y - 1 >= 0:\n",
    "                temp.append(target[y-1,x])\n",
    "            if x + 1 < len(target[y]):\n",
    "                temp.append(target[y,x+1])\n",
    "            if x - 1 >= 0:\n",
    "                temp.append(target[y,x-1])\n",
    "\n",
    "            target[y][x] = min(temp) + df[y,x]\n",
    "    \n",
    "    return df, target"
   ]
  },
  {
   "cell_type": "code",
   "execution_count": 985,
   "id": "ec8cea19",
   "metadata": {
    "ExecuteTime": {
     "end_time": "2021-12-15T12:22:16.881975Z",
     "start_time": "2021-12-15T12:22:16.427222Z"
    }
   },
   "outputs": [
    {
     "data": {
      "text/plain": [
       "589"
      ]
     },
     "execution_count": 985,
     "metadata": {},
     "output_type": "execute_result"
    }
   ],
   "source": [
    "df_ = df.copy()\n",
    "target_ = target.copy()\n",
    "for x in range(30):\n",
    "    df_, target_ = lowest_risk(df_, target_)\n",
    "target_[-1,-1]"
   ]
  },
  {
   "cell_type": "markdown",
   "id": "133b2f09",
   "metadata": {
    "ExecuteTime": {
     "end_time": "2021-12-15T12:05:32.974708Z",
     "start_time": "2021-12-15T12:05:32.957638Z"
    }
   },
   "source": [
    "## Feladat 2"
   ]
  },
  {
   "cell_type": "code",
   "execution_count": 1058,
   "id": "d9de6627",
   "metadata": {
    "ExecuteTime": {
     "end_time": "2021-12-15T12:47:51.231664Z",
     "start_time": "2021-12-15T12:47:51.222589Z"
    }
   },
   "outputs": [],
   "source": [
    "df2 = df.copy()\n",
    "res = []\n",
    "for x in range(0, 5):\n",
    "    temp = df2.copy()\n",
    "    temp += x\n",
    "    temp[temp > 9] -= 9\n",
    "    res.append(temp)\n",
    "df2 = np.concatenate(res, axis=1)\n",
    "res = []\n",
    "for x in range(0, 5):\n",
    "    temp = df2.copy()\n",
    "    temp += x\n",
    "    temp[temp > 9] -= 9\n",
    "    res.append(temp)\n",
    "df2 = np.concatenate(res, axis=0)"
   ]
  },
  {
   "cell_type": "code",
   "execution_count": 1059,
   "id": "3813dacb",
   "metadata": {
    "ExecuteTime": {
     "end_time": "2021-12-15T12:47:51.449284Z",
     "start_time": "2021-12-15T12:47:51.442363Z"
    }
   },
   "outputs": [],
   "source": [
    "target2 = np.zeros(df2.shape, dtype=int)\n",
    "target2[target2 == 0] = 99999"
   ]
  },
  {
   "cell_type": "code",
   "execution_count": 1060,
   "id": "4f9ca883",
   "metadata": {
    "ExecuteTime": {
     "end_time": "2021-12-15T12:47:53.172385Z",
     "start_time": "2021-12-15T12:47:51.687398Z"
    }
   },
   "outputs": [
    {
     "data": {
      "text/plain": [
       "2885"
      ]
     },
     "execution_count": 1060,
     "metadata": {},
     "output_type": "execute_result"
    }
   ],
   "source": [
    "df2_ = df2.copy()\n",
    "target2_ = target2.copy()\n",
    "for x in range(4):\n",
    "    df2_, target2_ = lowest_risk(df2_, target2_)\n",
    "target2_[-1,-1]"
   ]
  },
  {
   "cell_type": "markdown",
   "id": "1bf7eae1",
   "metadata": {},
   "source": [
    "## Miért nem jön ki????"
   ]
  },
  {
   "cell_type": "code",
   "execution_count": 1065,
   "id": "16d697df",
   "metadata": {
    "ExecuteTime": {
     "end_time": "2021-12-15T13:10:57.707600Z",
     "start_time": "2021-12-15T13:10:57.703598Z"
    }
   },
   "outputs": [],
   "source": [
    "test = [x[:2] for x in lista[:17]]"
   ]
  },
  {
   "cell_type": "code",
   "execution_count": 1066,
   "id": "2a09d02a",
   "metadata": {
    "ExecuteTime": {
     "end_time": "2021-12-15T13:11:00.044810Z",
     "start_time": "2021-12-15T13:11:00.034812Z"
    },
    "scrolled": false
   },
   "outputs": [
    {
     "name": "stdout",
     "output_type": "stream",
     "text": [
      "96\n"
     ]
    }
   ],
   "source": [
    "df = np.array(test)\n",
    "res, res_df = lowest_risk_old(df)\n",
    "print(res)"
   ]
  },
  {
   "cell_type": "code",
   "execution_count": 1067,
   "id": "dffad790",
   "metadata": {
    "ExecuteTime": {
     "end_time": "2021-12-15T13:11:03.149674Z",
     "start_time": "2021-12-15T13:11:03.132524Z"
    }
   },
   "outputs": [
    {
     "data": {
      "text/plain": [
       "array([[1, 2],\n",
       "       [9, 2],\n",
       "       [8, 3],\n",
       "       [8, 5],\n",
       "       [3, 6],\n",
       "       [2, 7],\n",
       "       [9, 9],\n",
       "       [8, 4],\n",
       "       [9, 9],\n",
       "       [2, 9],\n",
       "       [8, 2],\n",
       "       [8, 1],\n",
       "       [4, 6],\n",
       "       [3, 9],\n",
       "       [3, 5],\n",
       "       [5, 8],\n",
       "       [2, 9]])"
      ]
     },
     "execution_count": 1067,
     "metadata": {},
     "output_type": "execute_result"
    }
   ],
   "source": [
    "df"
   ]
  },
  {
   "cell_type": "code",
   "execution_count": 1069,
   "id": "23b227d6",
   "metadata": {
    "ExecuteTime": {
     "end_time": "2021-12-15T13:11:12.533916Z",
     "start_time": "2021-12-15T13:11:12.524838Z"
    }
   },
   "outputs": [
    {
     "data": {
      "text/plain": [
       "array([[ 0,  2],\n",
       "       [ 9,  4],\n",
       "       [17,  7],\n",
       "       [25, 12],\n",
       "       [28, 18],\n",
       "       [30, 25],\n",
       "       [39, 34],\n",
       "       [47, 38],\n",
       "       [56, 47],\n",
       "       [58, 56],\n",
       "       [66, 58],\n",
       "       [74, 59],\n",
       "       [78, 65],\n",
       "       [81, 74],\n",
       "       [84, 79],\n",
       "       [89, 87],\n",
       "       [91, 96]])"
      ]
     },
     "execution_count": 1069,
     "metadata": {},
     "output_type": "execute_result"
    }
   ],
   "source": [
    "res_df"
   ]
  },
  {
   "cell_type": "code",
   "execution_count": 1063,
   "id": "08321036",
   "metadata": {
    "ExecuteTime": {
     "end_time": "2021-12-15T12:49:43.465590Z",
     "start_time": "2021-12-15T12:49:43.442511Z"
    },
    "code_folding": []
   },
   "outputs": [],
   "source": [
    "def lowest_risk_old(df):\n",
    "    zeros = np.zeros(df.shape, dtype=int)\n",
    " \n",
    "    partial = 0\n",
    "    for i, c in enumerate(df[0,:]):\n",
    "        partial += c\n",
    "        zeros[0,i] = partial - df[0,0]\n",
    "    partial = 0\n",
    "    for i, c in enumerate(df[:,0]):\n",
    "        partial += c\n",
    "        zeros[i,0] = partial - df[0,0]\n",
    "\n",
    "    for i in range(1, df.shape[0]):\n",
    "        for j in range(1, df.shape[1]):\n",
    "            if zeros[i-1,j] <= zeros[i,j-1]:\n",
    "                zeros[i,j] = zeros[i-1,j] + df[i,j]\n",
    "            else:\n",
    "                zeros[i,j] = zeros[i,j-1] + df[i,j]\n",
    "                \n",
    "    return zeros[df.shape[0]-1,df.shape[1]-1], zeros"
   ]
  },
  {
   "cell_type": "markdown",
   "id": "fb5c19fc",
   "metadata": {},
   "source": [
    "# day 16"
   ]
  },
  {
   "cell_type": "markdown",
   "id": "feafdced",
   "metadata": {},
   "source": [
    "## Feladat 1-2"
   ]
  },
  {
   "cell_type": "code",
   "execution_count": 1220,
   "id": "9a020f69",
   "metadata": {
    "ExecuteTime": {
     "end_time": "2021-12-16T10:29:16.097784Z",
     "start_time": "2021-12-16T10:29:16.086709Z"
    }
   },
   "outputs": [],
   "source": [
    "lista = open_source('day16')"
   ]
  },
  {
   "cell_type": "code",
   "execution_count": 1221,
   "id": "ce80f9e1",
   "metadata": {
    "ExecuteTime": {
     "end_time": "2021-12-16T10:29:16.542604Z",
     "start_time": "2021-12-16T10:29:16.525063Z"
    }
   },
   "outputs": [],
   "source": [
    "hex_to_bin = {'0' : '0000', '1' : '0001', '2' : '0010', '3' : '0011', \n",
    "              '4' : '0100', '5' : '0101', '6' : '0110', '7' : '0111',\n",
    "              '8' : '1000', '9' : '1001', 'A' : '1010', 'B' : '1011', \n",
    "              'C' : '1100', 'D' : '1101', 'E' : '1110', 'F' : '1111'}"
   ]
  },
  {
   "cell_type": "code",
   "execution_count": 1222,
   "id": "41106296",
   "metadata": {
    "ExecuteTime": {
     "end_time": "2021-12-16T10:29:16.892831Z",
     "start_time": "2021-12-16T10:29:16.877244Z"
    }
   },
   "outputs": [],
   "source": [
    "lista = ''.join([hex_to_bin.get(i, i) for i in list(lista[0])])"
   ]
  },
  {
   "cell_type": "code",
   "execution_count": 1254,
   "id": "4c182e88",
   "metadata": {
    "ExecuteTime": {
     "end_time": "2021-12-16T10:49:27.211757Z",
     "start_time": "2021-12-16T10:49:27.186988Z"
    }
   },
   "outputs": [],
   "source": [
    "versions = 0\n",
    "def decode(l, x=0):\n",
    "    global versions\n",
    "    versions += int(l[x:x+3], 2)\n",
    "    type_id = int(l[x+3:x+6], 2)\n",
    "    if type_id == 4:\n",
    "        return literal(l, x+6)\n",
    "    else:\n",
    "        return operator(l, x+6, type_id)\n",
    "    \n",
    "        \n",
    "def literal(l, x):\n",
    "    value = ''\n",
    "    while True:\n",
    "        value += l[x+1:x+5]\n",
    "        if l[x] == '0':\n",
    "            return int(value, 2), x+5\n",
    "        x += 5\n",
    "    \n",
    "def operator(l, x, typ):\n",
    "    total_length = total_packets = 0\n",
    "    if l[x] == '0':\n",
    "        total_length = int(l[x+1:x+16], 2)\n",
    "        operands, x = by_length(l, x + 16, total_length)\n",
    "    else:\n",
    "        total_packets = int(l[x+1:x+12], 2)\n",
    "        operands, x = by_count(l, x + 12, total_packets)\n",
    "        \n",
    "    if typ == 0:\n",
    "        return sum(operands), x\n",
    "    if typ == 1:\n",
    "        return prod(operands), x\n",
    "    if typ == 2:\n",
    "        return min(operands), x\n",
    "    if typ == 3:\n",
    "        return max(operands), x\n",
    "    if typ == 5:\n",
    "        return int(operands[0] > operands[1]), x\n",
    "    if typ == 6:\n",
    "        return int(operands[0] < operands[1]), x\n",
    "    if typ == 7:\n",
    "        return int(operands[0] == operands[1]), x\n",
    "\n",
    "def prod(l):\n",
    "    m = 1\n",
    "    for i in l: m *= i\n",
    "    return m\n",
    "    \n",
    "def by_length(l, x, length):\n",
    "    end = x + length\n",
    "    values = []\n",
    "    while x < end:\n",
    "        value, x = decode(l, x)\n",
    "        values.append(value)\n",
    "    return values, x\n",
    "\n",
    "def by_count(l, x, count):\n",
    "    packets = 0\n",
    "    values = []\n",
    "    while packets < count:\n",
    "        value, x = decode(l, x)\n",
    "        values.append(value)\n",
    "        packets += 1\n",
    "    return values, x"
   ]
  },
  {
   "cell_type": "code",
   "execution_count": 1256,
   "id": "132b07f3",
   "metadata": {
    "ExecuteTime": {
     "end_time": "2021-12-16T13:02:15.525232Z",
     "start_time": "2021-12-16T13:02:15.516968Z"
    }
   },
   "outputs": [
    {
     "data": {
      "text/plain": [
       "854"
      ]
     },
     "execution_count": 1256,
     "metadata": {},
     "output_type": "execute_result"
    }
   ],
   "source": [
    "versions"
   ]
  },
  {
   "cell_type": "code",
   "execution_count": 1257,
   "id": "47a1be34",
   "metadata": {
    "ExecuteTime": {
     "end_time": "2021-12-16T13:02:18.065475Z",
     "start_time": "2021-12-16T13:02:18.058476Z"
    }
   },
   "outputs": [
    {
     "data": {
      "text/plain": [
       "186189840660"
      ]
     },
     "execution_count": 1257,
     "metadata": {},
     "output_type": "execute_result"
    }
   ],
   "source": [
    "decode(lista)[0]"
   ]
  },
  {
   "cell_type": "markdown",
   "id": "88a71546",
   "metadata": {},
   "source": [
    "# Day 17"
   ]
  },
  {
   "cell_type": "markdown",
   "id": "6898953e",
   "metadata": {},
   "source": [
    "## Feladat 1"
   ]
  },
  {
   "cell_type": "code",
   "execution_count": 1452,
   "id": "7a978bab",
   "metadata": {
    "ExecuteTime": {
     "end_time": "2021-12-17T10:06:20.056361Z",
     "start_time": "2021-12-17T10:06:20.049199Z"
    }
   },
   "outputs": [],
   "source": [
    "lista = open_source('day17')[0]"
   ]
  },
  {
   "cell_type": "code",
   "execution_count": 1453,
   "id": "7bcc9364",
   "metadata": {
    "ExecuteTime": {
     "end_time": "2021-12-17T10:06:20.697360Z",
     "start_time": "2021-12-17T10:06:20.675736Z"
    }
   },
   "outputs": [
    {
     "data": {
      "text/plain": [
       "'target area: x=79..137, y=-176..-117'"
      ]
     },
     "execution_count": 1453,
     "metadata": {},
     "output_type": "execute_result"
    }
   ],
   "source": [
    "lista"
   ]
  },
  {
   "cell_type": "code",
   "execution_count": 1454,
   "id": "7f96eab1",
   "metadata": {
    "ExecuteTime": {
     "end_time": "2021-12-17T10:06:21.289667Z",
     "start_time": "2021-12-17T10:06:21.275521Z"
    }
   },
   "outputs": [],
   "source": [
    "# x 12 és 137 között lesz\n",
    "# y -176 és 175 között lesz"
   ]
  },
  {
   "cell_type": "code",
   "execution_count": 1455,
   "id": "145972d5",
   "metadata": {
    "ExecuteTime": {
     "end_time": "2021-12-17T10:06:21.929955Z",
     "start_time": "2021-12-17T10:06:21.901378Z"
    }
   },
   "outputs": [
    {
     "data": {
      "text/plain": [
       "44352"
      ]
     },
     "execution_count": 1455,
     "metadata": {},
     "output_type": "execute_result"
    }
   ],
   "source": [
    "x_list = list(range(12, 138))\n",
    "y_list = list(range(-176, 176))\n",
    "throw_options = [(x,y) for x in x_list for y in y_list]\n",
    "len(throw_options)"
   ]
  },
  {
   "cell_type": "code",
   "execution_count": 1450,
   "id": "24662af4",
   "metadata": {
    "ExecuteTime": {
     "end_time": "2021-12-17T10:05:24.233401Z",
     "start_time": "2021-12-17T10:05:23.929099Z"
    }
   },
   "outputs": [],
   "source": [
    "high_total = 0\n",
    "valid_total = 0\n",
    "for x, y in throw_options:\n",
    "    result = True\n",
    "    vel_start = [x, y]\n",
    "    pos = [0, 0]\n",
    "    vel = list(vel_start)\n",
    "    high_round = 0\n",
    "    while result:\n",
    "        if pos[1] > high_round: high_round = pos[1]\n",
    "        pos[0] += vel[0]\n",
    "        pos[1] += vel[1]\n",
    "        if vel[0] > 0: vel[0] -= 1\n",
    "        elif vel[0] < 0: vel[0] += + 1\n",
    "        vel[1] -= 1\n",
    "        if (79 <= pos[0] <= 137) and (-176 <= pos[1] <= -117):\n",
    "            result = False\n",
    "            valid_total += 1\n",
    "            if high_round > high_total: high_total = high_round\n",
    "        elif (pos[0] > 137) or (pos[1] < -176):\n",
    "            result = False"
   ]
  },
  {
   "cell_type": "code",
   "execution_count": 1451,
   "id": "13453796",
   "metadata": {
    "ExecuteTime": {
     "end_time": "2021-12-17T10:05:24.669299Z",
     "start_time": "2021-12-17T10:05:24.647792Z"
    }
   },
   "outputs": [
    {
     "name": "stdout",
     "output_type": "stream",
     "text": [
      "15400\n",
      "5844\n"
     ]
    }
   ],
   "source": [
    "print(pos_high_total)\n",
    "print(total_valid)"
   ]
  },
  {
   "cell_type": "markdown",
   "id": "e4a0c16e",
   "metadata": {
    "heading_collapsed": true
   },
   "source": [
    "# Other random stuff"
   ]
  },
  {
   "cell_type": "code",
   "execution_count": 62,
   "id": "90365c93",
   "metadata": {
    "ExecuteTime": {
     "end_time": "2021-12-14T10:33:41.841369Z",
     "start_time": "2021-12-14T10:33:41.826301Z"
    },
    "hidden": true
   },
   "outputs": [],
   "source": [
    "label = ('a', 'b')\n",
    "row1 = ('asd   ', 2)\n",
    "row2 = ('basd   ', 4)"
   ]
  },
  {
   "cell_type": "code",
   "execution_count": 63,
   "id": "335bc5cf",
   "metadata": {
    "ExecuteTime": {
     "end_time": "2021-12-14T10:33:41.857298Z",
     "start_time": "2021-12-14T10:33:41.842312Z"
    },
    "hidden": true
   },
   "outputs": [
    {
     "data": {
      "text/plain": [
       "{'a': ('asd   ', 'basd   '), 'b': (2, 4)}"
      ]
     },
     "execution_count": 63,
     "metadata": {},
     "output_type": "execute_result"
    }
   ],
   "source": [
    "dict(zip(label, tuple(zip(row1, row2))))"
   ]
  },
  {
   "cell_type": "code",
   "execution_count": 64,
   "id": "3ddbe467",
   "metadata": {
    "ExecuteTime": {
     "end_time": "2021-12-14T10:33:41.873307Z",
     "start_time": "2021-12-14T10:33:41.858299Z"
    },
    "hidden": true
   },
   "outputs": [],
   "source": [
    "rows = [('basd   ', 1), ('asd    ', '2')]"
   ]
  },
  {
   "cell_type": "code",
   "execution_count": 65,
   "id": "559bf16e",
   "metadata": {
    "ExecuteTime": {
     "end_time": "2021-12-14T10:33:41.889343Z",
     "start_time": "2021-12-14T10:33:41.875299Z"
    },
    "hidden": true
   },
   "outputs": [
    {
     "data": {
      "text/plain": [
       "['basd', 'asd']"
      ]
     },
     "execution_count": 65,
     "metadata": {},
     "output_type": "execute_result"
    }
   ],
   "source": [
    "df = pd.DataFrame(rows, columns=label)\n",
    "df['a'].str.strip().to_list()"
   ]
  },
  {
   "cell_type": "code",
   "execution_count": 66,
   "id": "75bc85a0",
   "metadata": {
    "ExecuteTime": {
     "end_time": "2021-12-14T10:33:41.905342Z",
     "start_time": "2021-12-14T10:33:41.890334Z"
    },
    "hidden": true
   },
   "outputs": [],
   "source": [
    "df['a'] = [x.strip() for x in df['a']]"
   ]
  },
  {
   "cell_type": "code",
   "execution_count": 1086,
   "id": "d9a7d960",
   "metadata": {
    "ExecuteTime": {
     "end_time": "2021-12-15T18:36:43.632196Z",
     "start_time": "2021-12-15T18:36:43.614569Z"
    },
    "hidden": true
   },
   "outputs": [],
   "source": [
    "dd = defaultdict(list)"
   ]
  },
  {
   "cell_type": "code",
   "execution_count": 68,
   "id": "10b88327",
   "metadata": {
    "ExecuteTime": {
     "end_time": "2021-12-14T10:33:41.936343Z",
     "start_time": "2021-12-14T10:33:41.922333Z"
    },
    "hidden": true
   },
   "outputs": [],
   "source": [
    "dicta = {}\n",
    "for i, l in enumerate(label):\n",
    "    for v in rows:\n",
    "        if isinstance(v[i], str):\n",
    "            dd[l].append(v[i].strip())\n",
    "        else:\n",
    "            dd[l].append(v[i])"
   ]
  },
  {
   "cell_type": "code",
   "execution_count": 1090,
   "id": "07699481",
   "metadata": {
    "ExecuteTime": {
     "end_time": "2021-12-15T18:37:38.064285Z",
     "start_time": "2021-12-15T18:37:38.034255Z"
    },
    "hidden": true
   },
   "outputs": [],
   "source": [
    "dd['name'] = ['a', 'b', 'c', 'd']\n",
    "dd['date'] = [2018, 2019, 2020, 2021]"
   ]
  },
  {
   "cell_type": "code",
   "execution_count": 1268,
   "id": "82c9bad7",
   "metadata": {
    "ExecuteTime": {
     "end_time": "2021-12-16T13:52:50.481823Z",
     "start_time": "2021-12-16T13:52:50.473840Z"
    },
    "hidden": true
   },
   "outputs": [
    {
     "data": {
      "text/plain": [
       "[('a', 2018), ('b', 2019), ('c', 2020), ('d', 2021)]"
      ]
     },
     "execution_count": 1268,
     "metadata": {},
     "output_type": "execute_result"
    }
   ],
   "source": [
    "rows = list(zip(['a', 'b', 'c', 'd'],[2018, 2019, 2020, 2021]) )\n",
    "rows"
   ]
  },
  {
   "cell_type": "code",
   "execution_count": 1269,
   "id": "f312873b",
   "metadata": {
    "ExecuteTime": {
     "end_time": "2021-12-16T13:53:06.334360Z",
     "start_time": "2021-12-16T13:53:06.316361Z"
    },
    "hidden": true
   },
   "outputs": [],
   "source": [
    "labels = ('name', 'date')"
   ]
  },
  {
   "cell_type": "code",
   "execution_count": 1272,
   "id": "82993319",
   "metadata": {
    "ExecuteTime": {
     "end_time": "2021-12-16T14:23:39.321254Z",
     "start_time": "2021-12-16T14:23:39.306186Z"
    },
    "hidden": true
   },
   "outputs": [],
   "source": [
    "df = pd.DataFrame(rows, columns=labels)"
   ]
  },
  {
   "cell_type": "code",
   "execution_count": 1275,
   "id": "18c36cc1",
   "metadata": {
    "ExecuteTime": {
     "end_time": "2021-12-16T14:24:26.110529Z",
     "start_time": "2021-12-16T14:24:26.100471Z"
    },
    "hidden": true
   },
   "outputs": [
    {
     "name": "stdout",
     "output_type": "stream",
     "text": [
      "name ['a' 2018]\n",
      "date ['b' 2019]\n"
     ]
    }
   ],
   "source": [
    "for c, r in zip(df.columns, df.values):\n",
    "    print(c, r)"
   ]
  },
  {
   "cell_type": "code",
   "execution_count": 1281,
   "id": "2bc4c35c",
   "metadata": {
    "ExecuteTime": {
     "end_time": "2021-12-16T14:26:37.075567Z",
     "start_time": "2021-12-16T14:26:37.055268Z"
    },
    "hidden": true
   },
   "outputs": [
    {
     "name": "stdout",
     "output_type": "stream",
     "text": [
      "name       a\n",
      "date    2018\n",
      "Name: 0, dtype: object\n",
      "name       b\n",
      "date    2019\n",
      "Name: 1, dtype: object\n",
      "name       c\n",
      "date    2020\n",
      "Name: 2, dtype: object\n",
      "name       d\n",
      "date    2021\n",
      "Name: 3, dtype: object\n"
     ]
    }
   ],
   "source": [
    "for r in range(len(df)):\n",
    "    print(df.iloc[r])"
   ]
  },
  {
   "cell_type": "code",
   "execution_count": 1282,
   "id": "0387a8d1",
   "metadata": {
    "ExecuteTime": {
     "end_time": "2021-12-16T15:03:09.551394Z",
     "start_time": "2021-12-16T15:03:09.530327Z"
    },
    "hidden": true
   },
   "outputs": [
    {
     "data": {
      "text/plain": [
       "name    object\n",
       "date     int64\n",
       "dtype: object"
      ]
     },
     "execution_count": 1282,
     "metadata": {},
     "output_type": "execute_result"
    }
   ],
   "source": [
    "df.dtypes"
   ]
  },
  {
   "cell_type": "code",
   "execution_count": 1287,
   "id": "f4d54050",
   "metadata": {
    "ExecuteTime": {
     "end_time": "2021-12-16T15:03:59.835042Z",
     "start_time": "2021-12-16T15:03:59.788477Z"
    },
    "hidden": true
   },
   "outputs": [
    {
     "ename": "AttributeError",
     "evalue": "Can only use .str accessor with string values!",
     "output_type": "error",
     "traceback": [
      "\u001b[1;31m---------------------------------------------------------------------------\u001b[0m",
      "\u001b[1;31mAttributeError\u001b[0m                            Traceback (most recent call last)",
      "\u001b[1;32m~\\AppData\\Local\\Temp/ipykernel_32836/3077035183.py\u001b[0m in \u001b[0;36m<module>\u001b[1;34m\u001b[0m\n\u001b[1;32m----> 1\u001b[1;33m \u001b[1;33m[\u001b[0m\u001b[0mdf\u001b[0m\u001b[1;33m[\u001b[0m\u001b[0mx\u001b[0m\u001b[1;33m]\u001b[0m\u001b[1;33m.\u001b[0m\u001b[0mstr\u001b[0m\u001b[1;33m.\u001b[0m\u001b[0mstrip\u001b[0m\u001b[1;33m(\u001b[0m\u001b[1;33m)\u001b[0m \u001b[1;32mfor\u001b[0m \u001b[0mx\u001b[0m \u001b[1;32min\u001b[0m \u001b[0mdf\u001b[0m\u001b[1;33m.\u001b[0m\u001b[0mcolumns\u001b[0m\u001b[1;33m]\u001b[0m\u001b[1;33m\u001b[0m\u001b[1;33m\u001b[0m\u001b[0m\n\u001b[0m",
      "\u001b[1;32m~\\AppData\\Local\\Temp/ipykernel_32836/3077035183.py\u001b[0m in \u001b[0;36m<listcomp>\u001b[1;34m(.0)\u001b[0m\n\u001b[1;32m----> 1\u001b[1;33m \u001b[1;33m[\u001b[0m\u001b[0mdf\u001b[0m\u001b[1;33m[\u001b[0m\u001b[0mx\u001b[0m\u001b[1;33m]\u001b[0m\u001b[1;33m.\u001b[0m\u001b[0mstr\u001b[0m\u001b[1;33m.\u001b[0m\u001b[0mstrip\u001b[0m\u001b[1;33m(\u001b[0m\u001b[1;33m)\u001b[0m \u001b[1;32mfor\u001b[0m \u001b[0mx\u001b[0m \u001b[1;32min\u001b[0m \u001b[0mdf\u001b[0m\u001b[1;33m.\u001b[0m\u001b[0mcolumns\u001b[0m\u001b[1;33m]\u001b[0m\u001b[1;33m\u001b[0m\u001b[1;33m\u001b[0m\u001b[0m\n\u001b[0m",
      "\u001b[1;32m~\\anaconda3\\lib\\site-packages\\pandas\\core\\generic.py\u001b[0m in \u001b[0;36m__getattr__\u001b[1;34m(self, name)\u001b[0m\n\u001b[0;32m   5485\u001b[0m         ):\n\u001b[0;32m   5486\u001b[0m             \u001b[1;32mreturn\u001b[0m \u001b[0mself\u001b[0m\u001b[1;33m[\u001b[0m\u001b[0mname\u001b[0m\u001b[1;33m]\u001b[0m\u001b[1;33m\u001b[0m\u001b[1;33m\u001b[0m\u001b[0m\n\u001b[1;32m-> 5487\u001b[1;33m         \u001b[1;32mreturn\u001b[0m \u001b[0mobject\u001b[0m\u001b[1;33m.\u001b[0m\u001b[0m__getattribute__\u001b[0m\u001b[1;33m(\u001b[0m\u001b[0mself\u001b[0m\u001b[1;33m,\u001b[0m \u001b[0mname\u001b[0m\u001b[1;33m)\u001b[0m\u001b[1;33m\u001b[0m\u001b[1;33m\u001b[0m\u001b[0m\n\u001b[0m\u001b[0;32m   5488\u001b[0m \u001b[1;33m\u001b[0m\u001b[0m\n\u001b[0;32m   5489\u001b[0m     \u001b[1;32mdef\u001b[0m \u001b[0m__setattr__\u001b[0m\u001b[1;33m(\u001b[0m\u001b[0mself\u001b[0m\u001b[1;33m,\u001b[0m \u001b[0mname\u001b[0m\u001b[1;33m:\u001b[0m \u001b[0mstr\u001b[0m\u001b[1;33m,\u001b[0m \u001b[0mvalue\u001b[0m\u001b[1;33m)\u001b[0m \u001b[1;33m->\u001b[0m \u001b[1;32mNone\u001b[0m\u001b[1;33m:\u001b[0m\u001b[1;33m\u001b[0m\u001b[1;33m\u001b[0m\u001b[0m\n",
      "\u001b[1;32m~\\anaconda3\\lib\\site-packages\\pandas\\core\\accessor.py\u001b[0m in \u001b[0;36m__get__\u001b[1;34m(self, obj, cls)\u001b[0m\n\u001b[0;32m    179\u001b[0m             \u001b[1;31m# we're accessing the attribute of the class, i.e., Dataset.geo\u001b[0m\u001b[1;33m\u001b[0m\u001b[1;33m\u001b[0m\u001b[1;33m\u001b[0m\u001b[0m\n\u001b[0;32m    180\u001b[0m             \u001b[1;32mreturn\u001b[0m \u001b[0mself\u001b[0m\u001b[1;33m.\u001b[0m\u001b[0m_accessor\u001b[0m\u001b[1;33m\u001b[0m\u001b[1;33m\u001b[0m\u001b[0m\n\u001b[1;32m--> 181\u001b[1;33m         \u001b[0maccessor_obj\u001b[0m \u001b[1;33m=\u001b[0m \u001b[0mself\u001b[0m\u001b[1;33m.\u001b[0m\u001b[0m_accessor\u001b[0m\u001b[1;33m(\u001b[0m\u001b[0mobj\u001b[0m\u001b[1;33m)\u001b[0m\u001b[1;33m\u001b[0m\u001b[1;33m\u001b[0m\u001b[0m\n\u001b[0m\u001b[0;32m    182\u001b[0m         \u001b[1;31m# Replace the property with the accessor object. Inspired by:\u001b[0m\u001b[1;33m\u001b[0m\u001b[1;33m\u001b[0m\u001b[1;33m\u001b[0m\u001b[0m\n\u001b[0;32m    183\u001b[0m         \u001b[1;31m# https://www.pydanny.com/cached-property.html\u001b[0m\u001b[1;33m\u001b[0m\u001b[1;33m\u001b[0m\u001b[1;33m\u001b[0m\u001b[0m\n",
      "\u001b[1;32m~\\anaconda3\\lib\\site-packages\\pandas\\core\\strings\\accessor.py\u001b[0m in \u001b[0;36m__init__\u001b[1;34m(self, data)\u001b[0m\n\u001b[0;32m    166\u001b[0m         \u001b[1;32mfrom\u001b[0m \u001b[0mpandas\u001b[0m\u001b[1;33m.\u001b[0m\u001b[0mcore\u001b[0m\u001b[1;33m.\u001b[0m\u001b[0marrays\u001b[0m\u001b[1;33m.\u001b[0m\u001b[0mstring_\u001b[0m \u001b[1;32mimport\u001b[0m \u001b[0mStringDtype\u001b[0m\u001b[1;33m\u001b[0m\u001b[1;33m\u001b[0m\u001b[0m\n\u001b[0;32m    167\u001b[0m \u001b[1;33m\u001b[0m\u001b[0m\n\u001b[1;32m--> 168\u001b[1;33m         \u001b[0mself\u001b[0m\u001b[1;33m.\u001b[0m\u001b[0m_inferred_dtype\u001b[0m \u001b[1;33m=\u001b[0m \u001b[0mself\u001b[0m\u001b[1;33m.\u001b[0m\u001b[0m_validate\u001b[0m\u001b[1;33m(\u001b[0m\u001b[0mdata\u001b[0m\u001b[1;33m)\u001b[0m\u001b[1;33m\u001b[0m\u001b[1;33m\u001b[0m\u001b[0m\n\u001b[0m\u001b[0;32m    169\u001b[0m         \u001b[0mself\u001b[0m\u001b[1;33m.\u001b[0m\u001b[0m_is_categorical\u001b[0m \u001b[1;33m=\u001b[0m \u001b[0mis_categorical_dtype\u001b[0m\u001b[1;33m(\u001b[0m\u001b[0mdata\u001b[0m\u001b[1;33m.\u001b[0m\u001b[0mdtype\u001b[0m\u001b[1;33m)\u001b[0m\u001b[1;33m\u001b[0m\u001b[1;33m\u001b[0m\u001b[0m\n\u001b[0;32m    170\u001b[0m         \u001b[0mself\u001b[0m\u001b[1;33m.\u001b[0m\u001b[0m_is_string\u001b[0m \u001b[1;33m=\u001b[0m \u001b[0misinstance\u001b[0m\u001b[1;33m(\u001b[0m\u001b[0mdata\u001b[0m\u001b[1;33m.\u001b[0m\u001b[0mdtype\u001b[0m\u001b[1;33m,\u001b[0m \u001b[0mStringDtype\u001b[0m\u001b[1;33m)\u001b[0m\u001b[1;33m\u001b[0m\u001b[1;33m\u001b[0m\u001b[0m\n",
      "\u001b[1;32m~\\anaconda3\\lib\\site-packages\\pandas\\core\\strings\\accessor.py\u001b[0m in \u001b[0;36m_validate\u001b[1;34m(data)\u001b[0m\n\u001b[0;32m    223\u001b[0m \u001b[1;33m\u001b[0m\u001b[0m\n\u001b[0;32m    224\u001b[0m         \u001b[1;32mif\u001b[0m \u001b[0minferred_dtype\u001b[0m \u001b[1;32mnot\u001b[0m \u001b[1;32min\u001b[0m \u001b[0mallowed_types\u001b[0m\u001b[1;33m:\u001b[0m\u001b[1;33m\u001b[0m\u001b[1;33m\u001b[0m\u001b[0m\n\u001b[1;32m--> 225\u001b[1;33m             \u001b[1;32mraise\u001b[0m \u001b[0mAttributeError\u001b[0m\u001b[1;33m(\u001b[0m\u001b[1;34m\"Can only use .str accessor with string values!\"\u001b[0m\u001b[1;33m)\u001b[0m\u001b[1;33m\u001b[0m\u001b[1;33m\u001b[0m\u001b[0m\n\u001b[0m\u001b[0;32m    226\u001b[0m         \u001b[1;32mreturn\u001b[0m \u001b[0minferred_dtype\u001b[0m\u001b[1;33m\u001b[0m\u001b[1;33m\u001b[0m\u001b[0m\n\u001b[0;32m    227\u001b[0m \u001b[1;33m\u001b[0m\u001b[0m\n",
      "\u001b[1;31mAttributeError\u001b[0m: Can only use .str accessor with string values!"
     ]
    }
   ],
   "source": [
    "[df[x].str.strip() for x in df.columns]"
   ]
  },
  {
   "cell_type": "code",
   "execution_count": 1290,
   "id": "07287030",
   "metadata": {
    "ExecuteTime": {
     "end_time": "2021-12-16T15:10:54.282514Z",
     "start_time": "2021-12-16T15:10:54.269514Z"
    },
    "hidden": true
   },
   "outputs": [
    {
     "data": {
      "text/plain": [
       "('a', 'b', 'c', 'd')"
      ]
     },
     "execution_count": 1290,
     "metadata": {},
     "output_type": "execute_result"
    }
   ],
   "source": [
    "tuple(df['name'])"
   ]
  },
  {
   "cell_type": "code",
   "execution_count": 1265,
   "id": "f89d3b8f",
   "metadata": {
    "ExecuteTime": {
     "end_time": "2021-12-16T13:39:37.208287Z",
     "start_time": "2021-12-16T13:39:37.190228Z"
    },
    "hidden": true
   },
   "outputs": [
    {
     "name": "stdout",
     "output_type": "stream",
     "text": [
      "0\n",
      "1\n",
      "2\n",
      "3\n"
     ]
    }
   ],
   "source": [
    "for r in range(len(next(iter(dd.values())))):\n",
    "    print(r)"
   ]
  },
  {
   "cell_type": "code",
   "execution_count": 1259,
   "id": "cfe045af",
   "metadata": {
    "ExecuteTime": {
     "end_time": "2021-12-16T13:36:08.138643Z",
     "start_time": "2021-12-16T13:36:08.132658Z"
    },
    "hidden": true
   },
   "outputs": [
    {
     "name": "stdout",
     "output_type": "stream",
     "text": [
      "a 2018\n",
      "b 2019\n",
      "c 2020\n",
      "d 2021\n"
     ]
    }
   ],
   "source": [
    "for i in range(len(dd[label])):\n",
    "    print(dd['name'][i], dd['date'][i])"
   ]
  },
  {
   "cell_type": "code",
   "execution_count": 1071,
   "id": "4053a84d",
   "metadata": {
    "ExecuteTime": {
     "end_time": "2021-12-15T15:22:37.462019Z",
     "start_time": "2021-12-15T15:22:37.442835Z"
    },
    "hidden": true
   },
   "outputs": [],
   "source": [
    "from datetime import datetime"
   ]
  },
  {
   "cell_type": "code",
   "execution_count": 1074,
   "id": "d45b291f",
   "metadata": {
    "ExecuteTime": {
     "end_time": "2021-12-15T15:22:54.855754Z",
     "start_time": "2021-12-15T15:22:54.847749Z"
    },
    "hidden": true
   },
   "outputs": [],
   "source": [
    "asd = datetime(2020, 12, 30)"
   ]
  },
  {
   "cell_type": "code",
   "execution_count": 1083,
   "id": "41dac371",
   "metadata": {
    "ExecuteTime": {
     "end_time": "2021-12-15T15:24:05.962326Z",
     "start_time": "2021-12-15T15:24:05.953421Z"
    },
    "hidden": true
   },
   "outputs": [
    {
     "data": {
      "text/plain": [
       "'12/30/2020'"
      ]
     },
     "execution_count": 1083,
     "metadata": {},
     "output_type": "execute_result"
    }
   ],
   "source": [
    "asd.strftime('%m/%d/%Y')"
   ]
  },
  {
   "cell_type": "code",
   "execution_count": null,
   "id": "42c80637",
   "metadata": {
    "ExecuteTime": {
     "end_time": "2021-12-15T18:36:09.554291Z",
     "start_time": "2021-12-15T18:36:09.481200Z"
    },
    "hidden": true
   },
   "outputs": [],
   "source": []
  },
  {
   "cell_type": "code",
   "execution_count": null,
   "id": "5a54a30e",
   "metadata": {
    "hidden": true
   },
   "outputs": [],
   "source": []
  }
 ],
 "metadata": {
  "kernelspec": {
   "display_name": "Python 3 (ipykernel)",
   "language": "python",
   "name": "python3"
  },
  "language_info": {
   "codemirror_mode": {
    "name": "ipython",
    "version": 3
   },
   "file_extension": ".py",
   "mimetype": "text/x-python",
   "name": "python",
   "nbconvert_exporter": "python",
   "pygments_lexer": "ipython3",
   "version": "3.8.12"
  },
  "toc": {
   "base_numbering": 1,
   "nav_menu": {},
   "number_sections": true,
   "sideBar": true,
   "skip_h1_title": false,
   "title_cell": "Table of Contents",
   "title_sidebar": "Contents",
   "toc_cell": false,
   "toc_position": {},
   "toc_section_display": true,
   "toc_window_display": true
  }
 },
 "nbformat": 4,
 "nbformat_minor": 5
}
