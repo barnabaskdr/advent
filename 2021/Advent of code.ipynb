{
 "cells": [
  {
   "cell_type": "code",
   "execution_count": 16,
   "id": "7e9315b1",
   "metadata": {
    "ExecuteTime": {
     "end_time": "2021-12-06T08:38:14.293463Z",
     "start_time": "2021-12-06T08:38:14.267904Z"
    }
   },
   "outputs": [],
   "source": [
    "from collections import defaultdict, Counter\n",
    "import pandas as pd\n",
    "import re\n",
    "import numpy as np"
   ]
  },
  {
   "cell_type": "code",
   "execution_count": 3,
   "id": "31c9de94",
   "metadata": {
    "ExecuteTime": {
     "end_time": "2021-12-06T08:33:01.144655Z",
     "start_time": "2021-12-06T08:33:01.121101Z"
    }
   },
   "outputs": [],
   "source": [
    "def open_source(day):\n",
    "    with open('source/{}.txt'.format(day), 'r') as f:\n",
    "        lista = f.readlines()\n",
    "    lista = [x.strip('\\n') for x in lista]\n",
    "    return lista"
   ]
  },
  {
   "cell_type": "markdown",
   "id": "ac969a58",
   "metadata": {
    "heading_collapsed": true
   },
   "source": [
    "# Day 1"
   ]
  },
  {
   "cell_type": "markdown",
   "id": "9dd6dc23",
   "metadata": {
    "hidden": true
   },
   "source": [
    "## Feladat 1"
   ]
  },
  {
   "cell_type": "code",
   "execution_count": 35,
   "id": "eebb556d",
   "metadata": {
    "ExecuteTime": {
     "end_time": "2021-12-02T15:15:14.272561Z",
     "start_time": "2021-12-02T15:15:14.259639Z"
    },
    "hidden": true
   },
   "outputs": [],
   "source": [
    "with open('source/day1_1.txt', 'r') as f:\n",
    "    lista = f.readlines()"
   ]
  },
  {
   "cell_type": "code",
   "execution_count": 36,
   "id": "fd84a1f7",
   "metadata": {
    "ExecuteTime": {
     "end_time": "2021-12-02T15:15:14.677114Z",
     "start_time": "2021-12-02T15:15:14.658655Z"
    },
    "hidden": true
   },
   "outputs": [],
   "source": [
    "lista = [int(x.strip('\\n')) for x in lista]"
   ]
  },
  {
   "cell_type": "code",
   "execution_count": 34,
   "id": "9898858f",
   "metadata": {
    "ExecuteTime": {
     "end_time": "2021-12-02T15:15:10.282679Z",
     "start_time": "2021-12-02T15:15:10.268282Z"
    },
    "hidden": true
   },
   "outputs": [],
   "source": [
    "def nagyobb(lista):\n",
    "    elozo = lista[0]\n",
    "    eredmeny = 0\n",
    "    for x in lista[1:]:\n",
    "        if x > elozo:\n",
    "            eredmeny += 1\n",
    "        elozo = x\n",
    "    return eredmeny"
   ]
  },
  {
   "cell_type": "code",
   "execution_count": 38,
   "id": "6c4ac5b1",
   "metadata": {
    "ExecuteTime": {
     "end_time": "2021-12-02T15:15:23.614312Z",
     "start_time": "2021-12-02T15:15:23.602660Z"
    },
    "hidden": true
   },
   "outputs": [
    {
     "data": {
      "text/plain": [
       "1390"
      ]
     },
     "execution_count": 38,
     "metadata": {},
     "output_type": "execute_result"
    }
   ],
   "source": [
    "nagyobb(lista)"
   ]
  },
  {
   "cell_type": "markdown",
   "id": "139985e2",
   "metadata": {
    "hidden": true
   },
   "source": [
    "## Feladat 2"
   ]
  },
  {
   "cell_type": "code",
   "execution_count": 28,
   "id": "e71b6d45",
   "metadata": {
    "ExecuteTime": {
     "end_time": "2021-12-02T15:12:50.621706Z",
     "start_time": "2021-12-02T15:12:50.603017Z"
    },
    "hidden": true
   },
   "outputs": [],
   "source": [
    "def chunks(lista, chunk_size, overlap):\n",
    "    for i in range(0, len(lista), overlap):\n",
    "        if len(lista[i:i+chunk_size]) == 3:\n",
    "            yield lista[i:i+chunk_size]\n",
    "\n",
    "lista_3as = []            \n",
    "for x in chunks(lista, 3, 1):\n",
    "    lista_3as.append(sum(x))"
   ]
  },
  {
   "cell_type": "code",
   "execution_count": 39,
   "id": "d39b216e",
   "metadata": {
    "ExecuteTime": {
     "end_time": "2021-12-02T15:15:33.324141Z",
     "start_time": "2021-12-02T15:15:33.305377Z"
    },
    "hidden": true
   },
   "outputs": [
    {
     "data": {
      "text/plain": [
       "1457"
      ]
     },
     "execution_count": 39,
     "metadata": {},
     "output_type": "execute_result"
    }
   ],
   "source": [
    "nagyobb(lista_3as)"
   ]
  },
  {
   "cell_type": "markdown",
   "id": "119966b0",
   "metadata": {
    "ExecuteTime": {
     "end_time": "2021-12-02T15:13:22.811361Z",
     "start_time": "2021-12-02T15:13:22.797325Z"
    },
    "heading_collapsed": true
   },
   "source": [
    "# Day 2"
   ]
  },
  {
   "cell_type": "markdown",
   "id": "f7ac8e02",
   "metadata": {
    "hidden": true
   },
   "source": [
    "## Feladat 1"
   ]
  },
  {
   "cell_type": "code",
   "execution_count": null,
   "id": "c38502c1",
   "metadata": {
    "hidden": true
   },
   "outputs": [],
   "source": [
    "final horizontal * final depth"
   ]
  },
  {
   "cell_type": "code",
   "execution_count": 42,
   "id": "f81f27c7",
   "metadata": {
    "ExecuteTime": {
     "end_time": "2021-12-02T15:20:56.150066Z",
     "start_time": "2021-12-02T15:20:56.145049Z"
    },
    "hidden": true
   },
   "outputs": [],
   "source": [
    "with open('source/day2.txt', 'r') as f:\n",
    "    lista = f.readlines()\n",
    "lista = [x.strip('\\n') for x in lista]"
   ]
  },
  {
   "cell_type": "code",
   "execution_count": 47,
   "id": "ea186310",
   "metadata": {
    "ExecuteTime": {
     "end_time": "2021-12-02T15:23:19.668520Z",
     "start_time": "2021-12-02T15:23:19.651835Z"
    },
    "hidden": true
   },
   "outputs": [],
   "source": [
    "horizontal_pos = 0\n",
    "depth = 0\n",
    "for x in lista:\n",
    "    if 'forward' in x:\n",
    "        horizontal_pos += int(x.split(' ')[-1])\n",
    "    elif 'up' in x:\n",
    "        depth -= int(x.split(' ')[-1])\n",
    "    elif 'down' in x:\n",
    "        depth += int(x.split(' ')[-1])"
   ]
  },
  {
   "cell_type": "code",
   "execution_count": 50,
   "id": "9fd4b082",
   "metadata": {
    "ExecuteTime": {
     "end_time": "2021-12-02T15:23:31.595943Z",
     "start_time": "2021-12-02T15:23:31.585930Z"
    },
    "hidden": true
   },
   "outputs": [
    {
     "data": {
      "text/plain": [
       "1693300"
      ]
     },
     "execution_count": 50,
     "metadata": {},
     "output_type": "execute_result"
    }
   ],
   "source": [
    "horizontal_pos * depth"
   ]
  },
  {
   "cell_type": "markdown",
   "id": "0b15a18d",
   "metadata": {
    "ExecuteTime": {
     "end_time": "2021-12-02T15:23:24.662621Z",
     "start_time": "2021-12-02T15:23:24.649446Z"
    },
    "hidden": true
   },
   "source": [
    "## Feladat 2"
   ]
  },
  {
   "cell_type": "code",
   "execution_count": 51,
   "id": "d4925e0d",
   "metadata": {
    "ExecuteTime": {
     "end_time": "2021-12-02T15:27:02.946481Z",
     "start_time": "2021-12-02T15:27:02.939262Z"
    },
    "hidden": true
   },
   "outputs": [],
   "source": [
    "horizontal_pos = 0\n",
    "aim = 0\n",
    "depth = 0\n",
    "for x in lista:\n",
    "    if 'up' in x:\n",
    "        aim -= int(x.split(' ')[-1])\n",
    "    elif 'down' in x:\n",
    "        aim += int(x.split(' ')[-1])\n",
    "    if 'forward' in x:\n",
    "        horizontal_pos += int(x.split(' ')[-1])\n",
    "        depth += int(x.split(' ')[-1]) * aim"
   ]
  },
  {
   "cell_type": "code",
   "execution_count": 54,
   "id": "5f349af6",
   "metadata": {
    "ExecuteTime": {
     "end_time": "2021-12-02T15:27:30.134338Z",
     "start_time": "2021-12-02T15:27:30.120247Z"
    },
    "hidden": true
   },
   "outputs": [
    {
     "data": {
      "text/plain": [
       "1857958050"
      ]
     },
     "execution_count": 54,
     "metadata": {},
     "output_type": "execute_result"
    }
   ],
   "source": [
    "horizontal_pos * depth"
   ]
  },
  {
   "cell_type": "markdown",
   "id": "cb8575ba",
   "metadata": {
    "heading_collapsed": true
   },
   "source": [
    "# Day 3"
   ]
  },
  {
   "cell_type": "markdown",
   "id": "a1e4743b",
   "metadata": {
    "heading_collapsed": true,
    "hidden": true
   },
   "source": [
    "## Feladat 1"
   ]
  },
  {
   "cell_type": "code",
   "execution_count": 73,
   "id": "9d7e5094",
   "metadata": {
    "ExecuteTime": {
     "end_time": "2021-12-03T07:37:26.452229Z",
     "start_time": "2021-12-03T07:37:26.433187Z"
    },
    "hidden": true
   },
   "outputs": [],
   "source": []
  },
  {
   "cell_type": "code",
   "execution_count": 65,
   "id": "c09426de",
   "metadata": {
    "ExecuteTime": {
     "end_time": "2021-12-03T07:29:54.929373Z",
     "start_time": "2021-12-03T07:29:54.924985Z"
    },
    "hidden": true
   },
   "outputs": [],
   "source": [
    "def open_source(day):\n",
    "    with open('source/{}.txt'.format(day), 'r') as f:\n",
    "        lista = f.readlines()\n",
    "    lista = [x.strip('\\n') for x in lista]\n",
    "    return lista"
   ]
  },
  {
   "cell_type": "code",
   "execution_count": 66,
   "id": "8f25c762",
   "metadata": {
    "ExecuteTime": {
     "end_time": "2021-12-03T07:29:55.223310Z",
     "start_time": "2021-12-03T07:29:55.216430Z"
    },
    "hidden": true
   },
   "outputs": [],
   "source": [
    "lista = open_source('day3')"
   ]
  },
  {
   "cell_type": "code",
   "execution_count": 74,
   "id": "3db9e71c",
   "metadata": {
    "ExecuteTime": {
     "end_time": "2021-12-03T07:38:26.002168Z",
     "start_time": "2021-12-03T07:38:25.987071Z"
    },
    "hidden": true
   },
   "outputs": [],
   "source": [
    "dd = defaultdict(list)"
   ]
  },
  {
   "cell_type": "code",
   "execution_count": 97,
   "id": "2f16dbf2",
   "metadata": {
    "ExecuteTime": {
     "end_time": "2021-12-03T07:48:03.561994Z",
     "start_time": "2021-12-03T07:48:03.549735Z"
    },
    "hidden": true
   },
   "outputs": [],
   "source": [
    "#def count_binary()\n",
    "dd = defaultdict(list)\n",
    "gamma = ''\n",
    "epsilon = ''\n",
    "for i in range(len(lista[0])):\n",
    "    for j in lista:\n",
    "        dd[i].append(j[i])\n",
    "    gamma += max(set(dd[i]), key=dd[i].count)\n",
    "    epsilon += min(set(dd[i]), key=dd[i].count)    "
   ]
  },
  {
   "cell_type": "code",
   "execution_count": 101,
   "id": "d60f9716",
   "metadata": {
    "ExecuteTime": {
     "end_time": "2021-12-03T07:48:31.435935Z",
     "start_time": "2021-12-03T07:48:31.420715Z"
    },
    "hidden": true
   },
   "outputs": [
    {
     "data": {
      "text/plain": [
       "2640986"
      ]
     },
     "execution_count": 101,
     "metadata": {},
     "output_type": "execute_result"
    }
   ],
   "source": [
    "int(gamma, 2) * int(epsilon, 2)"
   ]
  },
  {
   "cell_type": "markdown",
   "id": "7178cbc7",
   "metadata": {
    "ExecuteTime": {
     "end_time": "2021-12-03T07:48:06.952888Z",
     "start_time": "2021-12-03T07:48:06.941038Z"
    },
    "hidden": true
   },
   "source": [
    "## Feladat 2"
   ]
  },
  {
   "cell_type": "code",
   "execution_count": 94,
   "id": "f16e9487",
   "metadata": {
    "ExecuteTime": {
     "end_time": "2021-12-03T07:46:49.827296Z",
     "start_time": "2021-12-03T07:46:49.815789Z"
    },
    "hidden": true
   },
   "outputs": [
    {
     "data": {
      "text/plain": [
       "'0'"
      ]
     },
     "execution_count": 94,
     "metadata": {},
     "output_type": "execute_result"
    }
   ],
   "source": [
    "dd = defaultdict(list)\n",
    "gamma = ''\n",
    "epsilon = ''\n",
    "for i in range(len(lista[0])):\n",
    "    for j in lista:\n",
    "        dd[i].append(j[i])"
   ]
  },
  {
   "cell_type": "code",
   "execution_count": 113,
   "id": "841c95fb",
   "metadata": {
    "ExecuteTime": {
     "end_time": "2021-12-03T08:07:15.906840Z",
     "start_time": "2021-12-03T08:07:15.899386Z"
    },
    "hidden": true
   },
   "outputs": [],
   "source": [
    "pandas_lista = [list(x) for x in lista]"
   ]
  },
  {
   "cell_type": "code",
   "execution_count": 115,
   "id": "c7a1d82f",
   "metadata": {
    "ExecuteTime": {
     "end_time": "2021-12-03T08:07:33.660340Z",
     "start_time": "2021-12-03T08:07:33.642685Z"
    },
    "hidden": true
   },
   "outputs": [],
   "source": [
    "df = pd.DataFrame(pandas_lista)"
   ]
  },
  {
   "cell_type": "code",
   "execution_count": 149,
   "id": "ef686abf",
   "metadata": {
    "ExecuteTime": {
     "end_time": "2021-12-03T08:20:30.753592Z",
     "start_time": "2021-12-03T08:20:30.748592Z"
    },
    "hidden": true
   },
   "outputs": [],
   "source": [
    "def melyik_o(df, pos):  \n",
    "    if df.groupby([pos])[pos].count().iloc[0] > df.groupby([pos])[pos].count().iloc[1]:\n",
    "        return '0'\n",
    "    elif df.groupby([pos])[pos].count().iloc[0] < df.groupby([pos])[pos].count().iloc[1]:\n",
    "        return '1'\n",
    "    else:\n",
    "        return '1'\n",
    "    \n",
    "def melyik_co(df, pos):  \n",
    "    if df.groupby([pos])[pos].count().iloc[0] > df.groupby([pos])[pos].count().iloc[1]:\n",
    "        return '1'\n",
    "    elif df.groupby([pos])[pos].count().iloc[0] < df.groupby([pos])[pos].count().iloc[1]:\n",
    "        return '0'\n",
    "    else:\n",
    "        return '0'"
   ]
  },
  {
   "cell_type": "code",
   "execution_count": 150,
   "id": "44f208a1",
   "metadata": {
    "ExecuteTime": {
     "end_time": "2021-12-03T08:21:07.259958Z",
     "start_time": "2021-12-03T08:21:07.224168Z"
    },
    "hidden": true
   },
   "outputs": [],
   "source": [
    "def melyik_o(df, pos):  \n",
    "    if df.groupby([pos])[pos].count().iloc[0] > df.groupby([pos])[pos].count().iloc[1]:\n",
    "        return '0'\n",
    "    elif df.groupby([pos])[pos].count().iloc[0] < df.groupby([pos])[pos].count().iloc[1]:\n",
    "        return '1'\n",
    "    else:\n",
    "        return '1'\n",
    "\n",
    "oxigen = df.copy()\n",
    "for col in oxigen.columns:\n",
    "    marado = melyik_o(oxigen, col)\n",
    "    oxigen = oxigen.loc[oxigen[col] == marado]\n",
    "    if len(oxigen) == 1:\n",
    "        break"
   ]
  },
  {
   "cell_type": "code",
   "execution_count": 158,
   "id": "461a9995",
   "metadata": {
    "ExecuteTime": {
     "end_time": "2021-12-03T08:23:37.142103Z",
     "start_time": "2021-12-03T08:23:37.116928Z"
    },
    "hidden": true
   },
   "outputs": [],
   "source": [
    "co2 = df.copy()\n",
    "for col in co2.columns:\n",
    "    marado = melyik_co(co2, col)\n",
    "    co2 = co2.loc[co2[col] == marado]\n",
    "    if len(co2) == 1:\n",
    "        break"
   ]
  },
  {
   "cell_type": "code",
   "execution_count": 162,
   "id": "4de0df3d",
   "metadata": {
    "ExecuteTime": {
     "end_time": "2021-12-03T08:25:10.666330Z",
     "start_time": "2021-12-03T08:25:10.653710Z"
    },
    "hidden": true
   },
   "outputs": [
    {
     "data": {
      "text/plain": [
       "6822109"
      ]
     },
     "execution_count": 162,
     "metadata": {},
     "output_type": "execute_result"
    }
   ],
   "source": [
    "int(co2.apply(''.join, axis=1).iloc[0], 2) * int(oxigen.apply(''.join, axis=1).iloc[0], 2)"
   ]
  },
  {
   "cell_type": "markdown",
   "id": "cfe8c7e0",
   "metadata": {
    "heading_collapsed": true
   },
   "source": [
    "# Day 4"
   ]
  },
  {
   "cell_type": "markdown",
   "id": "1c40e2d5",
   "metadata": {
    "hidden": true
   },
   "source": [
    "## Feladat 1"
   ]
  },
  {
   "cell_type": "code",
   "execution_count": 630,
   "id": "a37bbcaa",
   "metadata": {
    "ExecuteTime": {
     "end_time": "2021-12-04T12:24:16.189913Z",
     "start_time": "2021-12-04T12:24:16.174547Z"
    },
    "hidden": true
   },
   "outputs": [],
   "source": [
    "with open('source/day4.txt', 'r') as f:\n",
    "    lista = f.readlines()"
   ]
  },
  {
   "cell_type": "code",
   "execution_count": 631,
   "id": "62573cae",
   "metadata": {
    "ExecuteTime": {
     "end_time": "2021-12-04T12:24:16.540111Z",
     "start_time": "2021-12-04T12:24:16.521979Z"
    },
    "hidden": true
   },
   "outputs": [],
   "source": [
    "boards = [list(filter(None, x.strip('\\n').split(' '))) for x in lista[2:]]"
   ]
  },
  {
   "cell_type": "code",
   "execution_count": 625,
   "id": "b807b752",
   "metadata": {
    "ExecuteTime": {
     "end_time": "2021-12-04T12:22:08.781801Z",
     "start_time": "2021-12-04T12:22:08.681914Z"
    },
    "hidden": true
   },
   "outputs": [],
   "source": [
    "def vert_match(df):\n",
    "    a = df.to_numpy() # df.values (pandas<0.24)\n",
    "    if True in (a[0] == a).all(0):\n",
    "        return True\n",
    "    else:\n",
    "        return False\n",
    "    \n",
    "def hori_match(df):\n",
    "    if len(df[df.apply(lambda x: min(x) == max(x), 1)]) > 0:\n",
    "        return True\n",
    "    else:\n",
    "        return False\n",
    "\n",
    "list_of_boards = []\n",
    "for x, y in zip(range(0, len(boards)+1, 6), range(5, len(boards)+1, 6)):\n",
    "    list_of_boards.append(pd.DataFrame(boards[x:y]))\n",
    "    \n",
    "result = ''\n",
    "result_df = ''\n",
    "for i, num in enumerate(draw):\n",
    "    for j, df in enumerate(list_of_boards):\n",
    "        df.replace(num, 'x', inplace=True)\n",
    "        if vert_match(df) or hori_match(df):\n",
    "            result_df = df\n",
    "            result = result_df.replace('x', 0).astype(int).sum().sum() * int(num)\n",
    "            break\n",
    "    else:\n",
    "        continue\n",
    "    break"
   ]
  },
  {
   "cell_type": "code",
   "execution_count": 629,
   "id": "491cb8cb",
   "metadata": {
    "ExecuteTime": {
     "end_time": "2021-12-04T12:22:18.482587Z",
     "start_time": "2021-12-04T12:22:18.457127Z"
    },
    "hidden": true
   },
   "outputs": [
    {
     "data": {
      "text/plain": [
       "64084"
      ]
     },
     "execution_count": 629,
     "metadata": {},
     "output_type": "execute_result"
    }
   ],
   "source": [
    "result"
   ]
  },
  {
   "cell_type": "markdown",
   "id": "1ced6437",
   "metadata": {
    "hidden": true
   },
   "source": [
    "## Feladat 2"
   ]
  },
  {
   "cell_type": "code",
   "execution_count": 687,
   "id": "42d96d07",
   "metadata": {
    "ExecuteTime": {
     "end_time": "2021-12-04T12:55:04.835701Z",
     "start_time": "2021-12-04T12:54:58.715835Z"
    },
    "hidden": true,
    "scrolled": true
   },
   "outputs": [
    {
     "name": "stdout",
     "output_type": "stream",
     "text": [
      "removed df: 54 for num: 74\n",
      "removed df: 42 for num: 26\n",
      "removed df: 12 for num: 83\n",
      "removed df: 12 for num: 77\n",
      "removed df: 27 for num: 75\n",
      "removed df: 7 for num: 56\n",
      "removed df: 42 for num: 73\n",
      "removed df: 64 for num: 86\n",
      "removed df: 70 for num: 86\n",
      "removed df: 87 for num: 86\n",
      "removed df: 4 for num: 55\n",
      "removed df: 12 for num: 55\n",
      "removed df: 22 for num: 55\n",
      "removed df: 66 for num: 55\n",
      "removed df: 67 for num: 55\n",
      "removed df: 38 for num: 36\n",
      "removed df: 15 for num: 13\n",
      "removed df: 75 for num: 52\n",
      "removed df: 76 for num: 52\n",
      "removed df: 75 for num: 63\n",
      "removed df: 0 for num: 79\n",
      "removed df: 15 for num: 79\n",
      "removed df: 10 for num: 9\n",
      "removed df: 17 for num: 10\n",
      "removed df: 18 for num: 10\n",
      "removed df: 53 for num: 10\n",
      "removed df: 61 for num: 10\n",
      "removed df: 1 for num: 16\n",
      "removed df: 8 for num: 16\n",
      "removed df: 34 for num: 16\n",
      "removed df: 66 for num: 16\n",
      "removed df: 68 for num: 16\n",
      "removed df: 28 for num: 8\n",
      "removed df: 47 for num: 8\n",
      "removed df: 58 for num: 8\n",
      "removed df: 11 for num: 69\n",
      "removed df: 33 for num: 69\n",
      "removed df: 54 for num: 69\n",
      "removed df: 34 for num: 11\n",
      "removed df: 40 for num: 11\n",
      "removed df: 31 for num: 50\n",
      "removed df: 50 for num: 50\n",
      "removed df: 57 for num: 50\n",
      "removed df: 17 for num: 54\n",
      "removed df: 3 for num: 81\n",
      "removed df: 13 for num: 81\n",
      "removed df: 15 for num: 81\n",
      "removed df: 46 for num: 81\n",
      "removed df: 1 for num: 22\n",
      "removed df: 9 for num: 22\n",
      "removed df: 19 for num: 22\n",
      "removed df: 20 for num: 22\n",
      "removed df: 33 for num: 22\n",
      "removed df: 46 for num: 22\n",
      "removed df: 6 for num: 45\n",
      "removed df: 15 for num: 45\n",
      "removed df: 25 for num: 45\n",
      "removed df: 31 for num: 45\n",
      "removed df: 33 for num: 45\n",
      "removed df: 6 for num: 1\n",
      "removed df: 13 for num: 1\n",
      "removed df: 18 for num: 1\n",
      "removed df: 26 for num: 1\n",
      "removed df: 31 for num: 1\n",
      "removed df: 3 for num: 88\n",
      "removed df: 11 for num: 88\n",
      "removed df: 18 for num: 88\n",
      "removed df: 28 for num: 88\n",
      "removed df: 9 for num: 44\n",
      "removed df: 12 for num: 44\n",
      "removed df: 20 for num: 44\n",
      "removed df: 24 for num: 44\n",
      "removed df: 26 for num: 44\n",
      "removed df: 8 for num: 62\n",
      "removed df: 12 for num: 62\n",
      "removed df: 13 for num: 62\n",
      "removed df: 23 for num: 62\n",
      "removed df: 10 for num: 0\n",
      "removed df: 1 for num: 96\n",
      "removed df: 8 for num: 96\n",
      "removed df: 12 for num: 96\n",
      "removed df: 16 for num: 96\n",
      "removed df: 17 for num: 96\n",
      "removed df: 12 for num: 94\n",
      "removed df: 3 for num: 31\n",
      "removed df: 5 for num: 31\n",
      "removed df: 11 for num: 31\n",
      "removed df: 12 for num: 31\n",
      "removed df: 3 for num: 90\n",
      "removed df: 2 for num: 39\n",
      "removed df: 0 for num: 92\n",
      "removed df: 3 for num: 92\n",
      "removed df: 5 for num: 92\n",
      "removed df: 3 for num: 37\n",
      "removed df: 5 for num: 98\n",
      "removed df: 1 for num: 21\n",
      "removed df: 0 for num: 41\n"
     ]
    }
   ],
   "source": [
    "list_of_boards = []\n",
    "for x, y in zip(range(0, len(boards)+1, 6), range(5, len(boards)+1, 6)):\n",
    "    list_of_boards.append(pd.DataFrame(boards[x:y]))\n",
    "    \n",
    "result = ''\n",
    "for i, num in enumerate(draw):\n",
    "    for j, df in enumerate(list_of_boards):\n",
    "        df.replace(num, 'x', inplace=True)\n",
    "        if (vert_match(df) or hori_match(df)) and (len(list_of_boards) > 1):\n",
    "            print(\"removed df: {} for num: {}\".format(j, num))\n",
    "            list_of_boards.pop(j)\n",
    "        if num == '41':\n",
    "            break\n",
    "    else:\n",
    "        continue\n",
    "    break\n",
    "\n"
   ]
  },
  {
   "cell_type": "code",
   "execution_count": 678,
   "id": "bc0052ec",
   "metadata": {
    "ExecuteTime": {
     "end_time": "2021-12-04T12:50:08.410854Z",
     "start_time": "2021-12-04T12:50:08.381038Z"
    },
    "hidden": true
   },
   "outputs": [
    {
     "data": {
      "text/html": [
       "<div>\n",
       "<style scoped>\n",
       "    .dataframe tbody tr th:only-of-type {\n",
       "        vertical-align: middle;\n",
       "    }\n",
       "\n",
       "    .dataframe tbody tr th {\n",
       "        vertical-align: top;\n",
       "    }\n",
       "\n",
       "    .dataframe thead th {\n",
       "        text-align: right;\n",
       "    }\n",
       "</style>\n",
       "<table border=\"1\" class=\"dataframe\">\n",
       "  <thead>\n",
       "    <tr style=\"text-align: right;\">\n",
       "      <th></th>\n",
       "      <th>0</th>\n",
       "      <th>1</th>\n",
       "      <th>2</th>\n",
       "      <th>3</th>\n",
       "      <th>4</th>\n",
       "    </tr>\n",
       "  </thead>\n",
       "  <tbody>\n",
       "    <tr>\n",
       "      <th>0</th>\n",
       "      <td>x</td>\n",
       "      <td>44</td>\n",
       "      <td>x</td>\n",
       "      <td>x</td>\n",
       "      <td>x</td>\n",
       "    </tr>\n",
       "    <tr>\n",
       "      <th>1</th>\n",
       "      <td>31</td>\n",
       "      <td>x</td>\n",
       "      <td>x</td>\n",
       "      <td>x</td>\n",
       "      <td>3</td>\n",
       "    </tr>\n",
       "    <tr>\n",
       "      <th>2</th>\n",
       "      <td>x</td>\n",
       "      <td>21</td>\n",
       "      <td>x</td>\n",
       "      <td>x</td>\n",
       "      <td>60</td>\n",
       "    </tr>\n",
       "    <tr>\n",
       "      <th>3</th>\n",
       "      <td>x</td>\n",
       "      <td>81</td>\n",
       "      <td>x</td>\n",
       "      <td>x</td>\n",
       "      <td>x</td>\n",
       "    </tr>\n",
       "    <tr>\n",
       "      <th>4</th>\n",
       "      <td>x</td>\n",
       "      <td>x</td>\n",
       "      <td>48</td>\n",
       "      <td>59</td>\n",
       "      <td>x</td>\n",
       "    </tr>\n",
       "  </tbody>\n",
       "</table>\n",
       "</div>"
      ],
      "text/plain": [
       "    0   1   2   3   4\n",
       "0   x  44   x   x   x\n",
       "1  31   x   x   x   3\n",
       "2   x  21   x   x  60\n",
       "3   x  81   x   x   x\n",
       "4   x   x  48  59   x"
      ]
     },
     "execution_count": 678,
     "metadata": {},
     "output_type": "execute_result"
    }
   ],
   "source": [
    "list_of_boards[0].replace('41', 'x')"
   ]
  },
  {
   "cell_type": "code",
   "execution_count": null,
   "id": "f6452c37",
   "metadata": {
    "hidden": true
   },
   "outputs": [],
   "source": [
    "list_of_boards = []\n",
    "for x, y in zip(range(0, len(boards)+1, 6), range(5, len(boards)+1, 6)):\n",
    "    list_of_boards.append(pd.DataFrame(boards[x:y]))\n",
    "    \n",
    "total_df = len(list_of_boards)\n",
    "remaining_df = 0\n",
    "for i, num in enumerate(draw):\n",
    "    for j, df in enumerate(list_of_boards):\n",
    "        df.replace(num, 'x', inplace=True)\n",
    "        if vert_match(df) or hori_match(df):\n",
    "            remanining_df += 1\n",
    "            list\n",
    "            break\n",
    "    else:\n",
    "        continue\n",
    "    break"
   ]
  },
  {
   "cell_type": "code",
   "execution_count": 688,
   "id": "a8bb45a9",
   "metadata": {
    "ExecuteTime": {
     "end_time": "2021-12-04T12:55:08.644968Z",
     "start_time": "2021-12-04T12:55:08.620368Z"
    },
    "hidden": true
   },
   "outputs": [
    {
     "data": {
      "text/plain": [
       "[    0   1   2   3   4\n",
       " 0   x  44   x   x   x\n",
       " 1  31   x   x   x   3\n",
       " 2   x  21  41   x  60\n",
       " 3   x  81   x   x   x\n",
       " 4   x   x  48  59   x,\n",
       "     0   1   2   3   4\n",
       " 0  67   x   x  88  89\n",
       " 1   x   x   x  28   x\n",
       " 2   x   x  60   x   x\n",
       " 3  42   x   x   x   x\n",
       " 4   x  62   x   x   x,\n",
       "     0   1   2   3   4\n",
       " 0   x   x   x  91   x\n",
       " 1   x   x   x   3   x\n",
       " 2   x  89  58   x   x\n",
       " 3  29   x  48  44   x\n",
       " 4   x   1  42   x  92]"
      ]
     },
     "execution_count": 688,
     "metadata": {},
     "output_type": "execute_result"
    }
   ],
   "source": [
    "list_of_boards"
   ]
  },
  {
   "cell_type": "code",
   "execution_count": 721,
   "id": "7e4aab8d",
   "metadata": {
    "ExecuteTime": {
     "end_time": "2021-12-04T13:16:14.506513Z",
     "start_time": "2021-12-04T13:16:14.248659Z"
    },
    "hidden": true
   },
   "outputs": [],
   "source": [
    "list_of_boards = []\n",
    "\n",
    "for x, y in zip(range(0, len(boards)+1, 6), range(5, len(boards)+1, 6)):\n",
    "    list_of_boards.append(pd.DataFrame(boards[x:y]))\n",
    "nyolc = [list_of_boards[8]]   \n",
    "to_remove = []\n",
    "for i, num in enumerate(draw):\n",
    "    for j, df in enumerate(nyolc):\n",
    "        df.replace(num, 'x', inplace=True)\n",
    "        if (vert_match(df) or hori_match(df)):\n",
    "            break\n",
    "    else:\n",
    "        continue\n",
    "    break\n",
    "\n"
   ]
  },
  {
   "cell_type": "code",
   "execution_count": 724,
   "id": "c94012ea",
   "metadata": {
    "ExecuteTime": {
     "end_time": "2021-12-04T13:17:01.594829Z",
     "start_time": "2021-12-04T13:17:01.559366Z"
    },
    "hidden": true
   },
   "outputs": [
    {
     "data": {
      "text/plain": [
       "12833"
      ]
     },
     "execution_count": 724,
     "metadata": {},
     "output_type": "execute_result"
    }
   ],
   "source": [
    "\n",
    "nyolc[0].replace('x', 0).astype(int).sum().sum() * int(num)\n"
   ]
  },
  {
   "cell_type": "code",
   "execution_count": 717,
   "id": "17b26dd8",
   "metadata": {
    "ExecuteTime": {
     "end_time": "2021-12-04T13:13:06.959984Z",
     "start_time": "2021-12-04T13:13:06.669984Z"
    },
    "hidden": true
   },
   "outputs": [
    {
     "data": {
      "text/plain": [
       "8"
      ]
     },
     "execution_count": 717,
     "metadata": {},
     "output_type": "execute_result"
    }
   ],
   "source": [
    "min(to_remove, key=to_remove.count)"
   ]
  },
  {
   "cell_type": "code",
   "execution_count": 719,
   "id": "648ba123",
   "metadata": {
    "ExecuteTime": {
     "end_time": "2021-12-04T13:15:06.461746Z",
     "start_time": "2021-12-04T13:15:06.439485Z"
    },
    "hidden": true
   },
   "outputs": [
    {
     "data": {
      "text/plain": [
       "[   0  1  2  3  4\n",
       " 0  x  x  x  x  x\n",
       " 1  x  x  x  x  x\n",
       " 2  x  x  x  x  x\n",
       " 3  x  x  x  x  x\n",
       " 4  x  x  x  x  x]"
      ]
     },
     "execution_count": 719,
     "metadata": {},
     "output_type": "execute_result"
    }
   ],
   "source": [
    "[list_of_boards[8]]"
   ]
  },
  {
   "cell_type": "markdown",
   "id": "a3292d95",
   "metadata": {
    "heading_collapsed": true
   },
   "source": [
    "# Day 5"
   ]
  },
  {
   "cell_type": "markdown",
   "id": "e8a9fb1a",
   "metadata": {
    "hidden": true
   },
   "source": [
    "## Feladat 1"
   ]
  },
  {
   "cell_type": "code",
   "execution_count": 3,
   "id": "1aecc770",
   "metadata": {
    "ExecuteTime": {
     "end_time": "2021-12-05T23:36:12.141275Z",
     "start_time": "2021-12-05T23:36:12.112940Z"
    },
    "hidden": true
   },
   "outputs": [],
   "source": [
    "with open('source/day5.txt', 'r') as f:\n",
    "    lista = f.readlines()"
   ]
  },
  {
   "cell_type": "code",
   "execution_count": 4,
   "id": "ccf97c67",
   "metadata": {
    "ExecuteTime": {
     "end_time": "2021-12-05T23:36:12.707270Z",
     "start_time": "2021-12-05T23:36:12.675513Z"
    },
    "hidden": true
   },
   "outputs": [],
   "source": [
    "floor = [re.split(' -> |,', x.strip('\\n')) for x in lista]\n",
    "floor = [[int(y) for y in x] for x in floor]"
   ]
  },
  {
   "cell_type": "code",
   "execution_count": 5,
   "id": "2c20e818",
   "metadata": {
    "ExecuteTime": {
     "end_time": "2021-12-05T23:36:13.241356Z",
     "start_time": "2021-12-05T23:36:13.221964Z"
    },
    "hidden": true
   },
   "outputs": [],
   "source": [
    "rmap = np.zeros((1000,1000), dtype=int)\n",
    "df = pd.DataFrame(rmap)\n",
    "df.index += 1\n",
    "df.columns = [x+1 for x in df.columns]\n",
    "# első az index"
   ]
  },
  {
   "cell_type": "code",
   "execution_count": 961,
   "id": "bc659244",
   "metadata": {
    "ExecuteTime": {
     "end_time": "2021-12-05T23:22:50.191802Z",
     "start_time": "2021-12-05T23:22:38.758818Z"
    },
    "hidden": true
   },
   "outputs": [],
   "source": [
    "def add(e, m):\n",
    "    df.loc[e, m] += 1\n",
    "\n",
    "for l in floor:\n",
    "    if l[0] == l[2]:\n",
    "        # vertical le és fel\n",
    "        df.loc[l[0], l[1]:l[3]] += 1\n",
    "        df.loc[l[0], l[3]:l[1]] += 1\n",
    "    elif l[1] == l[3]:\n",
    "        # horizontal jobbra és balra\n",
    "        df.loc[l[0]:l[2], l[1]] += 1\n",
    "        df.loc[l[2]:l[0], l[1]] += 1"
   ]
  },
  {
   "cell_type": "code",
   "execution_count": null,
   "id": "34331eaa",
   "metadata": {
    "hidden": true
   },
   "outputs": [],
   "source": [
    "df[df >= 2].count().sum()"
   ]
  },
  {
   "cell_type": "markdown",
   "id": "f6b296b4",
   "metadata": {
    "hidden": true
   },
   "source": [
    "## Feladat 2"
   ]
  },
  {
   "cell_type": "code",
   "execution_count": 6,
   "id": "1958766b",
   "metadata": {
    "ExecuteTime": {
     "end_time": "2021-12-05T23:36:55.440785Z",
     "start_time": "2021-12-05T23:36:17.291576Z"
    },
    "hidden": true
   },
   "outputs": [],
   "source": [
    "def add(e, m):\n",
    "    df.loc[e, m] += 1\n",
    "\n",
    "for l in floor:\n",
    "    if l[0] == l[2]:\n",
    "        # vertical le és fel\n",
    "        df.loc[l[0], l[1]:l[3]] += 1\n",
    "        df.loc[l[0], l[3]:l[1]] += 1\n",
    "    elif l[1] == l[3]:\n",
    "        # horizontal jobbra és balra\n",
    "        df.loc[l[0]:l[2], l[1]] += 1\n",
    "        df.loc[l[2]:l[0], l[1]] += 1\n",
    "    elif (l[0] < l[2]) and (l[1] < l[3]):\n",
    "        # d jobbra le\n",
    "        e = np.arange(l[0], l[2]+1, 1)\n",
    "        m = np.arange(l[1], l[3]+1, 1)\n",
    "        [add(x[0], x[1]) for x in zip(e, m)]\n",
    "    elif (l[0] > l[2]) and (l[1] > l[3]):\n",
    "        # d balra fel\n",
    "        e = np.arange(l[0], l[2]-1, -1)\n",
    "        m = np.arange(l[1], l[3]-1, -1)\n",
    "        [add(x[0], x[1]) for x in zip(e, m)]\n",
    "    elif (l[0] > l[2]) and (l[1] < l[3]):\n",
    "        # d jobbra fel\n",
    "        e = np.arange(l[0], l[2]-1, -1)\n",
    "        m = np.arange(l[1], l[3]+1, 1)\n",
    "        [add(x[0], x[1]) for x in zip(e, m)]\n",
    "    elif (l[0] < l[2]) and (l[1] > l[3]):\n",
    "        # d balra le\n",
    "        e = np.arange(l[0], l[2]+1, 1)\n",
    "        m = np.arange(l[1], l[3]-1, -1)\n",
    "        [add(x[0], x[1]) for x in zip(e, m)]"
   ]
  },
  {
   "cell_type": "code",
   "execution_count": 963,
   "id": "9580ca4c",
   "metadata": {
    "ExecuteTime": {
     "end_time": "2021-12-05T23:23:00.581767Z",
     "start_time": "2021-12-05T23:23:00.323242Z"
    },
    "hidden": true
   },
   "outputs": [
    {
     "data": {
      "text/plain": [
       "18144"
      ]
     },
     "execution_count": 963,
     "metadata": {},
     "output_type": "execute_result"
    }
   ],
   "source": [
    "df[df >= 2].count().sum()"
   ]
  },
  {
   "cell_type": "markdown",
   "id": "d1299d87",
   "metadata": {},
   "source": [
    "# Day 6"
   ]
  },
  {
   "cell_type": "markdown",
   "id": "07bf41c0",
   "metadata": {},
   "source": [
    "## Feladat 1-2"
   ]
  },
  {
   "cell_type": "code",
   "execution_count": 5,
   "id": "15ddceb2",
   "metadata": {
    "ExecuteTime": {
     "end_time": "2021-12-06T08:33:31.726148Z",
     "start_time": "2021-12-06T08:33:31.696989Z"
    }
   },
   "outputs": [],
   "source": [
    "lista = open_source('day6')"
   ]
  },
  {
   "cell_type": "code",
   "execution_count": 28,
   "id": "0ba8a3de",
   "metadata": {
    "ExecuteTime": {
     "end_time": "2021-12-06T08:43:40.205327Z",
     "start_time": "2021-12-06T08:43:40.180927Z"
    }
   },
   "outputs": [
    {
     "data": {
      "text/plain": [
       "Counter({5: 32, 4: 28, 3: 32, 2: 33, 1: 175})"
      ]
     },
     "execution_count": 28,
     "metadata": {},
     "output_type": "execute_result"
    }
   ],
   "source": [
    "start = lista[0].split(',')\n",
    "start = [int(x) for x in start]\n",
    "start = Counter(reversed(sorted(start)))\n",
    "start"
   ]
  },
  {
   "cell_type": "code",
   "execution_count": 90,
   "id": "57af6645",
   "metadata": {
    "ExecuteTime": {
     "end_time": "2021-12-06T09:10:20.362301Z",
     "start_time": "2021-12-06T09:10:20.344311Z"
    }
   },
   "outputs": [],
   "source": [
    "def breeding(current, r):\n",
    "    if r == 0:\n",
    "        return current\n",
    "    else:\n",
    "        next_round = {}\n",
    "        for k, v in current.items():\n",
    "            if k != 0:\n",
    "                next_round[k-1] = next_round.get(k-1, 0) + v\n",
    "            elif k == 0:\n",
    "                next_round[6] = next_round.get(6, 0) + v\n",
    "                next_round[8] = next_round.get(8, 0) + v\n",
    "        return breeding(next_round, r-1)"
   ]
  },
  {
   "cell_type": "code",
   "execution_count": 105,
   "id": "1fce4fea",
   "metadata": {
    "ExecuteTime": {
     "end_time": "2021-12-06T09:17:06.253268Z",
     "start_time": "2021-12-06T09:17:06.234059Z"
    }
   },
   "outputs": [],
   "source": [
    "asd = start.copy()\n",
    "result = breeding(asd, 256)"
   ]
  },
  {
   "cell_type": "code",
   "execution_count": 106,
   "id": "e03d2079",
   "metadata": {
    "ExecuteTime": {
     "end_time": "2021-12-06T09:17:08.423450Z",
     "start_time": "2021-12-06T09:17:08.404362Z"
    }
   },
   "outputs": [
    {
     "data": {
      "text/plain": [
       "1710623015163"
      ]
     },
     "execution_count": 106,
     "metadata": {},
     "output_type": "execute_result"
    }
   ],
   "source": [
    "sum(result.values())"
   ]
  },
  {
   "cell_type": "markdown",
   "id": "fe7632d7",
   "metadata": {},
   "source": [
    "# Day 7"
   ]
  },
  {
   "cell_type": "markdown",
   "id": "5158621d",
   "metadata": {},
   "source": [
    "## Feladat 1-2"
   ]
  },
  {
   "cell_type": "code",
   "execution_count": 110,
   "id": "7ab4997a",
   "metadata": {
    "ExecuteTime": {
     "end_time": "2021-12-07T07:32:51.750632Z",
     "start_time": "2021-12-07T07:32:51.724711Z"
    }
   },
   "outputs": [],
   "source": [
    "lista = open_source('day7')\n",
    "lista = lista[0].split(',')\n",
    "lista = [int(x) for x in lista]"
   ]
  },
  {
   "cell_type": "code",
   "execution_count": 130,
   "id": "e4cbb62a",
   "metadata": {
    "ExecuteTime": {
     "end_time": "2021-12-07T10:20:40.231209Z",
     "start_time": "2021-12-07T10:20:39.112921Z"
    }
   },
   "outputs": [
    {
     "name": "stdout",
     "output_type": "stream",
     "text": [
      "0\n",
      "1\n",
      "2\n",
      "3\n",
      "4\n",
      "5\n",
      "6\n",
      "7\n",
      "8\n",
      "9\n",
      "10\n",
      "11\n",
      "12\n",
      "13\n",
      "14\n",
      "15\n",
      "16\n",
      "17\n",
      "18\n",
      "19\n",
      "20\n",
      "21\n",
      "22\n",
      "23\n",
      "24\n",
      "25\n",
      "26\n",
      "27\n",
      "28\n",
      "29\n",
      "30\n",
      "31\n",
      "32\n",
      "33\n",
      "34\n",
      "35\n",
      "36\n",
      "37\n",
      "38\n",
      "39\n",
      "40\n",
      "41\n",
      "42\n",
      "43\n",
      "44\n",
      "45\n",
      "46\n",
      "47\n",
      "48\n",
      "49\n",
      "50\n",
      "51\n",
      "52\n",
      "53\n",
      "54\n",
      "55\n",
      "56\n",
      "57\n",
      "58\n",
      "59\n",
      "60\n",
      "61\n",
      "62\n",
      "63\n",
      "64\n",
      "65\n",
      "66\n",
      "67\n",
      "68\n",
      "69\n",
      "70\n",
      "71\n",
      "72\n",
      "73\n",
      "74\n",
      "75\n",
      "76\n",
      "77\n",
      "78\n",
      "79\n",
      "80\n",
      "81\n",
      "82\n",
      "83\n",
      "84\n",
      "85\n",
      "86\n",
      "87\n",
      "88\n",
      "89\n",
      "90\n",
      "91\n",
      "92\n",
      "93\n",
      "94\n",
      "95\n",
      "96\n",
      "97\n",
      "98\n",
      "99\n",
      "100\n",
      "101\n",
      "102\n",
      "103\n",
      "104\n",
      "105\n",
      "106\n",
      "107\n",
      "108\n",
      "109\n",
      "110\n",
      "111\n",
      "112\n",
      "113\n",
      "114\n",
      "115\n",
      "116\n",
      "117\n",
      "118\n",
      "119\n",
      "120\n",
      "121\n",
      "122\n",
      "123\n",
      "124\n",
      "125\n",
      "126\n",
      "127\n",
      "128\n",
      "129\n",
      "130\n",
      "131\n",
      "132\n",
      "133\n",
      "134\n",
      "135\n",
      "136\n",
      "137\n",
      "138\n",
      "139\n",
      "140\n",
      "141\n",
      "142\n",
      "143\n",
      "144\n",
      "145\n",
      "146\n",
      "147\n",
      "148\n",
      "149\n",
      "150\n",
      "151\n",
      "152\n",
      "153\n",
      "154\n",
      "155\n",
      "156\n",
      "157\n",
      "158\n",
      "159\n",
      "160\n",
      "161\n",
      "162\n",
      "163\n",
      "164\n",
      "165\n",
      "166\n",
      "167\n",
      "168\n",
      "169\n",
      "170\n",
      "171\n",
      "172\n",
      "173\n",
      "174\n",
      "175\n",
      "176\n",
      "177\n",
      "178\n",
      "179\n",
      "180\n",
      "181\n",
      "182\n",
      "183\n",
      "184\n",
      "185\n",
      "186\n",
      "187\n",
      "188\n",
      "189\n",
      "190\n",
      "191\n",
      "192\n",
      "193\n",
      "194\n",
      "195\n",
      "196\n",
      "197\n",
      "198\n",
      "199\n",
      "200\n",
      "201\n",
      "202\n",
      "203\n",
      "204\n",
      "205\n",
      "206\n",
      "207\n",
      "208\n",
      "209\n",
      "210\n",
      "211\n",
      "212\n",
      "213\n",
      "214\n",
      "215\n",
      "216\n",
      "217\n",
      "218\n",
      "219\n",
      "220\n",
      "221\n",
      "222\n",
      "223\n",
      "224\n",
      "225\n",
      "226\n",
      "227\n",
      "228\n",
      "229\n",
      "230\n",
      "231\n",
      "232\n",
      "233\n",
      "234\n",
      "235\n",
      "236\n",
      "237\n",
      "238\n",
      "239\n",
      "240\n",
      "241\n",
      "242\n",
      "243\n",
      "244\n",
      "245\n",
      "246\n",
      "247\n",
      "248\n",
      "249\n",
      "250\n",
      "251\n",
      "252\n",
      "253\n",
      "254\n",
      "255\n",
      "256\n",
      "257\n",
      "258\n",
      "259\n",
      "260\n",
      "261\n",
      "262\n",
      "263\n",
      "264\n",
      "265\n",
      "266\n",
      "267\n",
      "268\n",
      "269\n",
      "270\n",
      "271\n",
      "272\n",
      "273\n",
      "274\n",
      "275\n",
      "276\n",
      "277\n",
      "278\n",
      "279\n",
      "280\n",
      "281\n",
      "282\n",
      "283\n",
      "284\n",
      "285\n",
      "286\n",
      "287\n",
      "288\n",
      "289\n",
      "290\n",
      "291\n",
      "292\n",
      "293\n",
      "294\n",
      "295\n",
      "296\n",
      "297\n",
      "298\n",
      "299\n",
      "300\n",
      "301\n",
      "302\n",
      "303\n",
      "304\n",
      "305\n",
      "306\n",
      "307\n",
      "308\n",
      "309\n",
      "310\n",
      "311\n",
      "312\n",
      "313\n",
      "314\n",
      "315\n",
      "316\n",
      "317\n",
      "318\n",
      "319\n",
      "320\n",
      "321\n",
      "322\n",
      "323\n",
      "324\n",
      "325\n",
      "326\n",
      "327\n",
      "328\n",
      "329\n",
      "330\n",
      "331\n",
      "332\n",
      "333\n",
      "334\n",
      "335\n",
      "336\n",
      "337\n",
      "338\n",
      "339\n",
      "340\n",
      "341\n",
      "342\n",
      "343\n",
      "344\n",
      "345\n",
      "346\n",
      "347\n",
      "348\n",
      "349\n",
      "350\n",
      "351\n",
      "352\n",
      "353\n",
      "354\n",
      "355\n",
      "356\n",
      "357\n",
      "358\n",
      "359\n",
      "360\n",
      "361\n",
      "362\n",
      "363\n",
      "364\n",
      "365\n",
      "366\n",
      "367\n",
      "368\n",
      "369\n",
      "370\n",
      "371\n",
      "372\n",
      "373\n",
      "374\n",
      "375\n",
      "376\n",
      "377\n",
      "378\n",
      "379\n",
      "380\n",
      "381\n",
      "382\n",
      "383\n",
      "384\n",
      "385\n",
      "386\n",
      "387\n",
      "388\n",
      "389\n",
      "390\n",
      "391\n",
      "392\n",
      "393\n",
      "394\n",
      "395\n",
      "396\n",
      "397\n",
      "398\n",
      "399\n",
      "400\n",
      "401\n",
      "402\n",
      "403\n",
      "404\n",
      "405\n",
      "406\n",
      "407\n",
      "408\n",
      "409\n",
      "410\n",
      "411\n",
      "412\n",
      "413\n",
      "414\n",
      "415\n",
      "416\n",
      "417\n",
      "418\n",
      "419\n",
      "420\n",
      "421\n",
      "422\n",
      "423\n",
      "424\n",
      "425\n",
      "426\n",
      "427\n",
      "428\n",
      "429\n",
      "430\n",
      "431\n",
      "432\n",
      "433\n",
      "434\n",
      "435\n",
      "436\n",
      "437\n",
      "438\n",
      "439\n",
      "440\n",
      "441\n",
      "442\n",
      "443\n",
      "444\n",
      "445\n",
      "446\n",
      "447\n",
      "448\n",
      "449\n",
      "450\n",
      "451\n",
      "452\n",
      "453\n",
      "454\n",
      "455\n",
      "456\n",
      "457\n",
      "458\n",
      "459\n",
      "460\n",
      "461\n",
      "462\n"
     ]
    }
   ],
   "source": [
    "result = 1000000000000\n",
    "for i in range(0, max(lista)):\n",
    "    summ = 0\n",
    "    for l in lista:\n",
    "        diff = np.abs(l - i)\n",
    "        diff = diff*(diff+1)/2\n",
    "        summ += diff\n",
    "    if summ < result:\n",
    "        result = summ"
   ]
  },
  {
   "cell_type": "code",
   "execution_count": 127,
   "id": "079dfa5b",
   "metadata": {
    "ExecuteTime": {
     "end_time": "2021-12-07T10:20:18.034270Z",
     "start_time": "2021-12-07T10:20:18.015176Z"
    }
   },
   "outputs": [
    {
     "data": {
      "text/plain": [
       "1919"
      ]
     },
     "execution_count": 127,
     "metadata": {},
     "output_type": "execute_result"
    }
   ],
   "source": [
    "max(lista)"
   ]
  },
  {
   "cell_type": "code",
   "execution_count": 131,
   "id": "0408e63e",
   "metadata": {
    "ExecuteTime": {
     "end_time": "2021-12-07T10:20:44.287709Z",
     "start_time": "2021-12-07T10:20:44.269401Z"
    }
   },
   "outputs": [
    {
     "data": {
      "text/plain": [
       "96864235.0"
      ]
     },
     "execution_count": 131,
     "metadata": {},
     "output_type": "execute_result"
    }
   ],
   "source": [
    "result"
   ]
  },
  {
   "cell_type": "code",
   "execution_count": 121,
   "id": "4cc8a621",
   "metadata": {
    "ExecuteTime": {
     "end_time": "2021-12-07T07:48:45.483900Z",
     "start_time": "2021-12-07T07:48:45.462543Z"
    }
   },
   "outputs": [
    {
     "data": {
      "text/plain": [
       "96864235"
      ]
     },
     "execution_count": 121,
     "metadata": {},
     "output_type": "execute_result"
    }
   ],
   "source": [
    "result"
   ]
  },
  {
   "cell_type": "markdown",
   "id": "37d9c34d",
   "metadata": {},
   "source": [
    "# Day 8"
   ]
  },
  {
   "cell_type": "markdown",
   "id": "acdac541",
   "metadata": {},
   "source": [
    "## Feladar 1"
   ]
  },
  {
   "cell_type": "code",
   "execution_count": null,
   "id": "0dc3f430",
   "metadata": {},
   "outputs": [],
   "source": [
    "lista = open_source('day7')\n",
    "lista = lista[0].split(',')\n",
    "lista = [int(x) for x in lista]"
   ]
  }
 ],
 "metadata": {
  "kernelspec": {
   "display_name": "Python 3 (ipykernel)",
   "language": "python",
   "name": "python3"
  },
  "language_info": {
   "codemirror_mode": {
    "name": "ipython",
    "version": 3
   },
   "file_extension": ".py",
   "mimetype": "text/x-python",
   "name": "python",
   "nbconvert_exporter": "python",
   "pygments_lexer": "ipython3",
   "version": "3.8.12"
  },
  "toc": {
   "base_numbering": 1,
   "nav_menu": {},
   "number_sections": true,
   "sideBar": true,
   "skip_h1_title": false,
   "title_cell": "Table of Contents",
   "title_sidebar": "Contents",
   "toc_cell": false,
   "toc_position": {},
   "toc_section_display": true,
   "toc_window_display": false
  }
 },
 "nbformat": 4,
 "nbformat_minor": 5
}
